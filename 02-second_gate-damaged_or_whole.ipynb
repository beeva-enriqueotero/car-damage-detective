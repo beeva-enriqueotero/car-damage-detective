{
 "cells": [
  {
   "cell_type": "markdown",
   "metadata": {},
   "source": [
    "### data1a - whole cars vs. all damaged cars"
   ]
  },
  {
   "cell_type": "code",
   "execution_count": 1,
   "metadata": {
    "collapsed": true,
    "scrolled": false
   },
   "outputs": [],
   "source": [
    "import urllib\n",
    "from IPython.display import Image, display, clear_output\n",
    "from collections import Counter\n",
    "\n",
    "import matplotlib.pyplot as plt\n",
    "import seaborn as sns \n",
    "%matplotlib inline\n",
    "\n",
    "import json\n",
    "import numpy as np\n",
    "from sklearn.metrics import classification_report, confusion_matrix\n",
    "\n",
    "sns.set_style('whitegrid')"
   ]
  },
  {
   "cell_type": "code",
   "execution_count": 2,
   "metadata": {
    "scrolled": false
   },
   "outputs": [
    {
     "name": "stderr",
     "output_type": "stream",
     "text": [
      "/home/milhouse/tools/virtualenvs/car-damage-detective-2/local/lib/python2.7/site-packages/h5py/__init__.py:36: FutureWarning: Conversion of the second argument of issubdtype from `float` to `np.floating` is deprecated. In future, it will be treated as `np.float64 == np.dtype(float).type`.\n",
      "  from ._conv import register_converters as _register_converters\n",
      "Using Theano backend.\n"
     ]
    }
   ],
   "source": [
    "import os\n",
    "import h5py\n",
    "import numpy as np\n",
    "import pandas as pd\n",
    "\n",
    "from keras.applications.vgg16 import VGG16\n",
    "from keras.preprocessing.image import ImageDataGenerator, array_to_img, img_to_array, load_img\n",
    "from keras.regularizers import l2, activity_l2, l1, activity_l1\n",
    "from keras.models import Sequential, load_model\n",
    "from keras.layers import Convolution2D, MaxPooling2D, ZeroPadding2D\n",
    "from keras.layers import Activation, Dropout, Flatten, Dense\n",
    "from keras.utils.np_utils import to_categorical\n",
    "from keras import optimizers\n",
    "from keras.callbacks import ModelCheckpoint, History"
   ]
  },
  {
   "cell_type": "code",
   "execution_count": 3,
   "metadata": {
    "collapsed": true,
    "scrolled": false
   },
   "outputs": [],
   "source": [
    "# Download vgg16_weights_th_dim_ordering_th_kernels_notop.h5\n",
    "def load_vgg16(weights_path='vgg16_weights.h5'):\n",
    "    \n",
    "    model = Sequential()\n",
    "    model.add(ZeroPadding2D((1,1),input_shape=(3, img_width, img_height)))\n",
    "    model.add(Convolution2D(64, 3, 3, activation='relu'))\n",
    "    model.add(ZeroPadding2D((1,1)))\n",
    "    model.add(Convolution2D(64, 3, 3, activation='relu'))\n",
    "    model.add(MaxPooling2D((2,2), strides=(2,2)))\n",
    "\n",
    "    model.add(ZeroPadding2D((1,1)))\n",
    "    model.add(Convolution2D(128, 3, 3, activation='relu'))\n",
    "    model.add(ZeroPadding2D((1,1)))\n",
    "    model.add(Convolution2D(128, 3, 3, activation='relu'))\n",
    "    model.add(MaxPooling2D((2,2), strides=(2,2)))\n",
    "\n",
    "    model.add(ZeroPadding2D((1,1)))\n",
    "    model.add(Convolution2D(256, 3, 3, activation='relu'))\n",
    "    model.add(ZeroPadding2D((1,1)))\n",
    "    model.add(Convolution2D(256, 3, 3, activation='relu'))\n",
    "    model.add(ZeroPadding2D((1,1)))\n",
    "    model.add(Convolution2D(256, 3, 3, activation='relu'))\n",
    "    model.add(MaxPooling2D((2,2), strides=(2,2)))\n",
    "\n",
    "    model.add(ZeroPadding2D((1,1)))\n",
    "    model.add(Convolution2D(512, 3, 3, activation='relu'))\n",
    "    model.add(ZeroPadding2D((1,1)))\n",
    "    model.add(Convolution2D(512, 3, 3, activation='relu'))\n",
    "    model.add(ZeroPadding2D((1,1)))\n",
    "    model.add(Convolution2D(512, 3, 3, activation='relu'))\n",
    "    model.add(MaxPooling2D((2,2), strides=(2,2)))\n",
    "\n",
    "    \n",
    "    model.add(ZeroPadding2D((1,1)))\n",
    "    model.add(Convolution2D(512, 3, 3, activation='relu'))\n",
    "    model.add(ZeroPadding2D((1,1)))\n",
    "    model.add(Convolution2D(512, 3, 3, activation='relu'))\n",
    "    model.add(ZeroPadding2D((1,1)))\n",
    "    model.add(Convolution2D(512, 3, 3, activation='relu'))\n",
    "    model.add(MaxPooling2D((2,2), strides=(2,2)))\n",
    "    \n",
    "    \n",
    "    \n",
    "    print(weights_path)\n",
    "    assert os.path.exists(weights_path), 'Model weights not found (see \"weights_path\")'\n",
    "    \n",
    "    if weights_path:\n",
    "    # note: this chops off the last layers of VGG16 \n",
    "\n",
    "    # loads the weights of the VGG16 networks\n",
    "    # note: when there is a complete match between model definition\n",
    "    # and your weights savefile, you can simply call model.load_weights(filename)\n",
    "        \n",
    "        model.load_weights(weights_path)\n",
    "       \n",
    "        print('VGG16 Model with partial weights loaded.')\n",
    "    else:\n",
    "        print('VGG16 Model with no weights Loaded.')\n",
    "\n",
    "    return model\n",
    "\n"
   ]
  },
  {
   "cell_type": "code",
   "execution_count": 4,
   "metadata": {
    "collapsed": true,
    "scrolled": false
   },
   "outputs": [],
   "source": [
    "def save_bottleneck_features(location):\n",
    "    datagen = ImageDataGenerator(rescale=1./255)  \n",
    "    \n",
    "    model = load_vgg16()\n",
    "    \n",
    "    generator = datagen.flow_from_directory(train_data_dir,\n",
    "                                            target_size=(img_width, img_height),\n",
    "                                            batch_size=16, \n",
    "                                            class_mode=None, \n",
    "                                            shuffle=False) \n",
    "    print \"Generator done\"\n",
    "    bottleneck_features_train = model.predict_generator(generator, nb_train_samples)\n",
    "    print \"Prediction done\"\n",
    "    np.save(open(location+'/bottleneck_features_train.npy', 'w'), bottleneck_features_train)\n",
    "    print \"Bottleneck saved\"\n",
    "    # repeat with the validation data\n",
    "    generator = datagen.flow_from_directory(validation_data_dir,\n",
    "                                           target_size=(img_width, img_height),\n",
    "                                           batch_size=16,\n",
    "                                           class_mode=None,\n",
    "                                           shuffle=False)\n",
    "    print \"Generator val done\"\n",
    "    bottleneck_features_validation = model.predict_generator(generator, nb_validation_samples)\n",
    "    print \"Prediction val done\"\n",
    "    np.save(open(location+'/bottleneck_features_validation.npy', 'w'), bottleneck_features_validation)\n",
    "    print \"Bottleneck val saved done\"\n",
    "\n",
    "#location = 'data1a'\n",
    "#save_bottleneck_features(location)"
   ]
  },
  {
   "cell_type": "code",
   "execution_count": 5,
   "metadata": {
    "collapsed": true,
    "scrolled": false
   },
   "outputs": [],
   "source": [
    "def plot_metrics(hist, stop=50):\n",
    "    fig, axes = plt.subplots(nrows=1, ncols=2, figsize=(10,4))\n",
    "                            \n",
    "    axes = axes.flatten()\n",
    "\n",
    "    axes[0].plot(range(stop), hist['acc'], label='Training', color='#FF533D')\n",
    "    axes[0].plot(range(stop), hist['val_acc'], label='Validation', color='#03507E')\n",
    "    axes[0].set_title('Accuracy')\n",
    "    axes[0].set_ylabel('Accuracy')\n",
    "    axes[0].set_xlabel('Epoch')\n",
    "    axes[0].legend(loc='lower right')\n",
    "                             \n",
    "    axes[1].plot(range(stop), hist['loss'], label='Training', color='#FF533D')\n",
    "    axes[1].plot(range(stop), hist['val_loss'], label='Validation', color='#03507E')\n",
    "    axes[1].set_title('Loss')\n",
    "    axes[1].set_ylabel('Loss')\n",
    "    axes[1].set_xlabel('Epoch')\n",
    "    axes[1].legend(loc='upper right')\n",
    "                             \n",
    "    plt.tight_layout();\n",
    "    \n",
    "    print \"Best Model:\" \n",
    "    print_best_model_results(hist)"
   ]
  },
  {
   "cell_type": "code",
   "execution_count": 6,
   "metadata": {
    "collapsed": true,
    "scrolled": false
   },
   "outputs": [],
   "source": [
    "def train_binary_model():\n",
    "\n",
    "    train_data = np.load(open(location+'/bottleneck_features_train.npy'))\n",
    "    train_labels = np.array([0] * train_samples[0] + \n",
    "                            [1] * train_samples[1])\n",
    "\n",
    "    validation_data = np.load(open(location+'/bottleneck_features_validation.npy'))\n",
    "    validation_labels = np.array([0] * validation_samples[0] + \n",
    "                                 [1] * validation_samples[1])\n",
    "    \n",
    "    model = Sequential()\n",
    "    model.add(Flatten(input_shape=train_data.shape[1:])) # 512, 4, 4\n",
    "    #model.add(Dense(256, activation = 'relu', W_regularizer=l2(0.01)))\n",
    "    model.add(Dense(256, activation = 'relu', W_regularizer=l2(0.001)))\n",
    "    model.add(Dropout(0.5)) \n",
    "    model.add(Dense(1, activation = 'sigmoid')) # should activation be sigmoid for binary problem?\n",
    "\n",
    "    model.compile(optimizers.SGD(lr=0.0001, momentum=0.9),\n",
    "              loss='binary_crossentropy', metrics=['accuracy'])\n",
    "\n",
    "    \n",
    "    checkpoint = ModelCheckpoint(top_model_weights_path, monitor='val_acc', \n",
    "                                 verbose=1, save_best_only=True, save_weights_only=True, mode='auto')\n",
    "\n",
    "    fit = model.fit(train_data, train_labels,\n",
    "              nb_epoch=nb_epoch, batch_size=16,\n",
    "              validation_data=(validation_data, validation_labels),\n",
    "              callbacks=[checkpoint])\n",
    "    \n",
    "    with open(location+'/top_history.txt', 'wb') as f:\n",
    "        json.dump(fit.history, f)\n",
    "    \n",
    "    return model, fit.history"
   ]
  },
  {
   "cell_type": "code",
   "execution_count": 7,
   "metadata": {
    "collapsed": true,
    "scrolled": false
   },
   "outputs": [],
   "source": [
    "def finetune_binary_model():\n",
    "    model = load_vgg16()\n",
    "\n",
    "    # build a classifier model to put on top of the convolutional model\n",
    "    top_model = Sequential()\n",
    "    top_model.add(Flatten(input_shape=model.output_shape[1:]))\n",
    "    top_model.add(Dense(256, activation='relu', W_regularizer=l2(0.01)))\n",
    "    top_model.add(Dropout(0.5))\n",
    "    top_model.add(Dense(1, activation='sigmoid'))\n",
    "\n",
    "    top_model.load_weights(top_model_weights_path) # load weights_path\n",
    "\n",
    "    # add the model on top of the convolutional base\n",
    "    model.add(top_model)\n",
    "    \n",
    "    # set the first 25 layers (up to the last conv block)\n",
    "    # to non-trainable - weights will not be updated\n",
    "    for layer in model.layers[:25]:\n",
    "        layer.trainable=False\n",
    "\n",
    "    # compile the model with a SGD/momentum optimizer \n",
    "    # and a very slow learning rate\n",
    "    model.compile(loss='binary_crossentropy',\n",
    "                 optimizer = optimizers.SGD(lr=0.00001, momentum=0.9), # reduced learning rate by 1/10\n",
    "                  metrics=['accuracy'])\n",
    "    \n",
    "    # prepare data augmentation configuration\n",
    "    train_datagen = ImageDataGenerator(rescale=1./255,\n",
    "                                       rotation_range=40,\n",
    "                                       width_shift_range=0.2,\n",
    "                                       height_shift_range=0.2,\n",
    "                                       shear_range=0.2,\n",
    "                                       zoom_range=0.2,\n",
    "                                       horizontal_flip=True,\n",
    "                                       fill_mode='nearest')\n",
    "\n",
    "    test_datagen = ImageDataGenerator(rescale=1./255)\n",
    "\n",
    "    train_generator= train_datagen.flow_from_directory(train_data_dir,\n",
    "                                                     target_size=(img_height, img_width),\n",
    "                                                     batch_size=8,\n",
    "                                                     class_mode='binary')\n",
    "\n",
    "    validation_generator = test_datagen.flow_from_directory(validation_data_dir,\n",
    "                                                           target_size=(img_height, img_width),\n",
    "                                                           batch_size=8,\n",
    "                                                           class_mode='binary')\n",
    "    \n",
    "    \n",
    "    checkpoint = ModelCheckpoint(fine_tuned_model_path, monitor='val_acc', \n",
    "                                 verbose=1, save_best_only=True, \n",
    "                                 save_weights_only=False, mode='auto')\n",
    "    # fine-tune the model\n",
    "    fit = model.fit_generator(train_generator,\n",
    "                              samples_per_epoch=nb_train_samples,\n",
    "                              nb_epoch=nb_epoch_finetuning,\n",
    "                              validation_data=validation_generator,\n",
    "                              nb_val_samples=nb_validation_samples,\n",
    "                              verbose=1,\n",
    "                              callbacks=[checkpoint])\n",
    "    \n",
    "    with open(location+'/ft_history.txt', 'wb') as f:\n",
    "        json.dump(fit.history, f)\n",
    "    \n",
    "    return model, fit.history"
   ]
  },
  {
   "cell_type": "code",
   "execution_count": 8,
   "metadata": {
    "collapsed": true,
    "scrolled": false
   },
   "outputs": [],
   "source": [
    "def evaluate_binary_model(model, directory, labels):\n",
    "    datagen = ImageDataGenerator(rescale=1./255)  \n",
    "\n",
    "    generator = datagen.flow_from_directory(directory,\n",
    "                                target_size=(img_height, img_width),\n",
    "                                batch_size=8,\n",
    "                                class_mode='binary', # categorical for multiclass\n",
    "                                shuffle=False)\n",
    "    \n",
    "    predictions = model.predict_generator(generator, len(labels))\n",
    "    \n",
    "    # use for multiclass\n",
    "    # pred_labels = np.argmax(predictions, axis=1)\n",
    "    \n",
    "    pred_labels = [0 if i <0.5 else 1 for i in predictions]\n",
    "\n",
    "    print ''\n",
    "    print classification_report(validation_labels, pred_labels)\n",
    "    print ''\n",
    "    cm = confusion_matrix(validation_labels, pred_labels)\n",
    "    sns.heatmap(cm, annot=True, fmt='g');"
   ]
  },
  {
   "cell_type": "code",
   "execution_count": 9,
   "metadata": {
    "collapsed": true,
    "scrolled": false
   },
   "outputs": [],
   "source": [
    "def view_images(img_dir, img_list):\n",
    "    for img in img_list:\n",
    "        clear_output()\n",
    "        display(Image(img_dir+img))\n",
    "        num = raw_input(\"c to continue, q to quit\")\n",
    "        if num == 'c':\n",
    "            pass\n",
    "        else:\n",
    "            return 'Finished for now.'"
   ]
  },
  {
   "cell_type": "code",
   "execution_count": 10,
   "metadata": {
    "collapsed": true,
    "scrolled": false
   },
   "outputs": [],
   "source": [
    "def print_best_model_results(model_hist):\n",
    "    best_epoch = np.argmax(model_hist['val_acc'])\n",
    "    print 'epoch:', best_epoch+1, \\\n",
    "    ', val_acc:', model_hist['val_acc'][best_epoch], \\\n",
    "    ', val_loss:', model_hist['val_loss'][best_epoch]"
   ]
  },
  {
   "cell_type": "markdown",
   "metadata": {},
   "source": [
    "## Testing Image Generation"
   ]
  },
  {
   "cell_type": "code",
   "execution_count": 11,
   "metadata": {
    "collapsed": true
   },
   "outputs": [],
   "source": [
    "!rm data1a_preview -rf"
   ]
  },
  {
   "cell_type": "code",
   "execution_count": 12,
   "metadata": {
    "scrolled": false
   },
   "outputs": [
    {
     "name": "stdout",
     "output_type": "stream",
     "text": [
      "(3, 189, 266)\n"
     ]
    }
   ],
   "source": [
    "datagen = ImageDataGenerator(rotation_range=40,\n",
    "                             width_shift_range=0.2,\n",
    "                             height_shift_range=0.2,\n",
    "                             shear_range=0.2,\n",
    "                             zoom_range=0.2,\n",
    "                             horizontal_flip=True,\n",
    "                             fill_mode='nearest') # omitted rescaling to keep the images displayable\n",
    "\n",
    "#img = load_img('/home/milhouse/datasets/cars/car-damage-dataset/data1a/training/00-damage/0039.JPEG') # this is a PIL image \n",
    "img = load_img('data1a/training/00-damage/0039.JPEG') # this is a PIL image \n",
    "x = img_to_array(img) # this is a Numpy array with shape (3, 150, 150)\n",
    "print x.shape\n",
    "#x = x.reshape(1,x.shape[2], x.shape[0], x.shape[1])\n",
    "#print x.shape\n",
    "x = x.reshape((1,) + x.shape) # this is a Numpy array with shape (1, 3, 150, 150)\n",
    "\n",
    "# the .flow() command below generates batches of randomly transformed images\n",
    "# and saves the results to the 'preview/' directory\n",
    "os.makedirs('data1a_preview')\n",
    "i = 0\n",
    "for batch in datagen.flow(x, batch_size=1,\n",
    "                         save_to_dir='data1a_preview', save_prefix='damage_car',\n",
    "                         save_format='jpeg'):\n",
    "    i +=1\n",
    "    if i > 30:\n",
    "        break # otherwise the generator would loop indefinitely"
   ]
  },
  {
   "cell_type": "code",
   "execution_count": 13,
   "metadata": {
    "scrolled": false
   },
   "outputs": [
    {
     "data": {
      "image/jpeg": "[encoded data removed]",
      "text/plain": [
       "<IPython.core.display.Image object>"
      ]
     },
     "metadata": {},
     "output_type": "display_data"
    },
    {
     "name": "stdout",
     "output_type": "stream",
     "text": [
      "c to continue, q to quitq\n"
     ]
    },
    {
     "data": {
      "text/plain": [
       "'Finished for now.'"
      ]
     },
     "execution_count": 13,
     "metadata": {},
     "output_type": "execute_result"
    }
   ],
   "source": [
    "view_images('data1a_preview/', os.listdir('data1a_preview/'))"
   ]
  },
  {
   "cell_type": "markdown",
   "metadata": {},
   "source": [
    "## Defining input data"
   ]
  },
  {
   "cell_type": "code",
   "execution_count": 14,
   "metadata": {
    "scrolled": false
   },
   "outputs": [],
   "source": [
    "# path to the model weights file\n",
    "location = 'data1a'\n",
    "top_model_weights_path=location+'/top_model_weights.h5' # will be saved into when we create our model\n",
    "# model_path = location + '/initial_data2_model.h5'\n",
    "fine_tuned_model_path = location+'/ft_model.h5'\n",
    "\n",
    "# dimensions of our images\n",
    "img_width, img_height = 256, 256\n",
    "\n",
    "train_data_dir = location+'/training'\n",
    "validation_data_dir = location+'/validation'\n",
    "\n",
    "train_samples = [len(os.listdir(train_data_dir+'/'+i)) for i in sorted(os.listdir(train_data_dir))]\n",
    "nb_train_samples = sum(train_samples)\n",
    "validation_samples = [len(os.listdir(validation_data_dir+'/'+i)) for i in sorted(os.listdir(validation_data_dir))]\n",
    "nb_validation_samples = sum(validation_samples)\n",
    "\n",
    "nb_epoch = 50\n",
    "nb_epoch_finetuning = 1"
   ]
  },
  {
   "cell_type": "code",
   "execution_count": 15,
   "metadata": {},
   "outputs": [
    {
     "name": "stdout",
     "output_type": "stream",
     "text": [
      "total 12\r\n",
      "drwxrwxr-x  3 milhouse milhouse 4096 abr 12 21:10 .\r\n",
      "drwxrwxr-x  4 milhouse milhouse 4096 abr 10 22:24 ..\r\n",
      "drwxrwxr-x 10 milhouse milhouse 4096 abr 13 12:42 car-damage-detective\r\n"
     ]
    }
   ],
   "source": [
    "!ls -al `pwd`/.."
   ]
  },
  {
   "cell_type": "code",
   "execution_count": 16,
   "metadata": {
    "scrolled": false
   },
   "outputs": [],
   "source": [
    "# do not rerun!!\n",
    "if not os.path.exists(\"{}/bottleneck_features_validation.npy\".format(location)):\n",
    "    save_bottleneck_features(location)"
   ]
  },
  {
   "cell_type": "code",
   "execution_count": 17,
   "metadata": {
    "scrolled": true
   },
   "outputs": [],
   "source": [
    "if not os.path.exists(location+'/top_model_weights.h5'):\n",
    "    d1a_model6, d1a_history6 = train_binary_model()"
   ]
  },
  {
   "cell_type": "code",
   "execution_count": 18,
   "metadata": {
    "scrolled": false
   },
   "outputs": [
    {
     "name": "stdout",
     "output_type": "stream",
     "text": [
      "Best Model:\n",
      "epoch: 38 , val_acc: 0.926086956522 , val_loss: 0.707141890215\n"
     ]
    },
    {
     "data": {
      "image/png": "[encoded data removed]",
      "text/plain": [
       "<Figure size 720x288 with 2 Axes>"
      ]
     },
     "metadata": {},
     "output_type": "display_data"
    }
   ],
   "source": [
    "# WINNER\n",
    "with open(location+'/top_history.txt') as f:    \n",
    "    top_history = json.load(f)\n",
    "    \n",
    "plot_metrics(top_history) # sgd with lr = 0.0001, sigmoid, with l2 = 0.001"
   ]
  },
  {
   "cell_type": "markdown",
   "metadata": {},
   "source": [
    "## Fine Tuning"
   ]
  },
  {
   "cell_type": "code",
   "execution_count": 19,
   "metadata": {
    "scrolled": true
   },
   "outputs": [],
   "source": [
    "# Very sloooow without GPU\n",
    "if not os.path.exists(location+'/ft_model.h5'):\n",
    "    ft_model, ft_history = finetune_binary_model()\n",
    "else:\n",
    "    with open(location+'/ft_history.txt') as f:    \n",
    "        ft_history = json.load(f)"
   ]
  },
  {
   "cell_type": "code",
   "execution_count": 20,
   "metadata": {
    "scrolled": false
   },
   "outputs": [],
   "source": [
    "# WINNER\n",
    "#plot_metrics(ft_history) # sgd with lr = 0.0001, sigmoid, with l2 = 0.001"
   ]
  },
  {
   "cell_type": "markdown",
   "metadata": {},
   "source": [
    "## Load Model Point"
   ]
  },
  {
   "cell_type": "code",
   "execution_count": 21,
   "metadata": {
    "scrolled": false
   },
   "outputs": [],
   "source": [
    "ft_model = load_model(location+'/ft_model.h5')"
   ]
  },
  {
   "cell_type": "code",
   "execution_count": 22,
   "metadata": {
    "collapsed": true,
    "scrolled": false
   },
   "outputs": [],
   "source": [
    "with open('data1a/top_history.txt') as f:    \n",
    "    top_history = json.load(f)"
   ]
  },
  {
   "cell_type": "code",
   "execution_count": 23,
   "metadata": {
    "scrolled": true
   },
   "outputs": [],
   "source": [
    "with open('data1a/ft_history.txt') as f:    \n",
    "    ft_history = json.load(f)"
   ]
  },
  {
   "cell_type": "code",
   "execution_count": 24,
   "metadata": {
    "collapsed": true,
    "scrolled": false
   },
   "outputs": [],
   "source": [
    "def plot_metrics(hist, stop=50):\n",
    "    fig, axes = plt.subplots(nrows=1, ncols=2, figsize=(10,4))\n",
    "                            \n",
    "    axes = axes.flatten()\n",
    "\n",
    "    axes[0].plot(range(stop), hist['acc'], label='Training', color='#FF533D')\n",
    "    axes[0].plot(range(stop), hist['val_acc'], label='Validation', color='#03507E')\n",
    "    axes[0].set_title('Accuracy')\n",
    "    axes[0].set_ylabel('Accuracy')\n",
    "    axes[0].set_xlabel('Epoch')\n",
    "    axes[0].legend(loc='lower right')\n",
    "                             \n",
    "    axes[1].plot(range(stop), hist['loss'], label='Training', color='#FF533D')\n",
    "    axes[1].plot(range(stop), hist['val_loss'], label='Validation', color='#03507E')\n",
    "    axes[1].set_title('Loss')\n",
    "    axes[1].set_ylabel('Loss')\n",
    "    axes[1].set_xlabel('Epoch')\n",
    "    axes[1].legend(loc='upper right')\n",
    "                             \n",
    "    plt.tight_layout();\n",
    "    \n",
    "    print \"Best Model:\" \n",
    "    print_best_model_results(hist)"
   ]
  },
  {
   "cell_type": "code",
   "execution_count": 25,
   "metadata": {
    "collapsed": true,
    "scrolled": false
   },
   "outputs": [],
   "source": [
    "def plot_acc_metrics(hist1, hist2, stop=50):\n",
    "    fig, axes = plt.subplots(nrows=2, ncols=1, figsize=(4.25,6))\n",
    "                            \n",
    "    axes = axes.flatten()\n",
    "    \n",
    "    axes[0].plot(range(stop), hist1['acc'], label='Training', color='#FF533D')\n",
    "    axes[0].plot(range(stop), hist1['val_acc'], label='Validation', color='#03507E')\n",
    "    axes[0].set_title('Training')\n",
    "    axes[0].set_ylabel('Accuracy')\n",
    "    axes[0].set_xlabel('Epoch')\n",
    "    axes[0].legend(loc='lower right')\n",
    "                             \n",
    "    axes[1].plot(range(stop), hist2['acc'], label='Training', color='#FF533D')\n",
    "    axes[1].plot(range(stop), hist2['val_acc'], label='Validation', color='#03507E')\n",
    "    axes[1].set_title('Fine-tuning')\n",
    "    axes[1].set_ylabel('Accuracy')\n",
    "    axes[1].set_xlabel('Epoch')\n",
    "    axes[1].legend(loc='lower right')\n",
    "                             \n",
    "    plt.tight_layout();"
   ]
  },
  {
   "cell_type": "code",
   "execution_count": 26,
   "metadata": {
    "collapsed": true,
    "scrolled": false
   },
   "outputs": [],
   "source": [
    "def evaluate_binary_model(model, directory, labels):\n",
    "    datagen = ImageDataGenerator(rescale=1./255)  \n",
    "\n",
    "    generator = datagen.flow_from_directory(directory,\n",
    "                                target_size=(img_height, img_width),\n",
    "                                batch_size=8,\n",
    "                                class_mode='binary', # categorical for multiclass\n",
    "                                shuffle=False)\n",
    "    \n",
    "    predictions = model.predict_generator(generator, len(labels))\n",
    "    \n",
    "    # use for multiclass\n",
    "    # pred_labels = np.argmax(predictions, axis=1)\n",
    "    \n",
    "    pred_labels = [0 if i <0.5 else 1 for i in predictions]\n",
    "\n",
    "    print ''\n",
    "    print classification_report(validation_labels, pred_labels)\n",
    "    print ''\n",
    "    cm = confusion_matrix(validation_labels, pred_labels)\n",
    "    return cm "
   ]
  },
  {
   "cell_type": "code",
   "execution_count": 27,
   "metadata": {
    "scrolled": false
   },
   "outputs": [],
   "source": [
    "#plot_acc_metrics(top_history, ft_history)"
   ]
  },
  {
   "cell_type": "code",
   "execution_count": 28,
   "metadata": {
    "scrolled": false
   },
   "outputs": [],
   "source": [
    "# WINNER\n",
    "#plot_metrics(ft_history) # sgd with lr = 0.0001, sigmoid, with l2 = 0.001"
   ]
  },
  {
   "cell_type": "code",
   "execution_count": 29,
   "metadata": {
    "collapsed": true,
    "scrolled": false
   },
   "outputs": [],
   "source": [
    "HEATMAP = False\n",
    "if HEATMAP:\n",
    "    validation_labels = np.array([0] * validation_samples[0] + \n",
    "                             [1] * validation_samples[1])\n",
    "    cm = evaluate_binary_model(ft_model, validation_data_dir, validation_labels)\n",
    "    heatmap_labels = ['Damaged', 'Whole']\n",
    "    sns.heatmap(cm, annot=True, annot_kws={\"size\": 16}, \n",
    "            fmt='g', cmap='OrRd', xticklabels=heatmap_labels, yticklabels=heatmap_labels);\n",
    "    sns.heatmap(cm, annot=True, annot_kws={\"size\": 16}, \n",
    "            fmt='g', cmap='Blues', xticklabels=heatmap_labels, yticklabels=heatmap_labels);"
   ]
  },
  {
   "cell_type": "markdown",
   "metadata": {},
   "source": [
    "## Making Live Predictions"
   ]
  },
  {
   "cell_type": "code",
   "execution_count": 30,
   "metadata": {
    "collapsed": true,
    "scrolled": false
   },
   "outputs": [],
   "source": [
    "def car_categories_gate(image_path, model):\n",
    "    urllib.urlretrieve(image_path, 'save.jpg') # or other way to upload image\n",
    "    img = load_img('save.jpg', target_size=(256, 256)) # this is a PIL image \n",
    "    x = img_to_array(img) # this is a Numpy array with shape (3, 256, 256)\n",
    "    x = x.reshape((1,) + x.shape)/255 # this is a Numpy array with shape (1, 3, 256, 256)\n",
    "    print(x.shape)\n",
    "    pred = model.predict(x)\n",
    "    print \"Validating that damage exists...\"\n",
    "    print pred\n",
    "    if pred[0][0] <=.5:\n",
    "\n",
    "        print \"Validation complete - proceed to location and severity determination\"\n",
    "    else:\n",
    "        print \"Are you sure that your car is damaged? Please submit another picture of the damage.\"\n",
    "        print \"Hint: Try zooming in/out, using a different angle or different lighting\""
   ]
  },
  {
   "cell_type": "code",
   "execution_count": 31,
   "metadata": {
    "scrolled": false
   },
   "outputs": [
    {
     "data": {
      "image/jpeg": "[encoded data removed]",
      "text/plain": [
       "<IPython.core.display.Image object>"
      ]
     },
     "execution_count": 31,
     "metadata": {},
     "output_type": "execute_result"
    }
   ],
   "source": [
    "Image('https://www.nerdwallet.com/blog/wp-content/uploads/2015/12/exterior-car-damage-384x233.jpg')"
   ]
  },
  {
   "cell_type": "code",
   "execution_count": 32,
   "metadata": {
    "scrolled": false
   },
   "outputs": [
    {
     "name": "stdout",
     "output_type": "stream",
     "text": [
      "(1, 3, 256, 256)\n",
      "Validating that damage exists...\n",
      "[[0.69348896]]\n",
      "Are you sure that your car is damaged? Please submit another picture of the damage.\n",
      "Hint: Try zooming in/out, using a different angle or different lighting\n"
     ]
    }
   ],
   "source": [
    "car_categories_gate('https://www.nerdwallet.com/blog/wp-content/uploads/2015/12/exterior-car-damage-384x233.jpg', ft_model)"
   ]
  },
  {
   "cell_type": "code",
   "execution_count": 33,
   "metadata": {
    "scrolled": false
   },
   "outputs": [
    {
     "data": {
      "image/jpeg": "[encoded data removed]",
      "text/plain": [
       "<IPython.core.display.Image object>"
      ]
     },
     "execution_count": 33,
     "metadata": {},
     "output_type": "execute_result"
    }
   ],
   "source": [
    "Image('http://1.bp.blogspot.com/-ToQS-qIxYbo/UDNuV5OcVQI/AAAAAAAABdo/tjeQywWiOo0/s200/Key+scratch.jpg')"
   ]
  },
  {
   "cell_type": "code",
   "execution_count": 38,
   "metadata": {
    "scrolled": false
   },
   "outputs": [
    {
     "name": "stdout",
     "output_type": "stream",
     "text": [
      "(1, 3, 256, 256)\n",
      "Validating that damage exists...\n",
      "[[0.72004265]]\n",
      "Are you sure that your car is damaged? Please submit another picture of the damage.\n",
      "Hint: Try zooming in/out, using a different angle or different lighting\n"
     ]
    }
   ],
   "source": [
    "car_categories_gate('http://1.bp.blogspot.com/-ToQS-qIxYbo/UDNuV5OcVQI/AAAAAAAABdo/tjeQywWiOo0/s200/Key+scratch.jpg', ft_model)"
   ]
  },
  {
   "cell_type": "code",
   "execution_count": 35,
   "metadata": {
    "scrolled": false
   },
   "outputs": [
    {
     "data": {
      "image/jpeg": "﻿\n  <!DOCTYPE html PUBLIC \"-//W3C//DTD XHTML+RDFa 1.0//EN\"\n        \"http://www.w3.org/MarkUp/DTD/xhtml-rdfa-1.dtd\">\n<html xmlns=\"http://www.w3.org/1999/xhtml\"\n      xml:lang=\"en\" version=\"XHTML+RDFa 1.0\"\n      dir=\"ltr\"\n  xmlns:content=\"http://purl.org/rss/1.0/modules/content/\"\n  xmlns:dc=\"http://purl.org/dc/terms/\"\n  xmlns:foaf=\"http://xmlns.com/foaf/0.1/\"\n  xmlns:og=\"http://ogp.me/ns#\"\n  xmlns:rdfs=\"http://www.w3.org/2000/01/rdf-schema#\"\n  xmlns:sioc=\"http://rdfs.org/sioc/ns#\"\n  xmlns:sioct=\"http://rdfs.org/sioc/types#\"\n  xmlns:skos=\"http://www.w3.org/2004/02/skos/core#\"\n  xmlns:xsd=\"http://www.w3.org/2001/XMLSchema#\">\n<head profile=\"http://www.w3.org/1999/xhtml/vocab\">\n    <script type=\"text/javascript\" src=\"//static-bp.kameleoon.com/css/customers/owt2o2ieuv/0/kameleoon.js\" async=\"true\"></script>    <!-- Google Tag Manager -->\n<script type=\"text/javascript\">\ndataLayer = [{\n    'country':'eu',\n    'pageName': window.location.pathname + window.location.search\n}];</script>    <script>(function(w,d,s,l,i){w[l]=w[l]||[];w[l].push({'gtm.start':\nnew Date().getTime(),event:'gtm.js'});var f=d.getElementsByTagName(s)[0],\nj=d.createElement(s),dl=l!='dataLayer'?'&l='+l:'';j.async=true;j.src=\n'//www.googletagmanager.com/gtm.js?id='+i+dl;f.parentNode.insertBefore(j,f);\n})(window,document,'script','dataLayer','GTM-MPJML4');\n</script>\n<!-- End Google Tag Manager -->    <meta http-equiv=\"Content-Type\" content=\"text/html; charset=utf-8\" /><script type=\"text/javascript\">window.NREUM||(NREUM={}),__nr_require=function(e,t,n){function r(n){if(!t[n]){var o=t[n]={exports:{}};e[n][0].call(o.exports,function(t){var o=e[n][1][t];return r(o||t)},o,o.exports)}return t[n].exports}if(\"function\"==typeof __nr_require)return __nr_require;for(var o=0;o<n.length;o++)r(n[o]);return r}({1:[function(e,t,n){function r(){}function o(e,t,n){return function(){return i(e,[f.now()].concat(u(arguments)),t?null:this,n),t?void 0:this}}var i=e(\"handle\"),a=e(2),u=e(3),c=e(\"ee\").get(\"tracer\"),f=e(\"loader\"),s=NREUM;\"undefined\"==typeof window.newrelic&&(newrelic=s);var p=[\"setPageViewName\",\"setCustomAttribute\",\"setErrorHandler\",\"finished\",\"addToTrace\",\"inlineHit\",\"addRelease\"],d=\"api-\",l=d+\"ixn-\";a(p,function(e,t){s[t]=o(d+t,!0,\"api\")}),s.addPageAction=o(d+\"addPageAction\",!0),s.setCurrentRouteName=o(d+\"routeName\",!0),t.exports=newrelic,s.interaction=function(){return(new r).get()};var m=r.prototype={createTracer:function(e,t){var n={},r=this,o=\"function\"==typeof t;return i(l+\"tracer\",[f.now(),e,n],r),function(){if(c.emit((o?\"\":\"no-\")+\"fn-start\",[f.now(),r,o],n),o)try{return t.apply(this,arguments)}catch(e){throw c.emit(\"fn-err\",[arguments,this,e],n),e}finally{c.emit(\"fn-end\",[f.now()],n)}}}};a(\"setName,setAttribute,save,ignore,onEnd,getContext,end,get\".split(\",\"),function(e,t){m[t]=o(l+t)}),newrelic.noticeError=function(e){\"string\"==typeof e&&(e=new Error(e)),i(\"err\",[e,f.now()])}},{}],2:[function(e,t,n){function r(e,t){var n=[],r=\"\",i=0;for(r in e)o.call(e,r)&&(n[i]=t(r,e[r]),i+=1);return n}var o=Object.prototype.hasOwnProperty;t.exports=r},{}],3:[function(e,t,n){function r(e,t,n){t||(t=0),\"undefined\"==typeof n&&(n=e?e.length:0);for(var r=-1,o=n-t||0,i=Array(o<0?0:o);++r<o;)i[r]=e[t+r];return i}t.exports=r},{}],4:[function(e,t,n){t.exports={exists:\"undefined\"!=typeof window.performance&&window.performance.timing&&\"undefined\"!=typeof window.performance.timing.navigationStart}},{}],ee:[function(e,t,n){function r(){}function o(e){function t(e){return e&&e instanceof r?e:e?c(e,u,i):i()}function n(n,r,o,i){if(!d.aborted||i){e&&e(n,r,o);for(var a=t(o),u=m(n),c=u.length,f=0;f<c;f++)u[f].apply(a,r);var p=s[y[n]];return p&&p.push([b,n,r,a]),a}}function l(e,t){v[e]=m(e).concat(t)}function m(e){return v[e]||[]}function w(e){return p[e]=p[e]||o(n)}function g(e,t){f(e,function(e,n){t=t||\"feature\",y[n]=t,t in s||(s[t]=[])})}var v={},y={},b={on:l,emit:n,get:w,listeners:m,context:t,buffer:g,abort:a,aborted:!1};return b}function i(){return new r}function a(){(s.api||s.feature)&&(d.aborted=!0,s=d.backlog={})}var u=\"nr@context\",c=e(\"gos\"),f=e(2),s={},p={},d=t.exports=o();d.backlog=s},{}],gos:[function(e,t,n){function r(e,t,n){if(o.call(e,t))return e[t];var r=n();if(Object.defineProperty&&Object.keys)try{return Object.defineProperty(e,t,{value:r,writable:!0,enumerable:!1}),r}catch(i){}return e[t]=r,r}var o=Object.prototype.hasOwnProperty;t.exports=r},{}],handle:[function(e,t,n){function r(e,t,n,r){o.buffer([e],r),o.emit(e,t,n)}var o=e(\"ee\").get(\"handle\");t.exports=r,r.ee=o},{}],id:[function(e,t,n){function r(e){var t=typeof e;return!e||\"object\"!==t&&\"function\"!==t?-1:e===window?0:a(e,i,function(){return o++})}var o=1,i=\"nr@id\",a=e(\"gos\");t.exports=r},{}],loader:[function(e,t,n){function r(){if(!x++){var e=h.info=NREUM.info,t=d.getElementsByTagName(\"script\")[0];if(setTimeout(s.abort,3e4),!(e&&e.licenseKey&&e.applicationID&&t))return s.abort();f(y,function(t,n){e[t]||(e[t]=n)}),c(\"mark\",[\"onload\",a()+h.offset],null,\"api\");var n=d.createElement(\"script\");n.src=\"https://\"+e.agent,t.parentNode.insertBefore(n,t)}}function o(){\"complete\"===d.readyState&&i()}function i(){c(\"mark\",[\"domContent\",a()+h.offset],null,\"api\")}function a(){return E.exists&&performance.now?Math.round(performance.now()):(u=Math.max((new Date).getTime(),u))-h.offset}var u=(new Date).getTime(),c=e(\"handle\"),f=e(2),s=e(\"ee\"),p=window,d=p.document,l=\"addEventListener\",m=\"attachEvent\",w=p.XMLHttpRequest,g=w&&w.prototype;NREUM.o={ST:setTimeout,SI:p.setImmediate,CT:clearTimeout,XHR:w,REQ:p.Request,EV:p.Event,PR:p.Promise,MO:p.MutationObserver};var v=\"\"+location,y={beacon:\"bam.nr-data.net\",errorBeacon:\"bam.nr-data.net\",agent:\"js-agent.newrelic.com/nr-1071.min.js\"},b=w&&g&&g[l]&&!/CriOS/.test(navigator.userAgent),h=t.exports={offset:u,now:a,origin:v,features:{},xhrWrappable:b};e(1),d[l]?(d[l](\"DOMContentLoaded\",i,!1),p[l](\"load\",r,!1)):(d[m](\"onreadystatechange\",o),p[m](\"onload\",r)),c(\"mark\",[\"firstbyte\",u],null,\"api\");var x=0,E=e(4)},{}]},{},[\"loader\"]);</script>\n<link hreflang=\"https://www.carfax.eu\" rel=\"alternate\" />\n<link rel=\"shortcut icon\" href=\"https://www.carfax.eu/sites/carfax.eu/files/favicon.png\" type=\"image/png\" />\n<meta name=\"description\" content=\"CARFAX Vehicle History Report can help you avoid buying used American Cars with hidden problems. Visit the official CARFAX Website for Europe here\" />\n<link rel=\"alternate\" type=\"application/rss+xml\" title=\"CARFAX RSS\" href=\"https://www.carfax.eu/rss.xml\" />\n\n<!-- Facebook Pixel Code -->\n<script>\n!function(f,b,e,v,n,t,s){if(f.fbq)return;n=f.fbq=function(){n.callMethod?\nn.callMethod.apply(n,arguments):n.queue.push(arguments)};if(!f._fbq)f._fbq=n;\nn.push=n;n.loaded=!0;n.version='2.0';n.queue=[];t=b.createElement(e);t.async=!0;\nt.src=v;s=b.getElementsByTagName(e)[0];s.parentNode.insertBefore(t,s)}(window,\ndocument,'script','//connect.facebook.net/en_US/fbevents.js');\n\nfbq('init', '200579240289170');\nfbq('track', 'PageView');\n</script>\n<noscript><img height='1' width='1' style='display:none' src='https://www.facebook.com/tr?id=200579240289170&ev=PageView&noscript=1' /></noscript>\n<!-- End Facebook Pixel Code -->\n<link rel=\"alternate\" hreflang=\"x-default\" href=\"https://www.carfax.eu/\" />\r\n<link rel=\"alternate\" hreflang=\"en\" href=\"https://www.carfax.eu/\" />\r\n<link rel=\"alternate\" hreflang=\"da\" href=\"https://www.carfax.eu/da\" />\r\n<link rel=\"alternate\" hreflang=\"nl\" href=\"https://www.carfax.eu/nl\" />\r\n<link rel=\"alternate\" hreflang=\"fr\" href=\"https://www.carfax.eu/fr\" />\r\n<link rel=\"alternate\" hreflang=\"de\" href=\"https://www.carfax.eu/de\" />\r\n<link rel=\"alternate\" hreflang=\"is\" href=\"https://www.carfax.eu/is\" />\r\n<link rel=\"alternate\" hreflang=\"it\" href=\"https://www.carfax.eu/it\" />\r\n<link rel=\"alternate\" hreflang=\"lv\" href=\"https://www.carfax.eu/lv\" />\r\n<link rel=\"alternate\" hreflang=\"pl\" href=\"https://www.carfax.eu/pl\" />\r\n<link rel=\"alternate\" hreflang=\"pt\" href=\"https://www.carfax.eu/pt\" />\r\n<link rel=\"alternate\" hreflang=\"ru\" href=\"https://www.carfax.eu/ru\" />\n    <meta name=\"msvalidate.01\" content=\"6BA34DCD628AB3DE749CBA0441B6BE8C\"/>\n        <title>CARFAX Vehicle History Report for American Cars</title>\n    <link type=\"text/css\" rel=\"stylesheet\" href=\"https://www.carfax.eu/sites/carfax.eu/files/css/css_xE-rWrJf-fncB6ztZfd2huxqgxu4WO-qwma6Xer30m4.css\" media=\"all\" />\n<link type=\"text/css\" rel=\"stylesheet\" href=\"https://www.carfax.eu/sites/carfax.eu/files/css/css_pkx2FkTPdawW3F015DJHv60FWK31IsJNiNq4UJpk88M.css\" media=\"all\" />\n<link type=\"text/css\" rel=\"stylesheet\" href=\"https://www.carfax.eu/sites/carfax.eu/files/css/css_Y41Cyqb599HeYQyEkEmqCY3mVcInWvJQZn9o8DbDne0.css\" media=\"all\" />\n<link type=\"text/css\" rel=\"stylesheet\" href=\"https://www.carfax.eu/sites/carfax.eu/files/css/css_cjsoGugfsQGgjq3kAcaPooZtyVP5ZEqPAv2nVq8IWHQ.css\" media=\"all\" />\n<link type=\"text/css\" rel=\"stylesheet\" href=\"https://www.carfax.eu/sites/carfax.eu/files/css/css_2THG1eGiBIizsWFeexsNe1iDifJ00QRS9uSd03rY9co.css\" media=\"print\" />\n\n<!--[if lte IE 7]>\n<link type=\"text/css\" rel=\"stylesheet\" href=\"https://www.carfax.eu/sites/carfax.eu/themes/carfax_d7_en_EU/css/ie.css?p6ph9f\" media=\"all\" />\n<![endif]-->\n\n<!--[if IE 8]>\n<link type=\"text/css\" rel=\"stylesheet\" href=\"https://www.carfax.eu/sites/carfax.eu/themes/carfax_d7_en_EU/css/ie8.css?p6ph9f\" media=\"all\" />\n<![endif]-->\n\n<!--[if IE 6]>\n<link type=\"text/css\" rel=\"stylesheet\" href=\"https://www.carfax.eu/sites/carfax.eu/themes/carfax_d7_en_EU/css/ie6.css?p6ph9f\" media=\"all\" />\n<![endif]-->\n<link type=\"text/css\" rel=\"stylesheet\" href=\"https://www.carfax.eu/sites/carfax.eu/files/css/css_47DEQpj8HBSa-_TImW-5JCeuQeRkm5NMpJWZG3hSuFU.css\" media=\"all\" />\n    <style type=\"text/css\"\n           media=\"all\">@import url(\"/sites/carfax.eu/themes/carfax_d7_en_EU/css/locale/en_EU.css\");</style>\n    <script type=\"text/javascript\" src=\"https://www.carfax.eu/sites/carfax.eu/files/js/js_vDrW3Ry_4gtSYaLsh77lWhWjIC6ml2QNkcfvfP5CVFs.js\"></script>\n<script type=\"text/javascript\" src=\"https://www.carfax.eu/sites/carfax.eu/files/js/js_45JniWrXrY8q8AEVIV6GFupI5scizolw-FrujytMgiY.js\"></script>\n<script type=\"text/javascript\" src=\"https://www.carfax.eu/sites/carfax.eu/files/js/js_5nHS4VrfcHfaftqAEIzZhvXhnJMd96I7JAswqGLRflc.js\"></script>\n<script type=\"text/javascript\">\n<!--//--><![CDATA[//><!--\ndataLayer.push({\n      'country': 'EU',\n      'lang': 'en',\n      'pageName': window.location.pathname + window.location.search,\n      'vsSiteSearchTerm': '',\n      'vsLoginState': 'false',\n      'vsId': '',\n      'vsType': ''\n    });\n//--><!]]>\n</script>\n<script type=\"text/javascript\" src=\"https://www.carfax.eu/sites/all/modules/contrib/lightbox2/js/lightbox.js?1523615883\"></script>\n<script type=\"text/javascript\" src=\"https://www.carfax.eu/sites/carfax.eu/files/js/js_WUkPV7O7Npa_AoW-QIAxxObZNsrn0QNTGd3lcAcDX4o.js\"></script>\n<script type=\"text/javascript\" src=\"https://www.carfax.eu/sites/carfax.eu/files/js/js_TlyVivuBOnDdXvxgOYfnOhs-rZurKataIMf8cPKpoqA.js\"></script>\n<script type=\"text/javascript\">\n<!--//--><![CDATA[//><!--\njQuery.extend(Drupal.settings, {\"basePath\":\"\\/\",\"pathPrefix\":\"\",\"ajaxPageState\":{\"theme\":\"carfax_d7_en_EU\",\"theme_token\":\"BbZPeQclvUl9pJBdIivfnvljxcLQFz_Afd7G9hk2pGU\",\"js\":{\"misc\\/jquery.js\":1,\"misc\\/jquery.once.js\":1,\"misc\\/drupal.js\":1,\"sites\\/all\\/modules\\/contrib\\/nice_menus\\/js\\/jquery.bgiframe.js\":1,\"sites\\/all\\/modules\\/contrib\\/nice_menus\\/js\\/jquery.hoverIntent.js\":1,\"sites\\/all\\/modules\\/contrib\\/nice_menus\\/js\\/superfish.js\":1,\"sites\\/all\\/modules\\/contrib\\/nice_menus\\/js\\/nice_menus.js\":1,\"sites\\/all\\/modules\\/contrib\\/admin_menu\\/admin_devel\\/admin_devel.js\":1,\"sites\\/all\\/modules\\/carfax\\/carfax_account\\/js\\/packery.pkgd.min.js\":1,\"sites\\/all\\/modules\\/carfax\\/carfax_account\\/js\\/draggabilly.pkgd.min.js\":1,\"sites\\/all\\/modules\\/carfax\\/carfax_account\\/js\\/carfax_account.js\":1,\"sites\\/all\\/modules\\/carfax\\/carfax_dealer_search\\/js\\/carfax_dealer_search.js\":1,\"sites\\/all\\/modules\\/contrib\\/collapsiblock\\/collapsiblock.js\":1,\"sites\\/all\\/modules\\/contrib\\/contentanalysis\\/contentanalysis.js\":1,\"sites\\/all\\/modules\\/contrib\\/contentoptimizer\\/contentoptimizer.js\":1,\"0\":1,\"sites\\/all\\/modules\\/contrib\\/lightbox2\\/js\\/lightbox.js\":1,\"sites\\/all\\/modules\\/contrib\\/lang_dropdown\\/lang_dropdown.js\":1,\"sites\\/all\\/modules\\/carfax\\/carfax_frc\\/js\\/carfax_frc.js\":1,\"sites\\/all\\/modules\\/carfax\\/carfax_blocks\\/js\\/jquery.expander.min.js\":1,\"sites\\/all\\/modules\\/carfax\\/carfax_blocks\\/js\\/carfax_blocks.js\":1,\"sites\\/all\\/themes\\/carfax_d7\\/js\\/jquery.bgpos.js\":1,\"sites\\/all\\/themes\\/carfax_d7\\/js\\/expandmenu.js\":1,\"sites\\/all\\/themes\\/carfax_d7\\/js\\/frontpage.js\":1,\"sites\\/all\\/themes\\/carfax_d7\\/js\\/generic.js\":1,\"sites\\/carfax.eu\\/themes\\/carfax_d7_en_EU\\/..\\/..\\/..\\/all\\/themes\\/carfax_d7\\/js\\/jquery.bgpos.js\":1,\"sites\\/carfax.eu\\/themes\\/carfax_d7_en_EU\\/..\\/..\\/..\\/all\\/themes\\/carfax_d7\\/js\\/expandmenu.js\":1,\"sites\\/carfax.eu\\/themes\\/carfax_d7_en_EU\\/..\\/..\\/..\\/all\\/themes\\/carfax_d7\\/js\\/frontpage.js\":1,\"sites\\/carfax.eu\\/themes\\/carfax_d7_en_EU\\/..\\/..\\/..\\/all\\/themes\\/carfax_d7\\/js\\/generic.js\":1},\"css\":{\"modules\\/system\\/system.base.css\":1,\"modules\\/system\\/system.menus.css\":1,\"modules\\/system\\/system.messages.css\":1,\"modules\\/system\\/system.theme.css\":1,\"sites\\/all\\/modules\\/contrib\\/collapsiblock\\/collapsiblock.css\":1,\"modules\\/comment\\/comment.css\":1,\"sites\\/all\\/modules\\/contrib\\/date\\/date_api\\/date.css\":1,\"sites\\/all\\/modules\\/contrib\\/date\\/date_popup\\/themes\\/datepicker.1.7.css\":1,\"modules\\/field\\/theme\\/field.css\":1,\"modules\\/node\\/node.css\":1,\"modules\\/search\\/search.css\":1,\"modules\\/user\\/user.css\":1,\"sites\\/all\\/modules\\/contrib\\/views\\/css\\/views.css\":1,\"sites\\/all\\/modules\\/contrib\\/ckeditor\\/css\\/ckeditor.css\":1,\"sites\\/all\\/modules\\/carfax\\/carfax_blocks\\/css\\/carfax_blocks_seo_content.css\":1,\"sites\\/all\\/modules\\/contrib\\/ctools\\/css\\/ctools.css\":1,\"sites\\/all\\/modules\\/contrib\\/lightbox2\\/css\\/lightbox_alt.css\":1,\"sites\\/all\\/modules\\/contrib\\/nice_menus\\/css\\/nice_menus.css\":1,\"sites\\/all\\/modules\\/contrib\\/nice_menus\\/css\\/nice_menus_default.css\":1,\"sites\\/all\\/modules\\/contrib\\/lang_dropdown\\/lang_dropdown.css\":1,\"sites\\/all\\/modules\\/carfax\\/carfax_frc\\/css\\/carfax_frc.css\":1,\"sites\\/all\\/themes\\/carfax_d7\\/css\\/fonts.css\":1,\"sites\\/all\\/themes\\/carfax_d7\\/css\\/layout.css\":1,\"sites\\/all\\/themes\\/carfax_d7\\/css\\/style.css\":1,\"sites\\/all\\/themes\\/carfax_d7\\/css\\/colors.css\":1,\"sites\\/all\\/themes\\/carfax_d7\\/css\\/front.css\":1,\"sites\\/all\\/themes\\/carfax_d7\\/css\\/menu.css\":1,\"sites\\/all\\/themes\\/carfax_d7\\/css\\/webkit.css\":1,\"sites\\/all\\/themes\\/carfax_d7\\/css\\/tm.css\":1,\"sites\\/carfax.eu\\/themes\\/carfax_d7_en_EU\\/..\\/..\\/..\\/all\\/themes\\/carfax_d7\\/css\\/fonts.css\":1,\"sites\\/carfax.eu\\/themes\\/carfax_d7_en_EU\\/..\\/..\\/..\\/all\\/themes\\/carfax_d7\\/css\\/layout.css\":1,\"sites\\/carfax.eu\\/themes\\/carfax_d7_en_EU\\/..\\/..\\/..\\/all\\/themes\\/carfax_d7\\/css\\/style.css\":1,\"sites\\/carfax.eu\\/themes\\/carfax_d7_en_EU\\/..\\/..\\/..\\/all\\/themes\\/carfax_d7\\/css\\/colors.css\":1,\"sites\\/carfax.eu\\/themes\\/carfax_d7_en_EU\\/..\\/..\\/..\\/all\\/themes\\/carfax_d7\\/css\\/front.css\":1,\"sites\\/carfax.eu\\/themes\\/carfax_d7_en_EU\\/..\\/..\\/..\\/all\\/themes\\/carfax_d7\\/css\\/menu.css\":1,\"sites\\/carfax.eu\\/themes\\/carfax_d7_en_EU\\/..\\/..\\/..\\/all\\/themes\\/carfax_d7\\/css\\/webkit.css\":1,\"sites\\/carfax.eu\\/themes\\/carfax_d7_en_EU\\/css\\/style_en_EU.css\":1,\"sites\\/carfax.eu\\/themes\\/carfax_d7_en_EU\\/css\\/locale\\/block\\/tmp_fr.css\":1,\"sites\\/carfax.eu\\/themes\\/carfax_d7_en_EU\\/css\\/locale\\/block\\/tmp_pt.css\":1,\"sites\\/carfax.eu\\/themes\\/carfax_d7_en_EU\\/css\\/locale\\/block\\/tmp_is.css\":1,\"sites\\/all\\/themes\\/carfax_d7\\/css\\/print.css\":1,\"sites\\/carfax.eu\\/themes\\/carfax_d7_en_EU\\/..\\/..\\/..\\/all\\/themes\\/carfax_d7\\/css\\/print.css\":1,\"sites\\/carfax.eu\\/themes\\/carfax_d7_en_EU\\/css\\/ie.css\":1,\"sites\\/carfax.eu\\/themes\\/carfax_d7_en_EU\\/css\\/ie8.css\":1,\"sites\\/carfax.eu\\/themes\\/carfax_d7_en_EU\\/css\\/ie6.css\":1,\"sites\\/carfax.eu\\/themes\\/carfax_d7_en_EU\\/css\\/locale\\/en.css\":1}},\"collapsiblock\":{\"blocks\":{\"block-block-6\":\"2\",\"block-block-9\":\"3\",\"block-block-7\":\"3\",\"block-block-10\":\"1\",\"block-block-8\":\"1\",\"block-nice-menus-1\":\"1\",\"block-block-11\":\"1\",\"block-menu-menu-login-menu\":\"1\",\"block-menu-menu-social-media-icons\":\"1\",\"block-menu-menu-portal-menu\":\"1\",\"block-menu-menu-footer-menu\":\"1\",\"block-menu-menu-footer-links\":\"1\",\"block-accordion-blocks-Front Left-1\":\"1\",\"block-views-partner-carousel-block\":\"1\",\"block-block-15\":\"1\",\"block-block-14\":\"1\",\"block-carfax-frc-checking-database\":\"1\",\"block-carfax-frc-vin-entry\":\"1\",\"block-block-18\":\"1\",\"block-block-19\":\"1\",\"block-block-20\":\"1\",\"block-block-21\":\"1\",\"block-carfax-frc-vin-submit\":\"1\",\"block-block-16\":\"1\",\"block-carfax-login-carfax-login-block\":\"1\",\"block-carfax-rc-carfax-rc-block\":\"1\",\"block-carfax-account-last-viewed-report\":\"1\",\"block-carfax-account-pulled-report\":\"1\",\"block-multiblock-1\":\"1\",\"block-block-13\":\"1\",\"block-user-login\":\"1\",\"block-block-17\":\"1\",\"block-block-23\":\"1\",\"block-block-24\":\"1\",\"block-block-25\":\"1\",\"block-block-12\":\"1\",\"block-block-26\":\"1\",\"block-block-38\":\"1\",\"block-block-4\":\"1\",\"block-block-29\":\"1\",\"block-block-33\":\"1\",\"block-block-35\":\"1\",\"block-block-41\":\"1\",\"block-block-22\":\"1\",\"block-locale-language\":\"1\",\"block-block-27\":\"1\",\"block-block-28\":\"1\",\"block-views-account-news-preview-block\":\"1\",\"block-block-43\":\"1\",\"block-block-42\":\"1\",\"block-block-37\":\"1\",\"block-block-32\":\"1\",\"block-block-31\":\"1\",\"block-block-36\":\"1\",\"block-block-34\":\"1\",\"block-block-30\":\"1\",\"block-block-44\":\"1\",\"block-block-45\":\"1\",\"block-block-40\":\"1\",\"block-block-47\":\"1\",\"block-block-49\":\"1\",\"block-block-39\":\"1\",\"block-block-51\":\"1\",\"block-block-55\":\"1\",\"block-block-91\":\"1\",\"block-block-93\":\"1\",\"block-block-85\":\"1\",\"block-block-65\":\"1\",\"block-block-99\":\"1\",\"block-block-73\":\"1\",\"block-block-101\":\"1\",\"block-block-103\":\"1\",\"block-block-107\":\"1\",\"block-block-105\":\"1\",\"block-block-63\":\"1\",\"block-block-61\":\"1\",\"block-block-69\":\"1\",\"block-block-71\":\"1\",\"block-block-83\":\"1\",\"block-block-81\":\"1\",\"block-block-77\":\"1\",\"block-nice-menus-2\":\"1\",\"block-menu-menu-dealer-menu\":\"1\",\"block-menu-menu-dap-menu\":\"1\",\"block-block-97\":\"1\",\"block-block-95\":\"1\",\"block-block-89\":\"1\",\"block-block-111\":\"1\",\"block-block-113\":\"1\",\"block-block-109\":\"1\",\"block-block-115\":\"1\",\"block-block-117\":\"1\",\"block-block-119\":\"1\",\"block-mobile-detect-mobile-detect-simple-debug\":\"1\",\"block-block-121\":\"1\",\"block-block-125\":\"1\",\"block-carfax-blocks-unlimited-app-links\":\"1\",\"block-carfax-blocks-dealer-phone-footerline\":\"1\",\"block-webform-client-block-13449\":\"1\",\"block-system-main-menu\":\"1\",\"block-lang-dropdown-language-content\":\"1\",\"block-carfax-websitelayer-carfax-websitelayer\":\"1\",\"block-lang-dropdown-language\":\"1\",\"block-block-59\":\"1\",\"block-block-127\":\"1\",\"block-block-129\":\"1\",\"block-block-133\":\"1\",\"block-block-131\":\"1\",\"block-social-share-social-share\":\"1\",\"block-views-categories-article-block\":\"1\",\"block-views-category-overview-block\":\"1\",\"block-block-135\":\"1\",\"block-views-d455299ba5db753e5e1e06fb826f1bcb\":\"1\",\"block-carfax-services-carfax-services-vin-submit\":\"1\",\"block-carfax-services-cs-vin-block-results\":\"1\",\"block-multiblock-5\":\"1\",\"block-multiblock-3\":\"1\",\"block-views-risk-factor-menu-block\":\"1\",\"block-views-brands-block-1\":\"1\",\"block-views-brands-block\":\"1\",\"block-views-brands-block-2\":\"1\",\"block-block-145\":\"1\",\"block-block-143\":\"1\",\"block-carfax-blocks-seo-content-en\":\"1\",\"block-carfax-blocks-seo-content-de\":\"1\",\"block-carfax-blocks-seo-content-fr\":\"1\",\"block-carfax-blocks-seo-content-it\":\"1\",\"block-carfax-blocks-seo-content-nl\":\"1\",\"block-carfax-blocks-seo-content-pl\":\"1\",\"block-carfax-blocks-seo-content-ru\":\"1\",\"block-carfax-blocks-seo-content-samplereportpage-en\":\"1\",\"block-carfax-blocks-seo-content-samplereportpage-fr\":\"1\",\"block-carfax-blocks-seo-content-samplereportpage-it\":\"1\",\"block-carfax-blocks-seo-content-samplereportpage-nl\":\"1\",\"block-carfax-blocks-seo-content-samplereportpage-pl\":\"1\",\"block-carfax-blocks-seo-content-samplereportpage-ru\":\"1\",\"block-carfax-blocks-seo-content-samplereportpage-de\":\"1\",\"block-block-147\":\"1\",\"block-block-149\":\"1\",\"block-block-155\":\"1\",\"block-block-159\":\"1\",\"block-block-161\":\"1\",\"block-block-163\":\"1\",\"block-block-151\":\"1\",\"block-block-153\":\"1\",\"block-block-185\":\"1\",\"block-block-187\":\"1\",\"block-block-191\":\"1\",\"block-block-193\":\"1\",\"block-block-183\":\"1\",\"block-block-171\":\"1\",\"block-block-175\":\"1\",\"block-block-195\":\"1\",\"block-carfax-frc-articles-vin-widget\":\"1\",\"block-block-199\":\"1\",\"block-block-203\":\"1\",\"block-block-213\":\"1\",\"block-block-225\":\"1\",\"block-block-227\":\"1\",\"block-block-141\":\"1\",\"block-block-229\":\"1\",\"block-block-231\":\"1\",\"block-block-233\":\"1\"},\"default_state\":\"1\",\"slide_type\":\"1\",\"slide_speed\":\"200\",\"block_title\":\":header:first\",\"block\":\"div.block\",\"block_content\":\"div.content\"},\"jcarousel\":{\"ajaxPath\":\"\\/jcarousel\\/ajax\\/views\"},\"lightbox2\":{\"rtl\":\"0\",\"file_path\":\"\\/(\\\\w\\\\w\\/)public:\\/\",\"default_image\":\"\\/sites\\/all\\/modules\\/contrib\\/lightbox2\\/images\\/brokenimage.jpg\",\"border_size\":10,\"font_color\":\"000\",\"box_color\":\"fff\",\"top_position\":\"\",\"overlay_opacity\":\"0.8\",\"overlay_color\":\"000\",\"disable_close_click\":1,\"resize_sequence\":0,\"resize_speed\":400,\"fade_in_speed\":400,\"slide_down_speed\":600,\"use_alt_layout\":1,\"disable_resize\":1,\"disable_zoom\":0,\"force_show_nav\":0,\"show_caption\":1,\"loop_items\":0,\"node_link_text\":\"View Image Details\",\"node_link_target\":0,\"image_count\":\"Image !current of !total\",\"video_count\":\"Video !current of !total\",\"page_count\":\"Page !current of !total\",\"lite_press_x_close\":\"press \\u003Ca href=\\u0022#\\u0022 onclick=\\u0022hideLightbox(); return FALSE;\\u0022\\u003E\\u003Ckbd\\u003Ex\\u003C\\/kbd\\u003E\\u003C\\/a\\u003E to close\",\"download_link_text\":\"\",\"enable_login\":false,\"enable_contact\":false,\"keys_close\":\"c x 27\",\"keys_previous\":\"p 37\",\"keys_next\":\"n 39\",\"keys_zoom\":\"z\",\"keys_play_pause\":\"32\",\"display_image_size\":\"original\",\"image_node_sizes\":\"()\",\"trigger_lightbox_classes\":\"\",\"trigger_lightbox_group_classes\":\"\",\"trigger_slideshow_classes\":\"\",\"trigger_lightframe_classes\":\"\",\"trigger_lightframe_group_classes\":\"\",\"custom_class_handler\":0,\"custom_trigger_classes\":\"\",\"disable_for_gallery_lists\":true,\"disable_for_acidfree_gallery_lists\":true,\"enable_acidfree_videos\":true,\"slideshow_interval\":5000,\"slideshow_automatic_start\":true,\"slideshow_automatic_exit\":true,\"show_play_pause\":true,\"pause_on_next_click\":false,\"pause_on_previous_click\":true,\"loop_slides\":false,\"iframe_width\":600,\"iframe_height\":400,\"iframe_border\":1,\"enable_video\":0},\"nice_menus_options\":{\"delay\":800,\"speed\":\"slow\"},\"carfax_blocks\":{\"cut_position\":\"2582\"},\"urlIsAjaxTrusted\":{\"\\/\":true,\"\\/node?destination=node%3Fvin%3D%26vin2%3D%26vinreg%3D\":true},\"example_vin\":\"WV2ZZZ70ZSH123456\"});\n//--><!]]>\n</script>\n\n    <link rel=\"apple-touch-icon\"\n          href=\"/sites/default/files/icons/apple-touch-icon.png?v=47r7jdJo04\">\n    <link rel=\"apple-touch-icon\" sizes=\"180x180\"\n          href=\"/sites/default/files/icons/apple-touch-icon-180x180.png?v=47r7jdJo04\">\n    <link rel=\"apple-touch-icon\" sizes=\"152x152\"\n          href=\"/sites/default/files/icons/apple-touch-icon-152x152.png?v=47r7jdJo04\">\n    <link rel=\"apple-touch-icon\" sizes=\"144x144\"\n          href=\"/sites/default/files/icons/apple-touch-icon-144x144.png?v=47r7jdJo04\">\n    <link rel=\"apple-touch-icon\" sizes=\"120x120\"\n          href=\"/sites/default/files/icons/apple-touch-icon-120x120.png?v=47r7jdJo04\">\n    <link rel=\"apple-touch-icon\" sizes=\"114x114\"\n          href=\"/sites/default/files/icons/apple-touch-icon-114x114.png?v=47r7jdJo04\">\n    <link rel=\"apple-touch-icon\" sizes=\"76x76\"\n          href=\"/sites/default/files/icons/apple-touch-icon-76x76.png?v=47r7jdJo04\">\n    <link rel=\"apple-touch-icon\" sizes=\"72x72\"\n          href=\"/sites/default/files/icons/apple-touch-icon-72x72.png?v=47r7jdJo04\">\n    <link rel=\"apple-touch-icon\" sizes=\"60x60\"\n          href=\"/sites/default/files/icons/apple-touch-icon-60x60.png?v=47r7jdJo04\">\n    <link rel=\"apple-touch-icon\" sizes=\"57x57\"\n          href=\"/sites/default/files/icons/apple-touch-icon-57x57.png?v=47r7jdJo04\">\n    <link rel=\"apple-touch-icon\" sizes=\"180x180\"\n          href=\"/sites/default/files/icons/apple-touch-icon-180x180.png?v=47r7jdJo04\">\n    <link rel=\"icon\" type=\"image/png\"\n          href=\"/sites/default/files/icons/android-chrome-192x192.png?v=47r7jdJo04\"\n          sizes=\"192x192\">\n    <link rel=\"icon\" type=\"image/png\"\n          href=\"/sites/default/files/icons/android-chrome-256x256.png?v=47r7jdJo04\"\n          sizes=\"256x256\">\n    <link rel=\"icon\" type=\"image/png\"\n          href=\"/sites/default/files/icons/android-chrome-144x144.png?v=47r7jdJo04\"\n          sizes=\"144x144\">\n    <link rel=\"icon\" type=\"image/png\"\n          href=\"/sites/default/files/icons/android-chrome-96x96.png?v=47r7jdJo04\"\n          sizes=\"96x96\">\n    <link rel=\"icon\" type=\"image/png\"\n          href=\"/sites/default/files/icons/android-chrome-72x72.png?v=47r7jdJo04\"\n          sizes=\"72x72\">\n    <link rel=\"icon\" type=\"image/png\"\n          href=\"/sites/default/files/icons/android-chrome-48x48.png?v=47r7jdJo04\"\n          sizes=\"48x48\">\n    <link rel=\"icon\" type=\"image/png\"\n          href=\"/sites/default/files/icons/android-chrome-36x36.png?v=47r7jdJo04\"\n          sizes=\"36x36\">\n    <link rel=\"icon\" type=\"image/png\"\n          href=\"/sites/default/files/icons/favicon-32x32.png?v=47r7jdJo04\"\n          sizes=\"32x32\">\n    <link rel=\"icon\" type=\"image/png\"\n          href=\"/sites/default/files/icons/favicon-16x16.png?v=47r7jdJo04\"\n          sizes=\"16x16\">\n    <link rel=\"manifest\"\n          href=\"/sites/default/files/icons/manifest.json?v=47r7jdJo04\">\n    <link rel=\"mask-icon\"\n          href=\"/sites/default/files/icons/safari-pinned-tab.svg?v=47r7jdJo04\"\n          color=\"#2b5797\">\n    <link rel=\"shortcut icon\"\n          href=\"/sites/default/files/icons/favicon.ico?v=47r7jdJo04\">\n    <meta name=\"msapplication-TileColor\" content=\"#2b5797\">\n    <meta name=\"msapplication-TileImage\"\n          content=\"/sites/default/files/icons/mstile-144x144.png?v=47r7jdJo04\">\n    <meta name=\"theme-color\" content=\"#ffffff\">\n\n</head>\n<body class=\"html front not-logged-in no-sidebars page-node i18n-en\" >\n<!-- Google Tag Manager (noscript) --><noscript style=\"display:none;visibility:hidden\">\n    <iframe src=\"//www.googletagmanager.com/ns.html?id=GTM-MPJML4\" height=\"0\" width=\"0\" style=\"display:none;visibility:hidden\"></iframe>\n</noscript><!-- End Google Tag Manager (noscript) -->\n<noscript>\n  <style>\n    .alertjavascript\n    {\n      padding: 8px 35px 8px 14px;\n      margin-bottom: 18px;\n      color: #c09853;\n      text-shadow: 0 1px 0 rgba(255, 255, 255, 0.5);\n      background-color: #fcf8e3;\n      border: 1px solid #fbeed5;\n      -webkit-border-radius: 4px;\n      -moz-border-radius: 4px;\n      border-radius: 4px;\n      color: #b94a48;\n      background-color: #f2dede;\n      border-color: #b94a48;\n     /* margin-left: 17%;*/\n      position: fixed;\n      padding: 21px;\n      z-index: 9999;\n      top: 40%;\n      font-size: 21px;\n      width: 99%;\n\n    }\n    .alertjavascriptbackground\n    {\n      position: absolute;\n      top: 0;\n      left: 0;\n      width: 100%;\n      z-index: 1100;\n      opacity: 0.7;\n      cursor: pointer;\n      height: 1810px;\n      display: block;\n      background-color: rgb(119, 119, 119);\n    }\n    .refreshbutton \n    {\n      display: block !important;\n      margin: 0 auto;\n      margin-top: 22px;\n      -moz-box-shadow:inset 0px 1px 0px 0px #bee2f9;\n      -webkit-box-shadow:inset 0px 1px 0px 0px #bee2f9;\n      box-shadow:inset 0px 1px 0px 0px #bee2f9;\n      background:-webkit-gradient( linear, left top, left bottom, color-stop(0.05, #63b8ee), color-stop(1, #468ccf) );\n      background:-moz-linear-gradient( center top, #63b8ee 5%, #468ccf 100% );\n      filter:progid:DXImageTransform.Microsoft.gradient(startColorstr='#63b8ee', endColorstr='#468ccf');\n      background-color:#63b8ee;\n      -webkit-border-top-left-radius:16px;\n      -moz-border-radius-topleft:16px;\n      border-top-left-radius:16px;\n      -webkit-border-top-right-radius:16px;\n      -moz-border-radius-topright:16px;\n      border-top-right-radius:16px;\n      -webkit-border-bottom-right-radius:16px;\n      -moz-border-radius-bottomright:16px;\n      border-bottom-right-radius:16px;\n      -webkit-border-bottom-left-radius:16px;\n      -moz-border-radius-bottomleft:16px;\n      border-bottom-left-radius:16px;\n      text-indent:0;\n      border:1px solid #3866a3;\n      display:inline-block;\n      color:#FFF;\n      font-family:Arial;\n      font-size:15px;\n      font-weight:bold;\n      font-style:normal;\n      height:65px;\n      line-height:65px;\n      width:131px;\n      text-decoration:none;\n      text-align:center;\n      text-shadow:1px 1px 0px #7cacde;\n      }\n    .refreshbutton:hover \n    {\n      background:-webkit-gradient( linear, left top, left bottom, color-stop(0.05, #468ccf), color-stop(1, #63b8ee) );\n      background:-moz-linear-gradient( center top, #468ccf 5%, #63b8ee 100% );\n      filter:progid:DXImageTransform.Microsoft.gradient(startColorstr='#468ccf', endColorstr='#63b8ee');\n      background-color:#468ccf;\n        color:#FFF;\n\n    }\n    .refreshbutton:active\n    {\n      position:relative;\n      top:1px;\n        color:#FFF;\n\n    }\n  </style>\n    <div class='alertjavascriptbackground'>\n  </div>\n  <center>\n  <div class='alertjavascript'>\n    For full functionality of this site it is necessary to enable JavaScript.<br>Here are the    <a href=\"http://www.enable-javascript.com/\" target=\"_blank\">\n    instructions how to enable JavaScript in your web browser</a>.\n    <a class='refreshbutton' href=\"https://www.carfax.eu:443/\">\n    REFRESH PAGE    </a>\n  </div>\n  </center>\n</noscript>\n\n<div id=\"page-wrapper\"><div id=\"page\">\n\n  <div id=\"header\" class=\"without-secondary-menu\"><div class=\"section clearfix\">\n\n\t\t<a id=\"trusted_shop_seal\" href=\"https://www.trustedshops.de/shop/certificate.php?shop_id=X32B4968F269D1F8074C153C3D17356BB\" target=\"_blank\"></a>\n          <a href=\"/\" title=\"Home\" rel=\"home\" id=\"logo\">\n        <img src=\"/sites/carfax.eu/files/mediapool/logos/carfax_logo_flat_en_EU.png\" alt=\"Home\" />\n      </a>\n    \n\t\t<img src=\"/sites/carfax.eu/themes/carfax_d7_en_EU/images/since_1984_en_EU.png\" id=\"since_1984\" class=\"since_1984\">\n\n\t\t<div class=\"infobg\">\n\t\t\t<ul>\n  \t\t\t<li>Information for all U.S. used cars</li>\n  \t\t\t<li>Trusted by thousands of consumers</li>\n  \t\t\t<li>Only legal source in Europe</li>\n  \t\t</ul>\n\t\t</div>\n\n      <div class=\"region region-header\">\n    <div id=\"block-menu-menu-portal-menu\" class=\"block block-menu\">\n\n      \n  <div class=\"content\">\n    \n      <ul class=\"menu clearfix\"><li class=\"first leaf\"><a href=\"https://www.business.carfax.eu/country-selection/\">EU REPORTS</a></li>\n<li class=\"last leaf\"><a href=\"https://www.business.carfax.eu\">Business</a></li>\n</ul>  \n  </div>\n      <div class=\"block-footer\"></div>\n    </div>\n<div id=\"block-menu-menu-login-menu\" class=\"block block-menu\">\n\n      \n  <div class=\"content\">\n    \n      <ul class=\"menu clearfix\"><li class=\"first last leaf\"><a href=\"/user?current=node\" id=\"icon_login\">Login</a></li>\n</ul>  \n  </div>\n      <div class=\"block-footer\"></div>\n    </div>\n<div id=\"block-nice-menus-1\" class=\"block block-nice-menus\">\n\n      \n  <div class=\"content\">\n    \n      <ul class=\"nice-menu nice-menu-down nice-menu-menu-carfax-main-menu\" id=\"nice-menu-1\"><li class=\"menu-931 menu-path-front first odd \"><a href=\"/\" id=\"home\" class=\"active\">Home</a></li>\n<li class=\"menu-4333 menuparent  menu-path-sample-report  even \"><a href=\"/sample-report\">CARFAX Report</a><ul><li class=\"menu-8147 menu-path-node-32693 first odd last\"><a href=\"/carfax-vehicle-history-report-packages\">CARFAX Packages</a></li>\n</ul></li>\n<li class=\"menu-7449 menu-path-node-24217  odd \"><a href=\"/free-vin-decoder\">Free VIN decoder</a></li>\n<li class=\"menu-4631 menuparent  menu-path-whycarfax  even \"><a href=\"/why-carfax.html\">Why CARFAX?</a><ul><li class=\"menu-7475 menu-path-node-26153 first odd \"><a href=\"/risk-factors/recall.html\">Risk Factors</a></li>\n<li class=\"menu-7477 menu-path-node-28145  even last\"><a href=\"/us-import/statistics.html\">US import statistics</a></li>\n</ul></li>\n<li class=\"menu-1633 menu-path-articles  odd \"><a href=\"/articles\">Blog</a></li>\n<li class=\"menu-1632 menu-path-faqs  even \"><a href=\"/faqs\">FAQs</a></li>\n<li class=\"menu-8183 menu-path-node-2145  odd last\"><a href=\"/contact-us/contact.html\">Contact Us</a></li>\n</ul>\n  \n  </div>\n  </div>\n<div id=\"block-lang-dropdown-language\" class=\"block block-lang-dropdown\">\n\n        <h2 class=\"element-invisible\">Languages</h2>\n      \n  <div class=\"content\">\n    \n      <form class=\"lang_dropdown_form language\" id=\"lang_dropdown_form_language\" action=\"/\" method=\"post\" accept-charset=\"UTF-8\"><div><div class=\"form-item form-type-select form-item-lang-dropdown-select\">\n <select style=\"width:165px\" class=\"lang-dropdown-select-element form-select\" id=\"lang-dropdown-select-language\" name=\"lang_dropdown_select\"><option value=\"da\">Dansk</option><option value=\"de\">Deutsch</option><option value=\"en\" selected=\"selected\">English</option><option value=\"https://www.carfax.es\">Español</option><option value=\"fr\">Français</option><option value=\"is\">Íslenska</option><option value=\"it\">Italiano</option><option value=\"lv\">Latviešu</option><option value=\"nl\">Nederlands</option><option value=\"pl\">Polski</option><option value=\"pt\">Português</option><option value=\"https://www.carfax.si\">Slovenščina</option><option value=\"https://www.carfax.se\">Svenska</option><option value=\"ru\">Русский</option></select>\n</div>\n<input type=\"hidden\" name=\"en\" value=\"/\" />\n<input type=\"hidden\" name=\"da\" value=\"/da\" />\n<input type=\"hidden\" name=\"nl\" value=\"/nl\" />\n<input type=\"hidden\" name=\"fr\" value=\"/fr\" />\n<input type=\"hidden\" name=\"de\" value=\"/de\" />\n<input type=\"hidden\" name=\"is\" value=\"/is\" />\n<input type=\"hidden\" name=\"it\" value=\"/it\" />\n<input type=\"hidden\" name=\"lv\" value=\"/lv\" />\n<input type=\"hidden\" name=\"pl\" value=\"/pl\" />\n<input type=\"hidden\" name=\"pt\" value=\"/pt\" />\n<input type=\"hidden\" name=\"ru\" value=\"/ru\" />\n<noscript><div>\n<input type=\"submit\" id=\"edit-submit\" name=\"op\" value=\"Go\" class=\"form-submit\" />\n</div></noscript><input type=\"hidden\" name=\"form_build_id\" value=\"form-_fbfOzGC4Ps3NG9LEPPWT5kAuA1DMs-ejJB-Zw4smEk\" />\n<input type=\"hidden\" name=\"form_id\" value=\"lang_dropdown_form\" />\n<input type=\"hidden\" name=\"https://www.carfax.se\" value=\"https://www.carfax.se\" />\n<input type=\"hidden\" name=\"https://www.carfax.si\" value=\"https://www.carfax.si\" />\n<input type=\"hidden\" name=\"https://www.carfax.es\" value=\"https://www.carfax.es\" />\n</div></form>  \n  </div>\n      <div class=\"block-footer\"></div>\n    </div>\n  </div>\n\n    <div id=\"breadcrumb\">\n\t\t\t<div id=\"breadcrumb_top_shadow\"></div>\n    \t<div id=\"breadcrumb_open\"></div>\n    \t<div class=\"breads\">\n\t\t\t\t     \t\t<div class=\"breadcrumb\">\n    \t\t\t    \t\t</div>\n    \t</div>\n    \t<div id=\"userbar\">\n    \t\t<div id=\"close_login\">Close</div>\n    \t\t  <div class=\"region region-userbar\">\n    <div id=\"block-user-login\" class=\"block block-user\">\n\n      \n  <div class=\"content\">\n    \n      <form action=\"/node?destination=node%3Fvin%3D%26vin2%3D%26vinreg%3D\" method=\"post\" id=\"user-login-form\" accept-charset=\"UTF-8\"><div><div class=\"form-item form-type-textfield form-item-name\">\n  <label for=\"edit-name\">E-mail <span class=\"form-required\" title=\"This field is required.\">*</span></label>\n <input type=\"text\" id=\"edit-name\" name=\"name\" value=\"\" size=\"15\" maxlength=\"60\" class=\"form-text required\" />\n</div>\n<div class=\"form-item form-type-password form-item-pass\">\n  <label for=\"edit-pass\">Password <span class=\"form-required\" title=\"This field is required.\">*</span></label>\n <input type=\"password\" id=\"edit-pass\" name=\"pass\" size=\"15\" maxlength=\"128\" class=\"form-text required\" />\n</div>\n<div class='item-list'> <ul><li class='first last'><a href=\"/user/password\" title=\"Request new password via e-mail.\" rel=\"nofollow\">Forgot your password?</a></li></ul></div><input type=\"hidden\" name=\"form_build_id\" value=\"form-r7c-QMBBBL7kKCkl-2ZfOcz2paSzklkYlHKHnFruwE8\" />\n<input type=\"hidden\" name=\"form_id\" value=\"user_login_block\" />\n<div class=\"form-actions form-wrapper\" id=\"edit-actions\"><input type=\"submit\" id=\"edit-submit--2\" name=\"op\" value=\"Log in\" class=\"form-submit\" /></div></div></form>  \n  </div>\n      <div class=\"block-footer\"></div>\n    </div>\n<a href='https://portal.carfax.eu/s/login/?language=en_US&startURL=%2Fs%2F&ec=302' class='b2b_portal_link'>If you are a business customer, please login here</a><br>  </div>\n    \t</div>\n    </div>\n\n\n  </div></div> <!-- /.section, /#header -->\n\n  \n  \n  <div id=\"main-wrapper\" class=\"clearfix\"><div id=\"main\" class=\"clearfix\">\n\n    \n    <div id=\"content\" class=\"column\"><div class=\"section\">\n            <a id=\"main-content\"></a>\n                                <div class=\"tabs\">\n                  </div>\n                  \n\t\t\t<div id=\"frontpage_left\">\n\t        <div class=\"region region-frontpage-left\">\n    <div id=\"block-block-17\" class=\"block block-block frontpage_teaser\">\n\n      \n  <div class=\"content\">\n    \n      <h1>Buying Used American Cars? Check the CARFAX Report.</h1>\n<p><strong><font color=\"#98CB11\">Shop Smarter. Get a CARFAX Vehicle History Report Before You Buy.</font></strong></p>\n<ul>\n    <li>Learn about a vehicle’s history</li>\n    <li>Uncover hidden problems</li>\n    <li>Join the millions of satisfied customers</li>\n    <li>Easy to read, instantly available online</li>\n</ul>\n<p>CARFAX helps shoppers make better purchase decisions when buying American cars. The CARFAX Vehicle History Report provides detailed information about a vehicle’s past and can help uncover hidden negative history.</p>\n<p>Make a safer investment and reduce your risk of costly hidden problems. Check the CARFAX before you buy!</p>  \n  </div>\n      <div class=\"block-footer\"></div>\n    </div>\n  </div>\n\t\t\t</div>\n\n\t\t\t<div id=\"frontpage_fox\">\n\t\t\t\t  <div class=\"region region-frontpage-carfox\">\n    <div id=\"block-block-8\" class=\"block block-block\">\n\n      \n  <div class=\"content\">\n    \n      <ul>\n\t<li><img alt=\"\" src=\"/sites/carfax.eu/files/mediapool/carfoxes/fox_frontpage_point_to_right_en_EU.png\" style=\"height:414px; opacity:0.9; width:449px\" /></li>\n\t<li><img alt=\"\" src=\"/sites/carfax.eu/files/mediapool/carfoxes/fox_frontpage_watch_left_en_EU.png\" style=\"height:414px; opacity:0.9; width:449px\" /></li>\n</ul>\n  \n  </div>\n      <div class=\"block-footer\"></div>\n    </div>\n  </div>\n\t\t\t</div>\n\n\t\t\t<div id=\"frontpage_right\">\n\t        <div class=\"region region-frontpage-right\">\n    <div id=\"block-carfax-frc-vin-submit\" class=\"block block-carfax-frc\">\n\n        <h2>Check the history of U.S. cars!</h2>\n      \n  <div class=\"content\">\n    \n        <div id=\"frcloader\">\n    <img\n      src=\"/sites/carfax.eu/files/mediapool/icons/ajax-loader.gif\"/>\n  </div>\n\n  <div class=\"inner-content frc-checkbox\">\n    <img alt=\"\" id=\"front_fox_hand\"\n         src=\"/sites/default/files/mediapool/carfox/fox_hand.png\"\n         style=\"height:20px; width:34px\"/>\n    <!--h3>Enter a VIN:</h3-->\n    <p class=\"frontvindesc\">\n      <span class=\"bold\">Enter a VIN</span>\n      to find reports.                </p>\n    <form action=\"/frc\" method=\"post\" id=\"vin-submit-form\">\n      <div>\n        <input type=\"text\" name=\"vin\" class=\"form-text vin-enter\"\n               placeholder=\"WV2ZZZ70ZSH123456\" autocomplete=\"off\"\n               required=\"required\"/>\n        <input type=\"submit\" class=\"form-submit\" id=\"edit-submit2\" value=\"GO\" />\n      </div>\n    </form>\n    <div class=\"clear\"></div>\n\n    <a href=\"/get-vin.html\" class=\"whatis lightbox\" rel=\"lightframe[search|width:900px; height:600px; scrolling: no;]\">Where to find the VIN?</a>  </div>\n\n    \n  </div>\n      <div class=\"block-footer\"></div>\n    </div>\n<div id=\"block-block-59\" class=\"block block-block\">\n\n      \n  <div class=\"content\">\n    \n      <div id=\"instant_access\"><img alt=\"\" src=\"/sites/carfax.eu/files/mediapool/teasers/instant_access_en_EU.png\" style=\"height:200px; width:200px\" /></div>\n  \n  </div>\n      <div class=\"block-footer\"></div>\n    </div>\n  </div>\n      </div>\n\n      <div class=\"clear\"></div>\n\n    </div></div> <!-- /.section, /#content -->\n\n    \n  </div></div> <!-- /#main, /#main-wrapper -->\n\n  <div id=\"footer-wrapper\">\n\n\n        <div class=\"footer-wrapper-above\">\n\t\t<div id=\"footer-3\" class=\"clearfix footer\">\n    \t      <div class=\"region region-footer-above\">\n    <div id=\"block-block-18\" class=\"block block-block\">\n\n      \n  <div class=\"content\">\n    \n      <a target=\"_blank\" rel=\"lightbox\" href=\"/sites/carfax.eu/files/mediapool/generic/carfax_sample_report_en_EU.png\" id=\"frontexamplereport\" class=\"btn_green\">Example report</a>\n\n<img alt=\"carfax vehicle history report\" src=\"/sites/carfax.eu/files/mediapool/banners/front_laptop_en_EU.png\" class=\"carfax_checks_for\" /><div class=\"infobg\"><!--<a class=\"btn_small\" href=\"#\">learn more</a>--><h2>The <strong>CARFAX Vehicle History Report</strong> CHECKS for:</h2><ul><li>Title Problems</li><li>Accidents</li><li>Total loss</li><li>Flood damage</li><li>Odometer problems</li><li>Service records</li><li>Frame damage</li><li>Airbag deployment</li><li>and much more...</li><li>Vehicle registration</li><li>Recalls</li></ul>\n</div>  \n  </div>\n      <div class=\"block-footer\"></div>\n    </div>\n<div id=\"block-block-115\" class=\"block block-block\">\n\n      \n  <div class=\"content\">\n    \n      <div class=\"infobg video\">\n<iframe width=\"260\" height=\"200\" src=\"https://www.youtube.com/embed/t17aCPJfb-s?rel=0\" frameborder=\"0\" allowfullscreen style=\"float: left; padding-right: 10px; background-color: transparent\"></iframe>\n<h2><strong>More than 60% of all used cars imported from the U.S. to Europe have negative history</strong></h2>\nA majority of all used US imports have either been in accidents, been stolen, been flooded, salvaged and rebuilt and shipped to Europe or are subject to open recalls. CARFAX helps you identify hidden problems with imported used cars from the US so you don’t lose money. For 30 years, CARFAX has been collecting data on US vehicles from thousands of sources and has helped millions of used car shoppers reduce their risk of getting stuck with a vehicle that has costly hidden problems. If you are interested in a used US import, help protect yourself with a CARFAX Vehicle History Report from CARFAX Europe, the official CARFAX website in Europe and the only legal source for authentic CARFAX Vehicle History Reports.\n</div>  \n  </div>\n      <div class=\"block-footer\"></div>\n    </div>\n<div id=\"block-carfax-blocks-seo-content-en\" class=\"block block-carfax-blocks home_page_seo\">\n\n      \n  <div class=\"content\">\n    \n      <h2>Welcome to CARFAX, the Vehicle History Expert for American Cars</h2>\r\n\r\n<p>CARFAX is the most trusted source of vehicle history information about <strong>US cars</strong>. For more than 30 years, CARFAX has been helping millions of used car shoppers make better purchase decisions and avoid expensive hidden problems. In addition, CARFAX has helped used car dealers around the world to build trust with their customers and sell their <strong>American cars</strong> with confidence.</p>\r\n\r\n<p>With more than 14 billion records, CARFAX has built up its database with the help of its partners and sources, including government offices, law enforcement agencies, service and repair shops, car dealerships, insurance companies and many more.</p>\r\n\r\n<p>CARFAX’s vision is to change the used car market for the better. As an independent source which benefits both consumers and dealers, no US used car should be bought without looking into its history with the help of a CARFAX Vehicle History Report.</p>\r\n\r\n<h3>What is a CARFAX Vehicle History Report?</h3>\r\n\r\n<p>The CARFAX <strong>Vehicle History Report</strong> takes the billions of records on file, detailing all of the most important information about used cars from the United States and Canada, and assembles them into one easy to read report. There are several types of records included in the report, including:</p>\r\n\r\n<ul>\r\n\t<li><strong>Vehicle accident check</strong>: Buying a second hand car which has been in an accident can lead to costly problems down the road. Our vehicle accident check informs potential buyers of any serious problems in the car’s history, including total loss.</li>\r\n\t<li><strong>Vehicle mileage check</strong>: One of the most common forms of automotive fraud in the second hand car market relates to odometer manipulation. Our vehicle mileage check helps ensure buyers that no odometer rollbacks have occurred.</li>\r\n\t<li><strong>Car ownership</strong>: It may seem difficult to know how an American car was used in the past. The CARFAX Vehicle History Report includes records on car ownership, including whether the car was ever used as a rental car or taxi.</li>\r\n\t<li><strong>Car recalls</strong>: US import cars generally don’t carry the manufacturer guarantee protecting against recalls. This means any costs related to the repair of open car recalls fall onto the new owner. In some cases, car recalls set out to fix potentially dangerous manufacturing defects. The CARFAX Car History Report identifies any open recalls on US cars.</li>\r\n\t<li><strong>Salvage Title</strong>: US cars may be given a salvage title when they are no longer roadworthy due to damage from an accident, flood or fire, or if they have been stolen. The CARFAX Vehicle History Report helps buyers stay away from salvage cars and avoid potential expenses in the future.</li>\r\n\t<li><strong>Stolen car</strong>: Even if it seems unlikely, many stolen US cars make their way over to Europe. To avoid possible legal problems, it’s advisable to not buy a stolen car.</li>\r\n\t<li><strong>Airbag deployment</strong>: Often times, serious accidents result in airbag deployment. The CARFAX Vehicle History Report will also notify shoppers of American cars whether or not the vehicle has experienced such a situation.</li>\r\n\t<li><strong>Service car records</strong>: Buying used cars which have been well maintained can be a great advantage. Service car records are included in the CARFAX Vehicle History Report to give shoppers confidence when buying second hand cars.</li>\r\n\t<li><strong>Car registration check</strong>: Our car registration check gives potential buyers useful information about the vehicles history, including when and where it has been over its lifetime.</li>\r\n</ul>\r\n\r\n<p>&nbsp;</p>\r\n\r\n<p>Check out a <a href=\"/sample-report\">Vehicle History Report</a> sample report to see all this information and more in a clearly laid out, easy to read format.</p>\r\n\r\n<h3>With the CARFAX Car History Report, everyone benefits</h3>\r\n\r\n<p>Used car buyers and sellers, dealerships, as well as listings sites can benefit CARFAX’s independent <strong>American car</strong> information. With more transparency and accountability in the used car market, there will be less chance for fraudulent activity. Buyers of <a href=\"/us-import/statistics.html\">US import cars</a> can shop with confidence knowing the American car doesn’t have any hidden negative history, and sellers of US cars can sell faster by instilling trust in the buyer. Used car dealers using CARFAX Vehicle History Reports can ensure no vehicles with negative history come through their business, thus saving possible problems and money down the road.</p>\r\n\r\n<h4>Sell US Import Cars with confidence</h4>\r\n\r\n<p><a href=\"/business\">US car Dealer</a> which are interested in demonstrating trust and transparency to their customers can become partners with CARFAX. By joining this Europe-wide community of dealerships and using the CARFAX Dealer seal, lets shoppers know they will receive a free CARFAX Vehicle History Report for every US car they want to buy. This will create confidence in shoppers both at the dealerships and on online listings sites. Confident shoppers buy used cars.</p>\r\n\r\n<h3>Checking the CARFAX on American Car Imports</h3>\r\n\r\n<p>Getting a CARFAX <strong>CAR History Report</strong> is simple:</p>\r\n\r\n<ol>\r\n\t<li>Obtain the Vehicle Identification Number (<a href=\"/article/vehicle-identification-number-vin.html\">VIN</a>) of the vehicle you’re interested in (one can usually find the VIN on the dashboard of US import cars, when looking through the driver’s side of the windshield).</li>\r\n\t<li>Enter the number into the <strong>VIN decoder</strong> on CARFAX homepage.</li>\r\n\t<li>Our <a href=\"/free-vin-decoder\">VIN check</a> will inform you of the number of records we have available for that particular vehicle.</li>\r\n\t<li>You're given the opportunity to purchase a CARFAX Vehicle History Report for this one car or a package of five (at a discounted price).</li>\r\n\t<li>All reports last for 30 days and are visible through your personal login. Those who purchased a package have up to one year to redeem the report credits.</li>\r\n</ol>\r\n\r\n<p>Make a good investment by checking the CARFAX Car History Report before you buy an American car.</p>\r\n  \n  </div>\n      <div class=\"block-footer\"></div>\n    </div>\n<div id=\"block-block-141\" class=\"block block-block\">\n\n      \n  <div class=\"content\">\n    \n      <div class=\"wrapper_promote_services_blocks\">\n   <div class=\"wrapper_quote_front\">\n      <div class=\"wrapper_promote_services_front_r1\">\n         <h2>\n            <strong>\n               Heres what customers say about CARFAX            </strong>\n         </h2>\n      </div>\n      <div class=\"wrapper_quote_front_r2\">\n         <div class=\"wrapper_quote_block_2\">\n         <span class=\"quote_who\">\n            Patrik E., Stockholm, Sweden            </span>            \n             \"Without CARFAX I would have bought an US import from 2010 which was in several accidents. This was not reported by the seller. Thanks, I got this information.\"          </div>\n         <div class=\"wrapper_quote_block_3\">\n         <span class=\"quote_who\">\n            Daniel N., Barcelona Spain            </span>            \n            \"Transparency in the used car market is for me the key to sell the best cars to my costumers. With CARFAX I can provide full transparency.\"          </div>\n         <div class=\"wrapper_quote_block_4\">\n<span class=\"quote_who\">\n            Carsten K., Münster, Germany            </span>            \n \"Thanks to CARFAX! I almost bought a salvaged car but the CARFAX Vehicle History Report saved me from a costly error.\"          </div>\n      </div>\n   </div>\n</div>\n<div class=\"clear\"></div>  \n  </div>\n      <div class=\"block-footer\"></div>\n    </div>\n  </div>\n    \t</div> <!-- /#footer -->\n\t</div>\n    \n  \n    \n\n  \t<div class=\"footer-wrapper-menu\">\n    \t    \t  <div id=\"footer-1\" class=\"clearfix footer\">\n    \t      <div class=\"region region-footer-menu\">\n    <div id=\"block-block-12\" class=\"block block-block\">\n\n      \n  <div class=\"content\">\n    \n      Copyright © 2018, CARFAX Europe GmbH  \n  </div>\n      <div class=\"block-footer\"></div>\n    </div>\n  </div>\n    \t  </div> <!-- /#footer -->\n    \t  \t</div>\n  \t<div class=\"footer-wrapper-submenu\">\n    \t    \t  <div id=\"footer-2\" class=\"clearfix footer\">\n    \t      <div class=\"region region-footer\">\n    <div id=\"block-block-151\" class=\"block block-block\">\n\n      \n  <div class=\"content\">\n    \n      <p><a href=\"https://www.facebook.com/Carfax.eu/\" rel=\"nofollow\" target=\"_blank\"><img alt=\"facebook\" src=\"/sites/carfax.eu/files/mediapool/articles/used_cars/facebook.png\" style=\"width: 25px; height: 25px;\" /></a>&nbsp;<a href=\"https://plus.google.com/109702474224684994919/posts\" rel=\"nofollow\" target=\"_blank\"><img alt=\"\" src=\"/sites/carfax.eu/files/mediapool/articles/used_cars/Google_Plus_White_Framed.png\" style=\"width: 37px; height: 25px;\" /></a>&nbsp;<a href=\"https://www.youtube.com/channel/UCK9gyqqrddg_7xqwxEgVomA\" rel=\"nofollow\" target=\"_blank\"><img alt=\"\" src=\"/sites/carfax.eu/files/mediapool/articles/used_cars/YouTube_White_Framed.png\" style=\"width: 50px; height: 25px;\" /></a>&nbsp;<a href=\"https://www.linkedin.com/company-beta/10494365/\" rel=\"nofollow\" target=\"_blank\"><img alt=\"carfax linkedin\" src=\"/sites/carfax.eu/files/mediapool/articles/used_cars/linkedin.png\" style=\"width: 25px; height: 25px;\" /></a>​&nbsp;<a href=\"https://www.xing.com/companies/carfaxeuropegmbh\" rel=\"nofollow\" target=\"_blank\"><img alt=\"carfax xing\" src=\"/sites/carfax.eu/files/mediapool/articles/used_cars/xing.png\" style=\"width: 25px; height: 25px;\" /></a>​</p>\n  \n  </div>\n      <div class=\"block-footer\"></div>\n    </div>\n<div id=\"block-menu-menu-footer-links\" class=\"block block-menu\">\n\n      \n  <div class=\"content\">\n    \n      <ul class=\"menu clearfix\"><li class=\"first leaf\"><a href=\"/about-carfax.html\">About CARFAX</a></li>\n<li class=\"leaf\"><a href=\"/terms-and-conditions.html\">Terms and Conditions</a></li>\n<li class=\"leaf\"><a href=\"/privacy-policy.html\">Privacy Policy</a></li>\n<li class=\"leaf\"><a href=\"/supplier-identification.html\">Supplier Identification</a></li>\n<li class=\"leaf\"><a href=\"/contact-us/contact.html\">Contact Us</a></li>\n<li class=\"leaf\"><a href=\"/glossar\">Glossary</a></li>\n<li class=\"last leaf\"><a href=\"https://www.business.carfax.eu/career/\">Career</a></li>\n</ul>  \n  </div>\n      <div class=\"block-footer\"></div>\n    </div>\n<div id=\"block-block-13\" class=\"block block-block\">\n\n      \n  <div class=\"content\">\n    \n      <p><img alt=\"\" src=\"/sites/carfax.eu/files/mediapool/slogans/show_me_the_carfax_en_EU.png\" style=\"height:34px; width:137px\" /></p>\n  \n  </div>\n      <div class=\"block-footer\"></div>\n    </div>\n  </div>\n    \t  </div> <!-- /#footer -->\n    \t  \t</div>\n  </div> <!-- /.section, /#footer-wrapper -->\n\n</div></div> <!-- /#page, /#page-wrapper -->\n<script type=\"text/javascript\">window.NREUM||(NREUM={});NREUM.info={\"beacon\":\"bam.nr-data.net\",\"licenseKey\":\"a9f5c30312\",\"applicationID\":\"9160601\",\"transactionName\":\"ZgYHbRYDWBVTAkVcW19MMEsNTV8IVgRJG0RZEw==\",\"queueTime\":0,\"applicationTime\":23,\"atts\":\"SkEEG14ZSxs=\",\"errorBeacon\":\"bam.nr-data.net\",\"agent\":\"\"}</script></body>\n</html>\n",
      "text/plain": [
       "<IPython.core.display.Image object>"
      ]
     },
     "execution_count": 35,
     "metadata": {},
     "output_type": "execute_result"
    }
   ],
   "source": [
    "Image('https://www.carfax.com/media/zoo/images/rsz_frame-damage_85730e0a843d155e25e4b0f0e100bf65.jpg')"
   ]
  },
  {
   "cell_type": "code",
   "execution_count": 36,
   "metadata": {
    "scrolled": false
   },
   "outputs": [
    {
     "ename": "IOError",
     "evalue": "cannot identify image file 'save.jpg'",
     "output_type": "error",
     "traceback": [
      "\u001b[0;31m---------------------------------------------------------------------------\u001b[0m",
      "\u001b[0;31mIOError\u001b[0m                                   Traceback (most recent call last)",
      "\u001b[0;32m<ipython-input-36-34a0a32fe2e6>\u001b[0m in \u001b[0;36m<module>\u001b[0;34m()\u001b[0m\n\u001b[0;32m----> 1\u001b[0;31m \u001b[0mcar_categories_gate\u001b[0m\u001b[0;34m(\u001b[0m\u001b[0;34m'https://www.carfax.com/media/zoo/images/rsz_frame-damage_85730e0a843d155e25e4b0f0e100bf65.jpg'\u001b[0m\u001b[0;34m,\u001b[0m \u001b[0mft_model\u001b[0m\u001b[0;34m)\u001b[0m\u001b[0;34m\u001b[0m\u001b[0m\n\u001b[0m",
      "\u001b[0;32m<ipython-input-30-2f50d15b3064>\u001b[0m in \u001b[0;36mcar_categories_gate\u001b[0;34m(image_path, model)\u001b[0m\n\u001b[1;32m      1\u001b[0m \u001b[0;32mdef\u001b[0m \u001b[0mcar_categories_gate\u001b[0m\u001b[0;34m(\u001b[0m\u001b[0mimage_path\u001b[0m\u001b[0;34m,\u001b[0m \u001b[0mmodel\u001b[0m\u001b[0;34m)\u001b[0m\u001b[0;34m:\u001b[0m\u001b[0;34m\u001b[0m\u001b[0m\n\u001b[1;32m      2\u001b[0m     \u001b[0murllib\u001b[0m\u001b[0;34m.\u001b[0m\u001b[0murlretrieve\u001b[0m\u001b[0;34m(\u001b[0m\u001b[0mimage_path\u001b[0m\u001b[0;34m,\u001b[0m \u001b[0;34m'save.jpg'\u001b[0m\u001b[0;34m)\u001b[0m \u001b[0;31m# or other way to upload image\u001b[0m\u001b[0;34m\u001b[0m\u001b[0m\n\u001b[0;32m----> 3\u001b[0;31m     \u001b[0mimg\u001b[0m \u001b[0;34m=\u001b[0m \u001b[0mload_img\u001b[0m\u001b[0;34m(\u001b[0m\u001b[0;34m'save.jpg'\u001b[0m\u001b[0;34m,\u001b[0m \u001b[0mtarget_size\u001b[0m\u001b[0;34m=\u001b[0m\u001b[0;34m(\u001b[0m\u001b[0;36m256\u001b[0m\u001b[0;34m,\u001b[0m \u001b[0;36m256\u001b[0m\u001b[0;34m)\u001b[0m\u001b[0;34m)\u001b[0m \u001b[0;31m# this is a PIL image\u001b[0m\u001b[0;34m\u001b[0m\u001b[0m\n\u001b[0m\u001b[1;32m      4\u001b[0m     \u001b[0mx\u001b[0m \u001b[0;34m=\u001b[0m \u001b[0mimg_to_array\u001b[0m\u001b[0;34m(\u001b[0m\u001b[0mimg\u001b[0m\u001b[0;34m)\u001b[0m \u001b[0;31m# this is a Numpy array with shape (3, 256, 256)\u001b[0m\u001b[0;34m\u001b[0m\u001b[0m\n\u001b[1;32m      5\u001b[0m     \u001b[0mx\u001b[0m \u001b[0;34m=\u001b[0m \u001b[0mx\u001b[0m\u001b[0;34m.\u001b[0m\u001b[0mreshape\u001b[0m\u001b[0;34m(\u001b[0m\u001b[0;34m(\u001b[0m\u001b[0;36m1\u001b[0m\u001b[0;34m,\u001b[0m\u001b[0;34m)\u001b[0m \u001b[0;34m+\u001b[0m \u001b[0mx\u001b[0m\u001b[0;34m.\u001b[0m\u001b[0mshape\u001b[0m\u001b[0;34m)\u001b[0m\u001b[0;34m/\u001b[0m\u001b[0;36m255\u001b[0m \u001b[0;31m# this is a Numpy array with shape (1, 3, 256, 256)\u001b[0m\u001b[0;34m\u001b[0m\u001b[0m\n",
      "\u001b[0;32m/home/milhouse/tools/virtualenvs/car-damage-detective-2/local/lib/python2.7/site-packages/keras/preprocessing/image.pyc\u001b[0m in \u001b[0;36mload_img\u001b[0;34m(path, grayscale, target_size)\u001b[0m\n\u001b[1;32m    294\u001b[0m         raise ImportError('Could not import PIL.Image. '\n\u001b[1;32m    295\u001b[0m                           'The use of `array_to_img` requires PIL.')\n\u001b[0;32m--> 296\u001b[0;31m     \u001b[0mimg\u001b[0m \u001b[0;34m=\u001b[0m \u001b[0mpil_image\u001b[0m\u001b[0;34m.\u001b[0m\u001b[0mopen\u001b[0m\u001b[0;34m(\u001b[0m\u001b[0mpath\u001b[0m\u001b[0;34m)\u001b[0m\u001b[0;34m\u001b[0m\u001b[0m\n\u001b[0m\u001b[1;32m    297\u001b[0m     \u001b[0;32mif\u001b[0m \u001b[0mgrayscale\u001b[0m\u001b[0;34m:\u001b[0m\u001b[0;34m\u001b[0m\u001b[0m\n\u001b[1;32m    298\u001b[0m         \u001b[0mimg\u001b[0m \u001b[0;34m=\u001b[0m \u001b[0mimg\u001b[0m\u001b[0;34m.\u001b[0m\u001b[0mconvert\u001b[0m\u001b[0;34m(\u001b[0m\u001b[0;34m'L'\u001b[0m\u001b[0;34m)\u001b[0m\u001b[0;34m\u001b[0m\u001b[0m\n",
      "\u001b[0;32m/home/milhouse/tools/virtualenvs/car-damage-detective-2/local/lib/python2.7/site-packages/PIL/Image.pyc\u001b[0m in \u001b[0;36mopen\u001b[0;34m(fp, mode)\u001b[0m\n\u001b[1;32m   2588\u001b[0m         \u001b[0mfp\u001b[0m\u001b[0;34m.\u001b[0m\u001b[0mclose\u001b[0m\u001b[0;34m(\u001b[0m\u001b[0;34m)\u001b[0m\u001b[0;34m\u001b[0m\u001b[0m\n\u001b[1;32m   2589\u001b[0m     raise IOError(\"cannot identify image file %r\"\n\u001b[0;32m-> 2590\u001b[0;31m                   % (filename if filename else fp))\n\u001b[0m\u001b[1;32m   2591\u001b[0m \u001b[0;34m\u001b[0m\u001b[0m\n\u001b[1;32m   2592\u001b[0m \u001b[0;31m#\u001b[0m\u001b[0;34m\u001b[0m\u001b[0;34m\u001b[0m\u001b[0m\n",
      "\u001b[0;31mIOError\u001b[0m: cannot identify image file 'save.jpg'"
     ]
    }
   ],
   "source": [
    "car_categories_gate('https://www.carfax.com/media/zoo/images/rsz_frame-damage_85730e0a843d155e25e4b0f0e100bf65.jpg', ft_model)"
   ]
  },
  {
   "cell_type": "markdown",
   "metadata": {},
   "source": [
    "## Looking at edge cases"
   ]
  },
  {
   "cell_type": "code",
   "execution_count": null,
   "metadata": {
    "collapsed": true,
    "scrolled": false
   },
   "outputs": [],
   "source": [
    "def get_edge_cases(model, directory, exp_result):\n",
    "    img_list = os.listdir(directory)\n",
    "    edge_list = []\n",
    "    for name in img_list:\n",
    "        img = load_img(directory+name, target_size=(256, 256)) # this is a PIL image \n",
    "        x = img_to_array(img) # this is a Numpy array with shape (3, 256, 256)\n",
    "        x = x.reshape((1,) + x.shape)/255 # this is a Numpy array with shape (1, 3, 256, 256)\n",
    "        pred_prob = model.predict(x)\n",
    "        if pred_prob <=0.5:\n",
    "            pred = 0\n",
    "        else:\n",
    "            pred = 1\n",
    "        if pred != exp_result:\n",
    "            edge_list.append(name)\n",
    "    return edge_list"
   ]
  },
  {
   "cell_type": "code",
   "execution_count": null,
   "metadata": {
    "scrolled": false
   },
   "outputs": [],
   "source": [
    "evaluate_binary_model(ft_model, validation_data_dir, validation_labels)\n",
    "# TP = 221, TN = 194, FP = 36, FN = 9\n",
    "# 9 were predicted to be damaged but were actually whole\n",
    "# 36 were predicted to be whole but were actually damaged"
   ]
  },
  {
   "cell_type": "code",
   "execution_count": null,
   "metadata": {
    "collapsed": true,
    "scrolled": false
   },
   "outputs": [],
   "source": [
    "fp = get_edge_cases(ft_model, 'data1a/validation/00-damage/', 0)"
   ]
  },
  {
   "cell_type": "code",
   "execution_count": null,
   "metadata": {
    "collapsed": true
   },
   "outputs": [],
   "source": [
    "len(fp)"
   ]
  },
  {
   "cell_type": "code",
   "execution_count": null,
   "metadata": {
    "collapsed": true,
    "scrolled": false
   },
   "outputs": [],
   "source": [
    "view_images('data1a/validation/00-damage/', fp)  # damaged, identifed as whole"
   ]
  },
  {
   "cell_type": "code",
   "execution_count": null,
   "metadata": {
    "collapsed": true,
    "scrolled": false
   },
   "outputs": [],
   "source": [
    "fn = get_edge_cases(ft_model, 'data1a/validation/01-whole/', 1)"
   ]
  },
  {
   "cell_type": "code",
   "execution_count": null,
   "metadata": {
    "collapsed": true,
    "scrolled": false
   },
   "outputs": [],
   "source": [
    "view_images('data1a/validation/01-whole/', fn) #whole, identified as damaged"
   ]
  }
 ],
 "metadata": {
  "kernelspec": {
   "display_name": "car-damage-detective-2",
   "language": "python",
   "name": "car-damage-detective-2"
  },
  "language_info": {
   "codemirror_mode": {
    "name": "ipython",
    "version": 2
   },
   "file_extension": ".py",
   "mimetype": "text/x-python",
   "name": "python",
   "nbconvert_exporter": "python",
   "pygments_lexer": "ipython2",
   "version": "2.7.12"
  }
 },
 "nbformat": 4,
 "nbformat_minor": 1
}
