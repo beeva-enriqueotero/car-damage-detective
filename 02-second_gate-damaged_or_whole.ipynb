{
 "cells": [
  {
   "cell_type": "markdown",
   "metadata": {},
   "source": [
    "### data1a - whole cars vs. all damaged cars"
   ]
  },
  {
   "cell_type": "code",
   "execution_count": 1,
   "metadata": {
    "collapsed": true,
    "scrolled": false
   },
   "outputs": [],
   "source": [
    "import urllib\n",
    "from IPython.display import Image, display, clear_output\n",
    "from collections import Counter\n",
    "\n",
    "import matplotlib.pyplot as plt\n",
    "import seaborn as sns \n",
    "%matplotlib inline\n",
    "\n",
    "import json\n",
    "import numpy as np\n",
    "from sklearn.metrics import classification_report, confusion_matrix\n",
    "\n",
    "sns.set_style('whitegrid')"
   ]
  },
  {
   "cell_type": "code",
   "execution_count": 2,
   "metadata": {
    "scrolled": false
   },
   "outputs": [
    {
     "name": "stderr",
     "output_type": "stream",
     "text": [
      "/home/milhouse/tools/virtualenvs/car-damage-detective/local/lib/python2.7/site-packages/h5py/__init__.py:36: FutureWarning: Conversion of the second argument of issubdtype from `float` to `np.floating` is deprecated. In future, it will be treated as `np.float64 == np.dtype(float).type`.\n",
      "  from ._conv import register_converters as _register_converters\n",
      "Using Theano backend.\n"
     ]
    }
   ],
   "source": [
    "import os\n",
    "import h5py\n",
    "import numpy as np\n",
    "import pandas as pd\n",
    "\n",
    "from keras.applications.vgg16 import VGG16\n",
    "from keras.preprocessing.image import ImageDataGenerator, array_to_img, img_to_array, load_img\n",
    "from keras.regularizers import l2, activity_l2, l1, activity_l1\n",
    "from keras.models import Sequential, load_model\n",
    "from keras.layers import Convolution2D, MaxPooling2D, ZeroPadding2D\n",
    "from keras.layers import Activation, Dropout, Flatten, Dense\n",
    "from keras.utils.np_utils import to_categorical\n",
    "from keras import optimizers\n",
    "from keras.callbacks import ModelCheckpoint, History"
   ]
  },
  {
   "cell_type": "code",
   "execution_count": 3,
   "metadata": {},
   "outputs": [
    {
     "name": "stdout",
     "output_type": "stream",
     "text": [
      "/home/milhouse/projects/mapfre/car-damage-detective\r\n"
     ]
    }
   ],
   "source": [
    "!pwd"
   ]
  },
  {
   "cell_type": "code",
   "execution_count": 4,
   "metadata": {
    "collapsed": true,
    "scrolled": false
   },
   "outputs": [],
   "source": [
    "# Download vgg16_weights from https://drive.google.com/file/d/0Bz7KyqmuGsilT0J5dmRCM0ROVHc/view\n",
    "def load_vgg16(weights_path='../vgg16_weights.h5'):\n",
    "    \n",
    "    model = Sequential()\n",
    "    model.add(ZeroPadding2D((1,1),input_shape=(3, img_width, img_height)))\n",
    "    model.add(Convolution2D(64, 3, 3, activation='relu'))\n",
    "    model.add(ZeroPadding2D((1,1)))\n",
    "    model.add(Convolution2D(64, 3, 3, activation='relu'))\n",
    "    model.add(MaxPooling2D((2,2), strides=(2,2)))\n",
    "\n",
    "    model.add(ZeroPadding2D((1,1)))\n",
    "    model.add(Convolution2D(128, 3, 3, activation='relu'))\n",
    "    model.add(ZeroPadding2D((1,1)))\n",
    "    model.add(Convolution2D(128, 3, 3, activation='relu'))\n",
    "    model.add(MaxPooling2D((2,2), strides=(2,2)))\n",
    "\n",
    "    model.add(ZeroPadding2D((1,1)))\n",
    "    model.add(Convolution2D(256, 3, 3, activation='relu'))\n",
    "    model.add(ZeroPadding2D((1,1)))\n",
    "    model.add(Convolution2D(256, 3, 3, activation='relu'))\n",
    "    model.add(ZeroPadding2D((1,1)))\n",
    "    model.add(Convolution2D(256, 3, 3, activation='relu'))\n",
    "    model.add(MaxPooling2D((2,2), strides=(2,2)))\n",
    "\n",
    "    model.add(ZeroPadding2D((1,1)))\n",
    "    model.add(Convolution2D(512, 3, 3, activation='relu'))\n",
    "    model.add(ZeroPadding2D((1,1)))\n",
    "    model.add(Convolution2D(512, 3, 3, activation='relu'))\n",
    "    model.add(ZeroPadding2D((1,1)))\n",
    "    model.add(Convolution2D(512, 3, 3, activation='relu'))\n",
    "    model.add(MaxPooling2D((2,2), strides=(2,2)))\n",
    "\n",
    "    \n",
    "    model.add(ZeroPadding2D((1,1)))\n",
    "    model.add(Convolution2D(512, 3, 3, activation='relu'))\n",
    "    model.add(ZeroPadding2D((1,1)))\n",
    "    model.add(Convolution2D(512, 3, 3, activation='relu'))\n",
    "    model.add(ZeroPadding2D((1,1)))\n",
    "    model.add(Convolution2D(512, 3, 3, activation='relu'))\n",
    "    model.add(MaxPooling2D((2,2), strides=(2,2)))\n",
    "    \n",
    "    \n",
    "    \n",
    "    print(weights_path)\n",
    "    assert os.path.exists(weights_path), 'Model weights not found (see \"weights_path\")'\n",
    "    \n",
    "    if weights_path:\n",
    "    # note: this chops off the last layers of VGG16 \n",
    "\n",
    "    # loads the weights of the VGG16 networks\n",
    "    # note: when there is a complete match between model definition\n",
    "    # and your weights savefile, you can simply call model.load_weights(filename)\n",
    "        \n",
    "        model.load_weights(weights_path)\n",
    "       \n",
    "        print('VGG16 Model with partial weights loaded.')\n",
    "    else:\n",
    "        print('VGG16 Model with no weights Loaded.')\n",
    "\n",
    "    return model\n",
    "#load_vgg16()"
   ]
  },
  {
   "cell_type": "code",
   "execution_count": 5,
   "metadata": {
    "scrolled": false
   },
   "outputs": [],
   "source": [
    "def save_bottleneck_features(location):\n",
    "    datagen = ImageDataGenerator(rescale=1./255)  \n",
    "    \n",
    "    model = load_vgg16()\n",
    "    \n",
    "    generator = datagen.flow_from_directory(train_data_dir,\n",
    "                                            target_size=(img_width, img_height),\n",
    "                                            batch_size=16, \n",
    "                                            class_mode=None, \n",
    "                                            shuffle=False) \n",
    "    print \"Generator done\"\n",
    "    bottleneck_features_train = model.predict_generator(generator, nb_train_samples)\n",
    "    print \"Prediction done\"\n",
    "    np.save(open(location+'/bottleneck_features_train.npy', 'w'), bottleneck_features_train)\n",
    "    print \"Bottleneck saved\"\n",
    "    # repeat with the validation data\n",
    "    generator = datagen.flow_from_directory(validation_data_dir,\n",
    "                                           target_size=(img_width, img_height),\n",
    "                                           batch_size=16,\n",
    "                                           class_mode=None,\n",
    "                                           shuffle=False)\n",
    "    print \"Generator val done\"\n",
    "    bottleneck_features_validation = model.predict_generator(generator, nb_validation_samples)\n",
    "    print \"Prediction val done\"\n",
    "    np.save(open(location+'/bottleneck_features_validation.npy', 'w'), bottleneck_features_validation)\n",
    "    print \"Bottleneck val saved done\"\n",
    "\n",
    "#location = 'data1a'\n",
    "#save_bottleneck_features(location)"
   ]
  },
  {
   "cell_type": "code",
   "execution_count": 6,
   "metadata": {
    "collapsed": true,
    "scrolled": false
   },
   "outputs": [],
   "source": [
    "def plot_metrics(hist, stop=50):\n",
    "    fig, axes = plt.subplots(nrows=1, ncols=2, figsize=(10,4))\n",
    "                            \n",
    "    axes = axes.flatten()\n",
    "\n",
    "    axes[0].plot(range(stop), hist['acc'], label='Training', color='#FF533D')\n",
    "    axes[0].plot(range(stop), hist['val_acc'], label='Validation', color='#03507E')\n",
    "    axes[0].set_title('Accuracy')\n",
    "    axes[0].set_ylabel('Accuracy')\n",
    "    axes[0].set_xlabel('Epoch')\n",
    "    axes[0].legend(loc='lower right')\n",
    "                             \n",
    "    axes[1].plot(range(stop), hist['loss'], label='Training', color='#FF533D')\n",
    "    axes[1].plot(range(stop), hist['val_loss'], label='Validation', color='#03507E')\n",
    "    axes[1].set_title('Loss')\n",
    "    axes[1].set_ylabel('Loss')\n",
    "    axes[1].set_xlabel('Epoch')\n",
    "    axes[1].legend(loc='upper right')\n",
    "                             \n",
    "    plt.tight_layout();\n",
    "    \n",
    "    print \"Best Model:\" \n",
    "    print_best_model_results(hist)"
   ]
  },
  {
   "cell_type": "code",
   "execution_count": 7,
   "metadata": {
    "collapsed": true,
    "scrolled": false
   },
   "outputs": [],
   "source": [
    "def train_binary_model():\n",
    "\n",
    "    train_data = np.load(open(location+'/bottleneck_features_train.npy'))\n",
    "    train_labels = np.array([0] * train_samples[0] + \n",
    "                            [1] * train_samples[1])\n",
    "\n",
    "    validation_data = np.load(open(location+'/bottleneck_features_validation.npy'))\n",
    "    validation_labels = np.array([0] * validation_samples[0] + \n",
    "                                 [1] * validation_samples[1])\n",
    "    \n",
    "    model = Sequential()\n",
    "    model.add(Flatten(input_shape=train_data.shape[1:])) # 512, 4, 4\n",
    "    model.add(Dense(256, activation = 'relu', W_regularizer=l2(0.01)))\n",
    "    model.add(Dropout(0.5)) \n",
    "    model.add(Dense(1, activation = 'sigmoid')) # should activation be sigmoid for binary problem?\n",
    "\n",
    "    model.compile(optimizers.SGD(lr=0.0001, momentum=0.9),\n",
    "              loss='binary_crossentropy', metrics=['accuracy'])\n",
    "\n",
    "    \n",
    "    checkpoint = ModelCheckpoint(top_model_weights_path, monitor='val_acc', \n",
    "                                 verbose=1, save_best_only=True, save_weights_only=True, mode='auto')\n",
    "\n",
    "    fit = model.fit(train_data, train_labels,\n",
    "              nb_epoch=nb_epoch, batch_size=16,\n",
    "              validation_data=(validation_data, validation_labels),\n",
    "              callbacks=[checkpoint])\n",
    "    \n",
    "    with open(location+'/top_history.txt', 'wb') as f:\n",
    "        json.dump(fit.history, f)\n",
    "    \n",
    "    return model, fit.history"
   ]
  },
  {
   "cell_type": "code",
   "execution_count": 8,
   "metadata": {
    "collapsed": true,
    "scrolled": false
   },
   "outputs": [],
   "source": [
    "def finetune_binary_model():\n",
    "    model = load_vgg16()\n",
    "\n",
    "    # build a classifier model to put on top of the convolutional model\n",
    "    top_model = Sequential()\n",
    "    top_model.add(Flatten(input_shape=model.output_shape[1:]))\n",
    "    top_model.add(Dense(256, activation='relu', W_regularizer=l2(0.01)))\n",
    "    top_model.add(Dropout(0.5))\n",
    "    top_model.add(Dense(1, activation='sigmoid'))\n",
    "\n",
    "    top_model.load_weights(top_model_weights_path) # load weights_path\n",
    "\n",
    "    # add the model on top of the convolutional base\n",
    "    model.add(top_model)\n",
    "    \n",
    "    # set the first 25 layers (up to the last conv block)\n",
    "    # to non-trainable - weights will not be updated\n",
    "    for layer in model.layers[:25]:\n",
    "        layer.trainable=False\n",
    "\n",
    "    # compile the model with a SGD/momentum optimizer \n",
    "    # and a very slow learning rate\n",
    "    model.compile(loss='binary_crossentropy',\n",
    "                 optimizer = optimizers.SGD(lr=0.00001, momentum=0.9), # reduced learning rate by 1/10\n",
    "                  metrics=['accuracy'])\n",
    "    \n",
    "    # prepare data augmentation configuration\n",
    "    train_datagen = ImageDataGenerator(rescale=1./255,\n",
    "                                       rotation_range=40,\n",
    "                                       width_shift_range=0.2,\n",
    "                                       height_shift_range=0.2,\n",
    "                                       shear_range=0.2,\n",
    "                                       zoom_range=0.2,\n",
    "                                       horizontal_flip=True,\n",
    "                                       fill_mode='nearest')\n",
    "\n",
    "    test_datagen = ImageDataGenerator(rescale=1./255)\n",
    "\n",
    "    train_generator= train_datagen.flow_from_directory(train_data_dir,\n",
    "                                                     target_size=(img_height, img_width),\n",
    "                                                     batch_size=8,\n",
    "                                                     class_mode='binary')\n",
    "\n",
    "    validation_generator = test_datagen.flow_from_directory(validation_data_dir,\n",
    "                                                           target_size=(img_height, img_width),\n",
    "                                                           batch_size=8,\n",
    "                                                           class_mode='binary')\n",
    "    \n",
    "    \n",
    "    checkpoint = ModelCheckpoint(fine_tuned_model_path, monitor='val_acc', \n",
    "                                 verbose=1, save_best_only=True, \n",
    "                                 save_weights_only=False, mode='auto')\n",
    "    # fine-tune the model\n",
    "    fit = model.fit_generator(train_generator,\n",
    "                              samples_per_epoch=nb_train_samples,\n",
    "                              nb_epoch=nb_epoch,\n",
    "                              validation_data=validation_generator,\n",
    "                              nb_val_samples=nb_validation_samples,\n",
    "                              verbose=1,\n",
    "                              callbacks=[checkpoint])\n",
    "    \n",
    "    with open(location+'/ft_history.txt', 'wb') as f:\n",
    "        json.dump(fit.history, f)\n",
    "    \n",
    "    return model, fit.history"
   ]
  },
  {
   "cell_type": "code",
   "execution_count": 9,
   "metadata": {
    "collapsed": true,
    "scrolled": false
   },
   "outputs": [],
   "source": [
    "def evaluate_binary_model(model, directory, labels):\n",
    "    datagen = ImageDataGenerator(rescale=1./255)  \n",
    "\n",
    "    generator = datagen.flow_from_directory(directory,\n",
    "                                target_size=(img_height, img_width),\n",
    "                                batch_size=8,\n",
    "                                class_mode='binary', # categorical for multiclass\n",
    "                                shuffle=False)\n",
    "    \n",
    "    predictions = model.predict_generator(generator, len(labels))\n",
    "    \n",
    "    # use for multiclass\n",
    "    # pred_labels = np.argmax(predictions, axis=1)\n",
    "    \n",
    "    pred_labels = [0 if i <0.5 else 1 for i in predictions]\n",
    "\n",
    "    print ''\n",
    "    print classification_report(validation_labels, pred_labels)\n",
    "    print ''\n",
    "    cm = confusion_matrix(validation_labels, pred_labels)\n",
    "    sns.heatmap(cm, annot=True, fmt='g');"
   ]
  },
  {
   "cell_type": "code",
   "execution_count": 10,
   "metadata": {
    "collapsed": true,
    "scrolled": false
   },
   "outputs": [],
   "source": [
    "def view_images(img_dir, img_list):\n",
    "    for img in img_list:\n",
    "        clear_output()\n",
    "        display(Image(img_dir+img))\n",
    "        num = raw_input(\"c to continue, q to quit\")\n",
    "        if num == 'c':\n",
    "            pass\n",
    "        else:\n",
    "            return 'Finished for now.'"
   ]
  },
  {
   "cell_type": "code",
   "execution_count": 11,
   "metadata": {
    "collapsed": true,
    "scrolled": false
   },
   "outputs": [],
   "source": [
    "def print_best_model_results(model_hist):\n",
    "    best_epoch = np.argmax(model_hist['val_acc'])\n",
    "    print 'epoch:', best_epoch+1, \\\n",
    "    ', val_acc:', model_hist['val_acc'][best_epoch], \\\n",
    "    ', val_loss:', model_hist['val_loss'][best_epoch]"
   ]
  },
  {
   "cell_type": "markdown",
   "metadata": {},
   "source": [
    "## Testing Image Generation"
   ]
  },
  {
   "cell_type": "code",
   "execution_count": 12,
   "metadata": {
    "scrolled": false
   },
   "outputs": [
    {
     "name": "stdout",
     "output_type": "stream",
     "text": [
      "(3, 189, 266)\n"
     ]
    }
   ],
   "source": [
    "datagen = ImageDataGenerator(rotation_range=40,\n",
    "                             width_shift_range=0.2,\n",
    "                             height_shift_range=0.2,\n",
    "                             shear_range=0.2,\n",
    "                             zoom_range=0.2,\n",
    "                             horizontal_flip=True,\n",
    "                             fill_mode='nearest') # omitted rescaling to keep the images displayable\n",
    "\n",
    "#img = load_img('/home/milhouse/datasets/cars/car-damage-dataset/data1a/training/00-damage/0039.JPEG') # this is a PIL image \n",
    "img = load_img('data1a/training/00-damage/0039.JPEG') # this is a PIL image \n",
    "x = img_to_array(img) # this is a Numpy array with shape (3, 150, 150)\n",
    "print x.shape\n",
    "#x = x.reshape(1,x.shape[2], x.shape[0], x.shape[1])\n",
    "#print x.shape\n",
    "x = x.reshape((1,) + x.shape) # this is a Numpy array with shape (1, 3, 150, 150)\n",
    "\n",
    "# the .flow() command below generates batches of randomly transformed images\n",
    "# and saves the results to the 'preview/' directory\n",
    "os.makedirs('data1a_preview')\n",
    "i = 0\n",
    "for batch in datagen.flow(x, batch_size=1,\n",
    "                         save_to_dir='data1a_preview', save_prefix='damage_car',\n",
    "                         save_format='jpeg'):\n",
    "    i +=1\n",
    "    if i > 30:\n",
    "        break # otherwise the generator would loop indefinitely"
   ]
  },
  {
   "cell_type": "code",
   "execution_count": 13,
   "metadata": {
    "scrolled": false
   },
   "outputs": [
    {
     "data": {
      "image/jpeg": "[encoded data removed]",
      "text/plain": [
       "<IPython.core.display.Image object>"
      ]
     },
     "metadata": {},
     "output_type": "display_data"
    },
    {
     "name": "stdout",
     "output_type": "stream",
     "text": [
      "c to continue, q to quitq\n"
     ]
    },
    {
     "data": {
      "text/plain": [
       "'Finished for now.'"
      ]
     },
     "execution_count": 13,
     "metadata": {},
     "output_type": "execute_result"
    }
   ],
   "source": [
    "view_images('data1a_preview/', os.listdir('data1a_preview/'))"
   ]
  },
  {
   "cell_type": "markdown",
   "metadata": {},
   "source": [
    "## Defining input data"
   ]
  },
  {
   "cell_type": "code",
   "execution_count": 14,
   "metadata": {
    "scrolled": false
   },
   "outputs": [],
   "source": [
    "# path to the model weights file\n",
    "location = 'data1a'\n",
    "top_model_weights_path=location+'/top_model_weights.h5' # will be saved into when we create our model\n",
    "# model_path = location + '/initial_data2_model.h5'\n",
    "fine_tuned_model_path = location+'/ft_model.h5'\n",
    "\n",
    "# dimensions of our images\n",
    "img_width, img_height = 256, 256\n",
    "\n",
    "train_data_dir = location+'/training'\n",
    "validation_data_dir = location+'/validation'\n",
    "\n",
    "train_samples = [len(os.listdir(train_data_dir+'/'+i)) for i in sorted(os.listdir(train_data_dir))]\n",
    "nb_train_samples = sum(train_samples)\n",
    "validation_samples = [len(os.listdir(validation_data_dir+'/'+i)) for i in sorted(os.listdir(validation_data_dir))]\n",
    "nb_validation_samples = sum(validation_samples)\n",
    "\n",
    "nb_epoch = 50"
   ]
  },
  {
   "cell_type": "code",
   "execution_count": 15,
   "metadata": {},
   "outputs": [],
   "source": [
    "#!ls -al `pwd`/.."
   ]
  },
  {
   "cell_type": "code",
   "execution_count": 16,
   "metadata": {
    "scrolled": false
   },
   "outputs": [
    {
     "name": "stdout",
     "output_type": "stream",
     "text": [
      "../vgg16_weights.h5\n",
      "VGG16 Model with partial weights loaded.\n",
      "Found 1840 images belonging to 2 classes.\n",
      "Generator done\n",
      "Prediction done\n",
      "Bottleneck saved\n",
      "Found 460 images belonging to 2 classes.\n",
      "Generator val done\n",
      "Prediction val done\n",
      "Bottleneck val saved done\n"
     ]
    }
   ],
   "source": [
    "# do not rerun!!\n",
    "save_bottleneck_features(location)"
   ]
  },
  {
   "cell_type": "code",
   "execution_count": 17,
   "metadata": {
    "scrolled": true
   },
   "outputs": [
    {
     "name": "stdout",
     "output_type": "stream",
     "text": [
      "Train on 1840 samples, validate on 460 samples\n",
      "Epoch 1/50\n",
      "1824/1840 [============================>.] - ETA: 0s - loss: 5.6561 - acc: 0.6864Epoch 00000: val_acc improved from -inf to 0.81522, saving model to data1a/top_model_weights.h5\n",
      "1840/1840 [==============================] - 32s - loss: 5.6541 - acc: 0.6880 - val_loss: 5.4971 - val_acc: 0.8152\n",
      "Epoch 2/50\n",
      "1824/1840 [============================>.] - ETA: 0s - loss: 5.4629 - acc: 0.8174Epoch 00001: val_acc improved from 0.81522 to 0.87391, saving model to data1a/top_model_weights.h5\n",
      "1840/1840 [==============================] - 34s - loss: 5.4638 - acc: 0.8179 - val_loss: 5.3751 - val_acc: 0.8739\n",
      "Epoch 3/50\n",
      "1824/1840 [============================>.] - ETA: 0s - loss: 5.3932 - acc: 0.8328Epoch 00002: val_acc improved from 0.87391 to 0.87826, saving model to data1a/top_model_weights.h5\n",
      "1840/1840 [==============================] - 33s - loss: 5.3938 - acc: 0.8321 - val_loss: 5.3307 - val_acc: 0.8783\n",
      "Epoch 4/50\n",
      "1824/1840 [============================>.] - ETA: 0s - loss: 5.3361 - acc: 0.8662Epoch 00003: val_acc did not improve\n",
      "1840/1840 [==============================] - 38s - loss: 5.3369 - acc: 0.8658 - val_loss: 5.2986 - val_acc: 0.8761\n",
      "Epoch 5/50\n",
      "1824/1840 [============================>.] - ETA: 0s - loss: 5.2939 - acc: 0.8684Epoch 00004: val_acc improved from 0.87826 to 0.88043, saving model to data1a/top_model_weights.h5\n",
      "1840/1840 [==============================] - 38s - loss: 5.2945 - acc: 0.8674 - val_loss: 5.2418 - val_acc: 0.8804\n",
      "Epoch 6/50\n",
      "1824/1840 [============================>.] - ETA: 0s - loss: 5.2651 - acc: 0.8629Epoch 00005: val_acc improved from 0.88043 to 0.88261, saving model to data1a/top_model_weights.h5\n",
      "1840/1840 [==============================] - 37s - loss: 5.2634 - acc: 0.8641 - val_loss: 5.2179 - val_acc: 0.8826\n",
      "Epoch 7/50\n",
      "1824/1840 [============================>.] - ETA: 0s - loss: 5.2255 - acc: 0.8843Epoch 00006: val_acc improved from 0.88261 to 0.89565, saving model to data1a/top_model_weights.h5\n",
      "1840/1840 [==============================] - 32s - loss: 5.2254 - acc: 0.8837 - val_loss: 5.1869 - val_acc: 0.8957\n",
      "Epoch 8/50\n",
      "1824/1840 [============================>.] - ETA: 0s - loss: 5.1897 - acc: 0.8849Epoch 00007: val_acc did not improve\n",
      "1840/1840 [==============================] - 33s - loss: 5.1890 - acc: 0.8853 - val_loss: 5.1505 - val_acc: 0.8848\n",
      "Epoch 9/50\n",
      "1824/1840 [============================>.] - ETA: 0s - loss: 5.1651 - acc: 0.8860Epoch 00008: val_acc improved from 0.89565 to 0.90435, saving model to data1a/top_model_weights.h5\n",
      "1840/1840 [==============================] - 32s - loss: 5.1656 - acc: 0.8859 - val_loss: 5.1304 - val_acc: 0.9043\n",
      "Epoch 10/50\n",
      "1824/1840 [============================>.] - ETA: 0s - loss: 5.1212 - acc: 0.8975Epoch 00009: val_acc did not improve\n",
      "1840/1840 [==============================] - 31s - loss: 5.1219 - acc: 0.8967 - val_loss: 5.0966 - val_acc: 0.9022\n",
      "Epoch 11/50\n",
      "1824/1840 [============================>.] - ETA: 0s - loss: 5.0895 - acc: 0.9024Epoch 00010: val_acc did not improve\n",
      "1840/1840 [==============================] - 32s - loss: 5.0890 - acc: 0.9022 - val_loss: 5.0770 - val_acc: 0.8913\n",
      "Epoch 12/50\n",
      "1824/1840 [============================>.] - ETA: 0s - loss: 5.0589 - acc: 0.9156Epoch 00011: val_acc improved from 0.90435 to 0.91304, saving model to data1a/top_model_weights.h5\n",
      "1840/1840 [==============================] - 34s - loss: 5.0578 - acc: 0.9158 - val_loss: 5.0485 - val_acc: 0.9130\n",
      "Epoch 13/50\n",
      "1824/1840 [============================>.] - ETA: 0s - loss: 5.0291 - acc: 0.9079Epoch 00012: val_acc did not improve\n",
      "1840/1840 [==============================] - 33s - loss: 5.0285 - acc: 0.9087 - val_loss: 5.0187 - val_acc: 0.9022\n",
      "Epoch 14/50\n",
      "1824/1840 [============================>.] - ETA: 0s - loss: 5.0022 - acc: 0.9062Epoch 00013: val_acc did not improve\n",
      "1840/1840 [==============================] - 32s - loss: 5.0028 - acc: 0.9060 - val_loss: 4.9959 - val_acc: 0.9022\n",
      "Epoch 15/50\n",
      "1824/1840 [============================>.] - ETA: 0s - loss: 4.9745 - acc: 0.9101Epoch 00014: val_acc did not improve\n",
      "1840/1840 [==============================] - 33s - loss: 4.9749 - acc: 0.9098 - val_loss: 5.0127 - val_acc: 0.8978\n",
      "Epoch 16/50\n",
      "1824/1840 [============================>.] - ETA: 0s - loss: 4.9536 - acc: 0.9134Epoch 00015: val_acc did not improve\n",
      "1840/1840 [==============================] - 33s - loss: 4.9530 - acc: 0.9136 - val_loss: 4.9506 - val_acc: 0.8978\n",
      "Epoch 17/50\n",
      "1824/1840 [============================>.] - ETA: 0s - loss: 4.9176 - acc: 0.9227Epoch 00016: val_acc improved from 0.91304 to 0.91522, saving model to data1a/top_model_weights.h5\n",
      "1840/1840 [==============================] - 34s - loss: 4.9165 - acc: 0.9228 - val_loss: 4.9265 - val_acc: 0.9152\n",
      "Epoch 18/50\n",
      "1824/1840 [============================>.] - ETA: 0s - loss: 4.8840 - acc: 0.9271Epoch 00017: val_acc did not improve\n",
      "1840/1840 [==============================] - 32s - loss: 4.8848 - acc: 0.9261 - val_loss: 4.9034 - val_acc: 0.9087\n",
      "Epoch 19/50\n",
      "1824/1840 [============================>.] - ETA: 0s - loss: 4.8615 - acc: 0.9254Epoch 00018: val_acc did not improve\n",
      "1840/1840 [==============================] - 33s - loss: 4.8613 - acc: 0.9255 - val_loss: 4.8945 - val_acc: 0.9065\n",
      "Epoch 20/50\n",
      "1824/1840 [============================>.] - ETA: 0s - loss: 4.8298 - acc: 0.9309Epoch 00019: val_acc did not improve\n",
      "1840/1840 [==============================] - 32s - loss: 4.8287 - acc: 0.9315 - val_loss: 4.8626 - val_acc: 0.9130\n",
      "Epoch 21/50\n",
      "1824/1840 [============================>.] - ETA: 0s - loss: 4.8018 - acc: 0.9353Epoch 00020: val_acc improved from 0.91522 to 0.91739, saving model to data1a/top_model_weights.h5\n",
      "1840/1840 [==============================] - 33s - loss: 4.8040 - acc: 0.9332 - val_loss: 4.8378 - val_acc: 0.9174\n",
      "Epoch 22/50\n",
      "1824/1840 [============================>.] - ETA: 0s - loss: 4.7854 - acc: 0.9342Epoch 00021: val_acc did not improve\n",
      "1840/1840 [==============================] - 33s - loss: 4.7845 - acc: 0.9348 - val_loss: 4.8126 - val_acc: 0.9043\n",
      "Epoch 23/50\n",
      "1824/1840 [============================>.] - ETA: 0s - loss: 4.7513 - acc: 0.9408Epoch 00022: val_acc did not improve\n",
      "1840/1840 [==============================] - 33s - loss: 4.7517 - acc: 0.9402 - val_loss: 4.7910 - val_acc: 0.9109\n",
      "Epoch 24/50\n",
      "1824/1840 [============================>.] - ETA: 0s - loss: 4.7337 - acc: 0.9380Epoch 00023: val_acc did not improve\n",
      "1840/1840 [==============================] - 31s - loss: 4.7327 - acc: 0.9386 - val_loss: 4.7687 - val_acc: 0.9109\n",
      "Epoch 25/50\n",
      "1824/1840 [============================>.] - ETA: 0s - loss: 4.7040 - acc: 0.9435Epoch 00024: val_acc did not improve\n",
      "1840/1840 [==============================] - 33s - loss: 4.7032 - acc: 0.9440 - val_loss: 4.7489 - val_acc: 0.9065\n",
      "Epoch 26/50\n",
      "1824/1840 [============================>.] - ETA: 0s - loss: 4.6804 - acc: 0.9479Epoch 00025: val_acc did not improve\n",
      "1840/1840 [==============================] - 36s - loss: 4.6798 - acc: 0.9484 - val_loss: 4.7302 - val_acc: 0.9087\n",
      "Epoch 27/50\n",
      "1824/1840 [============================>.] - ETA: 0s - loss: 4.6510 - acc: 0.9435Epoch 00026: val_acc did not improve\n",
      "1840/1840 [==============================] - 32s - loss: 4.6518 - acc: 0.9429 - val_loss: 4.7025 - val_acc: 0.9109\n",
      "Epoch 28/50\n",
      "1824/1840 [============================>.] - ETA: 0s - loss: 4.6275 - acc: 0.9463Epoch 00027: val_acc did not improve\n",
      "1840/1840 [==============================] - 33s - loss: 4.6279 - acc: 0.9457 - val_loss: 4.6896 - val_acc: 0.9174\n",
      "Epoch 29/50\n",
      "1824/1840 [============================>.] - ETA: 0s - loss: 4.6136 - acc: 0.9501Epoch 00028: val_acc did not improve\n",
      "1840/1840 [==============================] - 33s - loss: 4.6152 - acc: 0.9489 - val_loss: 4.6849 - val_acc: 0.9152\n",
      "Epoch 30/50\n",
      "1824/1840 [============================>.] - ETA: 0s - loss: 4.5809 - acc: 0.9529Epoch 00029: val_acc did not improve\n",
      "1840/1840 [==============================] - 31s - loss: 4.5814 - acc: 0.9527 - val_loss: 4.6410 - val_acc: 0.9152\n",
      "Epoch 31/50\n",
      "1824/1840 [============================>.] - ETA: 0s - loss: 4.5511 - acc: 0.9545Epoch 00030: val_acc did not improve\n"
     ]
    },
    {
     "name": "stdout",
     "output_type": "stream",
     "text": [
      "1840/1840 [==============================] - 32s - loss: 4.5513 - acc: 0.9543 - val_loss: 4.6472 - val_acc: 0.9022\n",
      "Epoch 32/50\n",
      "1824/1840 [============================>.] - ETA: 0s - loss: 4.5334 - acc: 0.9578Epoch 00031: val_acc improved from 0.91739 to 0.91957, saving model to data1a/top_model_weights.h5\n",
      "1840/1840 [==============================] - 31s - loss: 4.5334 - acc: 0.9576 - val_loss: 4.6003 - val_acc: 0.9196\n",
      "Epoch 33/50\n",
      "1824/1840 [============================>.] - ETA: 0s - loss: 4.5164 - acc: 0.9534Epoch 00032: val_acc did not improve\n",
      "1840/1840 [==============================] - 32s - loss: 4.5155 - acc: 0.9538 - val_loss: 4.5799 - val_acc: 0.9174\n",
      "Epoch 34/50\n",
      "1824/1840 [============================>.] - ETA: 0s - loss: 4.4906 - acc: 0.9572Epoch 00033: val_acc did not improve\n",
      "1840/1840 [==============================] - 32s - loss: 4.4903 - acc: 0.9571 - val_loss: 4.5662 - val_acc: 0.9109\n",
      "Epoch 35/50\n",
      "1824/1840 [============================>.] - ETA: 0s - loss: 4.4609 - acc: 0.9622Epoch 00034: val_acc did not improve\n",
      "1840/1840 [==============================] - 35s - loss: 4.4602 - acc: 0.9625 - val_loss: 4.5421 - val_acc: 0.9109\n",
      "Epoch 36/50\n",
      "1824/1840 [============================>.] - ETA: 0s - loss: 4.4492 - acc: 0.9556Epoch 00035: val_acc did not improve\n",
      "1840/1840 [==============================] - 32s - loss: 4.4497 - acc: 0.9549 - val_loss: 4.5246 - val_acc: 0.9109\n",
      "Epoch 37/50\n",
      "1824/1840 [============================>.] - ETA: 0s - loss: 4.4133 - acc: 0.9671Epoch 00036: val_acc did not improve\n",
      "1840/1840 [==============================] - 33s - loss: 4.4129 - acc: 0.9674 - val_loss: 4.5005 - val_acc: 0.9152\n",
      "Epoch 38/50\n",
      "1824/1840 [============================>.] - ETA: 0s - loss: 4.4057 - acc: 0.9600Epoch 00037: val_acc did not improve\n",
      "1840/1840 [==============================] - 33s - loss: 4.4054 - acc: 0.9603 - val_loss: 4.4842 - val_acc: 0.9152\n",
      "Epoch 39/50\n",
      "1824/1840 [============================>.] - ETA: 0s - loss: 4.3682 - acc: 0.9704Epoch 00038: val_acc did not improve\n",
      "1840/1840 [==============================] - 33s - loss: 4.3690 - acc: 0.9707 - val_loss: 4.4699 - val_acc: 0.9109\n",
      "Epoch 40/50\n",
      "1824/1840 [============================>.] - ETA: 0s - loss: 4.3520 - acc: 0.9709Epoch 00039: val_acc did not improve\n",
      "1840/1840 [==============================] - 36s - loss: 4.3515 - acc: 0.9712 - val_loss: 4.4482 - val_acc: 0.9174\n",
      "Epoch 41/50\n",
      "1824/1840 [============================>.] - ETA: 0s - loss: 4.3284 - acc: 0.9677Epoch 00040: val_acc did not improve\n",
      "1840/1840 [==============================] - 34s - loss: 4.3284 - acc: 0.9679 - val_loss: 4.4227 - val_acc: 0.9174\n",
      "Epoch 42/50\n",
      "1824/1840 [============================>.] - ETA: 0s - loss: 4.3128 - acc: 0.9660Epoch 00041: val_acc did not improve\n",
      "1840/1840 [==============================] - 33s - loss: 4.3127 - acc: 0.9663 - val_loss: 4.4037 - val_acc: 0.9152\n",
      "Epoch 43/50\n",
      "1824/1840 [============================>.] - ETA: 0s - loss: 4.2899 - acc: 0.9644Epoch 00042: val_acc did not improve\n",
      "1840/1840 [==============================] - 33s - loss: 4.2901 - acc: 0.9641 - val_loss: 4.3869 - val_acc: 0.9174\n",
      "Epoch 44/50\n",
      "1824/1840 [============================>.] - ETA: 0s - loss: 4.2646 - acc: 0.9726Epoch 00043: val_acc did not improve\n",
      "1840/1840 [==============================] - 33s - loss: 4.2645 - acc: 0.9728 - val_loss: 4.3689 - val_acc: 0.9174\n",
      "Epoch 45/50\n",
      "1824/1840 [============================>.] - ETA: 0s - loss: 4.2407 - acc: 0.9748Epoch 00044: val_acc did not improve\n",
      "1840/1840 [==============================] - 34s - loss: 4.2401 - acc: 0.9750 - val_loss: 4.3504 - val_acc: 0.9174\n",
      "Epoch 46/50\n",
      "1824/1840 [============================>.] - ETA: 0s - loss: 4.2135 - acc: 0.9814Epoch 00045: val_acc did not improve\n",
      "1840/1840 [==============================] - 34s - loss: 4.2135 - acc: 0.9815 - val_loss: 4.3303 - val_acc: 0.9152\n",
      "Epoch 47/50\n",
      "1824/1840 [============================>.] - ETA: 0s - loss: 4.2054 - acc: 0.9731Epoch 00046: val_acc did not improve\n",
      "1840/1840 [==============================] - 33s - loss: 4.2054 - acc: 0.9728 - val_loss: 4.3115 - val_acc: 0.9152\n",
      "Epoch 48/50\n",
      "1824/1840 [============================>.] - ETA: 0s - loss: 4.1833 - acc: 0.9792Epoch 00047: val_acc did not improve\n",
      "1840/1840 [==============================] - 33s - loss: 4.1832 - acc: 0.9788 - val_loss: 4.3005 - val_acc: 0.9087\n",
      "Epoch 49/50\n",
      "1824/1840 [============================>.] - ETA: 0s - loss: 4.1588 - acc: 0.9786Epoch 00048: val_acc did not improve\n",
      "1840/1840 [==============================] - 34s - loss: 4.1586 - acc: 0.9788 - val_loss: 4.2843 - val_acc: 0.9065\n",
      "Epoch 50/50\n",
      "1824/1840 [============================>.] - ETA: 0s - loss: 4.1404 - acc: 0.9786Epoch 00049: val_acc did not improve\n",
      "1840/1840 [==============================] - 34s - loss: 4.1406 - acc: 0.9788 - val_loss: 4.2564 - val_acc: 0.9130\n"
     ]
    }
   ],
   "source": [
    "d1a_model1, d1a_history1 = train_binary_model()"
   ]
  },
  {
   "cell_type": "code",
   "execution_count": 18,
   "metadata": {
    "scrolled": true
   },
   "outputs": [
    {
     "name": "stdout",
     "output_type": "stream",
     "text": [
      "Train on 1840 samples, validate on 460 samples\n",
      "Epoch 1/50\n",
      "1824/1840 [============================>.] - ETA: 0s - loss: 5.6423 - acc: 0.7094Epoch 00000: val_acc improved from -inf to 0.84130, saving model to data1a/top_model_weights.h5\n",
      "1840/1840 [==============================] - 32s - loss: 5.6410 - acc: 0.7103 - val_loss: 5.4734 - val_acc: 0.8413\n",
      "Epoch 2/50\n",
      "1824/1840 [============================>.] - ETA: 0s - loss: 5.4596 - acc: 0.8284Epoch 00001: val_acc improved from 0.84130 to 0.86304, saving model to data1a/top_model_weights.h5\n",
      "1840/1840 [==============================] - 32s - loss: 5.4578 - acc: 0.8299 - val_loss: 5.3847 - val_acc: 0.8630\n",
      "Epoch 3/50\n",
      "1824/1840 [============================>.] - ETA: 0s - loss: 5.3765 - acc: 0.8487Epoch 00002: val_acc improved from 0.86304 to 0.87826, saving model to data1a/top_model_weights.h5\n",
      "1840/1840 [==============================] - 32s - loss: 5.3767 - acc: 0.8484 - val_loss: 5.3235 - val_acc: 0.8783\n",
      "Epoch 4/50\n",
      "1824/1840 [============================>.] - ETA: 0s - loss: 5.3544 - acc: 0.8536Epoch 00003: val_acc did not improve\n",
      "1840/1840 [==============================] - 32s - loss: 5.3532 - acc: 0.8543 - val_loss: 5.2960 - val_acc: 0.8761\n",
      "Epoch 5/50\n",
      "1824/1840 [============================>.] - ETA: 0s - loss: 5.3014 - acc: 0.8728Epoch 00004: val_acc improved from 0.87826 to 0.88043, saving model to data1a/top_model_weights.h5\n",
      "1840/1840 [==============================] - 34s - loss: 5.3008 - acc: 0.8723 - val_loss: 5.2633 - val_acc: 0.8804\n",
      "Epoch 6/50\n",
      "1824/1840 [============================>.] - ETA: 0s - loss: 5.2687 - acc: 0.8684Epoch 00005: val_acc improved from 0.88043 to 0.88043, saving model to data1a/top_model_weights.h5\n",
      "1840/1840 [==============================] - 33s - loss: 5.2675 - acc: 0.8685 - val_loss: 5.2159 - val_acc: 0.8804\n",
      "Epoch 7/50\n",
      "1824/1840 [============================>.] - ETA: 0s - loss: 5.2285 - acc: 0.8843Epoch 00006: val_acc improved from 0.88043 to 0.88696, saving model to data1a/top_model_weights.h5\n",
      "1840/1840 [==============================] - 33s - loss: 5.2297 - acc: 0.8837 - val_loss: 5.1911 - val_acc: 0.8870\n",
      "Epoch 8/50\n",
      "1824/1840 [============================>.] - ETA: 0s - loss: 5.1977 - acc: 0.8810Epoch 00007: val_acc did not improve\n",
      "1840/1840 [==============================] - 33s - loss: 5.1977 - acc: 0.8810 - val_loss: 5.2135 - val_acc: 0.8739\n",
      "Epoch 9/50\n",
      "1824/1840 [============================>.] - ETA: 0s - loss: 5.1619 - acc: 0.8936Epoch 00008: val_acc improved from 0.88696 to 0.90217, saving model to data1a/top_model_weights.h5\n",
      "1840/1840 [==============================] - 33s - loss: 5.1609 - acc: 0.8946 - val_loss: 5.1362 - val_acc: 0.9022\n",
      "Epoch 10/50\n",
      "1824/1840 [============================>.] - ETA: 0s - loss: 5.1161 - acc: 0.9062Epoch 00009: val_acc improved from 0.90217 to 0.90435, saving model to data1a/top_model_weights.h5\n",
      "1840/1840 [==============================] - 33s - loss: 5.1170 - acc: 0.9054 - val_loss: 5.1172 - val_acc: 0.9043\n",
      "Epoch 11/50\n",
      "1824/1840 [============================>.] - ETA: 0s - loss: 5.0881 - acc: 0.9041Epoch 00010: val_acc did not improve\n",
      "1840/1840 [==============================] - 32s - loss: 5.0883 - acc: 0.9038 - val_loss: 5.0735 - val_acc: 0.8957\n",
      "Epoch 12/50\n",
      "1824/1840 [============================>.] - ETA: 0s - loss: 5.0634 - acc: 0.9030Epoch 00011: val_acc did not improve\n",
      "1840/1840 [==============================] - 32s - loss: 5.0639 - acc: 0.9027 - val_loss: 5.0521 - val_acc: 0.9000\n",
      "Epoch 13/50\n",
      "1824/1840 [============================>.] - ETA: 0s - loss: 5.0353 - acc: 0.9062Epoch 00012: val_acc improved from 0.90435 to 0.91304, saving model to data1a/top_model_weights.h5\n",
      "1840/1840 [==============================] - 32s - loss: 5.0353 - acc: 0.9054 - val_loss: 5.0388 - val_acc: 0.9130\n",
      "Epoch 14/50\n",
      "1824/1840 [============================>.] - ETA: 0s - loss: 5.0049 - acc: 0.9178Epoch 00013: val_acc did not improve\n",
      "1840/1840 [==============================] - 31s - loss: 5.0060 - acc: 0.9168 - val_loss: 5.0041 - val_acc: 0.9000\n",
      "Epoch 15/50\n",
      "1824/1840 [============================>.] - ETA: 0s - loss: 4.9747 - acc: 0.9156Epoch 00014: val_acc did not improve\n",
      "1840/1840 [==============================] - 32s - loss: 4.9740 - acc: 0.9163 - val_loss: 4.9764 - val_acc: 0.9043\n",
      "Epoch 16/50\n",
      "1824/1840 [============================>.] - ETA: 0s - loss: 4.9540 - acc: 0.9200Epoch 00015: val_acc did not improve\n",
      "1840/1840 [==============================] - 32s - loss: 4.9538 - acc: 0.9201 - val_loss: 4.9540 - val_acc: 0.9065\n",
      "Epoch 17/50\n",
      "1824/1840 [============================>.] - ETA: 0s - loss: 4.9226 - acc: 0.9249Epoch 00016: val_acc did not improve\n",
      "1840/1840 [==============================] - 33s - loss: 4.9227 - acc: 0.9250 - val_loss: 4.9277 - val_acc: 0.9109\n",
      "Epoch 18/50\n",
      "1824/1840 [============================>.] - ETA: 0s - loss: 4.8851 - acc: 0.9309Epoch 00017: val_acc did not improve\n",
      "1840/1840 [==============================] - 31s - loss: 4.8859 - acc: 0.9310 - val_loss: 4.9303 - val_acc: 0.9065\n",
      "Epoch 19/50\n",
      "1824/1840 [============================>.] - ETA: 0s - loss: 4.8705 - acc: 0.9205Epoch 00018: val_acc did not improve\n",
      "1840/1840 [==============================] - 32s - loss: 4.8700 - acc: 0.9207 - val_loss: 4.8991 - val_acc: 0.8957\n",
      "Epoch 20/50\n",
      "1824/1840 [============================>.] - ETA: 0s - loss: 4.8313 - acc: 0.9304Epoch 00019: val_acc did not improve\n",
      "1840/1840 [==============================] - 31s - loss: 4.8305 - acc: 0.9304 - val_loss: 4.8620 - val_acc: 0.9109\n",
      "Epoch 21/50\n",
      "1824/1840 [============================>.] - ETA: 0s - loss: 4.8048 - acc: 0.9331Epoch 00020: val_acc improved from 0.91304 to 0.91522, saving model to data1a/top_model_weights.h5\n",
      "1840/1840 [==============================] - 32s - loss: 4.8055 - acc: 0.9326 - val_loss: 4.8380 - val_acc: 0.9152\n",
      "Epoch 22/50\n",
      "1824/1840 [============================>.] - ETA: 0s - loss: 4.7868 - acc: 0.9353Epoch 00021: val_acc did not improve\n",
      "1840/1840 [==============================] - 31s - loss: 4.7875 - acc: 0.9342 - val_loss: 4.8169 - val_acc: 0.9065\n",
      "Epoch 23/50\n",
      "1824/1840 [============================>.] - ETA: 0s - loss: 4.7567 - acc: 0.9375Epoch 00022: val_acc did not improve\n",
      "1840/1840 [==============================] - 32s - loss: 4.7572 - acc: 0.9370 - val_loss: 4.7945 - val_acc: 0.9130\n",
      "Epoch 24/50\n",
      "1824/1840 [============================>.] - ETA: 0s - loss: 4.7369 - acc: 0.9353Epoch 00023: val_acc improved from 0.91522 to 0.92391, saving model to data1a/top_model_weights.h5\n",
      "1840/1840 [==============================] - 31s - loss: 4.7366 - acc: 0.9359 - val_loss: 4.7751 - val_acc: 0.9239\n",
      "Epoch 25/50\n",
      "1824/1840 [============================>.] - ETA: 0s - loss: 4.7067 - acc: 0.9463Epoch 00024: val_acc did not improve\n",
      "1840/1840 [==============================] - 32s - loss: 4.7062 - acc: 0.9467 - val_loss: 4.7536 - val_acc: 0.9087\n",
      "Epoch 26/50\n",
      "1824/1840 [============================>.] - ETA: 0s - loss: 4.6826 - acc: 0.9391Epoch 00025: val_acc did not improve\n",
      "1840/1840 [==============================] - 32s - loss: 4.6825 - acc: 0.9386 - val_loss: 4.7306 - val_acc: 0.9152\n",
      "Epoch 27/50\n",
      "1824/1840 [============================>.] - ETA: 0s - loss: 4.6643 - acc: 0.9441Epoch 00026: val_acc did not improve\n",
      "1840/1840 [==============================] - 32s - loss: 4.6647 - acc: 0.9435 - val_loss: 4.7095 - val_acc: 0.9087\n",
      "Epoch 28/50\n",
      "1824/1840 [============================>.] - ETA: 0s - loss: 4.6306 - acc: 0.9468Epoch 00027: val_acc did not improve\n",
      "1840/1840 [==============================] - 31s - loss: 4.6307 - acc: 0.9462 - val_loss: 4.6883 - val_acc: 0.9196\n",
      "Epoch 29/50\n",
      "1824/1840 [============================>.] - ETA: 0s - loss: 4.6050 - acc: 0.9550Epoch 00028: val_acc did not improve\n",
      "1840/1840 [==============================] - 32s - loss: 4.6045 - acc: 0.9554 - val_loss: 4.6648 - val_acc: 0.9152\n",
      "Epoch 30/50\n",
      "1824/1840 [============================>.] - ETA: 0s - loss: 4.5847 - acc: 0.9507Epoch 00029: val_acc did not improve\n",
      "1840/1840 [==============================] - 32s - loss: 4.5842 - acc: 0.9511 - val_loss: 4.6499 - val_acc: 0.9065\n",
      "Epoch 31/50\n",
      "1824/1840 [============================>.] - ETA: 0s - loss: 4.5627 - acc: 0.9539Epoch 00030: val_acc did not improve\n"
     ]
    },
    {
     "name": "stdout",
     "output_type": "stream",
     "text": [
      "1840/1840 [==============================] - 32s - loss: 4.5632 - acc: 0.9533 - val_loss: 4.6273 - val_acc: 0.9109\n",
      "Epoch 32/50\n",
      "1824/1840 [============================>.] - ETA: 0s - loss: 4.5316 - acc: 0.9572Epoch 00031: val_acc did not improve\n",
      "1840/1840 [==============================] - 31s - loss: 4.5324 - acc: 0.9565 - val_loss: 4.6029 - val_acc: 0.9152\n",
      "Epoch 33/50\n",
      "1824/1840 [============================>.] - ETA: 0s - loss: 4.5139 - acc: 0.9583Epoch 00032: val_acc did not improve\n",
      "1840/1840 [==============================] - 31s - loss: 4.5134 - acc: 0.9582 - val_loss: 4.5878 - val_acc: 0.9130\n",
      "Epoch 34/50\n",
      "1824/1840 [============================>.] - ETA: 0s - loss: 4.4877 - acc: 0.9638Epoch 00033: val_acc did not improve\n",
      "1840/1840 [==============================] - 31s - loss: 4.4871 - acc: 0.9641 - val_loss: 4.5663 - val_acc: 0.9130\n",
      "Epoch 35/50\n",
      "1824/1840 [============================>.] - ETA: 0s - loss: 4.4579 - acc: 0.9698Epoch 00034: val_acc did not improve\n",
      "1840/1840 [==============================] - 32s - loss: 4.4579 - acc: 0.9701 - val_loss: 4.5531 - val_acc: 0.9130\n",
      "Epoch 36/50\n",
      "1824/1840 [============================>.] - ETA: 0s - loss: 4.4427 - acc: 0.9644Epoch 00035: val_acc did not improve\n",
      "1840/1840 [==============================] - 33s - loss: 4.4419 - acc: 0.9647 - val_loss: 4.5403 - val_acc: 0.9174\n",
      "Epoch 37/50\n",
      "1824/1840 [============================>.] - ETA: 0s - loss: 4.4190 - acc: 0.9688Epoch 00036: val_acc did not improve\n",
      "1840/1840 [==============================] - 33s - loss: 4.4184 - acc: 0.9690 - val_loss: 4.5053 - val_acc: 0.9130\n",
      "Epoch 38/50\n",
      "1824/1840 [============================>.] - ETA: 0s - loss: 4.3947 - acc: 0.9677Epoch 00037: val_acc did not improve\n",
      "1840/1840 [==============================] - 32s - loss: 4.3943 - acc: 0.9674 - val_loss: 4.4846 - val_acc: 0.9174\n",
      "Epoch 39/50\n",
      "1824/1840 [============================>.] - ETA: 0s - loss: 4.3702 - acc: 0.9666Epoch 00038: val_acc did not improve\n",
      "1840/1840 [==============================] - 32s - loss: 4.3706 - acc: 0.9663 - val_loss: 4.4706 - val_acc: 0.9174\n",
      "Epoch 40/50\n",
      "1824/1840 [============================>.] - ETA: 0s - loss: 4.3528 - acc: 0.9688Epoch 00039: val_acc did not improve\n",
      "1840/1840 [==============================] - 32s - loss: 4.3522 - acc: 0.9690 - val_loss: 4.4476 - val_acc: 0.9174\n",
      "Epoch 41/50\n",
      "1824/1840 [============================>.] - ETA: 0s - loss: 4.3309 - acc: 0.9748Epoch 00040: val_acc did not improve\n",
      "1840/1840 [==============================] - 32s - loss: 4.3314 - acc: 0.9745 - val_loss: 4.4276 - val_acc: 0.9174\n",
      "Epoch 42/50\n",
      "1824/1840 [============================>.] - ETA: 0s - loss: 4.3089 - acc: 0.9720Epoch 00041: val_acc did not improve\n",
      "1840/1840 [==============================] - 31s - loss: 4.3082 - acc: 0.9723 - val_loss: 4.4154 - val_acc: 0.9217\n",
      "Epoch 43/50\n",
      "1824/1840 [============================>.] - ETA: 0s - loss: 4.2871 - acc: 0.9693Epoch 00042: val_acc did not improve\n",
      "1840/1840 [==============================] - 32s - loss: 4.2875 - acc: 0.9690 - val_loss: 4.3959 - val_acc: 0.9239\n",
      "Epoch 44/50\n",
      "1824/1840 [============================>.] - ETA: 0s - loss: 4.2615 - acc: 0.9753Epoch 00043: val_acc did not improve\n",
      "1840/1840 [==============================] - 32s - loss: 4.2618 - acc: 0.9750 - val_loss: 4.3732 - val_acc: 0.9130\n",
      "Epoch 45/50\n",
      "1824/1840 [============================>.] - ETA: 0s - loss: 4.2487 - acc: 0.9742Epoch 00044: val_acc did not improve\n",
      "1840/1840 [==============================] - 32s - loss: 4.2482 - acc: 0.9745 - val_loss: 4.3500 - val_acc: 0.9130\n",
      "Epoch 46/50\n",
      "1824/1840 [============================>.] - ETA: 0s - loss: 4.2197 - acc: 0.9775Epoch 00045: val_acc did not improve\n",
      "1840/1840 [==============================] - 31s - loss: 4.2193 - acc: 0.9777 - val_loss: 4.3332 - val_acc: 0.9130\n",
      "Epoch 47/50\n",
      "1824/1840 [============================>.] - ETA: 0s - loss: 4.2061 - acc: 0.9737Epoch 00046: val_acc did not improve\n",
      "1840/1840 [==============================] - 33s - loss: 4.2056 - acc: 0.9739 - val_loss: 4.3136 - val_acc: 0.9152\n",
      "Epoch 48/50\n",
      "1824/1840 [============================>.] - ETA: 0s - loss: 4.1872 - acc: 0.9792Epoch 00047: val_acc did not improve\n",
      "1840/1840 [==============================] - 35s - loss: 4.1881 - acc: 0.9783 - val_loss: 4.2959 - val_acc: 0.9174\n",
      "Epoch 49/50\n",
      "1824/1840 [============================>.] - ETA: 0s - loss: 4.1579 - acc: 0.9814Epoch 00048: val_acc did not improve\n",
      "1840/1840 [==============================] - 34s - loss: 4.1581 - acc: 0.9815 - val_loss: 4.2753 - val_acc: 0.9152\n",
      "Epoch 50/50\n",
      "1824/1840 [============================>.] - ETA: 0s - loss: 4.1439 - acc: 0.9808Epoch 00049: val_acc did not improve\n",
      "1840/1840 [==============================] - 33s - loss: 4.1436 - acc: 0.9810 - val_loss: 4.2770 - val_acc: 0.9130\n"
     ]
    }
   ],
   "source": [
    "d1a_model2, d1a_history2 = train_binary_model()"
   ]
  },
  {
   "cell_type": "code",
   "execution_count": 19,
   "metadata": {
    "scrolled": true
   },
   "outputs": [
    {
     "name": "stdout",
     "output_type": "stream",
     "text": [
      "Train on 1840 samples, validate on 460 samples\n",
      "Epoch 1/50\n",
      "1824/1840 [============================>.] - ETA: 0s - loss: 5.6366 - acc: 0.7045Epoch 00000: val_acc improved from -inf to 0.87826, saving model to data1a/top_model_weights.h5\n",
      "1840/1840 [==============================] - 34s - loss: 5.6365 - acc: 0.7038 - val_loss: 5.4351 - val_acc: 0.8783\n",
      "Epoch 2/50\n",
      "1824/1840 [============================>.] - ETA: 0s - loss: 5.4763 - acc: 0.8130Epoch 00001: val_acc did not improve\n",
      "1840/1840 [==============================] - 33s - loss: 5.4746 - acc: 0.8147 - val_loss: 5.3661 - val_acc: 0.8739\n",
      "Epoch 3/50\n",
      "1824/1840 [============================>.] - ETA: 0s - loss: 5.3977 - acc: 0.8322Epoch 00002: val_acc improved from 0.87826 to 0.89130, saving model to data1a/top_model_weights.h5\n",
      "1840/1840 [==============================] - 35s - loss: 5.3967 - acc: 0.8332 - val_loss: 5.3070 - val_acc: 0.8913\n",
      "Epoch 4/50\n",
      "1824/1840 [============================>.] - ETA: 0s - loss: 5.3515 - acc: 0.8514Epoch 00003: val_acc did not improve\n",
      "1840/1840 [==============================] - 33s - loss: 5.3514 - acc: 0.8511 - val_loss: 5.2712 - val_acc: 0.8870\n",
      "Epoch 5/50\n",
      "1824/1840 [============================>.] - ETA: 0s - loss: 5.2982 - acc: 0.8755Epoch 00004: val_acc did not improve\n",
      "1840/1840 [==============================] - 33s - loss: 5.2972 - acc: 0.8761 - val_loss: 5.2316 - val_acc: 0.8913\n",
      "Epoch 6/50\n",
      "1824/1840 [============================>.] - ETA: 0s - loss: 5.2376 - acc: 0.8810Epoch 00005: val_acc did not improve\n",
      "1840/1840 [==============================] - 33s - loss: 5.2370 - acc: 0.8815 - val_loss: 5.2031 - val_acc: 0.8913\n",
      "Epoch 7/50\n",
      "1824/1840 [============================>.] - ETA: 0s - loss: 5.2201 - acc: 0.8821Epoch 00006: val_acc improved from 0.89130 to 0.89348, saving model to data1a/top_model_weights.h5\n",
      "1840/1840 [==============================] - 34s - loss: 5.2199 - acc: 0.8826 - val_loss: 5.2021 - val_acc: 0.8935\n",
      "Epoch 8/50\n",
      "1824/1840 [============================>.] - ETA: 0s - loss: 5.1790 - acc: 0.8958Epoch 00007: val_acc did not improve\n",
      "1840/1840 [==============================] - 32s - loss: 5.1801 - acc: 0.8951 - val_loss: 5.2288 - val_acc: 0.8587\n",
      "Epoch 9/50\n",
      "1824/1840 [============================>.] - ETA: 0s - loss: 5.1646 - acc: 0.8860Epoch 00008: val_acc improved from 0.89348 to 0.90217, saving model to data1a/top_model_weights.h5\n",
      "1840/1840 [==============================] - 33s - loss: 5.1634 - acc: 0.8870 - val_loss: 5.1256 - val_acc: 0.9022\n",
      "Epoch 10/50\n",
      "1824/1840 [============================>.] - ETA: 0s - loss: 5.1142 - acc: 0.9101Epoch 00009: val_acc did not improve\n",
      "1840/1840 [==============================] - 33s - loss: 5.1134 - acc: 0.9103 - val_loss: 5.1394 - val_acc: 0.8891\n",
      "Epoch 11/50\n",
      "1824/1840 [============================>.] - ETA: 0s - loss: 5.0956 - acc: 0.8991Epoch 00010: val_acc did not improve\n",
      "1840/1840 [==============================] - 33s - loss: 5.0945 - acc: 0.9000 - val_loss: 5.0624 - val_acc: 0.8978\n",
      "Epoch 12/50\n",
      "1824/1840 [============================>.] - ETA: 0s - loss: 5.0621 - acc: 0.9095Epoch 00011: val_acc did not improve\n",
      "1840/1840 [==============================] - 32s - loss: 5.0611 - acc: 0.9103 - val_loss: 5.0455 - val_acc: 0.9000\n",
      "Epoch 13/50\n",
      "1824/1840 [============================>.] - ETA: 0s - loss: 5.0330 - acc: 0.9112Epoch 00012: val_acc improved from 0.90217 to 0.90652, saving model to data1a/top_model_weights.h5\n",
      "1840/1840 [==============================] - 34s - loss: 5.0328 - acc: 0.9109 - val_loss: 5.0256 - val_acc: 0.9065\n",
      "Epoch 14/50\n",
      "1824/1840 [============================>.] - ETA: 0s - loss: 4.9984 - acc: 0.9194Epoch 00013: val_acc improved from 0.90652 to 0.91957, saving model to data1a/top_model_weights.h5\n",
      "1840/1840 [==============================] - 36s - loss: 5.0003 - acc: 0.9185 - val_loss: 4.9854 - val_acc: 0.9196\n",
      "Epoch 15/50\n",
      "1824/1840 [============================>.] - ETA: 0s - loss: 4.9752 - acc: 0.9161Epoch 00014: val_acc did not improve\n",
      "1840/1840 [==============================] - 36s - loss: 4.9754 - acc: 0.9152 - val_loss: 4.9634 - val_acc: 0.9130\n",
      "Epoch 16/50\n",
      "1824/1840 [============================>.] - ETA: 0s - loss: 4.9468 - acc: 0.9194Epoch 00015: val_acc did not improve\n",
      "1840/1840 [==============================] - 33s - loss: 4.9472 - acc: 0.9190 - val_loss: 4.9399 - val_acc: 0.9109\n",
      "Epoch 17/50\n",
      "1824/1840 [============================>.] - ETA: 0s - loss: 4.9063 - acc: 0.9320Epoch 00016: val_acc did not improve\n",
      "1840/1840 [==============================] - 33s - loss: 4.9055 - acc: 0.9321 - val_loss: 4.9172 - val_acc: 0.9130\n",
      "Epoch 18/50\n",
      "1824/1840 [============================>.] - ETA: 0s - loss: 4.8933 - acc: 0.9304Epoch 00017: val_acc did not improve\n",
      "1840/1840 [==============================] - 32s - loss: 4.8929 - acc: 0.9304 - val_loss: 4.8951 - val_acc: 0.9174\n",
      "Epoch 19/50\n",
      "1824/1840 [============================>.] - ETA: 0s - loss: 4.8532 - acc: 0.9331Epoch 00018: val_acc did not improve\n",
      "1840/1840 [==============================] - 33s - loss: 4.8543 - acc: 0.9332 - val_loss: 4.8694 - val_acc: 0.9152\n",
      "Epoch 20/50\n",
      "1824/1840 [============================>.] - ETA: 0s - loss: 4.8278 - acc: 0.9342Epoch 00019: val_acc did not improve\n",
      "1840/1840 [==============================] - 32s - loss: 4.8291 - acc: 0.9332 - val_loss: 4.8480 - val_acc: 0.9174\n",
      "Epoch 21/50\n",
      "1824/1840 [============================>.] - ETA: 0s - loss: 4.8004 - acc: 0.9353Epoch 00020: val_acc did not improve\n",
      "1840/1840 [==============================] - 33s - loss: 4.8000 - acc: 0.9359 - val_loss: 4.8310 - val_acc: 0.9174\n",
      "Epoch 22/50\n",
      "1824/1840 [============================>.] - ETA: 0s - loss: 4.7853 - acc: 0.9364Epoch 00021: val_acc did not improve\n",
      "1840/1840 [==============================] - 33s - loss: 4.7840 - acc: 0.9370 - val_loss: 4.8568 - val_acc: 0.8913\n",
      "Epoch 23/50\n",
      "1824/1840 [============================>.] - ETA: 0s - loss: 4.7575 - acc: 0.9380Epoch 00022: val_acc did not improve\n",
      "1840/1840 [==============================] - 33s - loss: 4.7564 - acc: 0.9386 - val_loss: 4.7811 - val_acc: 0.9196\n",
      "Epoch 24/50\n",
      "1824/1840 [============================>.] - ETA: 0s - loss: 4.7231 - acc: 0.9463Epoch 00023: val_acc did not improve\n",
      "1840/1840 [==============================] - 31s - loss: 4.7234 - acc: 0.9462 - val_loss: 4.7705 - val_acc: 0.9152\n",
      "Epoch 25/50\n",
      "1824/1840 [============================>.] - ETA: 0s - loss: 4.7080 - acc: 0.9370Epoch 00024: val_acc improved from 0.91957 to 0.92174, saving model to data1a/top_model_weights.h5\n",
      "1840/1840 [==============================] - 33s - loss: 4.7089 - acc: 0.9364 - val_loss: 4.7412 - val_acc: 0.9217\n",
      "Epoch 26/50\n",
      "1824/1840 [============================>.] - ETA: 0s - loss: 4.6771 - acc: 0.9474Epoch 00025: val_acc improved from 0.92174 to 0.92391, saving model to data1a/top_model_weights.h5\n",
      "1840/1840 [==============================] - 33s - loss: 4.6765 - acc: 0.9478 - val_loss: 4.7200 - val_acc: 0.9239\n",
      "Epoch 27/50\n",
      "1824/1840 [============================>.] - ETA: 0s - loss: 4.6492 - acc: 0.9523Epoch 00026: val_acc did not improve\n",
      "1840/1840 [==============================] - 33s - loss: 4.6485 - acc: 0.9527 - val_loss: 4.6964 - val_acc: 0.9196\n",
      "Epoch 28/50\n",
      "1824/1840 [============================>.] - ETA: 0s - loss: 4.6286 - acc: 0.9518Epoch 00027: val_acc did not improve\n",
      "1840/1840 [==============================] - 34s - loss: 4.6286 - acc: 0.9516 - val_loss: 4.7014 - val_acc: 0.9130\n",
      "Epoch 29/50\n",
      "1824/1840 [============================>.] - ETA: 0s - loss: 4.6006 - acc: 0.9578Epoch 00028: val_acc did not improve\n",
      "1840/1840 [==============================] - 33s - loss: 4.6008 - acc: 0.9576 - val_loss: 4.6559 - val_acc: 0.9239\n",
      "Epoch 30/50\n",
      "1824/1840 [============================>.] - ETA: 0s - loss: 4.5766 - acc: 0.9529Epoch 00029: val_acc did not improve\n",
      "1840/1840 [==============================] - 33s - loss: 4.5759 - acc: 0.9533 - val_loss: 4.6364 - val_acc: 0.9196\n",
      "Epoch 31/50\n",
      "1824/1840 [============================>.] - ETA: 0s - loss: 4.5632 - acc: 0.9523Epoch 00030: val_acc did not improve\n",
      "1840/1840 [==============================] - 33s - loss: 4.5632 - acc: 0.9527 - val_loss: 4.6185 - val_acc: 0.9130\n",
      "Epoch 32/50\n"
     ]
    },
    {
     "name": "stdout",
     "output_type": "stream",
     "text": [
      "1824/1840 [============================>.] - ETA: 0s - loss: 4.5276 - acc: 0.9627Epoch 00031: val_acc did not improve\n",
      "1840/1840 [==============================] - 34s - loss: 4.5273 - acc: 0.9630 - val_loss: 4.5946 - val_acc: 0.9152\n",
      "Epoch 33/50\n",
      "1824/1840 [============================>.] - ETA: 0s - loss: 4.5014 - acc: 0.9611Epoch 00032: val_acc did not improve\n",
      "1840/1840 [==============================] - 33s - loss: 4.5018 - acc: 0.9609 - val_loss: 4.5750 - val_acc: 0.9239\n",
      "Epoch 34/50\n",
      "1824/1840 [============================>.] - ETA: 0s - loss: 4.4919 - acc: 0.9556Epoch 00033: val_acc did not improve\n",
      "1840/1840 [==============================] - 33s - loss: 4.4918 - acc: 0.9560 - val_loss: 4.5557 - val_acc: 0.9152\n",
      "Epoch 35/50\n",
      "1824/1840 [============================>.] - ETA: 0s - loss: 4.4554 - acc: 0.9660Epoch 00034: val_acc did not improve\n",
      "1840/1840 [==============================] - 33s - loss: 4.4550 - acc: 0.9663 - val_loss: 4.5339 - val_acc: 0.9217\n",
      "Epoch 36/50\n",
      "1824/1840 [============================>.] - ETA: 0s - loss: 4.4328 - acc: 0.9677Epoch 00035: val_acc did not improve\n",
      "1840/1840 [==============================] - 32s - loss: 4.4351 - acc: 0.9668 - val_loss: 4.5132 - val_acc: 0.9217\n",
      "Epoch 37/50\n",
      "1824/1840 [============================>.] - ETA: 0s - loss: 4.4108 - acc: 0.9715Epoch 00036: val_acc improved from 0.92391 to 0.92609, saving model to data1a/top_model_weights.h5\n",
      "1840/1840 [==============================] - 33s - loss: 4.4104 - acc: 0.9717 - val_loss: 4.4995 - val_acc: 0.9261\n",
      "Epoch 38/50\n",
      "1824/1840 [============================>.] - ETA: 0s - loss: 4.3860 - acc: 0.9709Epoch 00037: val_acc did not improve\n",
      "1840/1840 [==============================] - 32s - loss: 4.3858 - acc: 0.9707 - val_loss: 4.4833 - val_acc: 0.9239\n",
      "Epoch 39/50\n",
      "1824/1840 [============================>.] - ETA: 0s - loss: 4.3709 - acc: 0.9671Epoch 00038: val_acc did not improve\n",
      "1840/1840 [==============================] - 32s - loss: 4.3706 - acc: 0.9674 - val_loss: 4.4581 - val_acc: 0.9196\n",
      "Epoch 40/50\n",
      "1824/1840 [============================>.] - ETA: 0s - loss: 4.3487 - acc: 0.9666Epoch 00039: val_acc did not improve\n",
      "1840/1840 [==============================] - 32s - loss: 4.3487 - acc: 0.9668 - val_loss: 4.4368 - val_acc: 0.9239\n",
      "Epoch 41/50\n",
      "1824/1840 [============================>.] - ETA: 0s - loss: 4.3243 - acc: 0.9698Epoch 00040: val_acc did not improve\n",
      "1840/1840 [==============================] - 32s - loss: 4.3236 - acc: 0.9701 - val_loss: 4.4188 - val_acc: 0.9261\n",
      "Epoch 42/50\n",
      "1824/1840 [============================>.] - ETA: 0s - loss: 4.3078 - acc: 0.9682Epoch 00041: val_acc did not improve\n",
      "1840/1840 [==============================] - 32s - loss: 4.3071 - acc: 0.9685 - val_loss: 4.4017 - val_acc: 0.9196\n",
      "Epoch 43/50\n",
      "1824/1840 [============================>.] - ETA: 0s - loss: 4.2796 - acc: 0.9748Epoch 00042: val_acc did not improve\n",
      "1840/1840 [==============================] - 33s - loss: 4.2811 - acc: 0.9745 - val_loss: 4.4058 - val_acc: 0.9087\n",
      "Epoch 44/50\n",
      "1824/1840 [============================>.] - ETA: 0s - loss: 4.2609 - acc: 0.9764Epoch 00043: val_acc did not improve\n",
      "1840/1840 [==============================] - 32s - loss: 4.2608 - acc: 0.9766 - val_loss: 4.3595 - val_acc: 0.9196\n",
      "Epoch 45/50\n",
      "1824/1840 [============================>.] - ETA: 0s - loss: 4.2387 - acc: 0.9775Epoch 00044: val_acc did not improve\n",
      "1840/1840 [==============================] - 32s - loss: 4.2383 - acc: 0.9777 - val_loss: 4.3407 - val_acc: 0.9152\n",
      "Epoch 46/50\n",
      "1824/1840 [============================>.] - ETA: 0s - loss: 4.2173 - acc: 0.9759Epoch 00045: val_acc did not improve\n",
      "1840/1840 [==============================] - 34s - loss: 4.2171 - acc: 0.9761 - val_loss: 4.3215 - val_acc: 0.9217\n",
      "Epoch 47/50\n",
      "1824/1840 [============================>.] - ETA: 0s - loss: 4.1969 - acc: 0.9814Epoch 00046: val_acc did not improve\n",
      "1840/1840 [==============================] - 33s - loss: 4.1967 - acc: 0.9810 - val_loss: 4.3114 - val_acc: 0.9174\n",
      "Epoch 48/50\n",
      "1824/1840 [============================>.] - ETA: 0s - loss: 4.1768 - acc: 0.9797Epoch 00047: val_acc did not improve\n",
      "1840/1840 [==============================] - 32s - loss: 4.1766 - acc: 0.9799 - val_loss: 4.2855 - val_acc: 0.9217\n",
      "Epoch 49/50\n",
      "1824/1840 [============================>.] - ETA: 0s - loss: 4.1538 - acc: 0.9819Epoch 00048: val_acc did not improve\n",
      "1840/1840 [==============================] - 33s - loss: 4.1537 - acc: 0.9821 - val_loss: 4.2743 - val_acc: 0.9217\n",
      "Epoch 50/50\n",
      "1824/1840 [============================>.] - ETA: 0s - loss: 4.1325 - acc: 0.9874Epoch 00049: val_acc did not improve\n",
      "1840/1840 [==============================] - 32s - loss: 4.1328 - acc: 0.9875 - val_loss: 4.2479 - val_acc: 0.9217\n"
     ]
    }
   ],
   "source": [
    "d1a_model3, d1a_history3 = train_binary_model() "
   ]
  },
  {
   "cell_type": "code",
   "execution_count": 20,
   "metadata": {
    "scrolled": true
   },
   "outputs": [
    {
     "name": "stdout",
     "output_type": "stream",
     "text": [
      "Train on 1840 samples, validate on 460 samples\n",
      "Epoch 1/50\n",
      "1824/1840 [============================>.] - ETA: 0s - loss: 5.6308 - acc: 0.7122Epoch 00000: val_acc improved from -inf to 0.87391, saving model to data1a/top_model_weights.h5\n",
      "1840/1840 [==============================] - 32s - loss: 5.6312 - acc: 0.7120 - val_loss: 5.4512 - val_acc: 0.8739\n",
      "Epoch 2/50\n",
      "1824/1840 [============================>.] - ETA: 0s - loss: 5.4493 - acc: 0.8295Epoch 00001: val_acc did not improve\n",
      "1840/1840 [==============================] - 33s - loss: 5.4488 - acc: 0.8293 - val_loss: 5.4317 - val_acc: 0.8304\n",
      "Epoch 3/50\n",
      "1824/1840 [============================>.] - ETA: 0s - loss: 5.3879 - acc: 0.8476Epoch 00002: val_acc improved from 0.87391 to 0.88696, saving model to data1a/top_model_weights.h5\n",
      "1840/1840 [==============================] - 32s - loss: 5.3885 - acc: 0.8478 - val_loss: 5.3078 - val_acc: 0.8870\n",
      "Epoch 4/50\n",
      "1824/1840 [============================>.] - ETA: 0s - loss: 5.3442 - acc: 0.8531Epoch 00003: val_acc did not improve\n",
      "1840/1840 [==============================] - 32s - loss: 5.3428 - acc: 0.8543 - val_loss: 5.3172 - val_acc: 0.8761\n",
      "Epoch 5/50\n",
      "1824/1840 [============================>.] - ETA: 0s - loss: 5.2868 - acc: 0.8810Epoch 00004: val_acc improved from 0.88696 to 0.89130, saving model to data1a/top_model_weights.h5\n",
      "1840/1840 [==============================] - 32s - loss: 5.2874 - acc: 0.8804 - val_loss: 5.2449 - val_acc: 0.8913\n",
      "Epoch 6/50\n",
      "1824/1840 [============================>.] - ETA: 0s - loss: 5.2461 - acc: 0.8871Epoch 00005: val_acc did not improve\n",
      "1840/1840 [==============================] - 34s - loss: 5.2476 - acc: 0.8870 - val_loss: 5.2334 - val_acc: 0.8826\n",
      "Epoch 7/50\n",
      "1824/1840 [============================>.] - ETA: 0s - loss: 5.2303 - acc: 0.8728Epoch 00006: val_acc improved from 0.89130 to 0.89783, saving model to data1a/top_model_weights.h5\n",
      "1840/1840 [==============================] - 33s - loss: 5.2294 - acc: 0.8734 - val_loss: 5.1929 - val_acc: 0.8978\n",
      "Epoch 8/50\n",
      "1824/1840 [============================>.] - ETA: 0s - loss: 5.1881 - acc: 0.8898Epoch 00007: val_acc improved from 0.89783 to 0.90870, saving model to data1a/top_model_weights.h5\n",
      "1840/1840 [==============================] - 34s - loss: 5.1875 - acc: 0.8897 - val_loss: 5.1529 - val_acc: 0.9087\n",
      "Epoch 9/50\n",
      "1824/1840 [============================>.] - ETA: 0s - loss: 5.1525 - acc: 0.8980Epoch 00008: val_acc improved from 0.90870 to 0.91304, saving model to data1a/top_model_weights.h5\n",
      "1840/1840 [==============================] - 33s - loss: 5.1538 - acc: 0.8973 - val_loss: 5.1266 - val_acc: 0.9130\n",
      "Epoch 10/50\n",
      "1824/1840 [============================>.] - ETA: 0s - loss: 5.1300 - acc: 0.8958Epoch 00009: val_acc did not improve\n",
      "1840/1840 [==============================] - 31s - loss: 5.1305 - acc: 0.8957 - val_loss: 5.1006 - val_acc: 0.9065\n",
      "Epoch 11/50\n",
      "1824/1840 [============================>.] - ETA: 0s - loss: 5.0825 - acc: 0.9123Epoch 00010: val_acc did not improve\n",
      "1840/1840 [==============================] - 32s - loss: 5.0835 - acc: 0.9109 - val_loss: 5.0716 - val_acc: 0.9087\n",
      "Epoch 12/50\n",
      "1824/1840 [============================>.] - ETA: 0s - loss: 5.0630 - acc: 0.9112Epoch 00011: val_acc did not improve\n",
      "1840/1840 [==============================] - 32s - loss: 5.0621 - acc: 0.9120 - val_loss: 5.0532 - val_acc: 0.9065\n",
      "Epoch 13/50\n",
      "1824/1840 [============================>.] - ETA: 0s - loss: 5.0370 - acc: 0.9095Epoch 00012: val_acc did not improve\n",
      "1840/1840 [==============================] - 32s - loss: 5.0391 - acc: 0.9071 - val_loss: 5.0499 - val_acc: 0.8935\n",
      "Epoch 14/50\n",
      "1824/1840 [============================>.] - ETA: 0s - loss: 5.0091 - acc: 0.9106Epoch 00013: val_acc improved from 0.91304 to 0.91522, saving model to data1a/top_model_weights.h5\n",
      "1840/1840 [==============================] - 33s - loss: 5.0085 - acc: 0.9109 - val_loss: 4.9950 - val_acc: 0.9152\n",
      "Epoch 15/50\n",
      "1824/1840 [============================>.] - ETA: 0s - loss: 4.9706 - acc: 0.9150Epoch 00014: val_acc did not improve\n",
      "1840/1840 [==============================] - 32s - loss: 4.9700 - acc: 0.9152 - val_loss: 4.9753 - val_acc: 0.9065\n",
      "Epoch 16/50\n",
      "1824/1840 [============================>.] - ETA: 0s - loss: 4.9380 - acc: 0.9227Epoch 00015: val_acc did not improve\n",
      "1840/1840 [==============================] - 34s - loss: 4.9378 - acc: 0.9228 - val_loss: 4.9464 - val_acc: 0.9130\n",
      "Epoch 17/50\n",
      "1824/1840 [============================>.] - ETA: 0s - loss: 4.9214 - acc: 0.9205Epoch 00016: val_acc improved from 0.91522 to 0.91957, saving model to data1a/top_model_weights.h5\n",
      "1840/1840 [==============================] - 35s - loss: 4.9207 - acc: 0.9212 - val_loss: 4.9266 - val_acc: 0.9196\n",
      "Epoch 18/50\n",
      "1824/1840 [============================>.] - ETA: 0s - loss: 4.8974 - acc: 0.9232Epoch 00017: val_acc did not improve\n",
      "1840/1840 [==============================] - 34s - loss: 4.8961 - acc: 0.9239 - val_loss: 4.9041 - val_acc: 0.9174\n",
      "Epoch 19/50\n",
      "1824/1840 [============================>.] - ETA: 0s - loss: 4.8538 - acc: 0.9337Epoch 00018: val_acc improved from 0.91957 to 0.91957, saving model to data1a/top_model_weights.h5\n",
      "1840/1840 [==============================] - 32s - loss: 4.8555 - acc: 0.9326 - val_loss: 4.8801 - val_acc: 0.9196\n",
      "Epoch 20/50\n",
      "1824/1840 [============================>.] - ETA: 0s - loss: 4.8375 - acc: 0.9342Epoch 00019: val_acc did not improve\n",
      "1840/1840 [==============================] - 32s - loss: 4.8373 - acc: 0.9337 - val_loss: 4.8611 - val_acc: 0.9174\n",
      "Epoch 21/50\n",
      "1824/1840 [============================>.] - ETA: 0s - loss: 4.8035 - acc: 0.9397Epoch 00020: val_acc improved from 0.91957 to 0.92391, saving model to data1a/top_model_weights.h5\n",
      "1840/1840 [==============================] - 32s - loss: 4.8027 - acc: 0.9402 - val_loss: 4.8319 - val_acc: 0.9239\n",
      "Epoch 22/50\n",
      "1824/1840 [============================>.] - ETA: 0s - loss: 4.7771 - acc: 0.9430Epoch 00021: val_acc did not improve\n",
      "1840/1840 [==============================] - 32s - loss: 4.7767 - acc: 0.9429 - val_loss: 4.8126 - val_acc: 0.9152\n",
      "Epoch 23/50\n",
      "1824/1840 [============================>.] - ETA: 0s - loss: 4.7549 - acc: 0.9424Epoch 00022: val_acc did not improve\n",
      "1840/1840 [==============================] - 32s - loss: 4.7552 - acc: 0.9424 - val_loss: 4.7948 - val_acc: 0.9174\n",
      "Epoch 24/50\n",
      "1824/1840 [============================>.] - ETA: 0s - loss: 4.7265 - acc: 0.9446Epoch 00023: val_acc did not improve\n",
      "1840/1840 [==============================] - 32s - loss: 4.7256 - acc: 0.9451 - val_loss: 4.7687 - val_acc: 0.9217\n",
      "Epoch 25/50\n",
      "1824/1840 [============================>.] - ETA: 0s - loss: 4.7126 - acc: 0.9364Epoch 00024: val_acc improved from 0.92391 to 0.92609, saving model to data1a/top_model_weights.h5\n",
      "1840/1840 [==============================] - 32s - loss: 4.7117 - acc: 0.9370 - val_loss: 4.7446 - val_acc: 0.9261\n",
      "Epoch 26/50\n",
      "1824/1840 [============================>.] - ETA: 0s - loss: 4.6817 - acc: 0.9446Epoch 00025: val_acc did not improve\n",
      "1840/1840 [==============================] - 32s - loss: 4.6830 - acc: 0.9440 - val_loss: 4.7246 - val_acc: 0.9261\n",
      "Epoch 27/50\n",
      "1824/1840 [============================>.] - ETA: 0s - loss: 4.6521 - acc: 0.9567Epoch 00026: val_acc improved from 0.92609 to 0.92826, saving model to data1a/top_model_weights.h5\n",
      "1840/1840 [==============================] - 33s - loss: 4.6514 - acc: 0.9571 - val_loss: 4.7026 - val_acc: 0.9283\n",
      "Epoch 28/50\n",
      "1824/1840 [============================>.] - ETA: 0s - loss: 4.6228 - acc: 0.9539Epoch 00027: val_acc did not improve\n",
      "1840/1840 [==============================] - 32s - loss: 4.6233 - acc: 0.9533 - val_loss: 4.6840 - val_acc: 0.9196\n",
      "Epoch 29/50\n",
      "1824/1840 [============================>.] - ETA: 0s - loss: 4.6069 - acc: 0.9501Epoch 00028: val_acc did not improve\n",
      "1840/1840 [==============================] - 33s - loss: 4.6066 - acc: 0.9500 - val_loss: 4.6603 - val_acc: 0.9261\n",
      "Epoch 30/50\n",
      "1824/1840 [============================>.] - ETA: 0s - loss: 4.5830 - acc: 0.9556Epoch 00029: val_acc did not improve\n",
      "1840/1840 [==============================] - 34s - loss: 4.5825 - acc: 0.9560 - val_loss: 4.6429 - val_acc: 0.9261\n",
      "Epoch 31/50\n"
     ]
    },
    {
     "name": "stdout",
     "output_type": "stream",
     "text": [
      "1824/1840 [============================>.] - ETA: 0s - loss: 4.5584 - acc: 0.9567Epoch 00030: val_acc did not improve\n",
      "1840/1840 [==============================] - 33s - loss: 4.5580 - acc: 0.9565 - val_loss: 4.6319 - val_acc: 0.9087\n",
      "Epoch 32/50\n",
      "1824/1840 [============================>.] - ETA: 0s - loss: 4.5317 - acc: 0.9578Epoch 00031: val_acc did not improve\n",
      "1840/1840 [==============================] - 33s - loss: 4.5328 - acc: 0.9571 - val_loss: 4.6195 - val_acc: 0.9065\n",
      "Epoch 33/50\n",
      "1824/1840 [============================>.] - ETA: 0s - loss: 4.5150 - acc: 0.9583Epoch 00032: val_acc did not improve\n",
      "1840/1840 [==============================] - 32s - loss: 4.5151 - acc: 0.9582 - val_loss: 4.5784 - val_acc: 0.9217\n",
      "Epoch 34/50\n",
      "1824/1840 [============================>.] - ETA: 0s - loss: 4.4907 - acc: 0.9561Epoch 00033: val_acc did not improve\n",
      "1840/1840 [==============================] - 32s - loss: 4.4918 - acc: 0.9549 - val_loss: 4.5616 - val_acc: 0.9196\n",
      "Epoch 35/50\n",
      "1824/1840 [============================>.] - ETA: 0s - loss: 4.4577 - acc: 0.9671Epoch 00034: val_acc did not improve\n",
      "1840/1840 [==============================] - 32s - loss: 4.4575 - acc: 0.9674 - val_loss: 4.5459 - val_acc: 0.9109\n",
      "Epoch 36/50\n",
      "1824/1840 [============================>.] - ETA: 0s - loss: 4.4386 - acc: 0.9693Epoch 00035: val_acc did not improve\n",
      "1840/1840 [==============================] - 32s - loss: 4.4389 - acc: 0.9690 - val_loss: 4.5268 - val_acc: 0.9196\n",
      "Epoch 37/50\n",
      "1824/1840 [============================>.] - ETA: 0s - loss: 4.4177 - acc: 0.9627Epoch 00036: val_acc did not improve\n",
      "1840/1840 [==============================] - 33s - loss: 4.4169 - acc: 0.9630 - val_loss: 4.5032 - val_acc: 0.9217\n",
      "Epoch 38/50\n",
      "1824/1840 [============================>.] - ETA: 0s - loss: 4.3988 - acc: 0.9677Epoch 00037: val_acc did not improve\n",
      "1840/1840 [==============================] - 35s - loss: 4.3980 - acc: 0.9679 - val_loss: 4.4804 - val_acc: 0.9239\n",
      "Epoch 39/50\n",
      "1824/1840 [============================>.] - ETA: 0s - loss: 4.3799 - acc: 0.9666Epoch 00038: val_acc did not improve\n",
      "1840/1840 [==============================] - 34s - loss: 4.3794 - acc: 0.9668 - val_loss: 4.4600 - val_acc: 0.9217\n",
      "Epoch 40/50\n",
      "1824/1840 [============================>.] - ETA: 0s - loss: 4.3514 - acc: 0.9715Epoch 00039: val_acc did not improve\n",
      "1840/1840 [==============================] - 34s - loss: 4.3512 - acc: 0.9717 - val_loss: 4.4474 - val_acc: 0.9087\n",
      "Epoch 41/50\n",
      "1824/1840 [============================>.] - ETA: 0s - loss: 4.3254 - acc: 0.9759Epoch 00040: val_acc did not improve\n",
      "1840/1840 [==============================] - 33s - loss: 4.3250 - acc: 0.9761 - val_loss: 4.4238 - val_acc: 0.9196\n",
      "Epoch 42/50\n",
      "1824/1840 [============================>.] - ETA: 0s - loss: 4.3110 - acc: 0.9709Epoch 00041: val_acc did not improve\n",
      "1840/1840 [==============================] - 32s - loss: 4.3104 - acc: 0.9712 - val_loss: 4.4050 - val_acc: 0.9261\n",
      "Epoch 43/50\n",
      "1824/1840 [============================>.] - ETA: 0s - loss: 4.2879 - acc: 0.9726Epoch 00042: val_acc did not improve\n",
      "1840/1840 [==============================] - 33s - loss: 4.2880 - acc: 0.9728 - val_loss: 4.3826 - val_acc: 0.9196\n",
      "Epoch 44/50\n",
      "1824/1840 [============================>.] - ETA: 0s - loss: 4.2661 - acc: 0.9704Epoch 00043: val_acc did not improve\n",
      "1840/1840 [==============================] - 33s - loss: 4.2660 - acc: 0.9707 - val_loss: 4.3637 - val_acc: 0.9196\n",
      "Epoch 45/50\n",
      "1824/1840 [============================>.] - ETA: 0s - loss: 4.2451 - acc: 0.9748Epoch 00044: val_acc did not improve\n",
      "1840/1840 [==============================] - 33s - loss: 4.2447 - acc: 0.9750 - val_loss: 4.3452 - val_acc: 0.9217\n",
      "Epoch 46/50\n",
      "1824/1840 [============================>.] - ETA: 0s - loss: 4.2216 - acc: 0.9753Epoch 00045: val_acc did not improve\n",
      "1840/1840 [==============================] - 32s - loss: 4.2216 - acc: 0.9755 - val_loss: 4.3292 - val_acc: 0.9217\n",
      "Epoch 47/50\n",
      "1824/1840 [============================>.] - ETA: 0s - loss: 4.2051 - acc: 0.9748Epoch 00046: val_acc did not improve\n",
      "1840/1840 [==============================] - 32s - loss: 4.2046 - acc: 0.9750 - val_loss: 4.3124 - val_acc: 0.9217\n",
      "Epoch 48/50\n",
      "1824/1840 [============================>.] - ETA: 0s - loss: 4.1806 - acc: 0.9775Epoch 00047: val_acc did not improve\n",
      "1840/1840 [==============================] - 32s - loss: 4.1804 - acc: 0.9777 - val_loss: 4.2895 - val_acc: 0.9239\n",
      "Epoch 49/50\n",
      "1824/1840 [============================>.] - ETA: 0s - loss: 4.1559 - acc: 0.9825Epoch 00048: val_acc did not improve\n",
      "1840/1840 [==============================] - 33s - loss: 4.1570 - acc: 0.9821 - val_loss: 4.2756 - val_acc: 0.9217\n",
      "Epoch 50/50\n",
      "1824/1840 [============================>.] - ETA: 0s - loss: 4.1416 - acc: 0.9803Epoch 00049: val_acc did not improve\n",
      "1840/1840 [==============================] - 32s - loss: 4.1413 - acc: 0.9804 - val_loss: 4.2539 - val_acc: 0.9217\n"
     ]
    }
   ],
   "source": [
    "d1a_model4, d1a_history4 = train_binary_model() "
   ]
  },
  {
   "cell_type": "code",
   "execution_count": 21,
   "metadata": {
    "scrolled": true
   },
   "outputs": [
    {
     "name": "stdout",
     "output_type": "stream",
     "text": [
      "Train on 1840 samples, validate on 460 samples\n",
      "Epoch 1/50\n",
      "1824/1840 [============================>.] - ETA: 0s - loss: 5.6199 - acc: 0.7089Epoch 00000: val_acc improved from -inf to 0.86087, saving model to data1a/top_model_weights.h5\n",
      "1840/1840 [==============================] - 33s - loss: 5.6188 - acc: 0.7098 - val_loss: 5.4381 - val_acc: 0.8609\n",
      "Epoch 2/50\n",
      "1824/1840 [============================>.] - ETA: 0s - loss: 5.4593 - acc: 0.8141Epoch 00001: val_acc improved from 0.86087 to 0.87826, saving model to data1a/top_model_weights.h5\n",
      "1840/1840 [==============================] - 32s - loss: 5.4580 - acc: 0.8152 - val_loss: 5.3562 - val_acc: 0.8783\n",
      "Epoch 3/50\n",
      "1824/1840 [============================>.] - ETA: 0s - loss: 5.4043 - acc: 0.8399Epoch 00002: val_acc improved from 0.87826 to 0.88043, saving model to data1a/top_model_weights.h5\n",
      "1840/1840 [==============================] - 33s - loss: 5.4039 - acc: 0.8402 - val_loss: 5.3345 - val_acc: 0.8804\n",
      "Epoch 4/50\n",
      "1824/1840 [============================>.] - ETA: 0s - loss: 5.3308 - acc: 0.8668Epoch 00003: val_acc improved from 0.88043 to 0.89130, saving model to data1a/top_model_weights.h5\n",
      "1840/1840 [==============================] - 32s - loss: 5.3305 - acc: 0.8668 - val_loss: 5.2662 - val_acc: 0.8913\n",
      "Epoch 5/50\n",
      "1824/1840 [============================>.] - ETA: 0s - loss: 5.2992 - acc: 0.8635Epoch 00004: val_acc did not improve\n",
      "1840/1840 [==============================] - 32s - loss: 5.2980 - acc: 0.8641 - val_loss: 5.2521 - val_acc: 0.8891\n",
      "Epoch 6/50\n",
      "1824/1840 [============================>.] - ETA: 0s - loss: 5.2484 - acc: 0.8832Epoch 00005: val_acc did not improve\n",
      "1840/1840 [==============================] - 33s - loss: 5.2477 - acc: 0.8837 - val_loss: 5.2161 - val_acc: 0.8913\n",
      "Epoch 7/50\n",
      "1824/1840 [============================>.] - ETA: 0s - loss: 5.2242 - acc: 0.8832Epoch 00006: val_acc improved from 0.89130 to 0.89783, saving model to data1a/top_model_weights.h5\n",
      "1840/1840 [==============================] - 35s - loss: 5.2240 - acc: 0.8837 - val_loss: 5.1772 - val_acc: 0.8978\n",
      "Epoch 8/50\n",
      "1824/1840 [============================>.] - ETA: 0s - loss: 5.1757 - acc: 0.8953Epoch 00007: val_acc improved from 0.89783 to 0.90000, saving model to data1a/top_model_weights.h5\n",
      "1840/1840 [==============================] - 33s - loss: 5.1746 - acc: 0.8962 - val_loss: 5.1443 - val_acc: 0.9000\n",
      "Epoch 9/50\n",
      "1824/1840 [============================>.] - ETA: 0s - loss: 5.1479 - acc: 0.8931Epoch 00008: val_acc improved from 0.90000 to 0.90217, saving model to data1a/top_model_weights.h5\n",
      "1840/1840 [==============================] - 37s - loss: 5.1496 - acc: 0.8913 - val_loss: 5.1207 - val_acc: 0.9022\n",
      "Epoch 10/50\n",
      "1824/1840 [============================>.] - ETA: 0s - loss: 5.1181 - acc: 0.8958Epoch 00009: val_acc improved from 0.90217 to 0.90652, saving model to data1a/top_model_weights.h5\n",
      "1840/1840 [==============================] - 37s - loss: 5.1191 - acc: 0.8962 - val_loss: 5.1021 - val_acc: 0.9065\n",
      "Epoch 11/50\n",
      "1824/1840 [============================>.] - ETA: 0s - loss: 5.0958 - acc: 0.8980Epoch 00010: val_acc improved from 0.90652 to 0.90652, saving model to data1a/top_model_weights.h5\n",
      "1840/1840 [==============================] - 41s - loss: 5.0942 - acc: 0.8989 - val_loss: 5.0800 - val_acc: 0.9065\n",
      "Epoch 12/50\n",
      "1824/1840 [============================>.] - ETA: 0s - loss: 5.0553 - acc: 0.9046Epoch 00011: val_acc improved from 0.90652 to 0.90870, saving model to data1a/top_model_weights.h5\n",
      "1840/1840 [==============================] - 37s - loss: 5.0556 - acc: 0.9049 - val_loss: 5.0463 - val_acc: 0.9087\n",
      "Epoch 13/50\n",
      "1824/1840 [============================>.] - ETA: 0s - loss: 5.0340 - acc: 0.9013Epoch 00012: val_acc improved from 0.90870 to 0.91087, saving model to data1a/top_model_weights.h5\n",
      "1840/1840 [==============================] - 37s - loss: 5.0335 - acc: 0.9011 - val_loss: 5.0204 - val_acc: 0.9109\n",
      "Epoch 14/50\n",
      "1824/1840 [============================>.] - ETA: 0s - loss: 5.0063 - acc: 0.9101Epoch 00013: val_acc improved from 0.91087 to 0.91304, saving model to data1a/top_model_weights.h5\n",
      "1840/1840 [==============================] - 37s - loss: 5.0065 - acc: 0.9092 - val_loss: 4.9934 - val_acc: 0.9130\n",
      "Epoch 15/50\n",
      "1824/1840 [============================>.] - ETA: 0s - loss: 4.9674 - acc: 0.9150Epoch 00014: val_acc did not improve\n",
      "1840/1840 [==============================] - 42s - loss: 4.9668 - acc: 0.9152 - val_loss: 4.9758 - val_acc: 0.9109\n",
      "Epoch 16/50\n",
      "1824/1840 [============================>.] - ETA: 0s - loss: 4.9464 - acc: 0.9084Epoch 00015: val_acc did not improve\n",
      "1840/1840 [==============================] - 38s - loss: 4.9455 - acc: 0.9092 - val_loss: 4.9936 - val_acc: 0.8870\n",
      "Epoch 17/50\n",
      "1824/1840 [============================>.] - ETA: 0s - loss: 4.9181 - acc: 0.9216Epoch 00016: val_acc did not improve\n",
      "1840/1840 [==============================] - 41s - loss: 4.9191 - acc: 0.9212 - val_loss: 4.9486 - val_acc: 0.8978\n",
      "Epoch 18/50\n",
      "1824/1840 [============================>.] - ETA: 0s - loss: 4.8942 - acc: 0.9238Epoch 00017: val_acc did not improve\n",
      "1840/1840 [==============================] - 39s - loss: 4.8948 - acc: 0.9239 - val_loss: 4.9056 - val_acc: 0.9109\n",
      "Epoch 19/50\n",
      "1824/1840 [============================>.] - ETA: 0s - loss: 4.8458 - acc: 0.9353Epoch 00018: val_acc did not improve\n",
      "1840/1840 [==============================] - 38s - loss: 4.8457 - acc: 0.9353 - val_loss: 4.8977 - val_acc: 0.9087\n",
      "Epoch 20/50\n",
      "1824/1840 [============================>.] - ETA: 0s - loss: 4.8404 - acc: 0.9254Epoch 00019: val_acc did not improve\n",
      "1840/1840 [==============================] - 38s - loss: 4.8403 - acc: 0.9250 - val_loss: 4.8782 - val_acc: 0.9000\n",
      "Epoch 21/50\n",
      "1824/1840 [============================>.] - ETA: 0s - loss: 4.8004 - acc: 0.9315Epoch 00020: val_acc improved from 0.91304 to 0.91739, saving model to data1a/top_model_weights.h5\n",
      "1840/1840 [==============================] - 39s - loss: 4.7992 - acc: 0.9321 - val_loss: 4.8319 - val_acc: 0.9174\n",
      "Epoch 22/50\n",
      "1824/1840 [============================>.] - ETA: 0s - loss: 4.7791 - acc: 0.9380Epoch 00021: val_acc did not improve\n",
      "1840/1840 [==============================] - 37s - loss: 4.7796 - acc: 0.9380 - val_loss: 4.8178 - val_acc: 0.9065\n",
      "Epoch 23/50\n",
      "1824/1840 [============================>.] - ETA: 0s - loss: 4.7496 - acc: 0.9380Epoch 00022: val_acc did not improve\n",
      "1840/1840 [==============================] - 38s - loss: 4.7497 - acc: 0.9375 - val_loss: 4.7940 - val_acc: 0.9087\n",
      "Epoch 24/50\n",
      "1824/1840 [============================>.] - ETA: 0s - loss: 4.7325 - acc: 0.9402Epoch 00023: val_acc improved from 0.91739 to 0.92174, saving model to data1a/top_model_weights.h5\n",
      "1840/1840 [==============================] - 37s - loss: 4.7317 - acc: 0.9408 - val_loss: 4.7716 - val_acc: 0.9217\n",
      "Epoch 25/50\n",
      "1824/1840 [============================>.] - ETA: 0s - loss: 4.6974 - acc: 0.9446Epoch 00024: val_acc did not improve\n",
      "1840/1840 [==============================] - 38s - loss: 4.6977 - acc: 0.9451 - val_loss: 4.7473 - val_acc: 0.9152\n",
      "Epoch 26/50\n",
      "1824/1840 [============================>.] - ETA: 0s - loss: 4.6757 - acc: 0.9501Epoch 00025: val_acc did not improve\n",
      "1840/1840 [==============================] - 37s - loss: 4.6750 - acc: 0.9505 - val_loss: 4.7227 - val_acc: 0.9196\n",
      "Epoch 27/50\n",
      "1824/1840 [============================>.] - ETA: 0s - loss: 4.6519 - acc: 0.9474Epoch 00026: val_acc improved from 0.92174 to 0.92391, saving model to data1a/top_model_weights.h5\n",
      "1840/1840 [==============================] - 38s - loss: 4.6512 - acc: 0.9478 - val_loss: 4.7031 - val_acc: 0.9239\n",
      "Epoch 28/50\n",
      "1824/1840 [============================>.] - ETA: 0s - loss: 4.6211 - acc: 0.9523Epoch 00027: val_acc did not improve\n",
      "1840/1840 [==============================] - 37s - loss: 4.6219 - acc: 0.9516 - val_loss: 4.6882 - val_acc: 0.9087\n",
      "Epoch 29/50\n",
      "1824/1840 [============================>.] - ETA: 0s - loss: 4.6045 - acc: 0.9507Epoch 00028: val_acc did not improve\n",
      "1840/1840 [==============================] - 37s - loss: 4.6040 - acc: 0.9511 - val_loss: 4.6631 - val_acc: 0.9196\n",
      "Epoch 30/50\n",
      "1824/1840 [============================>.] - ETA: 0s - loss: 4.5805 - acc: 0.9490Epoch 00029: val_acc did not improve\n"
     ]
    },
    {
     "name": "stdout",
     "output_type": "stream",
     "text": [
      "1840/1840 [==============================] - 37s - loss: 4.5799 - acc: 0.9495 - val_loss: 4.6400 - val_acc: 0.9217\n",
      "Epoch 31/50\n",
      "1824/1840 [============================>.] - ETA: 0s - loss: 4.5529 - acc: 0.9578Epoch 00030: val_acc did not improve\n",
      "1840/1840 [==============================] - 37s - loss: 4.5529 - acc: 0.9576 - val_loss: 4.6383 - val_acc: 0.9109\n",
      "Epoch 32/50\n",
      "1824/1840 [============================>.] - ETA: 0s - loss: 4.5391 - acc: 0.9534Epoch 00031: val_acc did not improve\n",
      "1840/1840 [==============================] - 37s - loss: 4.5390 - acc: 0.9533 - val_loss: 4.6000 - val_acc: 0.9217\n",
      "Epoch 33/50\n",
      "1824/1840 [============================>.] - ETA: 0s - loss: 4.5063 - acc: 0.9622Epoch 00032: val_acc did not improve\n",
      "1840/1840 [==============================] - 38s - loss: 4.5055 - acc: 0.9625 - val_loss: 4.5860 - val_acc: 0.9109\n",
      "Epoch 34/50\n",
      "1824/1840 [============================>.] - ETA: 0s - loss: 4.4823 - acc: 0.9638Epoch 00033: val_acc did not improve\n",
      "1840/1840 [==============================] - 37s - loss: 4.4823 - acc: 0.9636 - val_loss: 4.5646 - val_acc: 0.9130\n",
      "Epoch 35/50\n",
      "1824/1840 [============================>.] - ETA: 0s - loss: 4.4502 - acc: 0.9682Epoch 00034: val_acc did not improve\n",
      "1840/1840 [==============================] - 39s - loss: 4.4496 - acc: 0.9685 - val_loss: 4.5411 - val_acc: 0.9152\n",
      "Epoch 36/50\n",
      "1824/1840 [============================>.] - ETA: 0s - loss: 4.4443 - acc: 0.9583Epoch 00035: val_acc did not improve\n",
      "1840/1840 [==============================] - 37s - loss: 4.4440 - acc: 0.9587 - val_loss: 4.5197 - val_acc: 0.9217\n",
      "Epoch 37/50\n",
      "1824/1840 [============================>.] - ETA: 0s - loss: 4.4196 - acc: 0.9578Epoch 00036: val_acc did not improve\n",
      "1840/1840 [==============================] - 38s - loss: 4.4189 - acc: 0.9582 - val_loss: 4.5001 - val_acc: 0.9239\n",
      "Epoch 38/50\n",
      "1824/1840 [============================>.] - ETA: 0s - loss: 4.4006 - acc: 0.9622Epoch 00037: val_acc did not improve\n",
      "1840/1840 [==============================] - 37s - loss: 4.3998 - acc: 0.9625 - val_loss: 4.4818 - val_acc: 0.9196\n",
      "Epoch 39/50\n",
      "1824/1840 [============================>.] - ETA: 0s - loss: 4.3752 - acc: 0.9677Epoch 00038: val_acc did not improve\n",
      "1840/1840 [==============================] - 37s - loss: 4.3748 - acc: 0.9679 - val_loss: 4.4674 - val_acc: 0.9109\n",
      "Epoch 40/50\n",
      "1824/1840 [============================>.] - ETA: 0s - loss: 4.3416 - acc: 0.9770Epoch 00039: val_acc did not improve\n",
      "1840/1840 [==============================] - 37s - loss: 4.3414 - acc: 0.9772 - val_loss: 4.4417 - val_acc: 0.9217\n",
      "Epoch 41/50\n",
      "1824/1840 [============================>.] - ETA: 0s - loss: 4.3220 - acc: 0.9715Epoch 00040: val_acc did not improve\n",
      "1840/1840 [==============================] - 38s - loss: 4.3228 - acc: 0.9712 - val_loss: 4.4428 - val_acc: 0.9130\n",
      "Epoch 42/50\n",
      "1824/1840 [============================>.] - ETA: 0s - loss: 4.3038 - acc: 0.9753Epoch 00041: val_acc did not improve\n",
      "1840/1840 [==============================] - 37s - loss: 4.3037 - acc: 0.9750 - val_loss: 4.4105 - val_acc: 0.9174\n",
      "Epoch 43/50\n",
      "1824/1840 [============================>.] - ETA: 0s - loss: 4.2830 - acc: 0.9753Epoch 00042: val_acc did not improve\n",
      "1840/1840 [==============================] - 38s - loss: 4.2836 - acc: 0.9750 - val_loss: 4.3902 - val_acc: 0.9196\n",
      "Epoch 44/50\n",
      "1824/1840 [============================>.] - ETA: 0s - loss: 4.2663 - acc: 0.9688Epoch 00043: val_acc did not improve\n",
      "1840/1840 [==============================] - 37s - loss: 4.2657 - acc: 0.9690 - val_loss: 4.3774 - val_acc: 0.9087\n",
      "Epoch 45/50\n",
      "1824/1840 [============================>.] - ETA: 0s - loss: 4.2397 - acc: 0.9720Epoch 00044: val_acc did not improve\n",
      "1840/1840 [==============================] - 37s - loss: 4.2391 - acc: 0.9723 - val_loss: 4.3541 - val_acc: 0.9109\n",
      "Epoch 46/50\n",
      "1824/1840 [============================>.] - ETA: 0s - loss: 4.2160 - acc: 0.9814Epoch 00045: val_acc did not improve\n",
      "1840/1840 [==============================] - 37s - loss: 4.2158 - acc: 0.9815 - val_loss: 4.3276 - val_acc: 0.9239\n",
      "Epoch 47/50\n",
      "1824/1840 [============================>.] - ETA: 0s - loss: 4.1992 - acc: 0.9792Epoch 00046: val_acc did not improve\n",
      "1840/1840 [==============================] - 38s - loss: 4.1994 - acc: 0.9788 - val_loss: 4.3267 - val_acc: 0.9130\n",
      "Epoch 48/50\n",
      "1824/1840 [============================>.] - ETA: 0s - loss: 4.1775 - acc: 0.9819Epoch 00047: val_acc did not improve\n",
      "1840/1840 [==============================] - 38s - loss: 4.1770 - acc: 0.9821 - val_loss: 4.2945 - val_acc: 0.9174\n",
      "Epoch 49/50\n",
      "1824/1840 [============================>.] - ETA: 0s - loss: 4.1533 - acc: 0.9792Epoch 00048: val_acc did not improve\n",
      "1840/1840 [==============================] - 38s - loss: 4.1539 - acc: 0.9788 - val_loss: 4.2875 - val_acc: 0.9130\n",
      "Epoch 50/50\n",
      "1824/1840 [============================>.] - ETA: 0s - loss: 4.1304 - acc: 0.9841Epoch 00049: val_acc did not improve\n",
      "1840/1840 [==============================] - 37s - loss: 4.1309 - acc: 0.9837 - val_loss: 4.2533 - val_acc: 0.9196\n"
     ]
    }
   ],
   "source": [
    "d1a_model5, d1a_history5 = train_binary_model() "
   ]
  },
  {
   "cell_type": "code",
   "execution_count": 22,
   "metadata": {
    "scrolled": true
   },
   "outputs": [
    {
     "name": "stdout",
     "output_type": "stream",
     "text": [
      "Train on 1840 samples, validate on 460 samples\n",
      "Epoch 1/50\n",
      "1824/1840 [============================>.] - ETA: 0s - loss: 5.6564 - acc: 0.6891Epoch 00000: val_acc improved from -inf to 0.88696, saving model to data1a/top_model_weights.h5\n",
      "1840/1840 [==============================] - 37s - loss: 5.6537 - acc: 0.6918 - val_loss: 5.4506 - val_acc: 0.8870\n",
      "Epoch 2/50\n",
      "1824/1840 [============================>.] - ETA: 0s - loss: 5.4684 - acc: 0.8158Epoch 00001: val_acc improved from 0.88696 to 0.90000, saving model to data1a/top_model_weights.h5\n",
      "1840/1840 [==============================] - 37s - loss: 5.4664 - acc: 0.8168 - val_loss: 5.3676 - val_acc: 0.9000\n",
      "Epoch 3/50\n",
      "1824/1840 [============================>.] - ETA: 0s - loss: 5.3856 - acc: 0.8536Epoch 00002: val_acc did not improve\n",
      "1840/1840 [==============================] - 37s - loss: 5.3853 - acc: 0.8538 - val_loss: 5.3435 - val_acc: 0.8587\n",
      "Epoch 4/50\n",
      "1824/1840 [============================>.] - ETA: 0s - loss: 5.3402 - acc: 0.8586Epoch 00003: val_acc improved from 0.90000 to 0.90435, saving model to data1a/top_model_weights.h5\n",
      "1840/1840 [==============================] - 37s - loss: 5.3403 - acc: 0.8582 - val_loss: 5.2799 - val_acc: 0.9043\n",
      "Epoch 5/50\n",
      "1824/1840 [============================>.] - ETA: 0s - loss: 5.2970 - acc: 0.8739Epoch 00004: val_acc did not improve\n",
      "1840/1840 [==============================] - 37s - loss: 5.2976 - acc: 0.8734 - val_loss: 5.2411 - val_acc: 0.9022\n",
      "Epoch 6/50\n",
      "1824/1840 [============================>.] - ETA: 0s - loss: 5.2678 - acc: 0.8750Epoch 00005: val_acc improved from 0.90435 to 0.90652, saving model to data1a/top_model_weights.h5\n",
      "1840/1840 [==============================] - 41s - loss: 5.2669 - acc: 0.8750 - val_loss: 5.2109 - val_acc: 0.9065\n",
      "Epoch 7/50\n",
      "1824/1840 [============================>.] - ETA: 0s - loss: 5.2186 - acc: 0.8904Epoch 00006: val_acc did not improve\n",
      "1840/1840 [==============================] - 39s - loss: 5.2192 - acc: 0.8897 - val_loss: 5.1900 - val_acc: 0.9022\n",
      "Epoch 8/50\n",
      "1824/1840 [============================>.] - ETA: 0s - loss: 5.1879 - acc: 0.8860Epoch 00007: val_acc improved from 0.90652 to 0.91522, saving model to data1a/top_model_weights.h5\n",
      "1840/1840 [==============================] - 38s - loss: 5.1884 - acc: 0.8859 - val_loss: 5.1490 - val_acc: 0.9152\n",
      "Epoch 9/50\n",
      "1824/1840 [============================>.] - ETA: 0s - loss: 5.1685 - acc: 0.8854Epoch 00008: val_acc did not improve\n",
      "1840/1840 [==============================] - 39s - loss: 5.1672 - acc: 0.8859 - val_loss: 5.1228 - val_acc: 0.9087\n",
      "Epoch 10/50\n",
      "1824/1840 [============================>.] - ETA: 0s - loss: 5.1306 - acc: 0.8854Epoch 00009: val_acc did not improve\n",
      "1840/1840 [==============================] - 38s - loss: 5.1293 - acc: 0.8864 - val_loss: 5.1144 - val_acc: 0.8957\n",
      "Epoch 11/50\n",
      "1824/1840 [============================>.] - ETA: 0s - loss: 5.0963 - acc: 0.8958Epoch 00010: val_acc did not improve\n",
      "1840/1840 [==============================] - 38s - loss: 5.0966 - acc: 0.8957 - val_loss: 5.0925 - val_acc: 0.8978\n",
      "Epoch 12/50\n",
      "1824/1840 [============================>.] - ETA: 0s - loss: 5.0651 - acc: 0.9046Epoch 00011: val_acc did not improve\n",
      "1840/1840 [==============================] - 38s - loss: 5.0643 - acc: 0.9054 - val_loss: 5.0844 - val_acc: 0.8913\n",
      "Epoch 13/50\n",
      "1824/1840 [============================>.] - ETA: 0s - loss: 5.0380 - acc: 0.9145Epoch 00012: val_acc did not improve\n",
      "1840/1840 [==============================] - 41s - loss: 5.0367 - acc: 0.9152 - val_loss: 5.0171 - val_acc: 0.9109\n",
      "Epoch 14/50\n",
      "1824/1840 [============================>.] - ETA: 0s - loss: 5.0045 - acc: 0.9134Epoch 00013: val_acc improved from 0.91522 to 0.91522, saving model to data1a/top_model_weights.h5\n",
      "1840/1840 [==============================] - 45s - loss: 5.0040 - acc: 0.9136 - val_loss: 4.9988 - val_acc: 0.9152\n",
      "Epoch 15/50\n",
      "1824/1840 [============================>.] - ETA: 0s - loss: 4.9807 - acc: 0.9101Epoch 00014: val_acc did not improve\n",
      "1840/1840 [==============================] - 40s - loss: 4.9798 - acc: 0.9109 - val_loss: 4.9736 - val_acc: 0.9152\n",
      "Epoch 16/50\n",
      "1824/1840 [============================>.] - ETA: 0s - loss: 4.9603 - acc: 0.9139Epoch 00015: val_acc did not improve\n",
      "1840/1840 [==============================] - 37s - loss: 4.9611 - acc: 0.9130 - val_loss: 4.9546 - val_acc: 0.9109\n",
      "Epoch 17/50\n",
      "1824/1840 [============================>.] - ETA: 0s - loss: 4.9245 - acc: 0.9161Epoch 00016: val_acc did not improve\n",
      "1840/1840 [==============================] - 37s - loss: 4.9255 - acc: 0.9158 - val_loss: 4.9265 - val_acc: 0.9130\n",
      "Epoch 18/50\n",
      "1824/1840 [============================>.] - ETA: 0s - loss: 4.8936 - acc: 0.9260Epoch 00017: val_acc improved from 0.91522 to 0.91739, saving model to data1a/top_model_weights.h5\n",
      "1840/1840 [==============================] - 38s - loss: 4.8926 - acc: 0.9266 - val_loss: 4.9039 - val_acc: 0.9174\n",
      "Epoch 19/50\n",
      "1824/1840 [============================>.] - ETA: 0s - loss: 4.8687 - acc: 0.9243Epoch 00018: val_acc did not improve\n",
      "1840/1840 [==============================] - 39s - loss: 4.8679 - acc: 0.9250 - val_loss: 4.8911 - val_acc: 0.9152\n",
      "Epoch 20/50\n",
      "1824/1840 [============================>.] - ETA: 0s - loss: 4.8381 - acc: 0.9320Epoch 00019: val_acc did not improve\n",
      "1840/1840 [==============================] - 37s - loss: 4.8365 - acc: 0.9326 - val_loss: 4.8597 - val_acc: 0.9130\n",
      "Epoch 21/50\n",
      "1824/1840 [============================>.] - ETA: 0s - loss: 4.8123 - acc: 0.9397Epoch 00020: val_acc did not improve\n",
      "1840/1840 [==============================] - 38s - loss: 4.8124 - acc: 0.9397 - val_loss: 4.8397 - val_acc: 0.9152\n",
      "Epoch 22/50\n",
      "1824/1840 [============================>.] - ETA: 0s - loss: 4.7787 - acc: 0.9441Epoch 00021: val_acc improved from 0.91739 to 0.91957, saving model to data1a/top_model_weights.h5\n",
      "1840/1840 [==============================] - 37s - loss: 4.7783 - acc: 0.9440 - val_loss: 4.8130 - val_acc: 0.9196\n",
      "Epoch 23/50\n",
      "1824/1840 [============================>.] - ETA: 0s - loss: 4.7663 - acc: 0.9265Epoch 00022: val_acc did not improve\n",
      "1840/1840 [==============================] - 38s - loss: 4.7658 - acc: 0.9272 - val_loss: 4.7887 - val_acc: 0.9174\n",
      "Epoch 24/50\n",
      "1824/1840 [============================>.] - ETA: 0s - loss: 4.7368 - acc: 0.9441Epoch 00023: val_acc improved from 0.91957 to 0.92174, saving model to data1a/top_model_weights.h5\n",
      "1840/1840 [==============================] - 37s - loss: 4.7375 - acc: 0.9435 - val_loss: 4.7700 - val_acc: 0.9217\n",
      "Epoch 25/50\n",
      "1824/1840 [============================>.] - ETA: 0s - loss: 4.7051 - acc: 0.9435Epoch 00024: val_acc did not improve\n",
      "1840/1840 [==============================] - 37s - loss: 4.7053 - acc: 0.9435 - val_loss: 4.7547 - val_acc: 0.9152\n",
      "Epoch 26/50\n",
      "1824/1840 [============================>.] - ETA: 0s - loss: 4.6915 - acc: 0.9375Epoch 00025: val_acc did not improve\n",
      "1840/1840 [==============================] - 37s - loss: 4.6919 - acc: 0.9375 - val_loss: 4.7350 - val_acc: 0.9109\n",
      "Epoch 27/50\n",
      "1824/1840 [============================>.] - ETA: 0s - loss: 4.6633 - acc: 0.9419Epoch 00026: val_acc did not improve\n",
      "1840/1840 [==============================] - 37s - loss: 4.6625 - acc: 0.9418 - val_loss: 4.7129 - val_acc: 0.9174\n",
      "Epoch 28/50\n",
      "1824/1840 [============================>.] - ETA: 0s - loss: 4.6366 - acc: 0.9468Epoch 00027: val_acc did not improve\n",
      "1840/1840 [==============================] - 37s - loss: 4.6362 - acc: 0.9473 - val_loss: 4.6989 - val_acc: 0.9130\n",
      "Epoch 29/50\n",
      "1824/1840 [============================>.] - ETA: 0s - loss: 4.6155 - acc: 0.9430Epoch 00028: val_acc did not improve\n",
      "1840/1840 [==============================] - 37s - loss: 4.6151 - acc: 0.9429 - val_loss: 4.6605 - val_acc: 0.9174\n",
      "Epoch 30/50\n",
      "1824/1840 [============================>.] - ETA: 0s - loss: 4.5856 - acc: 0.9479Epoch 00029: val_acc did not improve\n",
      "1840/1840 [==============================] - 35s - loss: 4.5846 - acc: 0.9484 - val_loss: 4.6371 - val_acc: 0.9196\n",
      "Epoch 31/50\n",
      "1824/1840 [============================>.] - ETA: 0s - loss: 4.5615 - acc: 0.9479Epoch 00030: val_acc did not improve\n",
      "1840/1840 [==============================] - 33s - loss: 4.5606 - acc: 0.9484 - val_loss: 4.6246 - val_acc: 0.9217\n",
      "Epoch 32/50\n"
     ]
    },
    {
     "name": "stdout",
     "output_type": "stream",
     "text": [
      "1824/1840 [============================>.] - ETA: 0s - loss: 4.5446 - acc: 0.9501Epoch 00031: val_acc did not improve\n",
      "1840/1840 [==============================] - 32s - loss: 4.5441 - acc: 0.9505 - val_loss: 4.6048 - val_acc: 0.9217\n",
      "Epoch 33/50\n",
      "1824/1840 [============================>.] - ETA: 0s - loss: 4.5185 - acc: 0.9567Epoch 00032: val_acc did not improve\n",
      "1840/1840 [==============================] - 33s - loss: 4.5189 - acc: 0.9560 - val_loss: 4.5770 - val_acc: 0.9152\n",
      "Epoch 34/50\n",
      "1824/1840 [============================>.] - ETA: 0s - loss: 4.4906 - acc: 0.9611Epoch 00033: val_acc improved from 0.92174 to 0.92391, saving model to data1a/top_model_weights.h5\n",
      "1840/1840 [==============================] - 34s - loss: 4.4913 - acc: 0.9609 - val_loss: 4.5569 - val_acc: 0.9239\n",
      "Epoch 35/50\n",
      "1824/1840 [============================>.] - ETA: 0s - loss: 4.4688 - acc: 0.9611Epoch 00034: val_acc did not improve\n",
      "1840/1840 [==============================] - 33s - loss: 4.4679 - acc: 0.9614 - val_loss: 4.5386 - val_acc: 0.9196\n",
      "Epoch 36/50\n",
      "1824/1840 [============================>.] - ETA: 0s - loss: 4.4459 - acc: 0.9633Epoch 00035: val_acc did not improve\n",
      "1840/1840 [==============================] - 33s - loss: 4.4460 - acc: 0.9630 - val_loss: 4.5361 - val_acc: 0.9174\n",
      "Epoch 37/50\n",
      "1824/1840 [============================>.] - ETA: 0s - loss: 4.4269 - acc: 0.9633Epoch 00036: val_acc did not improve\n",
      "1840/1840 [==============================] - 34s - loss: 4.4261 - acc: 0.9636 - val_loss: 4.5034 - val_acc: 0.9217\n",
      "Epoch 38/50\n",
      "1824/1840 [============================>.] - ETA: 0s - loss: 4.4059 - acc: 0.9627- ETA: 0s - loss: 4.4062 - acc: 0.962Epoch 00037: val_acc did not improve\n",
      "1840/1840 [==============================] - 35s - loss: 4.4055 - acc: 0.9630 - val_loss: 4.4790 - val_acc: 0.9196\n",
      "Epoch 39/50\n",
      "1824/1840 [============================>.] - ETA: 0s - loss: 4.3808 - acc: 0.9649Epoch 00038: val_acc did not improve\n",
      "1840/1840 [==============================] - 41s - loss: 4.3801 - acc: 0.9652 - val_loss: 4.4590 - val_acc: 0.9152\n",
      "Epoch 40/50\n",
      "1824/1840 [============================>.] - ETA: 0s - loss: 4.3567 - acc: 0.9671Epoch 00039: val_acc did not improve\n",
      "1840/1840 [==============================] - 36s - loss: 4.3562 - acc: 0.9674 - val_loss: 4.4379 - val_acc: 0.9217\n",
      "Epoch 41/50\n",
      "1824/1840 [============================>.] - ETA: 0s - loss: 4.3327 - acc: 0.9698Epoch 00040: val_acc did not improve\n",
      "1840/1840 [==============================] - 36s - loss: 4.3327 - acc: 0.9696 - val_loss: 4.4204 - val_acc: 0.9174\n",
      "Epoch 42/50\n",
      "1824/1840 [============================>.] - ETA: 0s - loss: 4.3190 - acc: 0.9671Epoch 00041: val_acc did not improve\n",
      "1840/1840 [==============================] - 34s - loss: 4.3188 - acc: 0.9668 - val_loss: 4.4203 - val_acc: 0.9174\n",
      "Epoch 43/50\n",
      "1824/1840 [============================>.] - ETA: 0s - loss: 4.2941 - acc: 0.9682Epoch 00042: val_acc did not improve\n",
      "1840/1840 [==============================] - 35s - loss: 4.2940 - acc: 0.9679 - val_loss: 4.3830 - val_acc: 0.9196\n",
      "Epoch 44/50\n",
      "1824/1840 [============================>.] - ETA: 0s - loss: 4.2681 - acc: 0.9720Epoch 00043: val_acc did not improve\n",
      "1840/1840 [==============================] - 34s - loss: 4.2684 - acc: 0.9717 - val_loss: 4.3636 - val_acc: 0.9196\n",
      "Epoch 45/50\n",
      "1824/1840 [============================>.] - ETA: 0s - loss: 4.2510 - acc: 0.9748Epoch 00044: val_acc did not improve\n",
      "1840/1840 [==============================] - 34s - loss: 4.2514 - acc: 0.9745 - val_loss: 4.3500 - val_acc: 0.9174\n",
      "Epoch 46/50\n",
      "1824/1840 [============================>.] - ETA: 0s - loss: 4.2233 - acc: 0.9792Epoch 00045: val_acc did not improve\n",
      "1840/1840 [==============================] - 34s - loss: 4.2238 - acc: 0.9788 - val_loss: 4.3470 - val_acc: 0.9130\n",
      "Epoch 47/50\n",
      "1824/1840 [============================>.] - ETA: 0s - loss: 4.2083 - acc: 0.9720Epoch 00046: val_acc did not improve\n",
      "1840/1840 [==============================] - 35s - loss: 4.2080 - acc: 0.9723 - val_loss: 4.3085 - val_acc: 0.9174\n",
      "Epoch 48/50\n",
      "1824/1840 [============================>.] - ETA: 0s - loss: 4.1855 - acc: 0.9737Epoch 00047: val_acc did not improve\n",
      "1840/1840 [==============================] - 34s - loss: 4.1851 - acc: 0.9739 - val_loss: 4.2931 - val_acc: 0.9196\n",
      "Epoch 49/50\n",
      "1824/1840 [============================>.] - ETA: 0s - loss: 4.1685 - acc: 0.9803Epoch 00048: val_acc did not improve\n",
      "1840/1840 [==============================] - 34s - loss: 4.1678 - acc: 0.9804 - val_loss: 4.2701 - val_acc: 0.9174\n",
      "Epoch 50/50\n",
      "1824/1840 [============================>.] - ETA: 0s - loss: 4.1450 - acc: 0.9759Epoch 00049: val_acc did not improve\n",
      "1840/1840 [==============================] - 34s - loss: 4.1449 - acc: 0.9761 - val_loss: 4.2669 - val_acc: 0.9174\n"
     ]
    }
   ],
   "source": [
    "d1a_model6, d1a_history6 = train_binary_model() "
   ]
  },
  {
   "cell_type": "code",
   "execution_count": 23,
   "metadata": {
    "scrolled": true
   },
   "outputs": [
    {
     "name": "stdout",
     "output_type": "stream",
     "text": [
      "Train on 1840 samples, validate on 460 samples\n",
      "Epoch 1/50\n",
      "1824/1840 [============================>.] - ETA: 0s - loss: 5.6334 - acc: 0.7067Epoch 00000: val_acc improved from -inf to 0.87174, saving model to data1a/top_model_weights.h5\n",
      "1840/1840 [==============================] - 33s - loss: 5.6326 - acc: 0.7076 - val_loss: 5.4392 - val_acc: 0.8717\n",
      "Epoch 2/50\n",
      "1824/1840 [============================>.] - ETA: 0s - loss: 5.4647 - acc: 0.8185Epoch 00001: val_acc improved from 0.87174 to 0.87391, saving model to data1a/top_model_weights.h5\n",
      "1840/1840 [==============================] - 35s - loss: 5.4645 - acc: 0.8185 - val_loss: 5.3640 - val_acc: 0.8739\n",
      "Epoch 3/50\n",
      "1824/1840 [============================>.] - ETA: 0s - loss: 5.3894 - acc: 0.8498Epoch 00002: val_acc improved from 0.87391 to 0.88696, saving model to data1a/top_model_weights.h5\n",
      "1840/1840 [==============================] - 48s - loss: 5.3887 - acc: 0.8500 - val_loss: 5.3203 - val_acc: 0.8870\n",
      "Epoch 4/50\n",
      "1824/1840 [============================>.] - ETA: 0s - loss: 5.3214 - acc: 0.8739Epoch 00003: val_acc did not improve\n",
      "1840/1840 [==============================] - 35s - loss: 5.3212 - acc: 0.8739 - val_loss: 5.2884 - val_acc: 0.8783\n",
      "Epoch 5/50\n",
      "1824/1840 [============================>.] - ETA: 0s - loss: 5.2942 - acc: 0.8651Epoch 00004: val_acc did not improve\n",
      "1840/1840 [==============================] - 34s - loss: 5.2939 - acc: 0.8652 - val_loss: 5.2725 - val_acc: 0.8717\n",
      "Epoch 6/50\n",
      "1824/1840 [============================>.] - ETA: 0s - loss: 5.2582 - acc: 0.8679Epoch 00005: val_acc improved from 0.88696 to 0.89565, saving model to data1a/top_model_weights.h5\n",
      "1840/1840 [==============================] - 33s - loss: 5.2582 - acc: 0.8685 - val_loss: 5.2164 - val_acc: 0.8957\n",
      "Epoch 7/50\n",
      "1824/1840 [============================>.] - ETA: 0s - loss: 5.2245 - acc: 0.8805Epoch 00006: val_acc did not improve\n",
      "1840/1840 [==============================] - 33s - loss: 5.2247 - acc: 0.8810 - val_loss: 5.2151 - val_acc: 0.8826\n",
      "Epoch 8/50\n",
      "1824/1840 [============================>.] - ETA: 0s - loss: 5.1826 - acc: 0.8947Epoch 00007: val_acc improved from 0.89565 to 0.90652, saving model to data1a/top_model_weights.h5\n",
      "1840/1840 [==============================] - 33s - loss: 5.1820 - acc: 0.8951 - val_loss: 5.1590 - val_acc: 0.9065\n",
      "Epoch 9/50\n",
      "1824/1840 [============================>.] - ETA: 0s - loss: 5.1490 - acc: 0.9002Epoch 00008: val_acc did not improve\n",
      "1840/1840 [==============================] - 34s - loss: 5.1498 - acc: 0.9000 - val_loss: 5.1307 - val_acc: 0.9022\n",
      "Epoch 10/50\n",
      "1824/1840 [============================>.] - ETA: 0s - loss: 5.1139 - acc: 0.8991Epoch 00009: val_acc did not improve\n",
      "1840/1840 [==============================] - 33s - loss: 5.1126 - acc: 0.9000 - val_loss: 5.0997 - val_acc: 0.8935\n",
      "Epoch 11/50\n",
      "1824/1840 [============================>.] - ETA: 0s - loss: 5.0967 - acc: 0.8964Epoch 00010: val_acc did not improve\n",
      "1840/1840 [==============================] - 33s - loss: 5.0954 - acc: 0.8973 - val_loss: 5.0790 - val_acc: 0.9022\n",
      "Epoch 12/50\n",
      "1824/1840 [============================>.] - ETA: 0s - loss: 5.0583 - acc: 0.9101Epoch 00011: val_acc did not improve\n",
      "1840/1840 [==============================] - 33s - loss: 5.0581 - acc: 0.9103 - val_loss: 5.0612 - val_acc: 0.9000\n",
      "Epoch 13/50\n",
      "1824/1840 [============================>.] - ETA: 0s - loss: 5.0269 - acc: 0.9112Epoch 00012: val_acc improved from 0.90652 to 0.91304, saving model to data1a/top_model_weights.h5\n",
      "1840/1840 [==============================] - 32s - loss: 5.0268 - acc: 0.9114 - val_loss: 5.0285 - val_acc: 0.9130\n",
      "Epoch 14/50\n",
      "1824/1840 [============================>.] - ETA: 0s - loss: 5.0127 - acc: 0.9024Epoch 00013: val_acc did not improve\n",
      "1840/1840 [==============================] - 33s - loss: 5.0118 - acc: 0.9033 - val_loss: 5.0168 - val_acc: 0.9043\n",
      "Epoch 15/50\n",
      "1824/1840 [============================>.] - ETA: 0s - loss: 4.9716 - acc: 0.9139Epoch 00014: val_acc did not improve\n",
      "1840/1840 [==============================] - 33s - loss: 4.9701 - acc: 0.9147 - val_loss: 4.9734 - val_acc: 0.9130\n",
      "Epoch 16/50\n",
      "1824/1840 [============================>.] - ETA: 0s - loss: 4.9413 - acc: 0.9205Epoch 00015: val_acc improved from 0.91304 to 0.91522, saving model to data1a/top_model_weights.h5\n",
      "1840/1840 [==============================] - 33s - loss: 4.9409 - acc: 0.9212 - val_loss: 4.9558 - val_acc: 0.9152\n",
      "Epoch 17/50\n",
      "1824/1840 [============================>.] - ETA: 0s - loss: 4.9254 - acc: 0.9189Epoch 00016: val_acc did not improve\n",
      "1840/1840 [==============================] - 33s - loss: 4.9250 - acc: 0.9190 - val_loss: 4.9267 - val_acc: 0.9130\n",
      "Epoch 18/50\n",
      "1824/1840 [============================>.] - ETA: 0s - loss: 4.8889 - acc: 0.9271Epoch 00017: val_acc did not improve\n",
      "1840/1840 [==============================] - 33s - loss: 4.8880 - acc: 0.9277 - val_loss: 4.9043 - val_acc: 0.9130\n",
      "Epoch 19/50\n",
      "1824/1840 [============================>.] - ETA: 0s - loss: 4.8571 - acc: 0.9304Epoch 00018: val_acc did not improve\n",
      "1840/1840 [==============================] - 33s - loss: 4.8573 - acc: 0.9299 - val_loss: 4.8815 - val_acc: 0.9152\n",
      "Epoch 20/50\n",
      "1824/1840 [============================>.] - ETA: 0s - loss: 4.8354 - acc: 0.9298Epoch 00019: val_acc improved from 0.91522 to 0.91739, saving model to data1a/top_model_weights.h5\n",
      "1840/1840 [==============================] - 33s - loss: 4.8352 - acc: 0.9293 - val_loss: 4.8567 - val_acc: 0.9174\n",
      "Epoch 21/50\n",
      "1824/1840 [============================>.] - ETA: 0s - loss: 4.8031 - acc: 0.9348Epoch 00020: val_acc did not improve\n",
      "1840/1840 [==============================] - 33s - loss: 4.8031 - acc: 0.9348 - val_loss: 4.8494 - val_acc: 0.9087\n",
      "Epoch 22/50\n",
      "1824/1840 [============================>.] - ETA: 0s - loss: 4.7774 - acc: 0.9419Epoch 00021: val_acc improved from 0.91739 to 0.91739, saving model to data1a/top_model_weights.h5\n",
      "1840/1840 [==============================] - 33s - loss: 4.7768 - acc: 0.9418 - val_loss: 4.8228 - val_acc: 0.9174\n",
      "Epoch 23/50\n",
      "1824/1840 [============================>.] - ETA: 0s - loss: 4.7503 - acc: 0.9435Epoch 00022: val_acc did not improve\n",
      "1840/1840 [==============================] - 36s - loss: 4.7495 - acc: 0.9440 - val_loss: 4.7946 - val_acc: 0.9109\n",
      "Epoch 24/50\n",
      "1824/1840 [============================>.] - ETA: 0s - loss: 4.7230 - acc: 0.9441Epoch 00023: val_acc did not improve\n",
      "1840/1840 [==============================] - 34s - loss: 4.7244 - acc: 0.9440 - val_loss: 4.7756 - val_acc: 0.9087\n",
      "Epoch 25/50\n",
      "1824/1840 [============================>.] - ETA: 0s - loss: 4.6980 - acc: 0.9452Epoch 00024: val_acc improved from 0.91739 to 0.91957, saving model to data1a/top_model_weights.h5\n",
      "1840/1840 [==============================] - 33s - loss: 4.6972 - acc: 0.9457 - val_loss: 4.7490 - val_acc: 0.9196\n",
      "Epoch 26/50\n",
      "1824/1840 [============================>.] - ETA: 0s - loss: 4.6810 - acc: 0.9419Epoch 00025: val_acc did not improve\n",
      "1840/1840 [==============================] - 33s - loss: 4.6815 - acc: 0.9413 - val_loss: 4.7304 - val_acc: 0.9174\n",
      "Epoch 27/50\n",
      "1824/1840 [============================>.] - ETA: 0s - loss: 4.6487 - acc: 0.9534Epoch 00026: val_acc did not improve\n",
      "1840/1840 [==============================] - 40s - loss: 4.6487 - acc: 0.9533 - val_loss: 4.7092 - val_acc: 0.9174\n",
      "Epoch 28/50\n",
      "1824/1840 [============================>.] - ETA: 0s - loss: 4.6303 - acc: 0.9485Epoch 00027: val_acc did not improve\n",
      "1840/1840 [==============================] - 37s - loss: 4.6303 - acc: 0.9489 - val_loss: 4.6898 - val_acc: 0.9196\n",
      "Epoch 29/50\n",
      "1824/1840 [============================>.] - ETA: 0s - loss: 4.5994 - acc: 0.9583Epoch 00028: val_acc did not improve\n",
      "1840/1840 [==============================] - 38s - loss: 4.5989 - acc: 0.9587 - val_loss: 4.6995 - val_acc: 0.8978\n",
      "Epoch 30/50\n",
      "1824/1840 [============================>.] - ETA: 0s - loss: 4.5799 - acc: 0.9507Epoch 00029: val_acc improved from 0.91957 to 0.92391, saving model to data1a/top_model_weights.h5\n",
      "1840/1840 [==============================] - 34s - loss: 4.5794 - acc: 0.9511 - val_loss: 4.6446 - val_acc: 0.9239\n",
      "Epoch 31/50\n",
      "1824/1840 [============================>.] - ETA: 0s - loss: 4.5485 - acc: 0.9611Epoch 00030: val_acc did not improve\n"
     ]
    },
    {
     "name": "stdout",
     "output_type": "stream",
     "text": [
      "1840/1840 [==============================] - 35s - loss: 4.5485 - acc: 0.9614 - val_loss: 4.6257 - val_acc: 0.9196\n",
      "Epoch 32/50\n",
      "1824/1840 [============================>.] - ETA: 0s - loss: 4.5312 - acc: 0.9567Epoch 00031: val_acc did not improve\n",
      "1840/1840 [==============================] - 32s - loss: 4.5316 - acc: 0.9565 - val_loss: 4.6042 - val_acc: 0.9174\n",
      "Epoch 33/50\n",
      "1824/1840 [============================>.] - ETA: 0s - loss: 4.5047 - acc: 0.9594Epoch 00032: val_acc did not improve\n",
      "1840/1840 [==============================] - 34s - loss: 4.5042 - acc: 0.9598 - val_loss: 4.5861 - val_acc: 0.9239\n",
      "Epoch 34/50\n",
      "1824/1840 [============================>.] - ETA: 0s - loss: 4.4875 - acc: 0.9611Epoch 00033: val_acc did not improve\n",
      "1840/1840 [==============================] - 32s - loss: 4.4881 - acc: 0.9609 - val_loss: 4.5783 - val_acc: 0.9109\n",
      "Epoch 35/50\n",
      "1824/1840 [============================>.] - ETA: 0s - loss: 4.4663 - acc: 0.9578Epoch 00034: val_acc did not improve\n",
      "1840/1840 [==============================] - 32s - loss: 4.4659 - acc: 0.9582 - val_loss: 4.5497 - val_acc: 0.9109\n",
      "Epoch 36/50\n",
      "1824/1840 [============================>.] - ETA: 0s - loss: 4.4430 - acc: 0.9627Epoch 00035: val_acc did not improve\n",
      "1840/1840 [==============================] - 33s - loss: 4.4424 - acc: 0.9630 - val_loss: 4.5447 - val_acc: 0.9130\n",
      "Epoch 37/50\n",
      "1824/1840 [============================>.] - ETA: 0s - loss: 4.4222 - acc: 0.9589Epoch 00036: val_acc did not improve\n",
      "1840/1840 [==============================] - 32s - loss: 4.4215 - acc: 0.9592 - val_loss: 4.5049 - val_acc: 0.9217\n",
      "Epoch 38/50\n",
      "1824/1840 [============================>.] - ETA: 0s - loss: 4.3895 - acc: 0.9726Epoch 00037: val_acc did not improve\n",
      "1840/1840 [==============================] - 33s - loss: 4.3898 - acc: 0.9717 - val_loss: 4.5052 - val_acc: 0.9087\n",
      "Epoch 39/50\n",
      "1824/1840 [============================>.] - ETA: 0s - loss: 4.3691 - acc: 0.9704Epoch 00038: val_acc did not improve\n",
      "1840/1840 [==============================] - 34s - loss: 4.3690 - acc: 0.9701 - val_loss: 4.4703 - val_acc: 0.9217\n",
      "Epoch 40/50\n",
      "1824/1840 [============================>.] - ETA: 0s - loss: 4.3497 - acc: 0.9704Epoch 00039: val_acc did not improve\n",
      "1840/1840 [==============================] - 34s - loss: 4.3493 - acc: 0.9707 - val_loss: 4.4465 - val_acc: 0.9196\n",
      "Epoch 41/50\n",
      "1824/1840 [============================>.] - ETA: 0s - loss: 4.3286 - acc: 0.9764Epoch 00040: val_acc did not improve\n",
      "1840/1840 [==============================] - 32s - loss: 4.3281 - acc: 0.9766 - val_loss: 4.4331 - val_acc: 0.9174\n",
      "Epoch 42/50\n",
      "1824/1840 [============================>.] - ETA: 0s - loss: 4.3005 - acc: 0.9742Epoch 00041: val_acc did not improve\n",
      "1840/1840 [==============================] - 32s - loss: 4.3002 - acc: 0.9745 - val_loss: 4.4129 - val_acc: 0.9174\n",
      "Epoch 43/50\n",
      "1824/1840 [============================>.] - ETA: 0s - loss: 4.2886 - acc: 0.9715Epoch 00042: val_acc did not improve\n",
      "1840/1840 [==============================] - 32s - loss: 4.2887 - acc: 0.9717 - val_loss: 4.3904 - val_acc: 0.9196\n",
      "Epoch 44/50\n",
      "1824/1840 [============================>.] - ETA: 0s - loss: 4.2629 - acc: 0.9748Epoch 00043: val_acc did not improve\n",
      "1840/1840 [==============================] - 32s - loss: 4.2633 - acc: 0.9745 - val_loss: 4.3713 - val_acc: 0.9196\n",
      "Epoch 45/50\n",
      "1824/1840 [============================>.] - ETA: 0s - loss: 4.2412 - acc: 0.9775Epoch 00044: val_acc did not improve\n",
      "1840/1840 [==============================] - 32s - loss: 4.2409 - acc: 0.9777 - val_loss: 4.3618 - val_acc: 0.9152\n",
      "Epoch 46/50\n",
      "1824/1840 [============================>.] - ETA: 0s - loss: 4.2218 - acc: 0.9781Epoch 00045: val_acc did not improve\n",
      "1840/1840 [==============================] - 32s - loss: 4.2216 - acc: 0.9783 - val_loss: 4.3345 - val_acc: 0.9174\n",
      "Epoch 47/50\n",
      "1824/1840 [============================>.] - ETA: 0s - loss: 4.1961 - acc: 0.9803Epoch 00046: val_acc did not improve\n",
      "1840/1840 [==============================] - 32s - loss: 4.1963 - acc: 0.9799 - val_loss: 4.3143 - val_acc: 0.9217\n",
      "Epoch 48/50\n",
      "1824/1840 [============================>.] - ETA: 0s - loss: 4.1774 - acc: 0.9803Epoch 00047: val_acc did not improve\n",
      "1840/1840 [==============================] - 32s - loss: 4.1780 - acc: 0.9799 - val_loss: 4.2955 - val_acc: 0.9217\n",
      "Epoch 49/50\n",
      "1824/1840 [============================>.] - ETA: 0s - loss: 4.1559 - acc: 0.9857Epoch 00048: val_acc did not improve\n",
      "1840/1840 [==============================] - 32s - loss: 4.1563 - acc: 0.9859 - val_loss: 4.2785 - val_acc: 0.9196\n",
      "Epoch 50/50\n",
      "1824/1840 [============================>.] - ETA: 0s - loss: 4.1342 - acc: 0.9841Epoch 00049: val_acc did not improve\n",
      "1840/1840 [==============================] - 32s - loss: 4.1338 - acc: 0.9842 - val_loss: 4.2673 - val_acc: 0.9130\n"
     ]
    }
   ],
   "source": [
    "d1a_model7, d1a_history7 = train_binary_model()"
   ]
  },
  {
   "cell_type": "code",
   "execution_count": 24,
   "metadata": {
    "scrolled": false
   },
   "outputs": [
    {
     "name": "stdout",
     "output_type": "stream",
     "text": [
      "Best Model:\n",
      "epoch: 32 , val_acc: 0.9195652173913044 , val_loss: 4.600271992061449\n"
     ]
    },
    {
     "data": {
      "image/png": "[encoded data removed]",
      "text/plain": [
       "<Figure size 720x288 with 2 Axes>"
      ]
     },
     "metadata": {},
     "output_type": "display_data"
    }
   ],
   "source": [
    "plot_metrics(d1a_history1) # rmsprop, sigmoid, no regularization"
   ]
  },
  {
   "cell_type": "code",
   "execution_count": 25,
   "metadata": {
    "scrolled": false
   },
   "outputs": [
    {
     "name": "stdout",
     "output_type": "stream",
     "text": [
      "Best Model:\n",
      "epoch: 24 , val_acc: 0.9239130439965622 , val_loss: 4.775130748748779\n"
     ]
    },
    {
     "data": {
      "image/png": "[encoded data removed]",
      "text/plain": [
       "<Figure size 720x288 with 2 Axes>"
      ]
     },
     "metadata": {},
     "output_type": "display_data"
    }
   ],
   "source": [
    "plot_metrics(d1a_history2) # rmsprop, sigmoid, with l2 regularization (0.01)"
   ]
  },
  {
   "cell_type": "code",
   "execution_count": 26,
   "metadata": {
    "scrolled": false
   },
   "outputs": [
    {
     "name": "stdout",
     "output_type": "stream",
     "text": [
      "Best Model:\n",
      "epoch: 37 , val_acc: 0.9260869570400404 , val_loss: 4.499486898339313\n"
     ]
    },
    {
     "data": {
      "image/png": "[encoded data removed]",
      "text/plain": [
       "<Figure size 720x288 with 2 Axes>"
      ]
     },
     "metadata": {},
     "output_type": "display_data"
    }
   ],
   "source": [
    "plot_metrics(d1a_history3) # rmsprop, sigmoid, with double dense and dropout layers"
   ]
  },
  {
   "cell_type": "code",
   "execution_count": 27,
   "metadata": {
    "scrolled": false
   },
   "outputs": [
    {
     "name": "stdout",
     "output_type": "stream",
     "text": [
      "Best Model:\n",
      "epoch: 27 , val_acc: 0.9282608695652174 , val_loss: 4.702636843142302\n"
     ]
    },
    {
     "data": {
      "image/png": "[encoded data removed]",
      "text/plain": [
       "<Figure size 720x288 with 2 Axes>"
      ]
     },
     "metadata": {},
     "output_type": "display_data"
    }
   ],
   "source": [
    "plot_metrics(d1a_history4) # rmsprop, sigmoid, with aggresive dropout (.75)"
   ]
  },
  {
   "cell_type": "code",
   "execution_count": 28,
   "metadata": {
    "scrolled": false
   },
   "outputs": [
    {
     "name": "stdout",
     "output_type": "stream",
     "text": [
      "Best Model:\n",
      "epoch: 27 , val_acc: 0.9239130434782609 , val_loss: 4.703052176599917\n"
     ]
    },
    {
     "data": {
      "image/png": "[encoded data removed]",
      "text/plain": [
       "<Figure size 720x288 with 2 Axes>"
      ]
     },
     "metadata": {},
     "output_type": "display_data"
    }
   ],
   "source": [
    "plot_metrics(d1a_history5) # rmsprop, sigmoid, with l2 = 0.001"
   ]
  },
  {
   "cell_type": "code",
   "execution_count": 29,
   "metadata": {
    "scrolled": false
   },
   "outputs": [
    {
     "name": "stdout",
     "output_type": "stream",
     "text": [
      "Best Model:\n",
      "epoch: 34 , val_acc: 0.9239130434782609 , val_loss: 4.556914789780326\n"
     ]
    },
    {
     "data": {
      "image/png": "[encoded data removed]",
      "text/plain": [
       "<Figure size 720x288 with 2 Axes>"
      ]
     },
     "metadata": {},
     "output_type": "display_data"
    }
   ],
   "source": [
    "plot_metrics(d1a_history6) # sgd with lr = 0.0001, sigmoid, with l2 = 0.001"
   ]
  },
  {
   "cell_type": "code",
   "execution_count": 30,
   "metadata": {
    "scrolled": false
   },
   "outputs": [
    {
     "name": "stdout",
     "output_type": "stream",
     "text": [
      "Best Model:\n",
      "epoch: 34 , val_acc: 0.9239130434782609 , val_loss: 4.556914789780326\n"
     ]
    },
    {
     "data": {
      "image/png": "[encoded data removed]",
      "text/plain": [
       "<Figure size 720x288 with 2 Axes>"
      ]
     },
     "metadata": {},
     "output_type": "display_data"
    }
   ],
   "source": [
    "# WINNER\n",
    "plot_metrics(d1a_history6) # sgd with lr = 0.0001, sigmoid, with l2 = 0.001"
   ]
  },
  {
   "cell_type": "code",
   "execution_count": 31,
   "metadata": {
    "scrolled": true
   },
   "outputs": [
    {
     "name": "stdout",
     "output_type": "stream",
     "text": [
      "Best Model:\n",
      "epoch: 30 , val_acc: 0.9239130434782609 , val_loss: 4.644585684071417\n"
     ]
    },
    {
     "data": {
      "image/png": "[encoded data removed]",
      "text/plain": [
       "<Figure size 720x288 with 2 Axes>"
      ]
     },
     "metadata": {},
     "output_type": "display_data"
    }
   ],
   "source": [
    "plot_metrics(d1a_history7) # sgd with lr = 0.001 and decay 1e-6, sigmoid, with l2 = 0.001"
   ]
  },
  {
   "cell_type": "markdown",
   "metadata": {},
   "source": [
    "## Fine Tuning"
   ]
  },
  {
   "cell_type": "code",
   "execution_count": null,
   "metadata": {
    "scrolled": true
   },
   "outputs": [
    {
     "name": "stdout",
     "output_type": "stream",
     "text": [
      "../vgg16_weights.h5\n",
      "VGG16 Model with partial weights loaded.\n",
      "Found 1840 images belonging to 2 classes.\n",
      "Found 460 images belonging to 2 classes.\n",
      "Epoch 1/50\n",
      "1520/1840 [=======================>......] - ETA: 6464s - loss: 4.8738 - acc: 0.7888"
     ]
    }
   ],
   "source": [
    "ft_model, ft_history = finetune_binary_model()"
   ]
  },
  {
   "cell_type": "code",
   "execution_count": null,
   "metadata": {
    "collapsed": true,
    "scrolled": false
   },
   "outputs": [],
   "source": [
    "# WINNER\n",
    "plot_metrics(ft_history) # sgd with lr = 0.0001, sigmoid, with l2 = 0.001"
   ]
  },
  {
   "cell_type": "markdown",
   "metadata": {},
   "source": [
    "## Load Model Point"
   ]
  },
  {
   "cell_type": "code",
   "execution_count": null,
   "metadata": {
    "collapsed": true,
    "scrolled": false
   },
   "outputs": [],
   "source": [
    "ft_model = load_model(location+'/ft_model.h5')"
   ]
  },
  {
   "cell_type": "code",
   "execution_count": null,
   "metadata": {
    "collapsed": true,
    "scrolled": false
   },
   "outputs": [],
   "source": [
    "with open('data1a/top_history.txt') as f:    \n",
    "    top_history = json.load(f)"
   ]
  },
  {
   "cell_type": "code",
   "execution_count": null,
   "metadata": {
    "collapsed": true,
    "scrolled": true
   },
   "outputs": [],
   "source": [
    "with open('data1a/ft_history.txt') as f:    \n",
    "    ft_history = json.load(f)"
   ]
  },
  {
   "cell_type": "code",
   "execution_count": null,
   "metadata": {
    "collapsed": true,
    "scrolled": false
   },
   "outputs": [],
   "source": [
    "def plot_metrics(hist, stop=50):\n",
    "    fig, axes = plt.subplots(nrows=1, ncols=2, figsize=(10,4))\n",
    "                            \n",
    "    axes = axes.flatten()\n",
    "\n",
    "    axes[0].plot(range(stop), hist['acc'], label='Training', color='#FF533D')\n",
    "    axes[0].plot(range(stop), hist['val_acc'], label='Validation', color='#03507E')\n",
    "    axes[0].set_title('Accuracy')\n",
    "    axes[0].set_ylabel('Accuracy')\n",
    "    axes[0].set_xlabel('Epoch')\n",
    "    axes[0].legend(loc='lower right')\n",
    "                             \n",
    "    axes[1].plot(range(stop), hist['loss'], label='Training', color='#FF533D')\n",
    "    axes[1].plot(range(stop), hist['val_loss'], label='Validation', color='#03507E')\n",
    "    axes[1].set_title('Loss')\n",
    "    axes[1].set_ylabel('Loss')\n",
    "    axes[1].set_xlabel('Epoch')\n",
    "    axes[1].legend(loc='upper right')\n",
    "                             \n",
    "    plt.tight_layout();\n",
    "    \n",
    "    print \"Best Model:\" \n",
    "    print_best_model_results(hist)"
   ]
  },
  {
   "cell_type": "code",
   "execution_count": null,
   "metadata": {
    "collapsed": true,
    "scrolled": false
   },
   "outputs": [],
   "source": [
    "def plot_acc_metrics(hist1, hist2, stop=50):\n",
    "    fig, axes = plt.subplots(nrows=2, ncols=1, figsize=(4.25,6))\n",
    "                            \n",
    "    axes = axes.flatten()\n",
    "    \n",
    "    axes[0].plot(range(stop), hist1['acc'], label='Training', color='#FF533D')\n",
    "    axes[0].plot(range(stop), hist1['val_acc'], label='Validation', color='#03507E')\n",
    "    axes[0].set_title('Training')\n",
    "    axes[0].set_ylabel('Accuracy')\n",
    "    axes[0].set_xlabel('Epoch')\n",
    "    axes[0].legend(loc='lower right')\n",
    "                             \n",
    "    axes[1].plot(range(stop), hist2['acc'], label='Training', color='#FF533D')\n",
    "    axes[1].plot(range(stop), hist2['val_acc'], label='Validation', color='#03507E')\n",
    "    axes[1].set_title('Fine-tuning')\n",
    "    axes[1].set_ylabel('Accuracy')\n",
    "    axes[1].set_xlabel('Epoch')\n",
    "    axes[1].legend(loc='lower right')\n",
    "                             \n",
    "    plt.tight_layout();"
   ]
  },
  {
   "cell_type": "code",
   "execution_count": null,
   "metadata": {
    "collapsed": true,
    "scrolled": false
   },
   "outputs": [],
   "source": [
    "def evaluate_binary_model(model, directory, labels):\n",
    "    datagen = ImageDataGenerator(rescale=1./255)  \n",
    "\n",
    "    generator = datagen.flow_from_directory(directory,\n",
    "                                target_size=(img_height, img_width),\n",
    "                                batch_size=8,\n",
    "                                class_mode='binary', # categorical for multiclass\n",
    "                                shuffle=False)\n",
    "    \n",
    "    predictions = model.predict_generator(generator, len(labels))\n",
    "    \n",
    "    # use for multiclass\n",
    "    # pred_labels = np.argmax(predictions, axis=1)\n",
    "    \n",
    "    pred_labels = [0 if i <0.5 else 1 for i in predictions]\n",
    "\n",
    "    print ''\n",
    "    print classification_report(validation_labels, pred_labels)\n",
    "    print ''\n",
    "    cm = confusion_matrix(validation_labels, pred_labels)\n",
    "    return cm "
   ]
  },
  {
   "cell_type": "code",
   "execution_count": null,
   "metadata": {
    "collapsed": true,
    "scrolled": false
   },
   "outputs": [],
   "source": [
    "plot_acc_metrics(top_history, ft_history)"
   ]
  },
  {
   "cell_type": "code",
   "execution_count": null,
   "metadata": {
    "collapsed": true,
    "scrolled": false
   },
   "outputs": [],
   "source": [
    "# WINNER\n",
    "plot_metrics(ft_history) # sgd with lr = 0.0001, sigmoid, with l2 = 0.001"
   ]
  },
  {
   "cell_type": "code",
   "execution_count": null,
   "metadata": {
    "collapsed": true,
    "scrolled": false
   },
   "outputs": [],
   "source": [
    "validation_labels = np.array([0] * validation_samples[0] + \n",
    "                             [1] * validation_samples[1])"
   ]
  },
  {
   "cell_type": "code",
   "execution_count": null,
   "metadata": {
    "collapsed": true,
    "scrolled": false
   },
   "outputs": [],
   "source": [
    "cm = evaluate_binary_model(ft_model, validation_data_dir, validation_labels)"
   ]
  },
  {
   "cell_type": "code",
   "execution_count": null,
   "metadata": {
    "collapsed": true,
    "scrolled": false
   },
   "outputs": [],
   "source": [
    "heatmap_labels = ['Damaged', 'Whole']"
   ]
  },
  {
   "cell_type": "code",
   "execution_count": null,
   "metadata": {
    "collapsed": true,
    "scrolled": false
   },
   "outputs": [],
   "source": [
    "sns.heatmap(cm, annot=True, annot_kws={\"size\": 16}, \n",
    "            fmt='g', cmap='OrRd', xticklabels=heatmap_labels, yticklabels=heatmap_labels);"
   ]
  },
  {
   "cell_type": "code",
   "execution_count": null,
   "metadata": {
    "collapsed": true,
    "scrolled": false
   },
   "outputs": [],
   "source": [
    "sns.heatmap(cm, annot=True, annot_kws={\"size\": 16}, \n",
    "            fmt='g', cmap='Blues', xticklabels=heatmap_labels, yticklabels=heatmap_labels);"
   ]
  },
  {
   "cell_type": "markdown",
   "metadata": {},
   "source": [
    "## Making Live Predictions"
   ]
  },
  {
   "cell_type": "code",
   "execution_count": null,
   "metadata": {
    "collapsed": true,
    "scrolled": false
   },
   "outputs": [],
   "source": [
    "def car_categories_gate(image_path, model):\n",
    "    urllib.urlretrieve(image_path, 'save.jpg') # or other way to upload image\n",
    "    img = load_img('save.jpg', target_size=(256, 256)) # this is a PIL image \n",
    "    x = img_to_array(img) # this is a Numpy array with shape (3, 256, 256)\n",
    "    x = x.reshape((1,) + x.shape)/255 # this is a Numpy array with shape (1, 3, 256, 256)\n",
    "    pred = model.predict(x)\n",
    "    print \"Validating that damage exists...\"\n",
    "    print pred\n",
    "    if pred[0][0] <=.5:\n",
    "\n",
    "        print \"Validation complete - proceed to location and severity determination\"\n",
    "    else:\n",
    "        print \"Are you sure that your car is damaged? Please submit another picture of the damage.\"\n",
    "        print \"Hint: Try zooming in/out, using a different angle or different lighting\""
   ]
  },
  {
   "cell_type": "code",
   "execution_count": null,
   "metadata": {
    "collapsed": true,
    "scrolled": false
   },
   "outputs": [],
   "source": [
    "Image('https://www.nerdwallet.com/blog/wp-content/uploads/2015/12/exterior-car-damage-384x233.jpg')"
   ]
  },
  {
   "cell_type": "code",
   "execution_count": null,
   "metadata": {
    "collapsed": true,
    "scrolled": false
   },
   "outputs": [],
   "source": [
    "car_categories_gate('https://www.nerdwallet.com/blog/wp-content/uploads/2015/12/exterior-car-damage-384x233.jpg', ft_model)"
   ]
  },
  {
   "cell_type": "code",
   "execution_count": null,
   "metadata": {
    "collapsed": true,
    "scrolled": false
   },
   "outputs": [],
   "source": [
    "Image('http://1.bp.blogspot.com/-ToQS-qIxYbo/UDNuV5OcVQI/AAAAAAAABdo/tjeQywWiOo0/s200/Key+scratch.jpg')"
   ]
  },
  {
   "cell_type": "code",
   "execution_count": null,
   "metadata": {
    "collapsed": true,
    "scrolled": false
   },
   "outputs": [],
   "source": [
    "car_categories_gate('http://1.bp.blogspot.com/-ToQS-qIxYbo/UDNuV5OcVQI/AAAAAAAABdo/tjeQywWiOo0/s200/Key+scratch.jpg', ft_model)"
   ]
  },
  {
   "cell_type": "code",
   "execution_count": null,
   "metadata": {
    "collapsed": true,
    "scrolled": false
   },
   "outputs": [],
   "source": [
    "Image('https://www.carfax.com/media/zoo/images/rsz_frame-damage_85730e0a843d155e25e4b0f0e100bf65.jpg')"
   ]
  },
  {
   "cell_type": "code",
   "execution_count": null,
   "metadata": {
    "collapsed": true,
    "scrolled": false
   },
   "outputs": [],
   "source": [
    "car_categories_gate('https://www.carfax.com/media/zoo/images/rsz_frame-damage_85730e0a843d155e25e4b0f0e100bf65.jpg', ft_model)"
   ]
  },
  {
   "cell_type": "markdown",
   "metadata": {},
   "source": [
    "## Looking at edge cases"
   ]
  },
  {
   "cell_type": "code",
   "execution_count": null,
   "metadata": {
    "collapsed": true,
    "scrolled": false
   },
   "outputs": [],
   "source": [
    "def get_edge_cases(model, directory, exp_result):\n",
    "    img_list = os.listdir(directory)\n",
    "    edge_list = []\n",
    "    for name in img_list:\n",
    "        img = load_img(directory+name, target_size=(256, 256)) # this is a PIL image \n",
    "        x = img_to_array(img) # this is a Numpy array with shape (3, 256, 256)\n",
    "        x = x.reshape((1,) + x.shape)/255 # this is a Numpy array with shape (1, 3, 256, 256)\n",
    "        pred_prob = model.predict(x)\n",
    "        if pred_prob <=0.5:\n",
    "            pred = 0\n",
    "        else:\n",
    "            pred = 1\n",
    "        if pred != exp_result:\n",
    "            edge_list.append(name)\n",
    "    return edge_list"
   ]
  },
  {
   "cell_type": "code",
   "execution_count": null,
   "metadata": {
    "collapsed": true,
    "scrolled": false
   },
   "outputs": [],
   "source": [
    "evaluate_binary_model(ft_model, validation_data_dir, validation_labels)\n",
    "# TP = 221, TN = 194, FP = 36, FN = 9\n",
    "# 9 were predicted to be damaged but were actually whole\n",
    "# 36 were predicted to be whole but were actually damaged"
   ]
  },
  {
   "cell_type": "code",
   "execution_count": null,
   "metadata": {
    "collapsed": true,
    "scrolled": false
   },
   "outputs": [],
   "source": [
    "fp = get_edge_cases(ft_model, 'data1a/validation/00-damage/', 0)"
   ]
  },
  {
   "cell_type": "code",
   "execution_count": null,
   "metadata": {
    "collapsed": true
   },
   "outputs": [],
   "source": [
    "len(fp)"
   ]
  },
  {
   "cell_type": "code",
   "execution_count": null,
   "metadata": {
    "collapsed": true,
    "scrolled": false
   },
   "outputs": [],
   "source": [
    "view_images('data1a/validation/00-damage/', fp)  # damaged, identifed as whole"
   ]
  },
  {
   "cell_type": "code",
   "execution_count": null,
   "metadata": {
    "collapsed": true,
    "scrolled": false
   },
   "outputs": [],
   "source": [
    "fn = get_edge_cases(ft_model, 'data1a/validation/01-whole/', 1)"
   ]
  },
  {
   "cell_type": "code",
   "execution_count": null,
   "metadata": {
    "collapsed": true,
    "scrolled": false
   },
   "outputs": [],
   "source": [
    "view_images('data1a/validation/01-whole/', fn) #whole, identified as damaged"
   ]
  }
 ],
 "metadata": {
  "kernelspec": {
   "display_name": "car-damage-detective",
   "language": "python",
   "name": "car-damage-detective"
  },
  "language_info": {
   "codemirror_mode": {
    "name": "ipython",
    "version": 2
   },
   "file_extension": ".py",
   "mimetype": "text/x-python",
   "name": "python",
   "nbconvert_exporter": "python",
   "pygments_lexer": "ipython2",
   "version": "2.7.12"
  }
 },
 "nbformat": 4,
 "nbformat_minor": 1
}
