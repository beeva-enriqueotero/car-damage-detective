{
 "cells": [
  {
   "cell_type": "markdown",
   "metadata": {},
   "source": [
    "### data1a - whole cars vs. all damaged cars"
   ]
  },
  {
   "cell_type": "code",
   "execution_count": 1,
   "metadata": {
    "collapsed": true,
    "scrolled": false
   },
   "outputs": [],
   "source": [
    "import urllib\n",
    "from IPython.display import Image, display, clear_output\n",
    "from collections import Counter\n",
    "\n",
    "import matplotlib.pyplot as plt\n",
    "import seaborn as sns \n",
    "%matplotlib inline\n",
    "\n",
    "import json\n",
    "import numpy as np\n",
    "from sklearn.metrics import classification_report, confusion_matrix\n",
    "\n",
    "sns.set_style('whitegrid')"
   ]
  },
  {
   "cell_type": "code",
   "execution_count": 2,
   "metadata": {
    "scrolled": false
   },
   "outputs": [
    {
     "name": "stderr",
     "output_type": "stream",
     "text": [
      "/home/milhouse/tools/virtualenvs/car-damage-detective-2/local/lib/python2.7/site-packages/h5py/__init__.py:36: FutureWarning: Conversion of the second argument of issubdtype from `float` to `np.floating` is deprecated. In future, it will be treated as `np.float64 == np.dtype(float).type`.\n",
      "  from ._conv import register_converters as _register_converters\n",
      "Using Theano backend.\n"
     ]
    }
   ],
   "source": [
    "import os\n",
    "import h5py\n",
    "import numpy as np\n",
    "import pandas as pd\n",
    "\n",
    "from keras.applications.vgg16 import VGG16\n",
    "from keras.preprocessing.image import ImageDataGenerator, array_to_img, img_to_array, load_img\n",
    "from keras.regularizers import l2, activity_l2, l1, activity_l1\n",
    "from keras.models import Sequential, load_model\n",
    "from keras.layers import Convolution2D, MaxPooling2D, ZeroPadding2D\n",
    "from keras.layers import Activation, Dropout, Flatten, Dense\n",
    "from keras.utils.np_utils import to_categorical\n",
    "from keras import optimizers\n",
    "from keras.callbacks import ModelCheckpoint, History"
   ]
  },
  {
   "cell_type": "code",
   "execution_count": 3,
   "metadata": {
    "collapsed": true,
    "scrolled": false
   },
   "outputs": [],
   "source": [
    "# Download vgg16_weights_th_dim_ordering_th_kernels_notop.h5\n",
    "def load_vgg16(weights_path='vgg16_weights.h5'):\n",
    "    \n",
    "    model = Sequential()\n",
    "    model.add(ZeroPadding2D((1,1),input_shape=(3, img_width, img_height)))\n",
    "    model.add(Convolution2D(64, 3, 3, activation='relu'))\n",
    "    model.add(ZeroPadding2D((1,1)))\n",
    "    model.add(Convolution2D(64, 3, 3, activation='relu'))\n",
    "    model.add(MaxPooling2D((2,2), strides=(2,2)))\n",
    "\n",
    "    model.add(ZeroPadding2D((1,1)))\n",
    "    model.add(Convolution2D(128, 3, 3, activation='relu'))\n",
    "    model.add(ZeroPadding2D((1,1)))\n",
    "    model.add(Convolution2D(128, 3, 3, activation='relu'))\n",
    "    model.add(MaxPooling2D((2,2), strides=(2,2)))\n",
    "\n",
    "    model.add(ZeroPadding2D((1,1)))\n",
    "    model.add(Convolution2D(256, 3, 3, activation='relu'))\n",
    "    model.add(ZeroPadding2D((1,1)))\n",
    "    model.add(Convolution2D(256, 3, 3, activation='relu'))\n",
    "    model.add(ZeroPadding2D((1,1)))\n",
    "    model.add(Convolution2D(256, 3, 3, activation='relu'))\n",
    "    model.add(MaxPooling2D((2,2), strides=(2,2)))\n",
    "\n",
    "    model.add(ZeroPadding2D((1,1)))\n",
    "    model.add(Convolution2D(512, 3, 3, activation='relu'))\n",
    "    model.add(ZeroPadding2D((1,1)))\n",
    "    model.add(Convolution2D(512, 3, 3, activation='relu'))\n",
    "    model.add(ZeroPadding2D((1,1)))\n",
    "    model.add(Convolution2D(512, 3, 3, activation='relu'))\n",
    "    model.add(MaxPooling2D((2,2), strides=(2,2)))\n",
    "\n",
    "    \n",
    "    model.add(ZeroPadding2D((1,1)))\n",
    "    model.add(Convolution2D(512, 3, 3, activation='relu'))\n",
    "    model.add(ZeroPadding2D((1,1)))\n",
    "    model.add(Convolution2D(512, 3, 3, activation='relu'))\n",
    "    model.add(ZeroPadding2D((1,1)))\n",
    "    model.add(Convolution2D(512, 3, 3, activation='relu'))\n",
    "    model.add(MaxPooling2D((2,2), strides=(2,2)))\n",
    "    \n",
    "    \n",
    "    \n",
    "    print(weights_path)\n",
    "    assert os.path.exists(weights_path), 'Model weights not found (see \"weights_path\")'\n",
    "    \n",
    "    if weights_path:\n",
    "    # note: this chops off the last layers of VGG16 \n",
    "\n",
    "    # loads the weights of the VGG16 networks\n",
    "    # note: when there is a complete match between model definition\n",
    "    # and your weights savefile, you can simply call model.load_weights(filename)\n",
    "        \n",
    "        model.load_weights(weights_path)\n",
    "       \n",
    "        print('VGG16 Model with partial weights loaded.')\n",
    "    else:\n",
    "        print('VGG16 Model with no weights Loaded.')\n",
    "\n",
    "    return model\n",
    "\n"
   ]
  },
  {
   "cell_type": "code",
   "execution_count": 4,
   "metadata": {
    "collapsed": true,
    "scrolled": false
   },
   "outputs": [],
   "source": [
    "def save_bottleneck_features(location):\n",
    "    datagen = ImageDataGenerator(rescale=1./255)  \n",
    "    \n",
    "    model = load_vgg16()\n",
    "    \n",
    "    generator = datagen.flow_from_directory(train_data_dir,\n",
    "                                            target_size=(img_width, img_height),\n",
    "                                            batch_size=16, \n",
    "                                            class_mode=None, \n",
    "                                            shuffle=False) \n",
    "    print \"Generator done\"\n",
    "    bottleneck_features_train = model.predict_generator(generator, nb_train_samples)\n",
    "    print \"Prediction done\"\n",
    "    np.save(open(location+'/bottleneck_features_train.npy', 'w'), bottleneck_features_train)\n",
    "    print \"Bottleneck saved\"\n",
    "    # repeat with the validation data\n",
    "    generator = datagen.flow_from_directory(validation_data_dir,\n",
    "                                           target_size=(img_width, img_height),\n",
    "                                           batch_size=16,\n",
    "                                           class_mode=None,\n",
    "                                           shuffle=False)\n",
    "    print \"Generator val done\"\n",
    "    bottleneck_features_validation = model.predict_generator(generator, nb_validation_samples)\n",
    "    print \"Prediction val done\"\n",
    "    np.save(open(location+'/bottleneck_features_validation.npy', 'w'), bottleneck_features_validation)\n",
    "    print \"Bottleneck val saved done\"\n",
    "\n",
    "#location = 'data1a'\n",
    "#save_bottleneck_features(location)"
   ]
  },
  {
   "cell_type": "code",
   "execution_count": 5,
   "metadata": {
    "collapsed": true,
    "scrolled": false
   },
   "outputs": [],
   "source": [
    "def plot_metrics(hist, stop=50):\n",
    "    fig, axes = plt.subplots(nrows=1, ncols=2, figsize=(10,4))\n",
    "                            \n",
    "    axes = axes.flatten()\n",
    "\n",
    "    axes[0].plot(range(stop), hist['acc'], label='Training', color='#FF533D')\n",
    "    axes[0].plot(range(stop), hist['val_acc'], label='Validation', color='#03507E')\n",
    "    axes[0].set_title('Accuracy')\n",
    "    axes[0].set_ylabel('Accuracy')\n",
    "    axes[0].set_xlabel('Epoch')\n",
    "    axes[0].legend(loc='lower right')\n",
    "                             \n",
    "    axes[1].plot(range(stop), hist['loss'], label='Training', color='#FF533D')\n",
    "    axes[1].plot(range(stop), hist['val_loss'], label='Validation', color='#03507E')\n",
    "    axes[1].set_title('Loss')\n",
    "    axes[1].set_ylabel('Loss')\n",
    "    axes[1].set_xlabel('Epoch')\n",
    "    axes[1].legend(loc='upper right')\n",
    "                             \n",
    "    plt.tight_layout();\n",
    "    \n",
    "    print \"Best Model:\" \n",
    "    print_best_model_results(hist)"
   ]
  },
  {
   "cell_type": "code",
   "execution_count": 6,
   "metadata": {
    "collapsed": true,
    "scrolled": false
   },
   "outputs": [],
   "source": [
    "def train_binary_model():\n",
    "\n",
    "    train_data = np.load(open(location+'/bottleneck_features_train.npy'))\n",
    "    train_labels = np.array([0] * train_samples[0] + \n",
    "                            [1] * train_samples[1])\n",
    "\n",
    "    validation_data = np.load(open(location+'/bottleneck_features_validation.npy'))\n",
    "    validation_labels = np.array([0] * validation_samples[0] + \n",
    "                                 [1] * validation_samples[1])\n",
    "    \n",
    "    model = Sequential()\n",
    "    model.add(Flatten(input_shape=train_data.shape[1:])) # 512, 4, 4\n",
    "    #model.add(Dense(256, activation = 'relu', W_regularizer=l2(0.01)))\n",
    "    model.add(Dense(256, activation = 'relu', W_regularizer=l2(0.001)))\n",
    "    model.add(Dropout(0.5)) \n",
    "    model.add(Dense(1, activation = 'sigmoid')) # should activation be sigmoid for binary problem?\n",
    "\n",
    "    model.compile(optimizers.SGD(lr=0.0001, momentum=0.9),\n",
    "              loss='binary_crossentropy', metrics=['accuracy'])\n",
    "\n",
    "    \n",
    "    checkpoint = ModelCheckpoint(top_model_weights_path, monitor='val_acc', \n",
    "                                 verbose=1, save_best_only=True, save_weights_only=True, mode='auto')\n",
    "\n",
    "    fit = model.fit(train_data, train_labels,\n",
    "              nb_epoch=nb_epoch, batch_size=16,\n",
    "              validation_data=(validation_data, validation_labels),\n",
    "              callbacks=[checkpoint])\n",
    "    \n",
    "    with open(location+'/top_history.txt', 'wb') as f:\n",
    "        json.dump(fit.history, f)\n",
    "    \n",
    "    return model, fit.history"
   ]
  },
  {
   "cell_type": "code",
   "execution_count": 59,
   "metadata": {
    "collapsed": true,
    "scrolled": false
   },
   "outputs": [],
   "source": [
    "def finetune_binary_model():\n",
    "    model = load_vgg16()\n",
    "\n",
    "    # build a classifier model to put on top of the convolutional model\n",
    "    top_model = Sequential()\n",
    "    top_model.add(Flatten(input_shape=model.output_shape[1:]))\n",
    "    top_model.add(Dense(256, activation='relu', W_regularizer=l2(0.01)))\n",
    "    top_model.add(Dropout(0.5))\n",
    "    top_model.add(Dense(1, activation='sigmoid'))\n",
    "\n",
    "    top_model.load_weights(top_model_weights_path) # load weights_path\n",
    "\n",
    "    # add the model on top of the convolutional base\n",
    "    model.add(top_model)\n",
    "    \n",
    "    # set the first 25 layers (up to the last conv block)\n",
    "    # to non-trainable - weights will not be updated\n",
    "    for layer in model.layers[:25]:\n",
    "        layer.trainable=False\n",
    "\n",
    "    # compile the model with a SGD/momentum optimizer \n",
    "    # and a very slow learning rate\n",
    "    model.compile(loss='binary_crossentropy',\n",
    "                 optimizer = optimizers.SGD(lr=0.00001, momentum=0.9), # reduced learning rate by 1/10\n",
    "                  metrics=['accuracy'])\n",
    "    \n",
    "    # prepare data augmentation configuration\n",
    "    train_datagen = ImageDataGenerator(rescale=1./255,\n",
    "                                       rotation_range=40,\n",
    "                                       width_shift_range=0.2,\n",
    "                                       height_shift_range=0.2,\n",
    "                                       shear_range=0.2,\n",
    "                                       zoom_range=0.2,\n",
    "                                       horizontal_flip=True,\n",
    "                                       fill_mode='nearest')\n",
    "\n",
    "    test_datagen = ImageDataGenerator(rescale=1./255)\n",
    "\n",
    "    train_generator= train_datagen.flow_from_directory(train_data_dir,\n",
    "                                                     target_size=(img_height, img_width),\n",
    "                                                     batch_size=8,\n",
    "                                                     class_mode='binary')\n",
    "\n",
    "    validation_generator = test_datagen.flow_from_directory(validation_data_dir,\n",
    "                                                           target_size=(img_height, img_width),\n",
    "                                                           batch_size=8,\n",
    "                                                           class_mode='binary')\n",
    "    \n",
    "    \n",
    "    checkpoint = ModelCheckpoint(fine_tuned_model_path, monitor='val_acc', \n",
    "                                 verbose=1, save_best_only=True, \n",
    "                                 save_weights_only=False, mode='auto')\n",
    "    # fine-tune the model\n",
    "    fit = model.fit_generator(train_generator,\n",
    "                              samples_per_epoch=nb_train_samples,\n",
    "                              nb_epoch=nb_epoch_finetuning,\n",
    "                              validation_data=validation_generator,\n",
    "                              nb_val_samples=nb_validation_samples,\n",
    "                              verbose=1,\n",
    "                              callbacks=[checkpoint])\n",
    "    \n",
    "    with open(location+'/ft_history.txt', 'wb') as f:\n",
    "        json.dump(fit.history, f)\n",
    "    \n",
    "    return model, fit.history"
   ]
  },
  {
   "cell_type": "code",
   "execution_count": 8,
   "metadata": {
    "collapsed": true,
    "scrolled": false
   },
   "outputs": [],
   "source": [
    "def evaluate_binary_model(model, directory, labels):\n",
    "    datagen = ImageDataGenerator(rescale=1./255)  \n",
    "\n",
    "    generator = datagen.flow_from_directory(directory,\n",
    "                                target_size=(img_height, img_width),\n",
    "                                batch_size=8,\n",
    "                                class_mode='binary', # categorical for multiclass\n",
    "                                shuffle=False)\n",
    "    \n",
    "    predictions = model.predict_generator(generator, len(labels))\n",
    "    \n",
    "    # use for multiclass\n",
    "    # pred_labels = np.argmax(predictions, axis=1)\n",
    "    \n",
    "    pred_labels = [0 if i <0.5 else 1 for i in predictions]\n",
    "\n",
    "    print ''\n",
    "    print classification_report(validation_labels, pred_labels)\n",
    "    print ''\n",
    "    cm = confusion_matrix(validation_labels, pred_labels)\n",
    "    sns.heatmap(cm, annot=True, fmt='g');"
   ]
  },
  {
   "cell_type": "code",
   "execution_count": 9,
   "metadata": {
    "collapsed": true,
    "scrolled": false
   },
   "outputs": [],
   "source": [
    "def view_images(img_dir, img_list):\n",
    "    for img in img_list:\n",
    "        clear_output()\n",
    "        display(Image(img_dir+img))\n",
    "        num = raw_input(\"c to continue, q to quit\")\n",
    "        if num == 'c':\n",
    "            pass\n",
    "        else:\n",
    "            return 'Finished for now.'"
   ]
  },
  {
   "cell_type": "code",
   "execution_count": 10,
   "metadata": {
    "collapsed": true,
    "scrolled": false
   },
   "outputs": [],
   "source": [
    "def print_best_model_results(model_hist):\n",
    "    best_epoch = np.argmax(model_hist['val_acc'])\n",
    "    print 'epoch:', best_epoch+1, \\\n",
    "    ', val_acc:', model_hist['val_acc'][best_epoch], \\\n",
    "    ', val_loss:', model_hist['val_loss'][best_epoch]"
   ]
  },
  {
   "cell_type": "markdown",
   "metadata": {},
   "source": [
    "## Testing Image Generation"
   ]
  },
  {
   "cell_type": "code",
   "execution_count": 11,
   "metadata": {
    "collapsed": true
   },
   "outputs": [],
   "source": [
    "!rm data1a_preview -rf"
   ]
  },
  {
   "cell_type": "code",
   "execution_count": 12,
   "metadata": {
    "scrolled": false
   },
   "outputs": [
    {
     "name": "stdout",
     "output_type": "stream",
     "text": [
      "(3, 189, 266)\n"
     ]
    }
   ],
   "source": [
    "datagen = ImageDataGenerator(rotation_range=40,\n",
    "                             width_shift_range=0.2,\n",
    "                             height_shift_range=0.2,\n",
    "                             shear_range=0.2,\n",
    "                             zoom_range=0.2,\n",
    "                             horizontal_flip=True,\n",
    "                             fill_mode='nearest') # omitted rescaling to keep the images displayable\n",
    "\n",
    "#img = load_img('/home/milhouse/datasets/cars/car-damage-dataset/data1a/training/00-damage/0039.JPEG') # this is a PIL image \n",
    "img = load_img('data1a/training/00-damage/0039.JPEG') # this is a PIL image \n",
    "x = img_to_array(img) # this is a Numpy array with shape (3, 150, 150)\n",
    "print x.shape\n",
    "#x = x.reshape(1,x.shape[2], x.shape[0], x.shape[1])\n",
    "#print x.shape\n",
    "x = x.reshape((1,) + x.shape) # this is a Numpy array with shape (1, 3, 150, 150)\n",
    "\n",
    "# the .flow() command below generates batches of randomly transformed images\n",
    "# and saves the results to the 'preview/' directory\n",
    "os.makedirs('data1a_preview')\n",
    "i = 0\n",
    "for batch in datagen.flow(x, batch_size=1,\n",
    "                         save_to_dir='data1a_preview', save_prefix='damage_car',\n",
    "                         save_format='jpeg'):\n",
    "    i +=1\n",
    "    if i > 30:\n",
    "        break # otherwise the generator would loop indefinitely"
   ]
  },
  {
   "cell_type": "code",
   "execution_count": 13,
   "metadata": {
    "scrolled": false
   },
   "outputs": [
    {
     "data": {
      "image/jpeg": "[encoded data removed]",
      "text/plain": [
       "<IPython.core.display.Image object>"
      ]
     },
     "metadata": {},
     "output_type": "display_data"
    },
    {
     "name": "stdout",
     "output_type": "stream",
     "text": [
      "c to continue, q to quitq\n"
     ]
    },
    {
     "data": {
      "text/plain": [
       "'Finished for now.'"
      ]
     },
     "execution_count": 13,
     "metadata": {},
     "output_type": "execute_result"
    }
   ],
   "source": [
    "view_images('data1a_preview/', os.listdir('data1a_preview/'))"
   ]
  },
  {
   "cell_type": "markdown",
   "metadata": {},
   "source": [
    "## Defining input data"
   ]
  },
  {
   "cell_type": "code",
   "execution_count": 58,
   "metadata": {
    "collapsed": true,
    "scrolled": false
   },
   "outputs": [],
   "source": [
    "# path to the model weights file\n",
    "location = 'data1a'\n",
    "top_model_weights_path=location+'/top_model_weights.h5' # will be saved into when we create our model\n",
    "# model_path = location + '/initial_data2_model.h5'\n",
    "fine_tuned_model_path = location+'/ft_model.h5'\n",
    "\n",
    "# dimensions of our images\n",
    "img_width, img_height = 256, 256\n",
    "\n",
    "train_data_dir = location+'/training'\n",
    "validation_data_dir = location+'/validation'\n",
    "\n",
    "train_samples = [len(os.listdir(train_data_dir+'/'+i)) for i in sorted(os.listdir(train_data_dir))]\n",
    "nb_train_samples = sum(train_samples)\n",
    "validation_samples = [len(os.listdir(validation_data_dir+'/'+i)) for i in sorted(os.listdir(validation_data_dir))]\n",
    "nb_validation_samples = sum(validation_samples)\n",
    "\n",
    "nb_epoch = 50\n",
    "nb_epoch_finetuning = 1"
   ]
  },
  {
   "cell_type": "code",
   "execution_count": 15,
   "metadata": {},
   "outputs": [
    {
     "name": "stdout",
     "output_type": "stream",
     "text": [
      "total 12\r\n",
      "drwxrwxr-x  3 milhouse milhouse 4096 abr 12 21:10 .\r\n",
      "drwxrwxr-x  4 milhouse milhouse 4096 abr 10 22:24 ..\r\n",
      "drwxrwxr-x 10 milhouse milhouse 4096 abr 12 21:25 car-damage-detective\r\n"
     ]
    }
   ],
   "source": [
    "!ls -al `pwd`/.."
   ]
  },
  {
   "cell_type": "code",
   "execution_count": 16,
   "metadata": {
    "scrolled": false
   },
   "outputs": [],
   "source": [
    "# do not rerun!!\n",
    "if not os.path.exists(\"{}/bottleneck_features_validation.npy\".format(location)):\n",
    "    save_bottleneck_features(location)"
   ]
  },
  {
   "cell_type": "code",
   "execution_count": 17,
   "metadata": {
    "scrolled": true
   },
   "outputs": [
    {
     "name": "stdout",
     "output_type": "stream",
     "text": [
      "Train on 1840 samples, validate on 460 samples\n",
      "Epoch 1/50\n",
      "1824/1840 [============================>.] - ETA: 0s - loss: 1.0688 - acc: 0.7127Epoch 00000: val_acc improved from -inf to 0.83478, saving model to data1a/top_model_weights.h5\n",
      "1840/1840 [==============================] - 33s - loss: 1.0679 - acc: 0.7136 - val_loss: 0.9046 - val_acc: 0.8348\n",
      "Epoch 2/50\n",
      "1824/1840 [============================>.] - ETA: 0s - loss: 0.9187 - acc: 0.8191Epoch 00001: val_acc improved from 0.83478 to 0.88913, saving model to data1a/top_model_weights.h5\n",
      "1840/1840 [==============================] - 33s - loss: 0.9188 - acc: 0.8185 - val_loss: 0.8383 - val_acc: 0.8891\n",
      "Epoch 3/50\n",
      "1824/1840 [============================>.] - ETA: 0s - loss: 0.8774 - acc: 0.8575Epoch 00002: val_acc improved from 0.88913 to 0.89348, saving model to data1a/top_model_weights.h5\n",
      "1840/1840 [==============================] - 33s - loss: 0.8770 - acc: 0.8565 - val_loss: 0.8147 - val_acc: 0.8935\n",
      "Epoch 4/50\n",
      "1824/1840 [============================>.] - ETA: 0s - loss: 0.8339 - acc: 0.8755Epoch 00003: val_acc did not improve\n",
      "1840/1840 [==============================] - 32s - loss: 0.8324 - acc: 0.8766 - val_loss: 0.7915 - val_acc: 0.8891\n",
      "Epoch 5/50\n",
      "1824/1840 [============================>.] - ETA: 0s - loss: 0.8333 - acc: 0.8607Epoch 00004: val_acc improved from 0.89348 to 0.90000, saving model to data1a/top_model_weights.h5\n",
      "1840/1840 [==============================] - 33s - loss: 0.8328 - acc: 0.8603 - val_loss: 0.7849 - val_acc: 0.9000\n",
      "Epoch 6/50\n",
      "1824/1840 [============================>.] - ETA: 0s - loss: 0.8015 - acc: 0.8876Epoch 00005: val_acc did not improve\n",
      "1840/1840 [==============================] - 33s - loss: 0.8018 - acc: 0.8875 - val_loss: 0.7648 - val_acc: 0.8957\n",
      "Epoch 7/50\n",
      "1824/1840 [============================>.] - ETA: 0s - loss: 0.7893 - acc: 0.8871Epoch 00006: val_acc did not improve\n",
      "1840/1840 [==============================] - 33s - loss: 0.7881 - acc: 0.8880 - val_loss: 0.7748 - val_acc: 0.8870\n",
      "Epoch 8/50\n",
      "1824/1840 [============================>.] - ETA: 0s - loss: 0.7792 - acc: 0.8794Epoch 00007: val_acc improved from 0.90000 to 0.90435, saving model to data1a/top_model_weights.h5\n",
      "1840/1840 [==============================] - 33s - loss: 0.7792 - acc: 0.8788 - val_loss: 0.7529 - val_acc: 0.9043\n",
      "Epoch 9/50\n",
      "1824/1840 [============================>.] - ETA: 0s - loss: 0.7700 - acc: 0.8882Epoch 00008: val_acc did not improve\n",
      "1840/1840 [==============================] - 33s - loss: 0.7702 - acc: 0.8880 - val_loss: 0.7596 - val_acc: 0.9000\n",
      "Epoch 10/50\n",
      "1824/1840 [============================>.] - ETA: 0s - loss: 0.7523 - acc: 0.9041Epoch 00009: val_acc did not improve\n",
      "1840/1840 [==============================] - 33s - loss: 0.7514 - acc: 0.9038 - val_loss: 0.7929 - val_acc: 0.8848\n",
      "Epoch 11/50\n",
      "1824/1840 [============================>.] - ETA: 0s - loss: 0.7583 - acc: 0.8997Epoch 00010: val_acc improved from 0.90435 to 0.90870, saving model to data1a/top_model_weights.h5\n",
      "1840/1840 [==============================] - 33s - loss: 0.7575 - acc: 0.9000 - val_loss: 0.7572 - val_acc: 0.9087\n",
      "Epoch 12/50\n",
      "1824/1840 [============================>.] - ETA: 0s - loss: 0.7467 - acc: 0.9073Epoch 00011: val_acc did not improve\n",
      "1840/1840 [==============================] - 33s - loss: 0.7455 - acc: 0.9082 - val_loss: 0.7393 - val_acc: 0.9065\n",
      "Epoch 13/50\n",
      "1824/1840 [============================>.] - ETA: 0s - loss: 0.7246 - acc: 0.9134Epoch 00012: val_acc improved from 0.90870 to 0.91087, saving model to data1a/top_model_weights.h5\n",
      "1840/1840 [==============================] - 32s - loss: 0.7247 - acc: 0.9136 - val_loss: 0.7345 - val_acc: 0.9109\n",
      "Epoch 14/50\n",
      "1824/1840 [============================>.] - ETA: 0s - loss: 0.7236 - acc: 0.9145Epoch 00013: val_acc improved from 0.91087 to 0.91304, saving model to data1a/top_model_weights.h5\n",
      "1840/1840 [==============================] - 33s - loss: 0.7251 - acc: 0.9130 - val_loss: 0.7311 - val_acc: 0.9130\n",
      "Epoch 15/50\n",
      "1824/1840 [============================>.] - ETA: 0s - loss: 0.7183 - acc: 0.9150Epoch 00014: val_acc did not improve\n",
      "1840/1840 [==============================] - 32s - loss: 0.7194 - acc: 0.9141 - val_loss: 0.7684 - val_acc: 0.8978\n",
      "Epoch 16/50\n",
      "1824/1840 [============================>.] - ETA: 0s - loss: 0.7088 - acc: 0.9194Epoch 00015: val_acc improved from 0.91304 to 0.91522, saving model to data1a/top_model_weights.h5\n",
      "1840/1840 [==============================] - 32s - loss: 0.7094 - acc: 0.9196 - val_loss: 0.7255 - val_acc: 0.9152\n",
      "Epoch 17/50\n",
      "1824/1840 [============================>.] - ETA: 0s - loss: 0.7013 - acc: 0.9271Epoch 00016: val_acc did not improve\n",
      "1840/1840 [==============================] - 32s - loss: 0.7012 - acc: 0.9277 - val_loss: 0.7263 - val_acc: 0.9130\n",
      "Epoch 18/50\n",
      "1824/1840 [============================>.] - ETA: 0s - loss: 0.6899 - acc: 0.9298Epoch 00017: val_acc did not improve\n",
      "1840/1840 [==============================] - 32s - loss: 0.6895 - acc: 0.9304 - val_loss: 0.7241 - val_acc: 0.9130\n",
      "Epoch 19/50\n",
      "1824/1840 [============================>.] - ETA: 0s - loss: 0.6833 - acc: 0.9353Epoch 00018: val_acc improved from 0.91522 to 0.91739, saving model to data1a/top_model_weights.h5\n",
      "1840/1840 [==============================] - 33s - loss: 0.6827 - acc: 0.9359 - val_loss: 0.7205 - val_acc: 0.9174\n",
      "Epoch 20/50\n",
      "1824/1840 [============================>.] - ETA: 0s - loss: 0.6895 - acc: 0.9309Epoch 00019: val_acc improved from 0.91739 to 0.91739, saving model to data1a/top_model_weights.h5\n",
      "1840/1840 [==============================] - 32s - loss: 0.6894 - acc: 0.9315 - val_loss: 0.7176 - val_acc: 0.9174\n",
      "Epoch 21/50\n",
      "1824/1840 [============================>.] - ETA: 0s - loss: 0.6755 - acc: 0.9397Epoch 00020: val_acc improved from 0.91739 to 0.91957, saving model to data1a/top_model_weights.h5\n",
      "1840/1840 [==============================] - 34s - loss: 0.6767 - acc: 0.9386 - val_loss: 0.7170 - val_acc: 0.9196\n",
      "Epoch 22/50\n",
      "1824/1840 [============================>.] - ETA: 0s - loss: 0.6686 - acc: 0.9397Epoch 00021: val_acc did not improve\n",
      "1840/1840 [==============================] - 32s - loss: 0.6694 - acc: 0.9391 - val_loss: 0.7103 - val_acc: 0.9174\n",
      "Epoch 23/50\n",
      "1824/1840 [============================>.] - ETA: 0s - loss: 0.6701 - acc: 0.9435Epoch 00022: val_acc did not improve\n",
      "1840/1840 [==============================] - 32s - loss: 0.6699 - acc: 0.9435 - val_loss: 0.7150 - val_acc: 0.9152\n",
      "Epoch 24/50\n",
      "1824/1840 [============================>.] - ETA: 0s - loss: 0.6604 - acc: 0.9359Epoch 00023: val_acc improved from 0.91957 to 0.92391, saving model to data1a/top_model_weights.h5\n",
      "1840/1840 [==============================] - 32s - loss: 0.6604 - acc: 0.9359 - val_loss: 0.7109 - val_acc: 0.9239\n",
      "Epoch 25/50\n",
      "1824/1840 [============================>.] - ETA: 0s - loss: 0.6523 - acc: 0.9446Epoch 00024: val_acc did not improve\n",
      "1840/1840 [==============================] - 32s - loss: 0.6531 - acc: 0.9440 - val_loss: 0.7085 - val_acc: 0.9152\n",
      "Epoch 26/50\n",
      "1824/1840 [============================>.] - ETA: 0s - loss: 0.6488 - acc: 0.9446Epoch 00025: val_acc did not improve\n",
      "1840/1840 [==============================] - 32s - loss: 0.6495 - acc: 0.9446 - val_loss: 0.7134 - val_acc: 0.9152\n",
      "Epoch 27/50\n",
      "1824/1840 [============================>.] - ETA: 0s - loss: 0.6424 - acc: 0.9496Epoch 00026: val_acc did not improve\n",
      "1840/1840 [==============================] - 32s - loss: 0.6423 - acc: 0.9500 - val_loss: 0.7432 - val_acc: 0.9087\n",
      "Epoch 28/50\n",
      "1824/1840 [============================>.] - ETA: 0s - loss: 0.6456 - acc: 0.9529Epoch 00027: val_acc did not improve\n",
      "1840/1840 [==============================] - 32s - loss: 0.6464 - acc: 0.9522 - val_loss: 0.7115 - val_acc: 0.9174\n",
      "Epoch 29/50\n",
      "1824/1840 [============================>.] - ETA: 0s - loss: 0.6358 - acc: 0.9545Epoch 00028: val_acc did not improve\n",
      "1840/1840 [==============================] - 32s - loss: 0.6351 - acc: 0.9549 - val_loss: 0.7085 - val_acc: 0.9196\n",
      "Epoch 30/50\n",
      "1824/1840 [============================>.] - ETA: 0s - loss: 0.6319 - acc: 0.9545Epoch 00029: val_acc did not improve\n",
      "1840/1840 [==============================] - 32s - loss: 0.6325 - acc: 0.9538 - val_loss: 0.7080 - val_acc: 0.9196\n",
      "Epoch 31/50\n"
     ]
    },
    {
     "name": "stdout",
     "output_type": "stream",
     "text": [
      "1824/1840 [============================>.] - ETA: 0s - loss: 0.6265 - acc: 0.9600Epoch 00030: val_acc did not improve\n",
      "1840/1840 [==============================] - 32s - loss: 0.6267 - acc: 0.9598 - val_loss: 0.7082 - val_acc: 0.9239\n",
      "Epoch 32/50\n",
      "1824/1840 [============================>.] - ETA: 0s - loss: 0.6205 - acc: 0.9600Epoch 00031: val_acc did not improve\n",
      "1840/1840 [==============================] - 32s - loss: 0.6208 - acc: 0.9598 - val_loss: 0.7141 - val_acc: 0.9152\n",
      "Epoch 33/50\n",
      "1824/1840 [============================>.] - ETA: 0s - loss: 0.6171 - acc: 0.9682Epoch 00032: val_acc did not improve\n",
      "1840/1840 [==============================] - 32s - loss: 0.6171 - acc: 0.9679 - val_loss: 0.7069 - val_acc: 0.9196\n",
      "Epoch 34/50\n",
      "1824/1840 [============================>.] - ETA: 0s - loss: 0.6131 - acc: 0.9715Epoch 00033: val_acc did not improve\n",
      "1840/1840 [==============================] - 32s - loss: 0.6128 - acc: 0.9717 - val_loss: 0.7056 - val_acc: 0.9174\n",
      "Epoch 35/50\n",
      "1824/1840 [============================>.] - ETA: 0s - loss: 0.6184 - acc: 0.9627Epoch 00034: val_acc did not improve\n",
      "1840/1840 [==============================] - 32s - loss: 0.6185 - acc: 0.9625 - val_loss: 0.7060 - val_acc: 0.9239\n",
      "Epoch 36/50\n",
      "1824/1840 [============================>.] - ETA: 0s - loss: 0.6069 - acc: 0.9682Epoch 00035: val_acc did not improve\n",
      "1840/1840 [==============================] - 32s - loss: 0.6070 - acc: 0.9679 - val_loss: 0.7094 - val_acc: 0.9196\n",
      "Epoch 37/50\n",
      "1824/1840 [============================>.] - ETA: 0s - loss: 0.6046 - acc: 0.9666Epoch 00036: val_acc did not improve\n",
      "1840/1840 [==============================] - 32s - loss: 0.6044 - acc: 0.9668 - val_loss: 0.7053 - val_acc: 0.9174\n",
      "Epoch 38/50\n",
      "1824/1840 [============================>.] - ETA: 0s - loss: 0.5996 - acc: 0.9698Epoch 00037: val_acc improved from 0.92391 to 0.92609, saving model to data1a/top_model_weights.h5\n",
      "1840/1840 [==============================] - 32s - loss: 0.5992 - acc: 0.9701 - val_loss: 0.7071 - val_acc: 0.9261\n",
      "Epoch 39/50\n",
      "1824/1840 [============================>.] - ETA: 0s - loss: 0.5975 - acc: 0.9726Epoch 00038: val_acc did not improve\n",
      "1840/1840 [==============================] - 32s - loss: 0.5979 - acc: 0.9723 - val_loss: 0.7086 - val_acc: 0.9217\n",
      "Epoch 40/50\n",
      "1824/1840 [============================>.] - ETA: 0s - loss: 0.5985 - acc: 0.9693Epoch 00039: val_acc did not improve\n",
      "1840/1840 [==============================] - 32s - loss: 0.5984 - acc: 0.9696 - val_loss: 0.7094 - val_acc: 0.9196\n",
      "Epoch 41/50\n",
      "1824/1840 [============================>.] - ETA: 0s - loss: 0.5898 - acc: 0.9759Epoch 00040: val_acc did not improve\n",
      "1840/1840 [==============================] - 32s - loss: 0.5897 - acc: 0.9761 - val_loss: 0.7048 - val_acc: 0.9174\n",
      "Epoch 42/50\n",
      "1824/1840 [============================>.] - ETA: 0s - loss: 0.5924 - acc: 0.9748Epoch 00041: val_acc did not improve\n",
      "1840/1840 [==============================] - 32s - loss: 0.5921 - acc: 0.9750 - val_loss: 0.7024 - val_acc: 0.9261\n",
      "Epoch 43/50\n",
      "1824/1840 [============================>.] - ETA: 0s - loss: 0.5879 - acc: 0.9786Epoch 00042: val_acc did not improve\n",
      "1840/1840 [==============================] - 32s - loss: 0.5874 - acc: 0.9788 - val_loss: 0.7057 - val_acc: 0.9217\n",
      "Epoch 44/50\n",
      "1824/1840 [============================>.] - ETA: 0s - loss: 0.5843 - acc: 0.9814Epoch 00043: val_acc did not improve\n",
      "1840/1840 [==============================] - 32s - loss: 0.5839 - acc: 0.9815 - val_loss: 0.7135 - val_acc: 0.9130\n",
      "Epoch 45/50\n",
      "1824/1840 [============================>.] - ETA: 0s - loss: 0.5835 - acc: 0.9781Epoch 00044: val_acc did not improve\n",
      "1840/1840 [==============================] - 32s - loss: 0.5837 - acc: 0.9777 - val_loss: 0.7029 - val_acc: 0.9239\n",
      "Epoch 46/50\n",
      "1824/1840 [============================>.] - ETA: 0s - loss: 0.5806 - acc: 0.9764Epoch 00045: val_acc did not improve\n",
      "1840/1840 [==============================] - 32s - loss: 0.5803 - acc: 0.9766 - val_loss: 0.7042 - val_acc: 0.9261\n",
      "Epoch 47/50\n",
      "1824/1840 [============================>.] - ETA: 0s - loss: 0.5792 - acc: 0.9803Epoch 00046: val_acc did not improve\n",
      "1840/1840 [==============================] - 32s - loss: 0.5790 - acc: 0.9804 - val_loss: 0.7111 - val_acc: 0.9152\n",
      "Epoch 48/50\n",
      "1824/1840 [============================>.] - ETA: 0s - loss: 0.5771 - acc: 0.9814Epoch 00047: val_acc did not improve\n",
      "1840/1840 [==============================] - 32s - loss: 0.5766 - acc: 0.9815 - val_loss: 0.7047 - val_acc: 0.9217\n",
      "Epoch 49/50\n",
      "1824/1840 [============================>.] - ETA: 0s - loss: 0.5716 - acc: 0.9836Epoch 00048: val_acc did not improve\n",
      "1840/1840 [==============================] - 32s - loss: 0.5711 - acc: 0.9837 - val_loss: 0.7054 - val_acc: 0.9217\n",
      "Epoch 50/50\n",
      "1824/1840 [============================>.] - ETA: 0s - loss: 0.5644 - acc: 0.9868Epoch 00049: val_acc did not improve\n",
      "1840/1840 [==============================] - 32s - loss: 0.5642 - acc: 0.9870 - val_loss: 0.7063 - val_acc: 0.9217\n"
     ]
    }
   ],
   "source": [
    "d1a_model6, d1a_history6 = train_binary_model() "
   ]
  },
  {
   "cell_type": "code",
   "execution_count": 18,
   "metadata": {
    "scrolled": false
   },
   "outputs": [
    {
     "name": "stdout",
     "output_type": "stream",
     "text": [
      "Best Model:\n",
      "epoch: 38 , val_acc: 0.9260869565217391 , val_loss: 0.7071418902148371\n"
     ]
    },
    {
     "data": {
      "image/png": "[encoded data removed]",
      "text/plain": [
       "<Figure size 720x288 with 2 Axes>"
      ]
     },
     "metadata": {},
     "output_type": "display_data"
    }
   ],
   "source": [
    "# WINNER\n",
    "plot_metrics(d1a_history6) # sgd with lr = 0.0001, sigmoid, with l2 = 0.001"
   ]
  },
  {
   "cell_type": "markdown",
   "metadata": {},
   "source": [
    "## Fine Tuning"
   ]
  },
  {
   "cell_type": "code",
   "execution_count": 61,
   "metadata": {
    "collapsed": true
   },
   "outputs": [],
   "source": [
    "FINETUNING = True\n",
    "# Very sloooow without GPU"
   ]
  },
  {
   "cell_type": "code",
   "execution_count": null,
   "metadata": {
    "scrolled": true
   },
   "outputs": [
    {
     "name": "stdout",
     "output_type": "stream",
     "text": [
      "vgg16_weights.h5\n",
      "VGG16 Model with partial weights loaded.\n",
      "Found 1840 images belonging to 2 classes.\n",
      "Found 460 images belonging to 2 classes.\n",
      "Epoch 1/1\n",
      "  72/1840 [>.............................] - ETA: 33609s - loss: 5.6535 - acc: 0.7361"
     ]
    }
   ],
   "source": [
    "if FINETUNING:\n",
    "    ft_model, ft_history = finetune_binary_model()"
   ]
  },
  {
   "cell_type": "code",
   "execution_count": 34,
   "metadata": {
    "scrolled": false
   },
   "outputs": [],
   "source": [
    "# WINNER\n",
    "if FINETUNING:\n",
    "    plot_metrics(ft_history) # sgd with lr = 0.0001, sigmoid, with l2 = 0.001"
   ]
  },
  {
   "cell_type": "markdown",
   "metadata": {},
   "source": [
    "## Load Model Point"
   ]
  },
  {
   "cell_type": "code",
   "execution_count": 35,
   "metadata": {
    "scrolled": false
   },
   "outputs": [],
   "source": [
    "if FINETUNING: \n",
    "    ft_model = load_model(location+'/ft_model.h5')\n",
    "else:\n",
    "    ft_model = d1a_model6"
   ]
  },
  {
   "cell_type": "code",
   "execution_count": 36,
   "metadata": {
    "collapsed": true,
    "scrolled": false
   },
   "outputs": [],
   "source": [
    "with open('data1a/top_history.txt') as f:    \n",
    "    top_history = json.load(f)"
   ]
  },
  {
   "cell_type": "code",
   "execution_count": 37,
   "metadata": {
    "scrolled": true
   },
   "outputs": [],
   "source": [
    "if FINETUNING:\n",
    "    with open('data1a/ft_history.txt') as f:    \n",
    "        ft_history = json.load(f)"
   ]
  },
  {
   "cell_type": "code",
   "execution_count": 38,
   "metadata": {
    "collapsed": true,
    "scrolled": false
   },
   "outputs": [],
   "source": [
    "def plot_metrics(hist, stop=50):\n",
    "    fig, axes = plt.subplots(nrows=1, ncols=2, figsize=(10,4))\n",
    "                            \n",
    "    axes = axes.flatten()\n",
    "\n",
    "    axes[0].plot(range(stop), hist['acc'], label='Training', color='#FF533D')\n",
    "    axes[0].plot(range(stop), hist['val_acc'], label='Validation', color='#03507E')\n",
    "    axes[0].set_title('Accuracy')\n",
    "    axes[0].set_ylabel('Accuracy')\n",
    "    axes[0].set_xlabel('Epoch')\n",
    "    axes[0].legend(loc='lower right')\n",
    "                             \n",
    "    axes[1].plot(range(stop), hist['loss'], label='Training', color='#FF533D')\n",
    "    axes[1].plot(range(stop), hist['val_loss'], label='Validation', color='#03507E')\n",
    "    axes[1].set_title('Loss')\n",
    "    axes[1].set_ylabel('Loss')\n",
    "    axes[1].set_xlabel('Epoch')\n",
    "    axes[1].legend(loc='upper right')\n",
    "                             \n",
    "    plt.tight_layout();\n",
    "    \n",
    "    print \"Best Model:\" \n",
    "    print_best_model_results(hist)"
   ]
  },
  {
   "cell_type": "code",
   "execution_count": 39,
   "metadata": {
    "collapsed": true,
    "scrolled": false
   },
   "outputs": [],
   "source": [
    "def plot_acc_metrics(hist1, hist2, stop=50):\n",
    "    fig, axes = plt.subplots(nrows=2, ncols=1, figsize=(4.25,6))\n",
    "                            \n",
    "    axes = axes.flatten()\n",
    "    \n",
    "    axes[0].plot(range(stop), hist1['acc'], label='Training', color='#FF533D')\n",
    "    axes[0].plot(range(stop), hist1['val_acc'], label='Validation', color='#03507E')\n",
    "    axes[0].set_title('Training')\n",
    "    axes[0].set_ylabel('Accuracy')\n",
    "    axes[0].set_xlabel('Epoch')\n",
    "    axes[0].legend(loc='lower right')\n",
    "                             \n",
    "    axes[1].plot(range(stop), hist2['acc'], label='Training', color='#FF533D')\n",
    "    axes[1].plot(range(stop), hist2['val_acc'], label='Validation', color='#03507E')\n",
    "    axes[1].set_title('Fine-tuning')\n",
    "    axes[1].set_ylabel('Accuracy')\n",
    "    axes[1].set_xlabel('Epoch')\n",
    "    axes[1].legend(loc='lower right')\n",
    "                             \n",
    "    plt.tight_layout();"
   ]
  },
  {
   "cell_type": "code",
   "execution_count": 40,
   "metadata": {
    "collapsed": true,
    "scrolled": false
   },
   "outputs": [],
   "source": [
    "def evaluate_binary_model(model, directory, labels):\n",
    "    datagen = ImageDataGenerator(rescale=1./255)  \n",
    "\n",
    "    generator = datagen.flow_from_directory(directory,\n",
    "                                target_size=(img_height, img_width),\n",
    "                                batch_size=8,\n",
    "                                class_mode='binary', # categorical for multiclass\n",
    "                                shuffle=False)\n",
    "    \n",
    "    predictions = model.predict_generator(generator, len(labels))\n",
    "    \n",
    "    # use for multiclass\n",
    "    # pred_labels = np.argmax(predictions, axis=1)\n",
    "    \n",
    "    pred_labels = [0 if i <0.5 else 1 for i in predictions]\n",
    "\n",
    "    print ''\n",
    "    print classification_report(validation_labels, pred_labels)\n",
    "    print ''\n",
    "    cm = confusion_matrix(validation_labels, pred_labels)\n",
    "    return cm "
   ]
  },
  {
   "cell_type": "code",
   "execution_count": 42,
   "metadata": {
    "scrolled": false
   },
   "outputs": [],
   "source": [
    "if FINETUNING:\n",
    "    plot_acc_metrics(top_history, ft_history)"
   ]
  },
  {
   "cell_type": "code",
   "execution_count": 43,
   "metadata": {
    "collapsed": true,
    "scrolled": false
   },
   "outputs": [],
   "source": [
    "# WINNER\n",
    "if FINETUNING:\n",
    "    plot_metrics(ft_history) # sgd with lr = 0.0001, sigmoid, with l2 = 0.001"
   ]
  },
  {
   "cell_type": "code",
   "execution_count": 44,
   "metadata": {
    "collapsed": true,
    "scrolled": false
   },
   "outputs": [],
   "source": [
    "validation_labels = np.array([0] * validation_samples[0] + \n",
    "                             [1] * validation_samples[1])"
   ]
  },
  {
   "cell_type": "code",
   "execution_count": 45,
   "metadata": {
    "scrolled": false
   },
   "outputs": [
    {
     "name": "stdout",
     "output_type": "stream",
     "text": [
      "Found 460 images belonging to 2 classes.\n"
     ]
    },
    {
     "ename": "ValueError",
     "evalue": "Error when checking : expected flatten_input_1 to have shape (None, 512, 8, 8) but got array with shape (8, 3, 256, 256)",
     "output_type": "error",
     "traceback": [
      "\u001b[0;31m---------------------------------------------------------------------------\u001b[0m",
      "\u001b[0;31mValueError\u001b[0m                                Traceback (most recent call last)",
      "\u001b[0;32m<ipython-input-45-bf52512d511d>\u001b[0m in \u001b[0;36m<module>\u001b[0;34m()\u001b[0m\n\u001b[0;32m----> 1\u001b[0;31m \u001b[0mcm\u001b[0m \u001b[0;34m=\u001b[0m \u001b[0mevaluate_binary_model\u001b[0m\u001b[0;34m(\u001b[0m\u001b[0mft_model\u001b[0m\u001b[0;34m,\u001b[0m \u001b[0mvalidation_data_dir\u001b[0m\u001b[0;34m,\u001b[0m \u001b[0mvalidation_labels\u001b[0m\u001b[0;34m)\u001b[0m\u001b[0;34m\u001b[0m\u001b[0m\n\u001b[0m",
      "\u001b[0;32m<ipython-input-40-e940379a8970>\u001b[0m in \u001b[0;36mevaluate_binary_model\u001b[0;34m(model, directory, labels)\u001b[0m\n\u001b[1;32m      8\u001b[0m                                 shuffle=False)\n\u001b[1;32m      9\u001b[0m \u001b[0;34m\u001b[0m\u001b[0m\n\u001b[0;32m---> 10\u001b[0;31m     \u001b[0mpredictions\u001b[0m \u001b[0;34m=\u001b[0m \u001b[0mmodel\u001b[0m\u001b[0;34m.\u001b[0m\u001b[0mpredict_generator\u001b[0m\u001b[0;34m(\u001b[0m\u001b[0mgenerator\u001b[0m\u001b[0;34m,\u001b[0m \u001b[0mlen\u001b[0m\u001b[0;34m(\u001b[0m\u001b[0mlabels\u001b[0m\u001b[0;34m)\u001b[0m\u001b[0;34m)\u001b[0m\u001b[0;34m\u001b[0m\u001b[0m\n\u001b[0m\u001b[1;32m     11\u001b[0m \u001b[0;34m\u001b[0m\u001b[0m\n\u001b[1;32m     12\u001b[0m     \u001b[0;31m# use for multiclass\u001b[0m\u001b[0;34m\u001b[0m\u001b[0;34m\u001b[0m\u001b[0m\n",
      "\u001b[0;32m/home/milhouse/tools/virtualenvs/car-damage-detective-2/local/lib/python2.7/site-packages/keras/models.pyc\u001b[0m in \u001b[0;36mpredict_generator\u001b[0;34m(self, generator, val_samples, max_q_size, nb_worker, pickle_safe)\u001b[0m\n\u001b[1;32m   1010\u001b[0m                                             \u001b[0mmax_q_size\u001b[0m\u001b[0;34m=\u001b[0m\u001b[0mmax_q_size\u001b[0m\u001b[0;34m,\u001b[0m\u001b[0;34m\u001b[0m\u001b[0m\n\u001b[1;32m   1011\u001b[0m                                             \u001b[0mnb_worker\u001b[0m\u001b[0;34m=\u001b[0m\u001b[0mnb_worker\u001b[0m\u001b[0;34m,\u001b[0m\u001b[0;34m\u001b[0m\u001b[0m\n\u001b[0;32m-> 1012\u001b[0;31m                                             pickle_safe=pickle_safe)\n\u001b[0m\u001b[1;32m   1013\u001b[0m \u001b[0;34m\u001b[0m\u001b[0m\n\u001b[1;32m   1014\u001b[0m     \u001b[0;32mdef\u001b[0m \u001b[0mget_config\u001b[0m\u001b[0;34m(\u001b[0m\u001b[0mself\u001b[0m\u001b[0;34m)\u001b[0m\u001b[0;34m:\u001b[0m\u001b[0;34m\u001b[0m\u001b[0m\n",
      "\u001b[0;32m/home/milhouse/tools/virtualenvs/car-damage-detective-2/local/lib/python2.7/site-packages/keras/engine/training.pyc\u001b[0m in \u001b[0;36mpredict_generator\u001b[0;34m(self, generator, val_samples, max_q_size, nb_worker, pickle_safe)\u001b[0m\n\u001b[1;32m   1761\u001b[0m                     \u001b[0mx\u001b[0m \u001b[0;34m=\u001b[0m \u001b[0mgenerator_output\u001b[0m\u001b[0;34m\u001b[0m\u001b[0m\n\u001b[1;32m   1762\u001b[0m \u001b[0;34m\u001b[0m\u001b[0m\n\u001b[0;32m-> 1763\u001b[0;31m                 \u001b[0mouts\u001b[0m \u001b[0;34m=\u001b[0m \u001b[0mself\u001b[0m\u001b[0;34m.\u001b[0m\u001b[0mpredict_on_batch\u001b[0m\u001b[0;34m(\u001b[0m\u001b[0mx\u001b[0m\u001b[0;34m)\u001b[0m\u001b[0;34m\u001b[0m\u001b[0m\n\u001b[0m\u001b[1;32m   1764\u001b[0m \u001b[0;34m\u001b[0m\u001b[0m\n\u001b[1;32m   1765\u001b[0m                 \u001b[0;32mif\u001b[0m \u001b[0misinstance\u001b[0m\u001b[0;34m(\u001b[0m\u001b[0mx\u001b[0m\u001b[0;34m,\u001b[0m \u001b[0mlist\u001b[0m\u001b[0;34m)\u001b[0m\u001b[0;34m:\u001b[0m\u001b[0;34m\u001b[0m\u001b[0m\n",
      "\u001b[0;32m/home/milhouse/tools/virtualenvs/car-damage-detective-2/local/lib/python2.7/site-packages/keras/engine/training.pyc\u001b[0m in \u001b[0;36mpredict_on_batch\u001b[0;34m(self, x)\u001b[0m\n\u001b[1;32m   1369\u001b[0m         \"\"\"\n\u001b[1;32m   1370\u001b[0m         x = standardize_input_data(x, self.input_names,\n\u001b[0;32m-> 1371\u001b[0;31m                                    self.internal_input_shapes)\n\u001b[0m\u001b[1;32m   1372\u001b[0m         \u001b[0;32mif\u001b[0m \u001b[0mself\u001b[0m\u001b[0;34m.\u001b[0m\u001b[0muses_learning_phase\u001b[0m \u001b[0;32mand\u001b[0m \u001b[0;32mnot\u001b[0m \u001b[0misinstance\u001b[0m\u001b[0;34m(\u001b[0m\u001b[0mK\u001b[0m\u001b[0;34m.\u001b[0m\u001b[0mlearning_phase\u001b[0m\u001b[0;34m,\u001b[0m \u001b[0mint\u001b[0m\u001b[0;34m)\u001b[0m\u001b[0;34m:\u001b[0m\u001b[0;34m\u001b[0m\u001b[0m\n\u001b[1;32m   1373\u001b[0m             \u001b[0mins\u001b[0m \u001b[0;34m=\u001b[0m \u001b[0mx\u001b[0m \u001b[0;34m+\u001b[0m \u001b[0;34m[\u001b[0m\u001b[0;36m0.\u001b[0m\u001b[0;34m]\u001b[0m\u001b[0;34m\u001b[0m\u001b[0m\n",
      "\u001b[0;32m/home/milhouse/tools/virtualenvs/car-damage-detective-2/local/lib/python2.7/site-packages/keras/engine/training.pyc\u001b[0m in \u001b[0;36mstandardize_input_data\u001b[0;34m(data, names, shapes, check_batch_axis, exception_prefix)\u001b[0m\n\u001b[1;32m    122\u001b[0m                             \u001b[0;34m' to have shape '\u001b[0m \u001b[0;34m+\u001b[0m \u001b[0mstr\u001b[0m\u001b[0;34m(\u001b[0m\u001b[0mshapes\u001b[0m\u001b[0;34m[\u001b[0m\u001b[0mi\u001b[0m\u001b[0;34m]\u001b[0m\u001b[0;34m)\u001b[0m \u001b[0;34m+\u001b[0m\u001b[0;34m\u001b[0m\u001b[0m\n\u001b[1;32m    123\u001b[0m                             \u001b[0;34m' but got array with shape '\u001b[0m \u001b[0;34m+\u001b[0m\u001b[0;34m\u001b[0m\u001b[0m\n\u001b[0;32m--> 124\u001b[0;31m                             str(array.shape))\n\u001b[0m\u001b[1;32m    125\u001b[0m     \u001b[0;32mreturn\u001b[0m \u001b[0marrays\u001b[0m\u001b[0;34m\u001b[0m\u001b[0m\n\u001b[1;32m    126\u001b[0m \u001b[0;34m\u001b[0m\u001b[0m\n",
      "\u001b[0;31mValueError\u001b[0m: Error when checking : expected flatten_input_1 to have shape (None, 512, 8, 8) but got array with shape (8, 3, 256, 256)"
     ]
    }
   ],
   "source": [
    "cm = evaluate_binary_model(ft_model, validation_data_dir, validation_labels)"
   ]
  },
  {
   "cell_type": "code",
   "execution_count": 46,
   "metadata": {
    "collapsed": true,
    "scrolled": false
   },
   "outputs": [],
   "source": [
    "heatmap_labels = ['Damaged', 'Whole']"
   ]
  },
  {
   "cell_type": "code",
   "execution_count": 47,
   "metadata": {
    "scrolled": false
   },
   "outputs": [
    {
     "ename": "NameError",
     "evalue": "name 'cm' is not defined",
     "output_type": "error",
     "traceback": [
      "\u001b[0;31m---------------------------------------------------------------------------\u001b[0m",
      "\u001b[0;31mNameError\u001b[0m                                 Traceback (most recent call last)",
      "\u001b[0;32m<ipython-input-47-fbca53b19cdc>\u001b[0m in \u001b[0;36m<module>\u001b[0;34m()\u001b[0m\n\u001b[0;32m----> 1\u001b[0;31m sns.heatmap(cm, annot=True, annot_kws={\"size\": 16}, \n\u001b[0m\u001b[1;32m      2\u001b[0m             fmt='g', cmap='OrRd', xticklabels=heatmap_labels, yticklabels=heatmap_labels);\n",
      "\u001b[0;31mNameError\u001b[0m: name 'cm' is not defined"
     ]
    }
   ],
   "source": [
    "sns.heatmap(cm, annot=True, annot_kws={\"size\": 16}, \n",
    "            fmt='g', cmap='OrRd', xticklabels=heatmap_labels, yticklabels=heatmap_labels);"
   ]
  },
  {
   "cell_type": "code",
   "execution_count": null,
   "metadata": {
    "collapsed": true,
    "scrolled": false
   },
   "outputs": [],
   "source": [
    "sns.heatmap(cm, annot=True, annot_kws={\"size\": 16}, \n",
    "            fmt='g', cmap='Blues', xticklabels=heatmap_labels, yticklabels=heatmap_labels);"
   ]
  },
  {
   "cell_type": "markdown",
   "metadata": {},
   "source": [
    "## Making Live Predictions"
   ]
  },
  {
   "cell_type": "code",
   "execution_count": 51,
   "metadata": {
    "collapsed": true,
    "scrolled": false
   },
   "outputs": [],
   "source": [
    "def car_categories_gate(image_path, model):\n",
    "    urllib.urlretrieve(image_path, 'save.jpg') # or other way to upload image\n",
    "    img = load_img('save.jpg', target_size=(256, 256)) # this is a PIL image \n",
    "    x = img_to_array(img) # this is a Numpy array with shape (3, 256, 256)\n",
    "    x = x.reshape((1,) + x.shape)/255 # this is a Numpy array with shape (1, 3, 256, 256)\n",
    "    print(x.shape)\n",
    "    pred = model.predict(x)\n",
    "    print \"Validating that damage exists...\"\n",
    "    print pred\n",
    "    if pred[0][0] <=.5:\n",
    "\n",
    "        print \"Validation complete - proceed to location and severity determination\"\n",
    "    else:\n",
    "        print \"Are you sure that your car is damaged? Please submit another picture of the damage.\"\n",
    "        print \"Hint: Try zooming in/out, using a different angle or different lighting\""
   ]
  },
  {
   "cell_type": "code",
   "execution_count": 52,
   "metadata": {
    "scrolled": false
   },
   "outputs": [
    {
     "data": {
      "image/jpeg": "[encoded data removed]",
      "text/plain": [
       "<IPython.core.display.Image object>"
      ]
     },
     "execution_count": 52,
     "metadata": {},
     "output_type": "execute_result"
    }
   ],
   "source": [
    "Image('https://www.nerdwallet.com/blog/wp-content/uploads/2015/12/exterior-car-damage-384x233.jpg')"
   ]
  },
  {
   "cell_type": "code",
   "execution_count": 53,
   "metadata": {
    "scrolled": false
   },
   "outputs": [
    {
     "name": "stdout",
     "output_type": "stream",
     "text": [
      "(1, 3, 256, 256)\n"
     ]
    },
    {
     "ename": "ValueError",
     "evalue": "Error when checking : expected flatten_input_1 to have shape (None, 512, 8, 8) but got array with shape (1, 3, 256, 256)",
     "output_type": "error",
     "traceback": [
      "\u001b[0;31m---------------------------------------------------------------------------\u001b[0m",
      "\u001b[0;31mValueError\u001b[0m                                Traceback (most recent call last)",
      "\u001b[0;32m<ipython-input-53-36864a73c804>\u001b[0m in \u001b[0;36m<module>\u001b[0;34m()\u001b[0m\n\u001b[0;32m----> 1\u001b[0;31m \u001b[0mcar_categories_gate\u001b[0m\u001b[0;34m(\u001b[0m\u001b[0;34m'https://www.nerdwallet.com/blog/wp-content/uploads/2015/12/exterior-car-damage-384x233.jpg'\u001b[0m\u001b[0;34m,\u001b[0m \u001b[0mft_model\u001b[0m\u001b[0;34m)\u001b[0m\u001b[0;34m\u001b[0m\u001b[0m\n\u001b[0m",
      "\u001b[0;32m<ipython-input-51-2f50d15b3064>\u001b[0m in \u001b[0;36mcar_categories_gate\u001b[0;34m(image_path, model)\u001b[0m\n\u001b[1;32m      5\u001b[0m     \u001b[0mx\u001b[0m \u001b[0;34m=\u001b[0m \u001b[0mx\u001b[0m\u001b[0;34m.\u001b[0m\u001b[0mreshape\u001b[0m\u001b[0;34m(\u001b[0m\u001b[0;34m(\u001b[0m\u001b[0;36m1\u001b[0m\u001b[0;34m,\u001b[0m\u001b[0;34m)\u001b[0m \u001b[0;34m+\u001b[0m \u001b[0mx\u001b[0m\u001b[0;34m.\u001b[0m\u001b[0mshape\u001b[0m\u001b[0;34m)\u001b[0m\u001b[0;34m/\u001b[0m\u001b[0;36m255\u001b[0m \u001b[0;31m# this is a Numpy array with shape (1, 3, 256, 256)\u001b[0m\u001b[0;34m\u001b[0m\u001b[0m\n\u001b[1;32m      6\u001b[0m     \u001b[0;32mprint\u001b[0m\u001b[0;34m(\u001b[0m\u001b[0mx\u001b[0m\u001b[0;34m.\u001b[0m\u001b[0mshape\u001b[0m\u001b[0;34m)\u001b[0m\u001b[0;34m\u001b[0m\u001b[0m\n\u001b[0;32m----> 7\u001b[0;31m     \u001b[0mpred\u001b[0m \u001b[0;34m=\u001b[0m \u001b[0mmodel\u001b[0m\u001b[0;34m.\u001b[0m\u001b[0mpredict\u001b[0m\u001b[0;34m(\u001b[0m\u001b[0mx\u001b[0m\u001b[0;34m)\u001b[0m\u001b[0;34m\u001b[0m\u001b[0m\n\u001b[0m\u001b[1;32m      8\u001b[0m     \u001b[0;32mprint\u001b[0m \u001b[0;34m\"Validating that damage exists...\"\u001b[0m\u001b[0;34m\u001b[0m\u001b[0m\n\u001b[1;32m      9\u001b[0m     \u001b[0;32mprint\u001b[0m \u001b[0mpred\u001b[0m\u001b[0;34m\u001b[0m\u001b[0m\n",
      "\u001b[0;32m/home/milhouse/tools/virtualenvs/car-damage-detective-2/local/lib/python2.7/site-packages/keras/models.pyc\u001b[0m in \u001b[0;36mpredict\u001b[0;34m(self, x, batch_size, verbose)\u001b[0m\n\u001b[1;32m    722\u001b[0m         \u001b[0;32mif\u001b[0m \u001b[0mself\u001b[0m\u001b[0;34m.\u001b[0m\u001b[0mmodel\u001b[0m \u001b[0;32mis\u001b[0m \u001b[0mNone\u001b[0m\u001b[0;34m:\u001b[0m\u001b[0;34m\u001b[0m\u001b[0m\n\u001b[1;32m    723\u001b[0m             \u001b[0mself\u001b[0m\u001b[0;34m.\u001b[0m\u001b[0mbuild\u001b[0m\u001b[0;34m(\u001b[0m\u001b[0;34m)\u001b[0m\u001b[0;34m\u001b[0m\u001b[0m\n\u001b[0;32m--> 724\u001b[0;31m         \u001b[0;32mreturn\u001b[0m \u001b[0mself\u001b[0m\u001b[0;34m.\u001b[0m\u001b[0mmodel\u001b[0m\u001b[0;34m.\u001b[0m\u001b[0mpredict\u001b[0m\u001b[0;34m(\u001b[0m\u001b[0mx\u001b[0m\u001b[0;34m,\u001b[0m \u001b[0mbatch_size\u001b[0m\u001b[0;34m=\u001b[0m\u001b[0mbatch_size\u001b[0m\u001b[0;34m,\u001b[0m \u001b[0mverbose\u001b[0m\u001b[0;34m=\u001b[0m\u001b[0mverbose\u001b[0m\u001b[0;34m)\u001b[0m\u001b[0;34m\u001b[0m\u001b[0m\n\u001b[0m\u001b[1;32m    725\u001b[0m \u001b[0;34m\u001b[0m\u001b[0m\n\u001b[1;32m    726\u001b[0m     \u001b[0;32mdef\u001b[0m \u001b[0mpredict_on_batch\u001b[0m\u001b[0;34m(\u001b[0m\u001b[0mself\u001b[0m\u001b[0;34m,\u001b[0m \u001b[0mx\u001b[0m\u001b[0;34m)\u001b[0m\u001b[0;34m:\u001b[0m\u001b[0;34m\u001b[0m\u001b[0m\n",
      "\u001b[0;32m/home/milhouse/tools/virtualenvs/car-damage-detective-2/local/lib/python2.7/site-packages/keras/engine/training.pyc\u001b[0m in \u001b[0;36mpredict\u001b[0;34m(self, x, batch_size, verbose)\u001b[0m\n\u001b[1;32m   1252\u001b[0m         x = standardize_input_data(x, self.input_names,\n\u001b[1;32m   1253\u001b[0m                                    \u001b[0mself\u001b[0m\u001b[0;34m.\u001b[0m\u001b[0minternal_input_shapes\u001b[0m\u001b[0;34m,\u001b[0m\u001b[0;34m\u001b[0m\u001b[0m\n\u001b[0;32m-> 1254\u001b[0;31m                                    check_batch_axis=False)\n\u001b[0m\u001b[1;32m   1255\u001b[0m         \u001b[0;32mif\u001b[0m \u001b[0mself\u001b[0m\u001b[0;34m.\u001b[0m\u001b[0mstateful\u001b[0m\u001b[0;34m:\u001b[0m\u001b[0;34m\u001b[0m\u001b[0m\n\u001b[1;32m   1256\u001b[0m             \u001b[0;32mif\u001b[0m \u001b[0mx\u001b[0m\u001b[0;34m[\u001b[0m\u001b[0;36m0\u001b[0m\u001b[0;34m]\u001b[0m\u001b[0;34m.\u001b[0m\u001b[0mshape\u001b[0m\u001b[0;34m[\u001b[0m\u001b[0;36m0\u001b[0m\u001b[0;34m]\u001b[0m \u001b[0;34m>\u001b[0m \u001b[0mbatch_size\u001b[0m \u001b[0;32mand\u001b[0m \u001b[0mx\u001b[0m\u001b[0;34m[\u001b[0m\u001b[0;36m0\u001b[0m\u001b[0;34m]\u001b[0m\u001b[0;34m.\u001b[0m\u001b[0mshape\u001b[0m\u001b[0;34m[\u001b[0m\u001b[0;36m0\u001b[0m\u001b[0;34m]\u001b[0m \u001b[0;34m%\u001b[0m \u001b[0mbatch_size\u001b[0m \u001b[0;34m!=\u001b[0m \u001b[0;36m0\u001b[0m\u001b[0;34m:\u001b[0m\u001b[0;34m\u001b[0m\u001b[0m\n",
      "\u001b[0;32m/home/milhouse/tools/virtualenvs/car-damage-detective-2/local/lib/python2.7/site-packages/keras/engine/training.pyc\u001b[0m in \u001b[0;36mstandardize_input_data\u001b[0;34m(data, names, shapes, check_batch_axis, exception_prefix)\u001b[0m\n\u001b[1;32m    122\u001b[0m                             \u001b[0;34m' to have shape '\u001b[0m \u001b[0;34m+\u001b[0m \u001b[0mstr\u001b[0m\u001b[0;34m(\u001b[0m\u001b[0mshapes\u001b[0m\u001b[0;34m[\u001b[0m\u001b[0mi\u001b[0m\u001b[0;34m]\u001b[0m\u001b[0;34m)\u001b[0m \u001b[0;34m+\u001b[0m\u001b[0;34m\u001b[0m\u001b[0m\n\u001b[1;32m    123\u001b[0m                             \u001b[0;34m' but got array with shape '\u001b[0m \u001b[0;34m+\u001b[0m\u001b[0;34m\u001b[0m\u001b[0m\n\u001b[0;32m--> 124\u001b[0;31m                             str(array.shape))\n\u001b[0m\u001b[1;32m    125\u001b[0m     \u001b[0;32mreturn\u001b[0m \u001b[0marrays\u001b[0m\u001b[0;34m\u001b[0m\u001b[0m\n\u001b[1;32m    126\u001b[0m \u001b[0;34m\u001b[0m\u001b[0m\n",
      "\u001b[0;31mValueError\u001b[0m: Error when checking : expected flatten_input_1 to have shape (None, 512, 8, 8) but got array with shape (1, 3, 256, 256)"
     ]
    }
   ],
   "source": [
    "car_categories_gate('https://www.nerdwallet.com/blog/wp-content/uploads/2015/12/exterior-car-damage-384x233.jpg', ft_model)"
   ]
  },
  {
   "cell_type": "code",
   "execution_count": 54,
   "metadata": {
    "scrolled": false
   },
   "outputs": [
    {
     "data": {
      "image/jpeg": "[encoded data removed]",
      "text/plain": [
       "<IPython.core.display.Image object>"
      ]
     },
     "execution_count": 54,
     "metadata": {},
     "output_type": "execute_result"
    }
   ],
   "source": [
    "Image('http://1.bp.blogspot.com/-ToQS-qIxYbo/UDNuV5OcVQI/AAAAAAAABdo/tjeQywWiOo0/s200/Key+scratch.jpg')"
   ]
  },
  {
   "cell_type": "code",
   "execution_count": 55,
   "metadata": {
    "scrolled": false
   },
   "outputs": [
    {
     "name": "stdout",
     "output_type": "stream",
     "text": [
      "(1, 3, 256, 256)\n"
     ]
    },
    {
     "ename": "ValueError",
     "evalue": "Error when checking : expected flatten_input_1 to have shape (None, 512, 8, 8) but got array with shape (1, 3, 256, 256)",
     "output_type": "error",
     "traceback": [
      "\u001b[0;31m---------------------------------------------------------------------------\u001b[0m",
      "\u001b[0;31mValueError\u001b[0m                                Traceback (most recent call last)",
      "\u001b[0;32m<ipython-input-55-853c1f66cf96>\u001b[0m in \u001b[0;36m<module>\u001b[0;34m()\u001b[0m\n\u001b[0;32m----> 1\u001b[0;31m \u001b[0mcar_categories_gate\u001b[0m\u001b[0;34m(\u001b[0m\u001b[0;34m'http://1.bp.blogspot.com/-ToQS-qIxYbo/UDNuV5OcVQI/AAAAAAAABdo/tjeQywWiOo0/s200/Key+scratch.jpg'\u001b[0m\u001b[0;34m,\u001b[0m \u001b[0mft_model\u001b[0m\u001b[0;34m)\u001b[0m\u001b[0;34m\u001b[0m\u001b[0m\n\u001b[0m",
      "\u001b[0;32m<ipython-input-51-2f50d15b3064>\u001b[0m in \u001b[0;36mcar_categories_gate\u001b[0;34m(image_path, model)\u001b[0m\n\u001b[1;32m      5\u001b[0m     \u001b[0mx\u001b[0m \u001b[0;34m=\u001b[0m \u001b[0mx\u001b[0m\u001b[0;34m.\u001b[0m\u001b[0mreshape\u001b[0m\u001b[0;34m(\u001b[0m\u001b[0;34m(\u001b[0m\u001b[0;36m1\u001b[0m\u001b[0;34m,\u001b[0m\u001b[0;34m)\u001b[0m \u001b[0;34m+\u001b[0m \u001b[0mx\u001b[0m\u001b[0;34m.\u001b[0m\u001b[0mshape\u001b[0m\u001b[0;34m)\u001b[0m\u001b[0;34m/\u001b[0m\u001b[0;36m255\u001b[0m \u001b[0;31m# this is a Numpy array with shape (1, 3, 256, 256)\u001b[0m\u001b[0;34m\u001b[0m\u001b[0m\n\u001b[1;32m      6\u001b[0m     \u001b[0;32mprint\u001b[0m\u001b[0;34m(\u001b[0m\u001b[0mx\u001b[0m\u001b[0;34m.\u001b[0m\u001b[0mshape\u001b[0m\u001b[0;34m)\u001b[0m\u001b[0;34m\u001b[0m\u001b[0m\n\u001b[0;32m----> 7\u001b[0;31m     \u001b[0mpred\u001b[0m \u001b[0;34m=\u001b[0m \u001b[0mmodel\u001b[0m\u001b[0;34m.\u001b[0m\u001b[0mpredict\u001b[0m\u001b[0;34m(\u001b[0m\u001b[0mx\u001b[0m\u001b[0;34m)\u001b[0m\u001b[0;34m\u001b[0m\u001b[0m\n\u001b[0m\u001b[1;32m      8\u001b[0m     \u001b[0;32mprint\u001b[0m \u001b[0;34m\"Validating that damage exists...\"\u001b[0m\u001b[0;34m\u001b[0m\u001b[0m\n\u001b[1;32m      9\u001b[0m     \u001b[0;32mprint\u001b[0m \u001b[0mpred\u001b[0m\u001b[0;34m\u001b[0m\u001b[0m\n",
      "\u001b[0;32m/home/milhouse/tools/virtualenvs/car-damage-detective-2/local/lib/python2.7/site-packages/keras/models.pyc\u001b[0m in \u001b[0;36mpredict\u001b[0;34m(self, x, batch_size, verbose)\u001b[0m\n\u001b[1;32m    722\u001b[0m         \u001b[0;32mif\u001b[0m \u001b[0mself\u001b[0m\u001b[0;34m.\u001b[0m\u001b[0mmodel\u001b[0m \u001b[0;32mis\u001b[0m \u001b[0mNone\u001b[0m\u001b[0;34m:\u001b[0m\u001b[0;34m\u001b[0m\u001b[0m\n\u001b[1;32m    723\u001b[0m             \u001b[0mself\u001b[0m\u001b[0;34m.\u001b[0m\u001b[0mbuild\u001b[0m\u001b[0;34m(\u001b[0m\u001b[0;34m)\u001b[0m\u001b[0;34m\u001b[0m\u001b[0m\n\u001b[0;32m--> 724\u001b[0;31m         \u001b[0;32mreturn\u001b[0m \u001b[0mself\u001b[0m\u001b[0;34m.\u001b[0m\u001b[0mmodel\u001b[0m\u001b[0;34m.\u001b[0m\u001b[0mpredict\u001b[0m\u001b[0;34m(\u001b[0m\u001b[0mx\u001b[0m\u001b[0;34m,\u001b[0m \u001b[0mbatch_size\u001b[0m\u001b[0;34m=\u001b[0m\u001b[0mbatch_size\u001b[0m\u001b[0;34m,\u001b[0m \u001b[0mverbose\u001b[0m\u001b[0;34m=\u001b[0m\u001b[0mverbose\u001b[0m\u001b[0;34m)\u001b[0m\u001b[0;34m\u001b[0m\u001b[0m\n\u001b[0m\u001b[1;32m    725\u001b[0m \u001b[0;34m\u001b[0m\u001b[0m\n\u001b[1;32m    726\u001b[0m     \u001b[0;32mdef\u001b[0m \u001b[0mpredict_on_batch\u001b[0m\u001b[0;34m(\u001b[0m\u001b[0mself\u001b[0m\u001b[0;34m,\u001b[0m \u001b[0mx\u001b[0m\u001b[0;34m)\u001b[0m\u001b[0;34m:\u001b[0m\u001b[0;34m\u001b[0m\u001b[0m\n",
      "\u001b[0;32m/home/milhouse/tools/virtualenvs/car-damage-detective-2/local/lib/python2.7/site-packages/keras/engine/training.pyc\u001b[0m in \u001b[0;36mpredict\u001b[0;34m(self, x, batch_size, verbose)\u001b[0m\n\u001b[1;32m   1252\u001b[0m         x = standardize_input_data(x, self.input_names,\n\u001b[1;32m   1253\u001b[0m                                    \u001b[0mself\u001b[0m\u001b[0;34m.\u001b[0m\u001b[0minternal_input_shapes\u001b[0m\u001b[0;34m,\u001b[0m\u001b[0;34m\u001b[0m\u001b[0m\n\u001b[0;32m-> 1254\u001b[0;31m                                    check_batch_axis=False)\n\u001b[0m\u001b[1;32m   1255\u001b[0m         \u001b[0;32mif\u001b[0m \u001b[0mself\u001b[0m\u001b[0;34m.\u001b[0m\u001b[0mstateful\u001b[0m\u001b[0;34m:\u001b[0m\u001b[0;34m\u001b[0m\u001b[0m\n\u001b[1;32m   1256\u001b[0m             \u001b[0;32mif\u001b[0m \u001b[0mx\u001b[0m\u001b[0;34m[\u001b[0m\u001b[0;36m0\u001b[0m\u001b[0;34m]\u001b[0m\u001b[0;34m.\u001b[0m\u001b[0mshape\u001b[0m\u001b[0;34m[\u001b[0m\u001b[0;36m0\u001b[0m\u001b[0;34m]\u001b[0m \u001b[0;34m>\u001b[0m \u001b[0mbatch_size\u001b[0m \u001b[0;32mand\u001b[0m \u001b[0mx\u001b[0m\u001b[0;34m[\u001b[0m\u001b[0;36m0\u001b[0m\u001b[0;34m]\u001b[0m\u001b[0;34m.\u001b[0m\u001b[0mshape\u001b[0m\u001b[0;34m[\u001b[0m\u001b[0;36m0\u001b[0m\u001b[0;34m]\u001b[0m \u001b[0;34m%\u001b[0m \u001b[0mbatch_size\u001b[0m \u001b[0;34m!=\u001b[0m \u001b[0;36m0\u001b[0m\u001b[0;34m:\u001b[0m\u001b[0;34m\u001b[0m\u001b[0m\n",
      "\u001b[0;32m/home/milhouse/tools/virtualenvs/car-damage-detective-2/local/lib/python2.7/site-packages/keras/engine/training.pyc\u001b[0m in \u001b[0;36mstandardize_input_data\u001b[0;34m(data, names, shapes, check_batch_axis, exception_prefix)\u001b[0m\n\u001b[1;32m    122\u001b[0m                             \u001b[0;34m' to have shape '\u001b[0m \u001b[0;34m+\u001b[0m \u001b[0mstr\u001b[0m\u001b[0;34m(\u001b[0m\u001b[0mshapes\u001b[0m\u001b[0;34m[\u001b[0m\u001b[0mi\u001b[0m\u001b[0;34m]\u001b[0m\u001b[0;34m)\u001b[0m \u001b[0;34m+\u001b[0m\u001b[0;34m\u001b[0m\u001b[0m\n\u001b[1;32m    123\u001b[0m                             \u001b[0;34m' but got array with shape '\u001b[0m \u001b[0;34m+\u001b[0m\u001b[0;34m\u001b[0m\u001b[0m\n\u001b[0;32m--> 124\u001b[0;31m                             str(array.shape))\n\u001b[0m\u001b[1;32m    125\u001b[0m     \u001b[0;32mreturn\u001b[0m \u001b[0marrays\u001b[0m\u001b[0;34m\u001b[0m\u001b[0m\n\u001b[1;32m    126\u001b[0m \u001b[0;34m\u001b[0m\u001b[0m\n",
      "\u001b[0;31mValueError\u001b[0m: Error when checking : expected flatten_input_1 to have shape (None, 512, 8, 8) but got array with shape (1, 3, 256, 256)"
     ]
    }
   ],
   "source": [
    "car_categories_gate('http://1.bp.blogspot.com/-ToQS-qIxYbo/UDNuV5OcVQI/AAAAAAAABdo/tjeQywWiOo0/s200/Key+scratch.jpg', ft_model)"
   ]
  },
  {
   "cell_type": "code",
   "execution_count": null,
   "metadata": {
    "collapsed": true,
    "scrolled": false
   },
   "outputs": [],
   "source": [
    "Image('https://www.carfax.com/media/zoo/images/rsz_frame-damage_85730e0a843d155e25e4b0f0e100bf65.jpg')"
   ]
  },
  {
   "cell_type": "code",
   "execution_count": null,
   "metadata": {
    "collapsed": true,
    "scrolled": false
   },
   "outputs": [],
   "source": [
    "car_categories_gate('https://www.carfax.com/media/zoo/images/rsz_frame-damage_85730e0a843d155e25e4b0f0e100bf65.jpg', ft_model)"
   ]
  },
  {
   "cell_type": "markdown",
   "metadata": {},
   "source": [
    "## Looking at edge cases"
   ]
  },
  {
   "cell_type": "code",
   "execution_count": 56,
   "metadata": {
    "collapsed": true,
    "scrolled": false
   },
   "outputs": [],
   "source": [
    "def get_edge_cases(model, directory, exp_result):\n",
    "    img_list = os.listdir(directory)\n",
    "    edge_list = []\n",
    "    for name in img_list:\n",
    "        img = load_img(directory+name, target_size=(256, 256)) # this is a PIL image \n",
    "        x = img_to_array(img) # this is a Numpy array with shape (3, 256, 256)\n",
    "        x = x.reshape((1,) + x.shape)/255 # this is a Numpy array with shape (1, 3, 256, 256)\n",
    "        pred_prob = model.predict(x)\n",
    "        if pred_prob <=0.5:\n",
    "            pred = 0\n",
    "        else:\n",
    "            pred = 1\n",
    "        if pred != exp_result:\n",
    "            edge_list.append(name)\n",
    "    return edge_list"
   ]
  },
  {
   "cell_type": "code",
   "execution_count": 57,
   "metadata": {
    "scrolled": false
   },
   "outputs": [
    {
     "name": "stdout",
     "output_type": "stream",
     "text": [
      "Found 460 images belonging to 2 classes.\n"
     ]
    },
    {
     "ename": "ValueError",
     "evalue": "Error when checking : expected flatten_input_1 to have shape (None, 512, 8, 8) but got array with shape (8, 3, 256, 256)",
     "output_type": "error",
     "traceback": [
      "\u001b[0;31m---------------------------------------------------------------------------\u001b[0m",
      "\u001b[0;31mValueError\u001b[0m                                Traceback (most recent call last)",
      "\u001b[0;32m<ipython-input-57-c317eacaec15>\u001b[0m in \u001b[0;36m<module>\u001b[0;34m()\u001b[0m\n\u001b[0;32m----> 1\u001b[0;31m \u001b[0mevaluate_binary_model\u001b[0m\u001b[0;34m(\u001b[0m\u001b[0mft_model\u001b[0m\u001b[0;34m,\u001b[0m \u001b[0mvalidation_data_dir\u001b[0m\u001b[0;34m,\u001b[0m \u001b[0mvalidation_labels\u001b[0m\u001b[0;34m)\u001b[0m\u001b[0;34m\u001b[0m\u001b[0m\n\u001b[0m\u001b[1;32m      2\u001b[0m \u001b[0;31m# TP = 221, TN = 194, FP = 36, FN = 9\u001b[0m\u001b[0;34m\u001b[0m\u001b[0;34m\u001b[0m\u001b[0m\n\u001b[1;32m      3\u001b[0m \u001b[0;31m# 9 were predicted to be damaged but were actually whole\u001b[0m\u001b[0;34m\u001b[0m\u001b[0;34m\u001b[0m\u001b[0m\n\u001b[1;32m      4\u001b[0m \u001b[0;31m# 36 were predicted to be whole but were actually damaged\u001b[0m\u001b[0;34m\u001b[0m\u001b[0;34m\u001b[0m\u001b[0m\n",
      "\u001b[0;32m<ipython-input-40-e940379a8970>\u001b[0m in \u001b[0;36mevaluate_binary_model\u001b[0;34m(model, directory, labels)\u001b[0m\n\u001b[1;32m      8\u001b[0m                                 shuffle=False)\n\u001b[1;32m      9\u001b[0m \u001b[0;34m\u001b[0m\u001b[0m\n\u001b[0;32m---> 10\u001b[0;31m     \u001b[0mpredictions\u001b[0m \u001b[0;34m=\u001b[0m \u001b[0mmodel\u001b[0m\u001b[0;34m.\u001b[0m\u001b[0mpredict_generator\u001b[0m\u001b[0;34m(\u001b[0m\u001b[0mgenerator\u001b[0m\u001b[0;34m,\u001b[0m \u001b[0mlen\u001b[0m\u001b[0;34m(\u001b[0m\u001b[0mlabels\u001b[0m\u001b[0;34m)\u001b[0m\u001b[0;34m)\u001b[0m\u001b[0;34m\u001b[0m\u001b[0m\n\u001b[0m\u001b[1;32m     11\u001b[0m \u001b[0;34m\u001b[0m\u001b[0m\n\u001b[1;32m     12\u001b[0m     \u001b[0;31m# use for multiclass\u001b[0m\u001b[0;34m\u001b[0m\u001b[0;34m\u001b[0m\u001b[0m\n",
      "\u001b[0;32m/home/milhouse/tools/virtualenvs/car-damage-detective-2/local/lib/python2.7/site-packages/keras/models.pyc\u001b[0m in \u001b[0;36mpredict_generator\u001b[0;34m(self, generator, val_samples, max_q_size, nb_worker, pickle_safe)\u001b[0m\n\u001b[1;32m   1010\u001b[0m                                             \u001b[0mmax_q_size\u001b[0m\u001b[0;34m=\u001b[0m\u001b[0mmax_q_size\u001b[0m\u001b[0;34m,\u001b[0m\u001b[0;34m\u001b[0m\u001b[0m\n\u001b[1;32m   1011\u001b[0m                                             \u001b[0mnb_worker\u001b[0m\u001b[0;34m=\u001b[0m\u001b[0mnb_worker\u001b[0m\u001b[0;34m,\u001b[0m\u001b[0;34m\u001b[0m\u001b[0m\n\u001b[0;32m-> 1012\u001b[0;31m                                             pickle_safe=pickle_safe)\n\u001b[0m\u001b[1;32m   1013\u001b[0m \u001b[0;34m\u001b[0m\u001b[0m\n\u001b[1;32m   1014\u001b[0m     \u001b[0;32mdef\u001b[0m \u001b[0mget_config\u001b[0m\u001b[0;34m(\u001b[0m\u001b[0mself\u001b[0m\u001b[0;34m)\u001b[0m\u001b[0;34m:\u001b[0m\u001b[0;34m\u001b[0m\u001b[0m\n",
      "\u001b[0;32m/home/milhouse/tools/virtualenvs/car-damage-detective-2/local/lib/python2.7/site-packages/keras/engine/training.pyc\u001b[0m in \u001b[0;36mpredict_generator\u001b[0;34m(self, generator, val_samples, max_q_size, nb_worker, pickle_safe)\u001b[0m\n\u001b[1;32m   1761\u001b[0m                     \u001b[0mx\u001b[0m \u001b[0;34m=\u001b[0m \u001b[0mgenerator_output\u001b[0m\u001b[0;34m\u001b[0m\u001b[0m\n\u001b[1;32m   1762\u001b[0m \u001b[0;34m\u001b[0m\u001b[0m\n\u001b[0;32m-> 1763\u001b[0;31m                 \u001b[0mouts\u001b[0m \u001b[0;34m=\u001b[0m \u001b[0mself\u001b[0m\u001b[0;34m.\u001b[0m\u001b[0mpredict_on_batch\u001b[0m\u001b[0;34m(\u001b[0m\u001b[0mx\u001b[0m\u001b[0;34m)\u001b[0m\u001b[0;34m\u001b[0m\u001b[0m\n\u001b[0m\u001b[1;32m   1764\u001b[0m \u001b[0;34m\u001b[0m\u001b[0m\n\u001b[1;32m   1765\u001b[0m                 \u001b[0;32mif\u001b[0m \u001b[0misinstance\u001b[0m\u001b[0;34m(\u001b[0m\u001b[0mx\u001b[0m\u001b[0;34m,\u001b[0m \u001b[0mlist\u001b[0m\u001b[0;34m)\u001b[0m\u001b[0;34m:\u001b[0m\u001b[0;34m\u001b[0m\u001b[0m\n",
      "\u001b[0;32m/home/milhouse/tools/virtualenvs/car-damage-detective-2/local/lib/python2.7/site-packages/keras/engine/training.pyc\u001b[0m in \u001b[0;36mpredict_on_batch\u001b[0;34m(self, x)\u001b[0m\n\u001b[1;32m   1369\u001b[0m         \"\"\"\n\u001b[1;32m   1370\u001b[0m         x = standardize_input_data(x, self.input_names,\n\u001b[0;32m-> 1371\u001b[0;31m                                    self.internal_input_shapes)\n\u001b[0m\u001b[1;32m   1372\u001b[0m         \u001b[0;32mif\u001b[0m \u001b[0mself\u001b[0m\u001b[0;34m.\u001b[0m\u001b[0muses_learning_phase\u001b[0m \u001b[0;32mand\u001b[0m \u001b[0;32mnot\u001b[0m \u001b[0misinstance\u001b[0m\u001b[0;34m(\u001b[0m\u001b[0mK\u001b[0m\u001b[0;34m.\u001b[0m\u001b[0mlearning_phase\u001b[0m\u001b[0;34m,\u001b[0m \u001b[0mint\u001b[0m\u001b[0;34m)\u001b[0m\u001b[0;34m:\u001b[0m\u001b[0;34m\u001b[0m\u001b[0m\n\u001b[1;32m   1373\u001b[0m             \u001b[0mins\u001b[0m \u001b[0;34m=\u001b[0m \u001b[0mx\u001b[0m \u001b[0;34m+\u001b[0m \u001b[0;34m[\u001b[0m\u001b[0;36m0.\u001b[0m\u001b[0;34m]\u001b[0m\u001b[0;34m\u001b[0m\u001b[0m\n",
      "\u001b[0;32m/home/milhouse/tools/virtualenvs/car-damage-detective-2/local/lib/python2.7/site-packages/keras/engine/training.pyc\u001b[0m in \u001b[0;36mstandardize_input_data\u001b[0;34m(data, names, shapes, check_batch_axis, exception_prefix)\u001b[0m\n\u001b[1;32m    122\u001b[0m                             \u001b[0;34m' to have shape '\u001b[0m \u001b[0;34m+\u001b[0m \u001b[0mstr\u001b[0m\u001b[0;34m(\u001b[0m\u001b[0mshapes\u001b[0m\u001b[0;34m[\u001b[0m\u001b[0mi\u001b[0m\u001b[0;34m]\u001b[0m\u001b[0;34m)\u001b[0m \u001b[0;34m+\u001b[0m\u001b[0;34m\u001b[0m\u001b[0m\n\u001b[1;32m    123\u001b[0m                             \u001b[0;34m' but got array with shape '\u001b[0m \u001b[0;34m+\u001b[0m\u001b[0;34m\u001b[0m\u001b[0m\n\u001b[0;32m--> 124\u001b[0;31m                             str(array.shape))\n\u001b[0m\u001b[1;32m    125\u001b[0m     \u001b[0;32mreturn\u001b[0m \u001b[0marrays\u001b[0m\u001b[0;34m\u001b[0m\u001b[0m\n\u001b[1;32m    126\u001b[0m \u001b[0;34m\u001b[0m\u001b[0m\n",
      "\u001b[0;31mValueError\u001b[0m: Error when checking : expected flatten_input_1 to have shape (None, 512, 8, 8) but got array with shape (8, 3, 256, 256)"
     ]
    }
   ],
   "source": [
    "evaluate_binary_model(ft_model, validation_data_dir, validation_labels)\n",
    "# TP = 221, TN = 194, FP = 36, FN = 9\n",
    "# 9 were predicted to be damaged but were actually whole\n",
    "# 36 were predicted to be whole but were actually damaged"
   ]
  },
  {
   "cell_type": "code",
   "execution_count": null,
   "metadata": {
    "collapsed": true,
    "scrolled": false
   },
   "outputs": [],
   "source": [
    "fp = get_edge_cases(ft_model, 'data1a/validation/00-damage/', 0)"
   ]
  },
  {
   "cell_type": "code",
   "execution_count": null,
   "metadata": {
    "collapsed": true
   },
   "outputs": [],
   "source": [
    "len(fp)"
   ]
  },
  {
   "cell_type": "code",
   "execution_count": null,
   "metadata": {
    "collapsed": true,
    "scrolled": false
   },
   "outputs": [],
   "source": [
    "view_images('data1a/validation/00-damage/', fp)  # damaged, identifed as whole"
   ]
  },
  {
   "cell_type": "code",
   "execution_count": null,
   "metadata": {
    "collapsed": true,
    "scrolled": false
   },
   "outputs": [],
   "source": [
    "fn = get_edge_cases(ft_model, 'data1a/validation/01-whole/', 1)"
   ]
  },
  {
   "cell_type": "code",
   "execution_count": null,
   "metadata": {
    "collapsed": true,
    "scrolled": false
   },
   "outputs": [],
   "source": [
    "view_images('data1a/validation/01-whole/', fn) #whole, identified as damaged"
   ]
  }
 ],
 "metadata": {
  "kernelspec": {
   "display_name": "car-damage-detective-2",
   "language": "python",
   "name": "car-damage-detective-2"
  },
  "language_info": {
   "codemirror_mode": {
    "name": "ipython",
    "version": 2
   },
   "file_extension": ".py",
   "mimetype": "text/x-python",
   "name": "python",
   "nbconvert_exporter": "python",
   "pygments_lexer": "ipython2",
   "version": "2.7.12"
  }
 },
 "nbformat": 4,
 "nbformat_minor": 1
}
