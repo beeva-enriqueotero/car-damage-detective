{
 "cells": [
  {
   "cell_type": "markdown",
   "metadata": {},
   "source": [
    "### 120316_0855\n",
    "* repeat of first run without regularization; added history and metrics tracking\n",
    "\n",
    "### 120316_0000\n",
    "* change to run with regularization\n",
    "\n",
    "### 120116_1223\n",
    "* run with cleaned dataset, just on damage severity, 256x256, 8 batch size, theano backend\n",
    "* loss: 0.5195 - acc: 0.7763 - val_loss: 0.5586 - val_acc: 0.7544"
   ]
  },
  {
   "cell_type": "code",
   "execution_count": 1,
   "metadata": {
    "collapsed": true,
    "scrolled": false
   },
   "outputs": [],
   "source": [
    "import urllib\n",
    "from IPython.display import Image, display, clear_output\n",
    "from collections import Counter\n",
    "\n",
    "import matplotlib.pyplot as plt\n",
    "import seaborn as sns \n",
    "%matplotlib inline\n",
    "\n",
    "import json\n",
    "from sklearn.metrics import classification_report, confusion_matrix\n",
    "\n",
    "sns.set_palette(\"cubehelix\")\n",
    "sns.set_style('whitegrid')"
   ]
  },
  {
   "cell_type": "code",
   "execution_count": 2,
   "metadata": {
    "scrolled": false
   },
   "outputs": [
    {
     "name": "stderr",
     "output_type": "stream",
     "text": [
      "/home/milhouse/tools/virtualenvs/car-damage-detective-2/local/lib/python2.7/site-packages/h5py/__init__.py:36: FutureWarning: Conversion of the second argument of issubdtype from `float` to `np.floating` is deprecated. In future, it will be treated as `np.float64 == np.dtype(float).type`.\n",
      "  from ._conv import register_converters as _register_converters\n",
      "Using Theano backend.\n"
     ]
    }
   ],
   "source": [
    "import os\n",
    "import h5py\n",
    "import numpy as np\n",
    "import pandas as pd\n",
    "\n",
    "from keras.applications.vgg16 import VGG16\n",
    "from keras.preprocessing.image import ImageDataGenerator, array_to_img, img_to_array, load_img\n",
    "from keras.regularizers import l2, activity_l2, l1, activity_l1\n",
    "from keras.models import Sequential, load_model\n",
    "from keras.layers import Convolution2D, MaxPooling2D, ZeroPadding2D\n",
    "from keras.layers import Activation, Dropout, Flatten, Dense\n",
    "from keras.utils.np_utils import to_categorical\n",
    "from keras import optimizers\n",
    "from keras.callbacks import ModelCheckpoint, History"
   ]
  },
  {
   "cell_type": "code",
   "execution_count": 3,
   "metadata": {
    "collapsed": true,
    "scrolled": false
   },
   "outputs": [],
   "source": [
    "def load_vgg16(weights_path='vgg16_weights_th_dim_ordering_th_kernels_notop.h5'):\n",
    "#def load_vgg16(weights_path='../vgg16_weights.h5'):\n",
    "    model = Sequential()\n",
    "    model.add(ZeroPadding2D((1,1),input_shape=(3, img_width, img_height)))\n",
    "    model.add(Convolution2D(64, 3, 3, activation='relu'))\n",
    "    model.add(ZeroPadding2D((1,1)))\n",
    "    model.add(Convolution2D(64, 3, 3, activation='relu'))\n",
    "    model.add(MaxPooling2D((2,2), strides=(2,2)))\n",
    "\n",
    "    model.add(ZeroPadding2D((1,1)))\n",
    "    model.add(Convolution2D(128, 3, 3, activation='relu'))\n",
    "    model.add(ZeroPadding2D((1,1)))\n",
    "    model.add(Convolution2D(128, 3, 3, activation='relu'))\n",
    "    model.add(MaxPooling2D((2,2), strides=(2,2)))\n",
    "\n",
    "    model.add(ZeroPadding2D((1,1)))\n",
    "    model.add(Convolution2D(256, 3, 3, activation='relu'))\n",
    "    model.add(ZeroPadding2D((1,1)))\n",
    "    model.add(Convolution2D(256, 3, 3, activation='relu'))\n",
    "    model.add(ZeroPadding2D((1,1)))\n",
    "    model.add(Convolution2D(256, 3, 3, activation='relu'))\n",
    "    model.add(MaxPooling2D((2,2), strides=(2,2)))\n",
    "\n",
    "    model.add(ZeroPadding2D((1,1)))\n",
    "    model.add(Convolution2D(512, 3, 3, activation='relu'))\n",
    "    model.add(ZeroPadding2D((1,1)))\n",
    "    model.add(Convolution2D(512, 3, 3, activation='relu'))\n",
    "    model.add(ZeroPadding2D((1,1)))\n",
    "    model.add(Convolution2D(512, 3, 3, activation='relu'))\n",
    "    model.add(MaxPooling2D((2,2), strides=(2,2)))\n",
    "\n",
    "    model.add(ZeroPadding2D((1,1)))\n",
    "    model.add(Convolution2D(512, 3, 3, activation='relu'))\n",
    "    model.add(ZeroPadding2D((1,1)))\n",
    "    model.add(Convolution2D(512, 3, 3, activation='relu'))\n",
    "    model.add(ZeroPadding2D((1,1)))\n",
    "    model.add(Convolution2D(512, 3, 3, activation='relu'))\n",
    "    model.add(MaxPooling2D((2,2), strides=(2,2)))\n",
    "    \n",
    "    print(weights_path)\n",
    "    assert os.path.exists(weights_path), 'Model weights not found (see \"weights_path\")'\n",
    "    \n",
    "    if weights_path:\n",
    "    # note: this chops off the last layers of VGG16 \n",
    "\n",
    "    # loads the weights of the VGG16 networks\n",
    "    # note: when there is a complete match between model definition\n",
    "    # and your weights savefile, you can simply call model.load_weights(filename)\n",
    "        \n",
    "        model.load_weights(weights_path)\n",
    "       \n",
    "        print('VGG16 Model with partial weights loaded.')\n",
    "    else:\n",
    "        print('VGG16 Model with no weights Loaded.')\n",
    "\n",
    "    return model"
   ]
  },
  {
   "cell_type": "code",
   "execution_count": 4,
   "metadata": {
    "collapsed": true,
    "scrolled": false
   },
   "outputs": [],
   "source": [
    "def save_bottleneck_features(location):\n",
    "    datagen = ImageDataGenerator(rescale=1./255)  \n",
    "    \n",
    "    model = load_vgg16()\n",
    "    \n",
    "    generator = datagen.flow_from_directory(train_data_dir,\n",
    "                                            target_size=(img_width, img_height),\n",
    "                                            batch_size=16, \n",
    "                                            class_mode=None, \n",
    "                                            shuffle=False) \n",
    "    print \"Generator done\"\n",
    "    bottleneck_features_train = model.predict_generator(generator, nb_train_samples)\n",
    "    print \"Prediction done\"\n",
    "    np.save(open(location+'/bottleneck_features_train.npy', 'w'), bottleneck_features_train)\n",
    "    print \"Bottleneck saved\"\n",
    "    # repeat with the validation data\n",
    "    generator = datagen.flow_from_directory(validation_data_dir,\n",
    "                                           target_size=(img_width, img_height),\n",
    "                                           batch_size=16,\n",
    "                                           class_mode=None,\n",
    "                                           shuffle=False)\n",
    "    print \"Generator val done\"\n",
    "    bottleneck_features_validation = model.predict_generator(generator, nb_validation_samples)\n",
    "    print \"Prediction val done\"\n",
    "    np.save(open(location+'/bottleneck_features_validation.npy', 'w'), bottleneck_features_validation)\n",
    "    print \"Bottleneck val saved done\""
   ]
  },
  {
   "cell_type": "code",
   "execution_count": 5,
   "metadata": {
    "collapsed": true,
    "scrolled": false
   },
   "outputs": [],
   "source": [
    "def print_best_model_results(model_hist):\n",
    "    best_epoch = np.argmax(model_hist['val_acc'])\n",
    "    print 'epoch:', best_epoch+1, \\\n",
    "    ', val_acc:', model_hist['val_acc'][best_epoch], \\\n",
    "    ', val_loss:', model_hist['val_loss'][best_epoch]"
   ]
  },
  {
   "cell_type": "code",
   "execution_count": 6,
   "metadata": {
    "collapsed": true,
    "scrolled": false
   },
   "outputs": [],
   "source": [
    "def plot_metrics(hist, stop=50):\n",
    "    fig, axes = plt.subplots(nrows=1, ncols=2, figsize=(10,4))\n",
    "                            \n",
    "    axes = axes.flatten()\n",
    "\n",
    "    axes[0].plot(range(stop), hist['acc'], label='Training')\n",
    "    axes[0].plot(range(stop), hist['val_acc'], label='Validation')\n",
    "    axes[0].set_title('Accuracy')\n",
    "    axes[0].set_ylabel('Accuracy')\n",
    "    axes[0].set_xlabel('Epoch')\n",
    "    axes[0].legend(loc='lower right')\n",
    "                             \n",
    "    axes[1].plot(range(stop), hist['loss'], label='Training')\n",
    "    axes[1].plot(range(stop), hist['val_loss'], label='Validation')\n",
    "    axes[1].set_title('Loss')\n",
    "    axes[1].set_ylabel('Loss')\n",
    "    axes[1].set_xlabel('Epoch')\n",
    "    axes[1].legend(loc='upper right')\n",
    "                             \n",
    "    plt.tight_layout();\n",
    "    \n",
    "    print \"Best Model:\" \n",
    "    print_best_model_results(hist)"
   ]
  },
  {
   "cell_type": "code",
   "execution_count": 7,
   "metadata": {
    "scrolled": false
   },
   "outputs": [],
   "source": [
    "def train_categorical_model():\n",
    "    train_data = np.load(open(location+'/bottleneck_features_train.npy'))\n",
    "    train_labels = np.array([0] * train_samples[0] + \n",
    "                            [1] * train_samples[1] + \n",
    "                            [2] * train_samples[2])\n",
    "    train_labels = to_categorical(train_labels)\n",
    "\n",
    "    validation_data = np.load(open(location+'/bottleneck_features_validation.npy'))\n",
    "    validation_labels = np.array([0] * (validation_samples[0]) + \n",
    "                                 [1] * (validation_samples[1]) +\n",
    "                                 [2] * (validation_samples[2]))\n",
    "    validation_labels = to_categorical(validation_labels)\n",
    "    \n",
    "    model = Sequential()\n",
    "    model.add(Flatten(input_shape=train_data.shape[1:])) # 512, 4, 4\n",
    "    model.add(Dense(256, activation = 'relu'))\n",
    "    model.add(Dropout(0.5))\n",
    "    model.add(Dense(3, activation = 'softmax')) # upped to 3 and activation softmax\n",
    "\n",
    "    model.compile(optimizers.SGD(lr=0.0001, momentum=0.9), # reduced learning rate\n",
    "              loss='categorical_crossentropy', metrics=['accuracy'])\n",
    "\n",
    "    # model.compile(optimizer='rmsprop', \n",
    "    #               loss='categorical_crossentropy', metrics=['accuracy']) \n",
    "    \n",
    "    checkpoint = ModelCheckpoint(top_model_weights_path, monitor='val_acc', \n",
    "                                 verbose=1, save_best_only=True, save_weights_only=True, mode='auto')\n",
    "\n",
    "    fit = model.fit(train_data, train_labels,\n",
    "              nb_epoch=nb_epoch, batch_size=16,\n",
    "              validation_data=(validation_data, validation_labels),\n",
    "              callbacks=[checkpoint])\n",
    "    \n",
    "    with open(location+'/top_history.txt', 'wb') as f:\n",
    "        json.dump(fit.history, f)\n",
    "    \n",
    "    return model, fit.history"
   ]
  },
  {
   "cell_type": "code",
   "execution_count": 8,
   "metadata": {
    "collapsed": true,
    "scrolled": false
   },
   "outputs": [],
   "source": [
    "def finetune_categorical_model():\n",
    "    model = load_vgg16()\n",
    "\n",
    "    # build a classifier model to put on top of the convolutional model\n",
    "    top_model = Sequential()\n",
    "    top_model.add(Flatten(input_shape=model.output_shape[1:]))\n",
    "    top_model.add(Dense(256, activation='relu'))\n",
    "    top_model.add(Dropout(0.5))\n",
    "    top_model.add(Dense(3, activation='softmax'))\n",
    "\n",
    "    top_model.load_weights(top_model_weights_path) # load weights_path\n",
    "\n",
    "    # add the model on top of the convolutional base\n",
    "    model.add(top_model)\n",
    "    \n",
    "    # set the first 25 layers (up to the last conv block)\n",
    "    # to non-trainable - weights will not be updated\n",
    "    for layer in model.layers[:25]:\n",
    "        layer.trainable=False\n",
    "\n",
    "    model.compile(loss='categorical_crossentropy',\n",
    "                 optimizer = optimizers.SGD(lr=0.000001, momentum=0.9), # reduced learning rate by 1/10\n",
    "                  metrics=['accuracy'])\n",
    "    \n",
    "    # prepare data augmentation configuration\n",
    "    train_datagen = ImageDataGenerator(rescale=1./255,\n",
    "                                       rotation_range=40,\n",
    "                                       width_shift_range=0.2,\n",
    "                                       height_shift_range=0.2,\n",
    "                                       shear_range=0.2,\n",
    "                                       zoom_range=0.2,\n",
    "                                       horizontal_flip=True,\n",
    "                                       fill_mode='nearest')\n",
    "\n",
    "    test_datagen = ImageDataGenerator(rescale=1./255)\n",
    "\n",
    "    train_generator= train_datagen.flow_from_directory(train_data_dir,\n",
    "                                                     target_size=(img_height, img_width),\n",
    "                                                     batch_size=8,\n",
    "                                                     class_mode='categorical')\n",
    "\n",
    "    validation_generator = test_datagen.flow_from_directory(validation_data_dir,\n",
    "                                                           target_size=(img_height, img_width),\n",
    "                                                           batch_size=8,\n",
    "                                                           class_mode='categorical')\n",
    "    \n",
    "    \n",
    "    checkpoint = ModelCheckpoint(fine_tuned_model_path, monitor='val_acc', \n",
    "                                 verbose=1, save_best_only=True, \n",
    "                                 save_weights_only=False, mode='auto')\n",
    "        \n",
    "    # fine-tune the model\n",
    "    fit = model.fit_generator(train_generator,\n",
    "                              samples_per_epoch=nb_train_samples,\n",
    "                              nb_epoch=nb_epoch,\n",
    "                              validation_data=validation_generator,\n",
    "                              nb_val_samples=nb_validation_samples,\n",
    "                              verbose=1,\n",
    "                              callbacks=[checkpoint])\n",
    "    \n",
    "    with open(location+'/ft_history.txt', 'wb') as f:\n",
    "        json.dump(fit.history, f)\n",
    "    \n",
    "    return model, fit.history"
   ]
  },
  {
   "cell_type": "code",
   "execution_count": 9,
   "metadata": {
    "collapsed": true,
    "scrolled": false
   },
   "outputs": [],
   "source": [
    "def evaluate_categorical_model(model, directory, labels):\n",
    "    datagen = ImageDataGenerator(rescale=1./255)  \n",
    "\n",
    "    generator = datagen.flow_from_directory(directory,\n",
    "                                target_size=(img_height, img_width),\n",
    "                                batch_size=8,\n",
    "                                class_mode='categorical',\n",
    "                                shuffle=False)\n",
    "    \n",
    "    predictions = model.predict_generator(generator, len(labels))\n",
    "    pred_labels = np.argmax(predictions, axis=1)\n",
    "\n",
    "    print ''\n",
    "    print classification_report(validation_labels, pred_labels)\n",
    "    print ''\n",
    "    cm = confusion_matrix(validation_labels, pred_labels)\n",
    "    sns.heatmap(cm, annot=True, fmt='g');"
   ]
  },
  {
   "cell_type": "code",
   "execution_count": 10,
   "metadata": {
    "collapsed": true,
    "scrolled": false
   },
   "outputs": [],
   "source": [
    "def view_images(img_dir, img_list):\n",
    "    for img in img_list:\n",
    "        clear_output()\n",
    "        display(Image(img_dir+img))\n",
    "        num = raw_input(\"c to continue, q to quit\")\n",
    "        if num == 'c':\n",
    "            pass\n",
    "        else:\n",
    "            return 'Finished for now.'"
   ]
  },
  {
   "cell_type": "markdown",
   "metadata": {},
   "source": [
    "## Defining Input Data"
   ]
  },
  {
   "cell_type": "code",
   "execution_count": 11,
   "metadata": {
    "scrolled": false
   },
   "outputs": [],
   "source": [
    "# path to the model weights file\n",
    "location = 'data3_1'\n",
    "top_model_weights_path=location+'/top_model_weights.h5' # will be saved into when we create our model\n",
    "# model_path = location + '/initial_data2_model.h5'\n",
    "fine_tuned_model_path = location+'/ft_model.h5'\n",
    "\n",
    "# dimensions of our images\n",
    "img_width, img_height = 256, 256\n",
    "\n",
    "train_data_dir = location+'/training'\n",
    "validation_data_dir = location+'/validation'\n",
    "\n",
    "train_samples = [len(os.listdir(train_data_dir+'/'+i)) for i in sorted(os.listdir(train_data_dir))]\n",
    "nb_train_samples = sum(train_samples)\n",
    "validation_samples = [len(os.listdir(validation_data_dir+'/'+i)) for i in sorted(os.listdir(validation_data_dir))]\n",
    "nb_validation_samples = sum(validation_samples)\n",
    "\n",
    "nb_epoch = 50"
   ]
  },
  {
   "cell_type": "code",
   "execution_count": 12,
   "metadata": {
    "scrolled": false
   },
   "outputs": [
    {
     "name": "stdout",
     "output_type": "stream",
     "text": [
      "vgg16_weights_th_dim_ordering_th_kernels_notop.h5\n",
      "VGG16 Model with partial weights loaded.\n",
      "Found 979 images belonging to 3 classes.\n",
      "Generator done\n",
      "Prediction done\n",
      "Bottleneck saved\n",
      "Found 171 images belonging to 3 classes.\n",
      "Generator val done\n",
      "Prediction val done\n",
      "Bottleneck val saved done\n"
     ]
    }
   ],
   "source": [
    "# do not rerun!\n",
    "save_bottleneck_features(location)"
   ]
  },
  {
   "cell_type": "markdown",
   "metadata": {},
   "source": [
    "## Model Parameter Selection"
   ]
  },
  {
   "cell_type": "code",
   "execution_count": 13,
   "metadata": {
    "scrolled": true
   },
   "outputs": [
    {
     "name": "stdout",
     "output_type": "stream",
     "text": [
      "Train on 979 samples, validate on 171 samples\n",
      "Epoch 1/50\n",
      "976/979 [============================>.] - ETA: 0s - loss: 1.1640 - acc: 0.4262Epoch 00000: val_acc improved from -inf to 0.57895, saving model to data3_1/top_model_weights.h5\n",
      "979/979 [==============================] - 14s - loss: 1.1650 - acc: 0.4249 - val_loss: 0.9540 - val_acc: 0.5789\n",
      "Epoch 2/50\n",
      "976/979 [============================>.] - ETA: 0s - loss: 0.9703 - acc: 0.5133Epoch 00001: val_acc improved from 0.57895 to 0.59649, saving model to data3_1/top_model_weights.h5\n",
      "979/979 [==============================] - 14s - loss: 0.9696 - acc: 0.5138 - val_loss: 0.8977 - val_acc: 0.5965\n",
      "Epoch 3/50\n",
      "976/979 [============================>.] - ETA: 0s - loss: 0.8962 - acc: 0.5758Epoch 00002: val_acc did not improve\n",
      "979/979 [==============================] - 14s - loss: 0.8962 - acc: 0.5751 - val_loss: 0.9487 - val_acc: 0.5263\n",
      "Epoch 4/50\n",
      "976/979 [============================>.] - ETA: 0s - loss: 0.8921 - acc: 0.5645Epoch 00003: val_acc improved from 0.59649 to 0.60234, saving model to data3_1/top_model_weights.h5\n",
      "979/979 [==============================] - 14s - loss: 0.8910 - acc: 0.5659 - val_loss: 0.8592 - val_acc: 0.6023\n",
      "Epoch 5/50\n",
      "976/979 [============================>.] - ETA: 0s - loss: 0.8211 - acc: 0.6281Epoch 00004: val_acc did not improve\n",
      "979/979 [==============================] - 14s - loss: 0.8198 - acc: 0.6292 - val_loss: 0.8338 - val_acc: 0.5965\n",
      "Epoch 6/50\n",
      "976/979 [============================>.] - ETA: 0s - loss: 0.7701 - acc: 0.6434Epoch 00005: val_acc improved from 0.60234 to 0.63743, saving model to data3_1/top_model_weights.h5\n",
      "979/979 [==============================] - 14s - loss: 0.7720 - acc: 0.6435 - val_loss: 0.8192 - val_acc: 0.6374\n",
      "Epoch 7/50\n",
      "976/979 [============================>.] - ETA: 0s - loss: 0.7653 - acc: 0.6650Epoch 00006: val_acc improved from 0.63743 to 0.66082, saving model to data3_1/top_model_weights.h5\n",
      "979/979 [==============================] - 14s - loss: 0.7657 - acc: 0.6639 - val_loss: 0.7970 - val_acc: 0.6608\n",
      "Epoch 8/50\n",
      "976/979 [============================>.] - ETA: 0s - loss: 0.7504 - acc: 0.6650Epoch 00007: val_acc did not improve\n",
      "979/979 [==============================] - 14s - loss: 0.7523 - acc: 0.6629 - val_loss: 0.7874 - val_acc: 0.6608\n",
      "Epoch 9/50\n",
      "976/979 [============================>.] - ETA: 0s - loss: 0.7068 - acc: 0.6844Epoch 00008: val_acc improved from 0.66082 to 0.66667, saving model to data3_1/top_model_weights.h5\n",
      "979/979 [==============================] - 14s - loss: 0.7065 - acc: 0.6844 - val_loss: 0.7947 - val_acc: 0.6667\n",
      "Epoch 10/50\n",
      "976/979 [============================>.] - ETA: 0s - loss: 0.7088 - acc: 0.7039Epoch 00009: val_acc did not improve\n",
      "979/979 [==============================] - 14s - loss: 0.7080 - acc: 0.7038 - val_loss: 0.7696 - val_acc: 0.6608\n",
      "Epoch 11/50\n",
      "976/979 [============================>.] - ETA: 0s - loss: 0.6786 - acc: 0.7070Epoch 00010: val_acc did not improve\n",
      "979/979 [==============================] - 14s - loss: 0.6792 - acc: 0.7058 - val_loss: 0.7579 - val_acc: 0.6257\n",
      "Epoch 12/50\n",
      "976/979 [============================>.] - ETA: 0s - loss: 0.6517 - acc: 0.7244Epoch 00011: val_acc did not improve\n",
      "979/979 [==============================] - 16s - loss: 0.6521 - acc: 0.7242 - val_loss: 0.8007 - val_acc: 0.6199\n",
      "Epoch 13/50\n",
      "976/979 [============================>.] - ETA: 0s - loss: 0.6451 - acc: 0.7316Epoch 00012: val_acc did not improve\n",
      "979/979 [==============================] - 18s - loss: 0.6439 - acc: 0.7324 - val_loss: 0.7965 - val_acc: 0.6257\n",
      "Epoch 14/50\n",
      "976/979 [============================>.] - ETA: 0s - loss: 0.6360 - acc: 0.7223Epoch 00013: val_acc did not improve\n",
      "979/979 [==============================] - 19s - loss: 0.6357 - acc: 0.7232 - val_loss: 0.7577 - val_acc: 0.6082\n",
      "Epoch 15/50\n",
      "976/979 [============================>.] - ETA: 0s - loss: 0.5873 - acc: 0.7500Epoch 00014: val_acc did not improve\n",
      "979/979 [==============================] - 19s - loss: 0.5858 - acc: 0.7508 - val_loss: 0.7676 - val_acc: 0.6491\n",
      "Epoch 16/50\n",
      "976/979 [============================>.] - ETA: 0s - loss: 0.5772 - acc: 0.7602Epoch 00015: val_acc did not improve\n",
      "979/979 [==============================] - 19s - loss: 0.5777 - acc: 0.7600 - val_loss: 0.7514 - val_acc: 0.6316\n",
      "Epoch 17/50\n",
      "976/979 [============================>.] - ETA: 0s - loss: 0.5660 - acc: 0.7787Epoch 00016: val_acc did not improve\n",
      "979/979 [==============================] - 20s - loss: 0.5649 - acc: 0.7794 - val_loss: 0.7737 - val_acc: 0.6608\n",
      "Epoch 18/50\n",
      "976/979 [============================>.] - ETA: 0s - loss: 0.5617 - acc: 0.7859Epoch 00017: val_acc did not improve\n",
      "979/979 [==============================] - 20s - loss: 0.5614 - acc: 0.7865 - val_loss: 0.7452 - val_acc: 0.6491\n",
      "Epoch 19/50\n",
      "976/979 [============================>.] - ETA: 0s - loss: 0.5329 - acc: 0.7930Epoch 00018: val_acc did not improve\n",
      "979/979 [==============================] - 20s - loss: 0.5317 - acc: 0.7937 - val_loss: 0.7745 - val_acc: 0.6257\n",
      "Epoch 20/50\n",
      "976/979 [============================>.] - ETA: 0s - loss: 0.5415 - acc: 0.7859Epoch 00019: val_acc did not improve\n",
      "979/979 [==============================] - 20s - loss: 0.5426 - acc: 0.7845 - val_loss: 0.7486 - val_acc: 0.6491\n",
      "Epoch 21/50\n",
      "976/979 [============================>.] - ETA: 0s - loss: 0.5059 - acc: 0.8023Epoch 00020: val_acc did not improve\n",
      "979/979 [==============================] - 20s - loss: 0.5055 - acc: 0.8018 - val_loss: 0.7673 - val_acc: 0.6433\n",
      "Epoch 22/50\n",
      "976/979 [============================>.] - ETA: 0s - loss: 0.5004 - acc: 0.7951Epoch 00021: val_acc did not improve\n",
      "979/979 [==============================] - 20s - loss: 0.4999 - acc: 0.7957 - val_loss: 0.7650 - val_acc: 0.6433\n",
      "Epoch 23/50\n",
      "976/979 [============================>.] - ETA: 0s - loss: 0.4779 - acc: 0.8238Epoch 00022: val_acc did not improve\n",
      "979/979 [==============================] - 20s - loss: 0.4781 - acc: 0.8233 - val_loss: 0.7791 - val_acc: 0.6316\n",
      "Epoch 24/50\n",
      "976/979 [============================>.] - ETA: 0s - loss: 0.4694 - acc: 0.8156Epoch 00023: val_acc did not improve\n",
      "979/979 [==============================] - 20s - loss: 0.4694 - acc: 0.8161 - val_loss: 0.7417 - val_acc: 0.6608\n",
      "Epoch 25/50\n",
      "976/979 [============================>.] - ETA: 0s - loss: 0.4428 - acc: 0.8299Epoch 00024: val_acc did not improve\n",
      "979/979 [==============================] - 20s - loss: 0.4419 - acc: 0.8304 - val_loss: 0.7683 - val_acc: 0.6316\n",
      "Epoch 26/50\n",
      "976/979 [============================>.] - ETA: 0s - loss: 0.4398 - acc: 0.8412Epoch 00025: val_acc did not improve\n",
      "979/979 [==============================] - 20s - loss: 0.4391 - acc: 0.8417 - val_loss: 0.7651 - val_acc: 0.6433\n",
      "Epoch 27/50\n",
      "976/979 [============================>.] - ETA: 0s - loss: 0.4070 - acc: 0.8678Epoch 00026: val_acc did not improve\n",
      "979/979 [==============================] - 20s - loss: 0.4066 - acc: 0.8682 - val_loss: 0.7467 - val_acc: 0.6257\n",
      "Epoch 28/50\n",
      "976/979 [============================>.] - ETA: 0s - loss: 0.3980 - acc: 0.8555Epoch 00027: val_acc did not improve\n",
      "979/979 [==============================] - 20s - loss: 0.3990 - acc: 0.8560 - val_loss: 0.7528 - val_acc: 0.6374\n",
      "Epoch 29/50\n",
      "976/979 [============================>.] - ETA: 0s - loss: 0.4111 - acc: 0.8586Epoch 00028: val_acc did not improve\n",
      "979/979 [==============================] - 20s - loss: 0.4106 - acc: 0.8590 - val_loss: 0.7433 - val_acc: 0.6257\n",
      "Epoch 30/50\n",
      "976/979 [============================>.] - ETA: 0s - loss: 0.3960 - acc: 0.8535Epoch 00029: val_acc did not improve\n",
      "979/979 [==============================] - 20s - loss: 0.3956 - acc: 0.8539 - val_loss: 0.7837 - val_acc: 0.6433\n",
      "Epoch 31/50\n",
      "976/979 [============================>.] - ETA: 0s - loss: 0.3671 - acc: 0.8781Epoch 00030: val_acc did not improve\n",
      "979/979 [==============================] - 20s - loss: 0.3672 - acc: 0.8774 - val_loss: 0.7615 - val_acc: 0.6550\n",
      "Epoch 32/50\n",
      "976/979 [============================>.] - ETA: 0s - loss: 0.3589 - acc: 0.8832Epoch 00031: val_acc did not improve\n",
      "979/979 [==============================] - 20s - loss: 0.3581 - acc: 0.8836 - val_loss: 0.8029 - val_acc: 0.6199\n",
      "Epoch 33/50\n"
     ]
    },
    {
     "name": "stdout",
     "output_type": "stream",
     "text": [
      "976/979 [============================>.] - ETA: 0s - loss: 0.3521 - acc: 0.8924Epoch 00032: val_acc did not improve\n",
      "979/979 [==============================] - 20s - loss: 0.3520 - acc: 0.8917 - val_loss: 0.7573 - val_acc: 0.6316\n",
      "Epoch 34/50\n",
      "976/979 [============================>.] - ETA: 0s - loss: 0.3395 - acc: 0.8955Epoch 00033: val_acc did not improve\n",
      "979/979 [==============================] - 20s - loss: 0.3391 - acc: 0.8958 - val_loss: 0.7932 - val_acc: 0.6491\n",
      "Epoch 35/50\n",
      "976/979 [============================>.] - ETA: 0s - loss: 0.3516 - acc: 0.8832Epoch 00034: val_acc did not improve\n",
      "979/979 [==============================] - 20s - loss: 0.3525 - acc: 0.8836 - val_loss: 0.7940 - val_acc: 0.6374\n",
      "Epoch 36/50\n",
      "976/979 [============================>.] - ETA: 0s - loss: 0.3329 - acc: 0.8863Epoch 00035: val_acc did not improve\n",
      "979/979 [==============================] - 20s - loss: 0.3333 - acc: 0.8856 - val_loss: 0.7623 - val_acc: 0.6199\n",
      "Epoch 37/50\n",
      "976/979 [============================>.] - ETA: 0s - loss: 0.3141 - acc: 0.9047Epoch 00036: val_acc did not improve\n",
      "979/979 [==============================] - 20s - loss: 0.3151 - acc: 0.9040 - val_loss: 0.7744 - val_acc: 0.6257\n",
      "Epoch 38/50\n",
      "976/979 [============================>.] - ETA: 0s - loss: 0.2924 - acc: 0.9283Epoch 00037: val_acc did not improve\n",
      "979/979 [==============================] - 20s - loss: 0.2917 - acc: 0.9285 - val_loss: 0.8168 - val_acc: 0.6082\n",
      "Epoch 39/50\n",
      "976/979 [============================>.] - ETA: 0s - loss: 0.2996 - acc: 0.9160Epoch 00038: val_acc did not improve\n",
      "979/979 [==============================] - 20s - loss: 0.2993 - acc: 0.9162 - val_loss: 0.7877 - val_acc: 0.6374\n",
      "Epoch 40/50\n",
      "976/979 [============================>.] - ETA: 0s - loss: 0.3015 - acc: 0.8975Epoch 00039: val_acc did not improve\n",
      "979/979 [==============================] - 20s - loss: 0.3011 - acc: 0.8979 - val_loss: 0.7724 - val_acc: 0.6199\n",
      "Epoch 41/50\n",
      "976/979 [============================>.] - ETA: 0s - loss: 0.2782 - acc: 0.9211Epoch 00040: val_acc did not improve\n",
      "979/979 [==============================] - 20s - loss: 0.2775 - acc: 0.9213 - val_loss: 0.8038 - val_acc: 0.6316\n",
      "Epoch 42/50\n",
      "976/979 [============================>.] - ETA: 0s - loss: 0.2631 - acc: 0.9293Epoch 00041: val_acc did not improve\n",
      "979/979 [==============================] - 20s - loss: 0.2638 - acc: 0.9285 - val_loss: 0.8004 - val_acc: 0.6140\n",
      "Epoch 43/50\n",
      "976/979 [============================>.] - ETA: 0s - loss: 0.2675 - acc: 0.9314Epoch 00042: val_acc did not improve\n",
      "979/979 [==============================] - 20s - loss: 0.2672 - acc: 0.9316 - val_loss: 0.8033 - val_acc: 0.6316\n",
      "Epoch 44/50\n",
      "976/979 [============================>.] - ETA: 0s - loss: 0.2514 - acc: 0.9436Epoch 00043: val_acc did not improve\n",
      "979/979 [==============================] - 20s - loss: 0.2511 - acc: 0.9438 - val_loss: 0.7883 - val_acc: 0.6257\n",
      "Epoch 45/50\n",
      "976/979 [============================>.] - ETA: 0s - loss: 0.2540 - acc: 0.9211Epoch 00044: val_acc did not improve\n",
      "979/979 [==============================] - 20s - loss: 0.2542 - acc: 0.9213 - val_loss: 0.8023 - val_acc: 0.6433\n",
      "Epoch 46/50\n",
      "976/979 [============================>.] - ETA: 0s - loss: 0.2297 - acc: 0.9477Epoch 00045: val_acc did not improve\n",
      "979/979 [==============================] - 20s - loss: 0.2296 - acc: 0.9479 - val_loss: 0.7981 - val_acc: 0.6316\n",
      "Epoch 47/50\n",
      "976/979 [============================>.] - ETA: 0s - loss: 0.2375 - acc: 0.9395Epoch 00046: val_acc did not improve\n",
      "979/979 [==============================] - 20s - loss: 0.2370 - acc: 0.9397 - val_loss: 0.8032 - val_acc: 0.6316\n",
      "Epoch 48/50\n",
      "976/979 [============================>.] - ETA: 0s - loss: 0.2259 - acc: 0.9549Epoch 00047: val_acc did not improve\n",
      "979/979 [==============================] - 20s - loss: 0.2258 - acc: 0.9551 - val_loss: 0.8173 - val_acc: 0.6199\n",
      "Epoch 49/50\n",
      "976/979 [============================>.] - ETA: 0s - loss: 0.2144 - acc: 0.9590Epoch 00048: val_acc did not improve\n",
      "979/979 [==============================] - 20s - loss: 0.2147 - acc: 0.9591 - val_loss: 0.8145 - val_acc: 0.6433\n",
      "Epoch 50/50\n",
      "976/979 [============================>.] - ETA: 0s - loss: 0.2108 - acc: 0.9467Epoch 00049: val_acc did not improve\n",
      "979/979 [==============================] - 20s - loss: 0.2102 - acc: 0.9469 - val_loss: 0.8136 - val_acc: 0.6140\n"
     ]
    }
   ],
   "source": [
    "# WINNER\n",
    "d3_model2, d3_hist2 = train_categorical_model() # no regularization"
   ]
  },
  {
   "cell_type": "code",
   "execution_count": 14,
   "metadata": {
    "scrolled": true
   },
   "outputs": [
    {
     "name": "stdout",
     "output_type": "stream",
     "text": [
      "Train on 979 samples, validate on 171 samples\n",
      "Epoch 1/50\n",
      "976/979 [============================>.] - ETA: 0s - loss: 1.1734 - acc: 0.4016Epoch 00000: val_acc improved from -inf to 0.54971, saving model to data3_1/top_model_weights.h5\n",
      "979/979 [==============================] - 14s - loss: 1.1733 - acc: 0.4014 - val_loss: 0.9883 - val_acc: 0.5497\n",
      "Epoch 2/50\n",
      "976/979 [============================>.] - ETA: 0s - loss: 0.9694 - acc: 0.5195Epoch 00001: val_acc improved from 0.54971 to 0.61404, saving model to data3_1/top_model_weights.h5\n",
      "979/979 [==============================] - 14s - loss: 0.9693 - acc: 0.5189 - val_loss: 0.9035 - val_acc: 0.6140\n",
      "Epoch 3/50\n",
      "976/979 [============================>.] - ETA: 0s - loss: 0.9399 - acc: 0.5400Epoch 00002: val_acc did not improve\n",
      "979/979 [==============================] - 14s - loss: 0.9386 - acc: 0.5414 - val_loss: 0.9097 - val_acc: 0.5848\n",
      "Epoch 4/50\n",
      "976/979 [============================>.] - ETA: 0s - loss: 0.8758 - acc: 0.5840Epoch 00003: val_acc did not improve\n",
      "979/979 [==============================] - 14s - loss: 0.8759 - acc: 0.5843 - val_loss: 0.8569 - val_acc: 0.6082\n",
      "Epoch 5/50\n",
      "976/979 [============================>.] - ETA: 0s - loss: 0.8238 - acc: 0.6107Epoch 00004: val_acc did not improve\n",
      "979/979 [==============================] - 14s - loss: 0.8245 - acc: 0.6108 - val_loss: 0.8574 - val_acc: 0.5848\n",
      "Epoch 6/50\n",
      "976/979 [============================>.] - ETA: 0s - loss: 0.7913 - acc: 0.6598Epoch 00005: val_acc improved from 0.61404 to 0.63743, saving model to data3_1/top_model_weights.h5\n",
      "979/979 [==============================] - 14s - loss: 0.7915 - acc: 0.6599 - val_loss: 0.8269 - val_acc: 0.6374\n",
      "Epoch 7/50\n",
      "976/979 [============================>.] - ETA: 0s - loss: 0.7539 - acc: 0.6568Epoch 00006: val_acc did not improve\n",
      "979/979 [==============================] - 14s - loss: 0.7538 - acc: 0.6568 - val_loss: 0.7926 - val_acc: 0.6199\n",
      "Epoch 8/50\n",
      "976/979 [============================>.] - ETA: 0s - loss: 0.7129 - acc: 0.7039Epoch 00007: val_acc did not improve\n",
      "979/979 [==============================] - 14s - loss: 0.7139 - acc: 0.7028 - val_loss: 0.7944 - val_acc: 0.6199\n",
      "Epoch 9/50\n",
      "976/979 [============================>.] - ETA: 0s - loss: 0.7180 - acc: 0.6936Epoch 00008: val_acc did not improve\n",
      "979/979 [==============================] - 14s - loss: 0.7179 - acc: 0.6936 - val_loss: 0.7947 - val_acc: 0.6316\n",
      "Epoch 10/50\n",
      "976/979 [============================>.] - ETA: 0s - loss: 0.6878 - acc: 0.7059Epoch 00009: val_acc did not improve\n",
      "979/979 [==============================] - 14s - loss: 0.6872 - acc: 0.7058 - val_loss: 0.8435 - val_acc: 0.5906\n",
      "Epoch 11/50\n",
      "976/979 [============================>.] - ETA: 0s - loss: 0.6557 - acc: 0.7234Epoch 00010: val_acc did not improve\n",
      "979/979 [==============================] - 14s - loss: 0.6557 - acc: 0.7232 - val_loss: 0.7954 - val_acc: 0.6082\n",
      "Epoch 12/50\n",
      "976/979 [============================>.] - ETA: 0s - loss: 0.6485 - acc: 0.7316Epoch 00011: val_acc did not improve\n",
      "979/979 [==============================] - 16s - loss: 0.6496 - acc: 0.7303 - val_loss: 0.8130 - val_acc: 0.6140\n",
      "Epoch 13/50\n",
      "976/979 [============================>.] - ETA: 0s - loss: 0.6227 - acc: 0.7592Epoch 00012: val_acc improved from 0.63743 to 0.65497, saving model to data3_1/top_model_weights.h5\n",
      "979/979 [==============================] - 18s - loss: 0.6214 - acc: 0.7600 - val_loss: 0.7574 - val_acc: 0.6550\n",
      "Epoch 14/50\n",
      "976/979 [============================>.] - ETA: 0s - loss: 0.6081 - acc: 0.7439Epoch 00013: val_acc improved from 0.65497 to 0.66667, saving model to data3_1/top_model_weights.h5\n",
      "979/979 [==============================] - 19s - loss: 0.6078 - acc: 0.7436 - val_loss: 0.7633 - val_acc: 0.6667\n",
      "Epoch 15/50\n",
      "976/979 [============================>.] - ETA: 0s - loss: 0.5965 - acc: 0.7541Epoch 00014: val_acc improved from 0.66667 to 0.67251, saving model to data3_1/top_model_weights.h5\n",
      "979/979 [==============================] - 19s - loss: 0.5965 - acc: 0.7538 - val_loss: 0.7627 - val_acc: 0.6725\n",
      "Epoch 16/50\n",
      "976/979 [============================>.] - ETA: 0s - loss: 0.5678 - acc: 0.7879Epoch 00015: val_acc did not improve\n",
      "979/979 [==============================] - 19s - loss: 0.5676 - acc: 0.7875 - val_loss: 0.7710 - val_acc: 0.6374\n",
      "Epoch 17/50\n",
      "976/979 [============================>.] - ETA: 0s - loss: 0.5752 - acc: 0.7664Epoch 00016: val_acc did not improve\n",
      "979/979 [==============================] - 19s - loss: 0.5751 - acc: 0.7661 - val_loss: 0.7944 - val_acc: 0.5731\n",
      "Epoch 18/50\n",
      "976/979 [============================>.] - ETA: 0s - loss: 0.5444 - acc: 0.7889Epoch 00017: val_acc did not improve\n",
      "979/979 [==============================] - 19s - loss: 0.5450 - acc: 0.7886 - val_loss: 0.7620 - val_acc: 0.6140\n",
      "Epoch 19/50\n",
      "976/979 [============================>.] - ETA: 0s - loss: 0.5344 - acc: 0.7695Epoch 00018: val_acc did not improve\n",
      "979/979 [==============================] - 20s - loss: 0.5370 - acc: 0.7671 - val_loss: 0.7460 - val_acc: 0.6608\n",
      "Epoch 20/50\n",
      "976/979 [============================>.] - ETA: 0s - loss: 0.5226 - acc: 0.7910Epoch 00019: val_acc did not improve\n",
      "979/979 [==============================] - 20s - loss: 0.5222 - acc: 0.7916 - val_loss: 0.7524 - val_acc: 0.6667\n",
      "Epoch 21/50\n",
      "976/979 [============================>.] - ETA: 0s - loss: 0.5235 - acc: 0.7951Epoch 00020: val_acc did not improve\n",
      "979/979 [==============================] - 20s - loss: 0.5237 - acc: 0.7947 - val_loss: 0.7475 - val_acc: 0.6316\n",
      "Epoch 22/50\n",
      "976/979 [============================>.] - ETA: 0s - loss: 0.4900 - acc: 0.8197Epoch 00021: val_acc did not improve\n",
      "979/979 [==============================] - 20s - loss: 0.4909 - acc: 0.8192 - val_loss: 0.7717 - val_acc: 0.6608\n",
      "Epoch 23/50\n",
      "976/979 [============================>.] - ETA: 0s - loss: 0.4808 - acc: 0.8176Epoch 00022: val_acc did not improve\n",
      "979/979 [==============================] - 20s - loss: 0.4812 - acc: 0.8172 - val_loss: 0.8007 - val_acc: 0.6608\n",
      "Epoch 24/50\n",
      "976/979 [============================>.] - ETA: 0s - loss: 0.4719 - acc: 0.8268Epoch 00023: val_acc did not improve\n",
      "979/979 [==============================] - 20s - loss: 0.4713 - acc: 0.8274 - val_loss: 0.7683 - val_acc: 0.6316\n",
      "Epoch 25/50\n",
      "976/979 [============================>.] - ETA: 0s - loss: 0.4440 - acc: 0.8371Epoch 00024: val_acc did not improve\n",
      "979/979 [==============================] - 20s - loss: 0.4431 - acc: 0.8376 - val_loss: 0.7573 - val_acc: 0.6433\n",
      "Epoch 26/50\n",
      "976/979 [============================>.] - ETA: 0s - loss: 0.4056 - acc: 0.8648Epoch 00025: val_acc did not improve\n",
      "979/979 [==============================] - 20s - loss: 0.4052 - acc: 0.8652 - val_loss: 0.7901 - val_acc: 0.6082\n",
      "Epoch 27/50\n",
      "976/979 [============================>.] - ETA: 0s - loss: 0.4396 - acc: 0.8504Epoch 00026: val_acc did not improve\n",
      "979/979 [==============================] - 20s - loss: 0.4392 - acc: 0.8509 - val_loss: 0.7465 - val_acc: 0.6374\n",
      "Epoch 28/50\n",
      "976/979 [============================>.] - ETA: 0s - loss: 0.4023 - acc: 0.8453Epoch 00027: val_acc did not improve\n",
      "979/979 [==============================] - 20s - loss: 0.4038 - acc: 0.8447 - val_loss: 0.7797 - val_acc: 0.6725\n",
      "Epoch 29/50\n",
      "976/979 [============================>.] - ETA: 0s - loss: 0.4089 - acc: 0.8586Epoch 00028: val_acc did not improve\n",
      "979/979 [==============================] - 20s - loss: 0.4093 - acc: 0.8580 - val_loss: 0.8090 - val_acc: 0.6374\n",
      "Epoch 30/50\n",
      "976/979 [============================>.] - ETA: 0s - loss: 0.3820 - acc: 0.8750Epoch 00029: val_acc did not improve\n",
      "979/979 [==============================] - 20s - loss: 0.3829 - acc: 0.8744 - val_loss: 0.7726 - val_acc: 0.6316\n",
      "Epoch 31/50\n",
      "976/979 [============================>.] - ETA: 0s - loss: 0.3769 - acc: 0.8781Epoch 00030: val_acc did not improve\n",
      "979/979 [==============================] - 20s - loss: 0.3770 - acc: 0.8784 - val_loss: 0.7734 - val_acc: 0.6257\n",
      "Epoch 32/50\n",
      "976/979 [============================>.] - ETA: 0s - loss: 0.3668 - acc: 0.8730Epoch 00031: val_acc did not improve\n",
      "979/979 [==============================] - 20s - loss: 0.3659 - acc: 0.8733 - val_loss: 0.7811 - val_acc: 0.6316\n",
      "Epoch 33/50\n"
     ]
    },
    {
     "name": "stdout",
     "output_type": "stream",
     "text": [
      "976/979 [============================>.] - ETA: 0s - loss: 0.3444 - acc: 0.8945Epoch 00032: val_acc did not improve\n",
      "979/979 [==============================] - 20s - loss: 0.3448 - acc: 0.8938 - val_loss: 0.7524 - val_acc: 0.6199\n",
      "Epoch 34/50\n",
      "976/979 [============================>.] - ETA: 0s - loss: 0.3380 - acc: 0.8996Epoch 00033: val_acc did not improve\n",
      "979/979 [==============================] - 20s - loss: 0.3390 - acc: 0.8989 - val_loss: 0.7610 - val_acc: 0.6491\n",
      "Epoch 35/50\n",
      "976/979 [============================>.] - ETA: 0s - loss: 0.3166 - acc: 0.9037Epoch 00034: val_acc did not improve\n",
      "979/979 [==============================] - 20s - loss: 0.3158 - acc: 0.9040 - val_loss: 0.7617 - val_acc: 0.6433\n",
      "Epoch 36/50\n",
      "976/979 [============================>.] - ETA: 0s - loss: 0.3067 - acc: 0.9191Epoch 00035: val_acc did not improve\n",
      "979/979 [==============================] - 20s - loss: 0.3062 - acc: 0.9193 - val_loss: 0.7900 - val_acc: 0.6667\n",
      "Epoch 37/50\n",
      "976/979 [============================>.] - ETA: 0s - loss: 0.3048 - acc: 0.9078Epoch 00036: val_acc did not improve\n",
      "979/979 [==============================] - 20s - loss: 0.3048 - acc: 0.9070 - val_loss: 0.7701 - val_acc: 0.6374\n",
      "Epoch 38/50\n",
      "976/979 [============================>.] - ETA: 0s - loss: 0.2910 - acc: 0.9098Epoch 00037: val_acc did not improve\n",
      "979/979 [==============================] - 20s - loss: 0.2902 - acc: 0.9101 - val_loss: 0.7725 - val_acc: 0.6316\n",
      "Epoch 39/50\n",
      "976/979 [============================>.] - ETA: 0s - loss: 0.2873 - acc: 0.9180Epoch 00038: val_acc did not improve\n",
      "979/979 [==============================] - 20s - loss: 0.2865 - acc: 0.9183 - val_loss: 0.7910 - val_acc: 0.6140\n",
      "Epoch 40/50\n",
      "976/979 [============================>.] - ETA: 0s - loss: 0.2850 - acc: 0.9252Epoch 00039: val_acc did not improve\n",
      "979/979 [==============================] - 20s - loss: 0.2869 - acc: 0.9244 - val_loss: 0.8139 - val_acc: 0.6316\n",
      "Epoch 41/50\n",
      "976/979 [============================>.] - ETA: 0s - loss: 0.2861 - acc: 0.9283Epoch 00040: val_acc did not improve\n",
      "979/979 [==============================] - 20s - loss: 0.2859 - acc: 0.9285 - val_loss: 0.7847 - val_acc: 0.6374\n",
      "Epoch 42/50\n",
      "976/979 [============================>.] - ETA: 0s - loss: 0.2626 - acc: 0.9355Epoch 00041: val_acc did not improve\n",
      "979/979 [==============================] - 20s - loss: 0.2624 - acc: 0.9356 - val_loss: 0.7764 - val_acc: 0.6199\n",
      "Epoch 43/50\n",
      "976/979 [============================>.] - ETA: 0s - loss: 0.2616 - acc: 0.9334Epoch 00042: val_acc did not improve\n",
      "979/979 [==============================] - 20s - loss: 0.2616 - acc: 0.9336 - val_loss: 0.8138 - val_acc: 0.6257\n",
      "Epoch 44/50\n",
      "976/979 [============================>.] - ETA: 0s - loss: 0.2369 - acc: 0.9355Epoch 00043: val_acc did not improve\n",
      "979/979 [==============================] - 20s - loss: 0.2363 - acc: 0.9356 - val_loss: 0.7959 - val_acc: 0.6374\n",
      "Epoch 45/50\n",
      "976/979 [============================>.] - ETA: 0s - loss: 0.2394 - acc: 0.9436Epoch 00044: val_acc did not improve\n",
      "979/979 [==============================] - 20s - loss: 0.2391 - acc: 0.9438 - val_loss: 0.8105 - val_acc: 0.6316\n",
      "Epoch 46/50\n",
      "976/979 [============================>.] - ETA: 0s - loss: 0.2459 - acc: 0.9375Epoch 00045: val_acc did not improve\n",
      "979/979 [==============================] - 20s - loss: 0.2459 - acc: 0.9377 - val_loss: 0.7958 - val_acc: 0.6257\n",
      "Epoch 47/50\n",
      "976/979 [============================>.] - ETA: 0s - loss: 0.2132 - acc: 0.9508Epoch 00046: val_acc did not improve\n",
      "979/979 [==============================] - 20s - loss: 0.2129 - acc: 0.9510 - val_loss: 0.8218 - val_acc: 0.6316\n",
      "Epoch 48/50\n",
      "976/979 [============================>.] - ETA: 0s - loss: 0.2237 - acc: 0.9498Epoch 00047: val_acc did not improve\n",
      "979/979 [==============================] - 20s - loss: 0.2231 - acc: 0.9499 - val_loss: 0.8219 - val_acc: 0.6199\n",
      "Epoch 49/50\n",
      "976/979 [============================>.] - ETA: 0s - loss: 0.2174 - acc: 0.9457Epoch 00048: val_acc did not improve\n",
      "979/979 [==============================] - 20s - loss: 0.2179 - acc: 0.9448 - val_loss: 0.8350 - val_acc: 0.6316\n",
      "Epoch 50/50\n",
      "976/979 [============================>.] - ETA: 0s - loss: 0.2172 - acc: 0.9559Epoch 00049: val_acc did not improve\n",
      "979/979 [==============================] - 20s - loss: 0.2171 - acc: 0.9561 - val_loss: 0.7996 - val_acc: 0.6374\n"
     ]
    }
   ],
   "source": [
    "d3_model, d3_hist = train_categorical_model() # l2 regularization, sgd lr = 0.0001"
   ]
  },
  {
   "cell_type": "code",
   "execution_count": 15,
   "metadata": {
    "scrolled": true
   },
   "outputs": [
    {
     "name": "stdout",
     "output_type": "stream",
     "text": [
      "Train on 979 samples, validate on 171 samples\n",
      "Epoch 1/50\n",
      "976/979 [============================>.] - ETA: 0s - loss: 1.1543 - acc: 0.3996Epoch 00000: val_acc improved from -inf to 0.52047, saving model to data3_1/top_model_weights.h5\n",
      "979/979 [==============================] - 14s - loss: 1.1532 - acc: 0.4014 - val_loss: 1.0095 - val_acc: 0.5205\n",
      "Epoch 2/50\n",
      "976/979 [============================>.] - ETA: 0s - loss: 0.9925 - acc: 0.5020Epoch 00001: val_acc improved from 0.52047 to 0.59649, saving model to data3_1/top_model_weights.h5\n",
      "979/979 [==============================] - 14s - loss: 0.9920 - acc: 0.5026 - val_loss: 0.9020 - val_acc: 0.5965\n",
      "Epoch 3/50\n",
      "976/979 [============================>.] - ETA: 0s - loss: 0.9062 - acc: 0.5605Epoch 00002: val_acc improved from 0.59649 to 0.63743, saving model to data3_1/top_model_weights.h5\n",
      "979/979 [==============================] - 14s - loss: 0.9055 - acc: 0.5618 - val_loss: 0.8720 - val_acc: 0.6374\n",
      "Epoch 4/50\n",
      "976/979 [============================>.] - ETA: 0s - loss: 0.8617 - acc: 0.5984Epoch 00003: val_acc improved from 0.63743 to 0.65497, saving model to data3_1/top_model_weights.h5\n",
      "979/979 [==============================] - 14s - loss: 0.8612 - acc: 0.5986 - val_loss: 0.8363 - val_acc: 0.6550\n",
      "Epoch 5/50\n",
      "976/979 [============================>.] - ETA: 0s - loss: 0.8296 - acc: 0.6055Epoch 00004: val_acc did not improve\n",
      "979/979 [==============================] - 14s - loss: 0.8295 - acc: 0.6057 - val_loss: 0.8182 - val_acc: 0.6433\n",
      "Epoch 6/50\n",
      "976/979 [============================>.] - ETA: 0s - loss: 0.7699 - acc: 0.6465Epoch 00005: val_acc did not improve\n",
      "979/979 [==============================] - 14s - loss: 0.7696 - acc: 0.6466 - val_loss: 0.8399 - val_acc: 0.6082\n",
      "Epoch 7/50\n",
      "976/979 [============================>.] - ETA: 0s - loss: 0.7398 - acc: 0.6824Epoch 00006: val_acc did not improve\n",
      "979/979 [==============================] - 14s - loss: 0.7404 - acc: 0.6813 - val_loss: 0.7751 - val_acc: 0.6257\n",
      "Epoch 8/50\n",
      "976/979 [============================>.] - ETA: 0s - loss: 0.7514 - acc: 0.6383Epoch 00007: val_acc did not improve\n",
      "979/979 [==============================] - 14s - loss: 0.7533 - acc: 0.6374 - val_loss: 0.8000 - val_acc: 0.6374\n",
      "Epoch 9/50\n",
      "976/979 [============================>.] - ETA: 0s - loss: 0.7116 - acc: 0.6967Epoch 00008: val_acc improved from 0.65497 to 0.66082, saving model to data3_1/top_model_weights.h5\n",
      "979/979 [==============================] - 14s - loss: 0.7121 - acc: 0.6966 - val_loss: 0.7666 - val_acc: 0.6608\n",
      "Epoch 10/50\n",
      "976/979 [============================>.] - ETA: 0s - loss: 0.6974 - acc: 0.7008Epoch 00009: val_acc did not improve\n",
      "979/979 [==============================] - 14s - loss: 0.6963 - acc: 0.7007 - val_loss: 0.7646 - val_acc: 0.6257\n",
      "Epoch 11/50\n",
      "976/979 [============================>.] - ETA: 0s - loss: 0.6505 - acc: 0.7295Epoch 00010: val_acc did not improve\n",
      "979/979 [==============================] - 14s - loss: 0.6525 - acc: 0.7283 - val_loss: 0.7723 - val_acc: 0.6257\n",
      "Epoch 12/50\n",
      "976/979 [============================>.] - ETA: 0s - loss: 0.6660 - acc: 0.7111Epoch 00011: val_acc did not improve\n",
      "979/979 [==============================] - 16s - loss: 0.6664 - acc: 0.7109 - val_loss: 0.7594 - val_acc: 0.6550\n",
      "Epoch 13/50\n",
      "976/979 [============================>.] - ETA: 0s - loss: 0.6301 - acc: 0.7367Epoch 00012: val_acc improved from 0.66082 to 0.66667, saving model to data3_1/top_model_weights.h5\n",
      "979/979 [==============================] - 18s - loss: 0.6315 - acc: 0.7354 - val_loss: 0.7499 - val_acc: 0.6667\n",
      "Epoch 14/50\n",
      "976/979 [============================>.] - ETA: 0s - loss: 0.6264 - acc: 0.7469Epoch 00013: val_acc did not improve\n",
      "979/979 [==============================] - 19s - loss: 0.6249 - acc: 0.7477 - val_loss: 0.7398 - val_acc: 0.6374\n",
      "Epoch 15/50\n",
      "976/979 [============================>.] - ETA: 0s - loss: 0.5907 - acc: 0.7572Epoch 00014: val_acc did not improve\n",
      "979/979 [==============================] - 19s - loss: 0.5897 - acc: 0.7579 - val_loss: 0.7680 - val_acc: 0.6199\n",
      "Epoch 16/50\n",
      "976/979 [============================>.] - ETA: 0s - loss: 0.5881 - acc: 0.7602Epoch 00015: val_acc improved from 0.66667 to 0.67251, saving model to data3_1/top_model_weights.h5\n",
      "979/979 [==============================] - 19s - loss: 0.5886 - acc: 0.7600 - val_loss: 0.7381 - val_acc: 0.6725\n",
      "Epoch 17/50\n",
      "976/979 [============================>.] - ETA: 0s - loss: 0.5823 - acc: 0.7613Epoch 00016: val_acc did not improve\n",
      "979/979 [==============================] - 19s - loss: 0.5814 - acc: 0.7620 - val_loss: 0.7552 - val_acc: 0.6199\n",
      "Epoch 18/50\n",
      "976/979 [============================>.] - ETA: 0s - loss: 0.5638 - acc: 0.7807Epoch 00017: val_acc did not improve\n",
      "979/979 [==============================] - 19s - loss: 0.5653 - acc: 0.7804 - val_loss: 0.7536 - val_acc: 0.6608\n",
      "Epoch 19/50\n",
      "976/979 [============================>.] - ETA: 0s - loss: 0.5513 - acc: 0.7715Epoch 00018: val_acc did not improve\n",
      "979/979 [==============================] - 20s - loss: 0.5503 - acc: 0.7722 - val_loss: 0.7909 - val_acc: 0.6374\n",
      "Epoch 20/50\n",
      "976/979 [============================>.] - ETA: 0s - loss: 0.5063 - acc: 0.8094Epoch 00019: val_acc did not improve\n",
      "979/979 [==============================] - 20s - loss: 0.5072 - acc: 0.8090 - val_loss: 0.7469 - val_acc: 0.6199\n",
      "Epoch 21/50\n",
      "976/979 [============================>.] - ETA: 0s - loss: 0.5105 - acc: 0.7920Epoch 00020: val_acc did not improve\n",
      "979/979 [==============================] - 20s - loss: 0.5104 - acc: 0.7916 - val_loss: 0.7554 - val_acc: 0.6667\n",
      "Epoch 22/50\n",
      "976/979 [============================>.] - ETA: 0s - loss: 0.4941 - acc: 0.8043Epoch 00021: val_acc did not improve\n",
      "979/979 [==============================] - 20s - loss: 0.4941 - acc: 0.8039 - val_loss: 0.7505 - val_acc: 0.6608\n",
      "Epoch 23/50\n",
      "976/979 [============================>.] - ETA: 0s - loss: 0.4497 - acc: 0.8412Epoch 00022: val_acc did not improve\n",
      "979/979 [==============================] - 20s - loss: 0.4491 - acc: 0.8417 - val_loss: 0.7371 - val_acc: 0.6433\n",
      "Epoch 24/50\n",
      "976/979 [============================>.] - ETA: 0s - loss: 0.4536 - acc: 0.8494Epoch 00023: val_acc did not improve\n",
      "979/979 [==============================] - 20s - loss: 0.4528 - acc: 0.8498 - val_loss: 0.7335 - val_acc: 0.6550\n",
      "Epoch 25/50\n",
      "976/979 [============================>.] - ETA: 0s - loss: 0.4356 - acc: 0.8453Epoch 00024: val_acc did not improve\n",
      "979/979 [==============================] - 20s - loss: 0.4368 - acc: 0.8447 - val_loss: 0.7414 - val_acc: 0.6374\n",
      "Epoch 26/50\n",
      "976/979 [============================>.] - ETA: 0s - loss: 0.4306 - acc: 0.8371Epoch 00025: val_acc did not improve\n",
      "979/979 [==============================] - 20s - loss: 0.4300 - acc: 0.8376 - val_loss: 0.7442 - val_acc: 0.6374\n",
      "Epoch 27/50\n",
      "976/979 [============================>.] - ETA: 0s - loss: 0.4220 - acc: 0.8586Epoch 00026: val_acc did not improve\n",
      "979/979 [==============================] - 20s - loss: 0.4218 - acc: 0.8590 - val_loss: 0.7592 - val_acc: 0.6433\n",
      "Epoch 28/50\n",
      "976/979 [============================>.] - ETA: 0s - loss: 0.4162 - acc: 0.8514Epoch 00027: val_acc did not improve\n",
      "979/979 [==============================] - 20s - loss: 0.4155 - acc: 0.8519 - val_loss: 0.7506 - val_acc: 0.6491\n",
      "Epoch 29/50\n",
      "976/979 [============================>.] - ETA: 0s - loss: 0.3972 - acc: 0.8617Epoch 00028: val_acc did not improve\n",
      "979/979 [==============================] - 20s - loss: 0.3975 - acc: 0.8621 - val_loss: 0.7436 - val_acc: 0.6374\n",
      "Epoch 30/50\n",
      "976/979 [============================>.] - ETA: 0s - loss: 0.3765 - acc: 0.8750Epoch 00029: val_acc did not improve\n",
      "979/979 [==============================] - 20s - loss: 0.3764 - acc: 0.8754 - val_loss: 0.7431 - val_acc: 0.6316\n",
      "Epoch 31/50\n",
      "976/979 [============================>.] - ETA: 0s - loss: 0.3975 - acc: 0.8525Epoch 00030: val_acc did not improve\n",
      "979/979 [==============================] - 20s - loss: 0.3968 - acc: 0.8529 - val_loss: 0.7341 - val_acc: 0.6491\n",
      "Epoch 32/50\n",
      "976/979 [============================>.] - ETA: 0s - loss: 0.3656 - acc: 0.8945Epoch 00031: val_acc did not improve\n",
      "979/979 [==============================] - 20s - loss: 0.3654 - acc: 0.8948 - val_loss: 0.7526 - val_acc: 0.6725\n",
      "Epoch 33/50\n"
     ]
    },
    {
     "name": "stdout",
     "output_type": "stream",
     "text": [
      "976/979 [============================>.] - ETA: 0s - loss: 0.3731 - acc: 0.8740Epoch 00032: val_acc did not improve\n",
      "979/979 [==============================] - 20s - loss: 0.3723 - acc: 0.8744 - val_loss: 0.7548 - val_acc: 0.6550\n",
      "Epoch 34/50\n",
      "976/979 [============================>.] - ETA: 0s - loss: 0.3487 - acc: 0.8965Epoch 00033: val_acc did not improve\n",
      "979/979 [==============================] - 20s - loss: 0.3482 - acc: 0.8968 - val_loss: 0.7705 - val_acc: 0.6725\n",
      "Epoch 35/50\n",
      "976/979 [============================>.] - ETA: 0s - loss: 0.3288 - acc: 0.8996Epoch 00034: val_acc did not improve\n",
      "979/979 [==============================] - 20s - loss: 0.3295 - acc: 0.8989 - val_loss: 0.7597 - val_acc: 0.6491\n",
      "Epoch 36/50\n",
      "976/979 [============================>.] - ETA: 0s - loss: 0.3322 - acc: 0.8986Epoch 00035: val_acc did not improve\n",
      "979/979 [==============================] - 20s - loss: 0.3328 - acc: 0.8979 - val_loss: 0.7836 - val_acc: 0.6608\n",
      "Epoch 37/50\n",
      "976/979 [============================>.] - ETA: 0s - loss: 0.3073 - acc: 0.9180Epoch 00036: val_acc did not improve\n",
      "979/979 [==============================] - 20s - loss: 0.3066 - acc: 0.9183 - val_loss: 0.7628 - val_acc: 0.6433\n",
      "Epoch 38/50\n",
      "976/979 [============================>.] - ETA: 0s - loss: 0.3127 - acc: 0.9109Epoch 00037: val_acc did not improve\n",
      "979/979 [==============================] - 20s - loss: 0.3127 - acc: 0.9111 - val_loss: 0.7759 - val_acc: 0.6433\n",
      "Epoch 39/50\n",
      "976/979 [============================>.] - ETA: 0s - loss: 0.2889 - acc: 0.9201Epoch 00038: val_acc did not improve\n",
      "979/979 [==============================] - 20s - loss: 0.2883 - acc: 0.9203 - val_loss: 0.7711 - val_acc: 0.6257\n",
      "Epoch 40/50\n",
      "976/979 [============================>.] - ETA: 0s - loss: 0.2730 - acc: 0.9232Epoch 00039: val_acc did not improve\n",
      "979/979 [==============================] - 20s - loss: 0.2733 - acc: 0.9234 - val_loss: 0.7975 - val_acc: 0.6140\n",
      "Epoch 41/50\n",
      "976/979 [============================>.] - ETA: 0s - loss: 0.2676 - acc: 0.9324Epoch 00040: val_acc did not improve\n",
      "979/979 [==============================] - 20s - loss: 0.2670 - acc: 0.9326 - val_loss: 0.7787 - val_acc: 0.6433\n",
      "Epoch 42/50\n",
      "976/979 [============================>.] - ETA: 0s - loss: 0.2660 - acc: 0.9242Epoch 00041: val_acc did not improve\n",
      "979/979 [==============================] - 20s - loss: 0.2661 - acc: 0.9244 - val_loss: 0.7745 - val_acc: 0.6374\n",
      "Epoch 43/50\n",
      "976/979 [============================>.] - ETA: 0s - loss: 0.2692 - acc: 0.9221Epoch 00042: val_acc did not improve\n",
      "979/979 [==============================] - 20s - loss: 0.2686 - acc: 0.9224 - val_loss: 0.7864 - val_acc: 0.6257\n",
      "Epoch 44/50\n",
      "976/979 [============================>.] - ETA: 0s - loss: 0.2584 - acc: 0.9314Epoch 00043: val_acc did not improve\n",
      "979/979 [==============================] - 20s - loss: 0.2591 - acc: 0.9305 - val_loss: 0.7793 - val_acc: 0.6316\n",
      "Epoch 45/50\n",
      "976/979 [============================>.] - ETA: 0s - loss: 0.2371 - acc: 0.9447Epoch 00044: val_acc did not improve\n",
      "979/979 [==============================] - 20s - loss: 0.2369 - acc: 0.9448 - val_loss: 0.7928 - val_acc: 0.6316\n",
      "Epoch 46/50\n",
      "976/979 [============================>.] - ETA: 0s - loss: 0.2570 - acc: 0.9211Epoch 00045: val_acc did not improve\n",
      "979/979 [==============================] - 20s - loss: 0.2566 - acc: 0.9213 - val_loss: 0.7715 - val_acc: 0.6491\n",
      "Epoch 47/50\n",
      "976/979 [============================>.] - ETA: 0s - loss: 0.2246 - acc: 0.9590Epoch 00046: val_acc did not improve\n",
      "979/979 [==============================] - 20s - loss: 0.2252 - acc: 0.9581 - val_loss: 0.8079 - val_acc: 0.6316\n",
      "Epoch 48/50\n",
      "976/979 [============================>.] - ETA: 0s - loss: 0.2289 - acc: 0.9447Epoch 00047: val_acc did not improve\n",
      "979/979 [==============================] - 20s - loss: 0.2284 - acc: 0.9448 - val_loss: 0.8231 - val_acc: 0.6374\n",
      "Epoch 49/50\n",
      "976/979 [============================>.] - ETA: 0s - loss: 0.2288 - acc: 0.9477Epoch 00048: val_acc did not improve\n",
      "979/979 [==============================] - 20s - loss: 0.2291 - acc: 0.9479 - val_loss: 0.8092 - val_acc: 0.6433\n",
      "Epoch 50/50\n",
      "976/979 [============================>.] - ETA: 0s - loss: 0.2151 - acc: 0.9467Epoch 00049: val_acc did not improve\n",
      "979/979 [==============================] - 20s - loss: 0.2158 - acc: 0.9469 - val_loss: 0.8211 - val_acc: 0.6257\n"
     ]
    }
   ],
   "source": [
    "d3_model3, d3_hist3 = train_categorical_model() # l1 regularization"
   ]
  },
  {
   "cell_type": "code",
   "execution_count": 16,
   "metadata": {
    "scrolled": true
   },
   "outputs": [
    {
     "name": "stdout",
     "output_type": "stream",
     "text": [
      "Train on 979 samples, validate on 171 samples\n",
      "Epoch 1/50\n",
      "976/979 [============================>.] - ETA: 0s - loss: 1.1910 - acc: 0.3975Epoch 00000: val_acc improved from -inf to 0.55556, saving model to data3_1/top_model_weights.h5\n",
      "979/979 [==============================] - 14s - loss: 1.1902 - acc: 0.3984 - val_loss: 0.9669 - val_acc: 0.5556\n",
      "Epoch 2/50\n",
      "976/979 [============================>.] - ETA: 0s - loss: 0.9725 - acc: 0.5102Epoch 00001: val_acc improved from 0.55556 to 0.56140, saving model to data3_1/top_model_weights.h5\n",
      "979/979 [==============================] - 14s - loss: 0.9728 - acc: 0.5107 - val_loss: 0.9092 - val_acc: 0.5614\n",
      "Epoch 3/50\n",
      "976/979 [============================>.] - ETA: 0s - loss: 0.8902 - acc: 0.5779Epoch 00002: val_acc improved from 0.56140 to 0.57895, saving model to data3_1/top_model_weights.h5\n",
      "979/979 [==============================] - 14s - loss: 0.8901 - acc: 0.5771 - val_loss: 0.8818 - val_acc: 0.5789\n",
      "Epoch 4/50\n",
      "976/979 [============================>.] - ETA: 0s - loss: 0.8563 - acc: 0.5881Epoch 00003: val_acc improved from 0.57895 to 0.62573, saving model to data3_1/top_model_weights.h5\n",
      "979/979 [==============================] - 14s - loss: 0.8584 - acc: 0.5873 - val_loss: 0.8143 - val_acc: 0.6257\n",
      "Epoch 5/50\n",
      "976/979 [============================>.] - ETA: 0s - loss: 0.7940 - acc: 0.6414Epoch 00004: val_acc did not improve\n",
      "979/979 [==============================] - 14s - loss: 0.7935 - acc: 0.6415 - val_loss: 0.8000 - val_acc: 0.6199\n",
      "Epoch 6/50\n",
      "976/979 [============================>.] - ETA: 0s - loss: 0.7610 - acc: 0.6568Epoch 00005: val_acc improved from 0.62573 to 0.63743, saving model to data3_1/top_model_weights.h5\n",
      "979/979 [==============================] - 14s - loss: 0.7591 - acc: 0.6578 - val_loss: 0.7833 - val_acc: 0.6374\n",
      "Epoch 7/50\n",
      "976/979 [============================>.] - ETA: 0s - loss: 0.7370 - acc: 0.6588Epoch 00006: val_acc did not improve\n",
      "979/979 [==============================] - 14s - loss: 0.7358 - acc: 0.6599 - val_loss: 0.7883 - val_acc: 0.6374\n",
      "Epoch 8/50\n",
      "976/979 [============================>.] - ETA: 0s - loss: 0.6947 - acc: 0.6885Epoch 00007: val_acc did not improve\n",
      "979/979 [==============================] - 14s - loss: 0.6950 - acc: 0.6885 - val_loss: 0.7772 - val_acc: 0.6316\n",
      "Epoch 9/50\n",
      "976/979 [============================>.] - ETA: 0s - loss: 0.6900 - acc: 0.7039Epoch 00008: val_acc improved from 0.63743 to 0.64327, saving model to data3_1/top_model_weights.h5\n",
      "979/979 [==============================] - 14s - loss: 0.6916 - acc: 0.7028 - val_loss: 0.7739 - val_acc: 0.6433\n",
      "Epoch 10/50\n",
      "976/979 [============================>.] - ETA: 0s - loss: 0.6572 - acc: 0.7182Epoch 00009: val_acc improved from 0.64327 to 0.64912, saving model to data3_1/top_model_weights.h5\n",
      "979/979 [==============================] - 14s - loss: 0.6579 - acc: 0.7171 - val_loss: 0.7713 - val_acc: 0.6491\n",
      "Epoch 11/50\n",
      "976/979 [============================>.] - ETA: 0s - loss: 0.6462 - acc: 0.7223Epoch 00010: val_acc did not improve\n",
      "979/979 [==============================] - 14s - loss: 0.6466 - acc: 0.7222 - val_loss: 0.7495 - val_acc: 0.6316\n",
      "Epoch 12/50\n",
      "976/979 [============================>.] - ETA: 0s - loss: 0.6197 - acc: 0.7244Epoch 00011: val_acc did not improve\n",
      "979/979 [==============================] - 16s - loss: 0.6192 - acc: 0.7252 - val_loss: 0.8025 - val_acc: 0.6082\n",
      "Epoch 13/50\n",
      "976/979 [============================>.] - ETA: 0s - loss: 0.6246 - acc: 0.7244- ETA: 6s - lossEpoch 00012: val_acc did not improve\n",
      "979/979 [==============================] - 18s - loss: 0.6236 - acc: 0.7252 - val_loss: 0.7488 - val_acc: 0.6199\n",
      "Epoch 14/50\n",
      "976/979 [============================>.] - ETA: 0s - loss: 0.5728 - acc: 0.7807Epoch 00013: val_acc did not improve\n",
      "979/979 [==============================] - 19s - loss: 0.5723 - acc: 0.7804 - val_loss: 0.7648 - val_acc: 0.6140\n",
      "Epoch 15/50\n",
      "976/979 [============================>.] - ETA: 0s - loss: 0.5831 - acc: 0.7551Epoch 00014: val_acc did not improve\n",
      "979/979 [==============================] - 19s - loss: 0.5832 - acc: 0.7549 - val_loss: 0.7484 - val_acc: 0.6491\n",
      "Epoch 16/50\n",
      "976/979 [============================>.] - ETA: 0s - loss: 0.5484 - acc: 0.7736Epoch 00015: val_acc improved from 0.64912 to 0.66082, saving model to data3_1/top_model_weights.h5\n",
      "979/979 [==============================] - 19s - loss: 0.5475 - acc: 0.7743 - val_loss: 0.7426 - val_acc: 0.6608\n",
      "Epoch 17/50\n",
      "976/979 [============================>.] - ETA: 0s - loss: 0.5472 - acc: 0.7848Epoch 00016: val_acc did not improve\n",
      "979/979 [==============================] - 19s - loss: 0.5464 - acc: 0.7855 - val_loss: 0.7440 - val_acc: 0.6491\n",
      "Epoch 18/50\n",
      "976/979 [============================>.] - ETA: 0s - loss: 0.4920 - acc: 0.8145Epoch 00017: val_acc did not improve\n",
      "979/979 [==============================] - 20s - loss: 0.4922 - acc: 0.8141 - val_loss: 0.7751 - val_acc: 0.6257\n",
      "Epoch 19/50\n",
      "976/979 [============================>.] - ETA: 0s - loss: 0.4865 - acc: 0.8053Epoch 00018: val_acc did not improve\n",
      "979/979 [==============================] - 20s - loss: 0.4879 - acc: 0.8049 - val_loss: 0.7946 - val_acc: 0.6140\n",
      "Epoch 20/50\n",
      "976/979 [============================>.] - ETA: 0s - loss: 0.5125 - acc: 0.7951Epoch 00019: val_acc did not improve\n",
      "979/979 [==============================] - 20s - loss: 0.5129 - acc: 0.7947 - val_loss: 0.7710 - val_acc: 0.6316\n",
      "Epoch 21/50\n",
      "976/979 [============================>.] - ETA: 0s - loss: 0.4772 - acc: 0.8238Epoch 00020: val_acc did not improve\n",
      "979/979 [==============================] - 20s - loss: 0.4768 - acc: 0.8243 - val_loss: 0.7654 - val_acc: 0.6374\n",
      "Epoch 22/50\n",
      "976/979 [============================>.] - ETA: 0s - loss: 0.4471 - acc: 0.8422Epoch 00021: val_acc did not improve\n",
      "979/979 [==============================] - 20s - loss: 0.4467 - acc: 0.8427 - val_loss: 0.7526 - val_acc: 0.6257\n",
      "Epoch 23/50\n",
      "976/979 [============================>.] - ETA: 0s - loss: 0.4211 - acc: 0.8443Epoch 00022: val_acc did not improve\n",
      "979/979 [==============================] - 20s - loss: 0.4219 - acc: 0.8427 - val_loss: 0.7499 - val_acc: 0.6257\n",
      "Epoch 24/50\n",
      "976/979 [============================>.] - ETA: 0s - loss: 0.4269 - acc: 0.8402Epoch 00023: val_acc did not improve\n",
      "979/979 [==============================] - 20s - loss: 0.4265 - acc: 0.8407 - val_loss: 0.7484 - val_acc: 0.6374\n",
      "Epoch 25/50\n",
      "976/979 [============================>.] - ETA: 0s - loss: 0.4075 - acc: 0.8699Epoch 00024: val_acc did not improve\n",
      "979/979 [==============================] - 20s - loss: 0.4066 - acc: 0.8703 - val_loss: 0.7492 - val_acc: 0.6550\n",
      "Epoch 26/50\n",
      "976/979 [============================>.] - ETA: 0s - loss: 0.3818 - acc: 0.8699Epoch 00025: val_acc did not improve\n",
      "979/979 [==============================] - 20s - loss: 0.3828 - acc: 0.8693 - val_loss: 0.7400 - val_acc: 0.6316\n",
      "Epoch 27/50\n",
      "976/979 [============================>.] - ETA: 0s - loss: 0.3948 - acc: 0.8545Epoch 00026: val_acc did not improve\n",
      "979/979 [==============================] - 20s - loss: 0.3944 - acc: 0.8550 - val_loss: 0.7505 - val_acc: 0.6433\n",
      "Epoch 28/50\n",
      "976/979 [============================>.] - ETA: 0s - loss: 0.3656 - acc: 0.8873Epoch 00027: val_acc did not improve\n",
      "979/979 [==============================] - 20s - loss: 0.3654 - acc: 0.8876 - val_loss: 0.7504 - val_acc: 0.6316\n",
      "Epoch 29/50\n",
      "976/979 [============================>.] - ETA: 0s - loss: 0.3522 - acc: 0.8883Epoch 00028: val_acc did not improve\n",
      "979/979 [==============================] - 21s - loss: 0.3515 - acc: 0.8887 - val_loss: 0.7740 - val_acc: 0.6374\n",
      "Epoch 30/50\n",
      "976/979 [============================>.] - ETA: 0s - loss: 0.3386 - acc: 0.8914Epoch 00029: val_acc did not improve\n",
      "979/979 [==============================] - 20s - loss: 0.3384 - acc: 0.8917 - val_loss: 0.7615 - val_acc: 0.6199\n",
      "Epoch 31/50\n",
      "976/979 [============================>.] - ETA: 0s - loss: 0.3280 - acc: 0.8986Epoch 00030: val_acc did not improve\n",
      "979/979 [==============================] - 20s - loss: 0.3286 - acc: 0.8989 - val_loss: 0.7840 - val_acc: 0.6433\n",
      "Epoch 32/50\n",
      "976/979 [============================>.] - ETA: 0s - loss: 0.3233 - acc: 0.8965Epoch 00031: val_acc did not improve\n"
     ]
    },
    {
     "name": "stdout",
     "output_type": "stream",
     "text": [
      "979/979 [==============================] - 20s - loss: 0.3228 - acc: 0.8968 - val_loss: 0.7752 - val_acc: 0.6374\n",
      "Epoch 33/50\n",
      "976/979 [============================>.] - ETA: 0s - loss: 0.3037 - acc: 0.9129Epoch 00032: val_acc did not improve\n",
      "979/979 [==============================] - 20s - loss: 0.3032 - acc: 0.9132 - val_loss: 0.7612 - val_acc: 0.6257\n",
      "Epoch 34/50\n",
      "976/979 [============================>.] - ETA: 0s - loss: 0.3141 - acc: 0.9037Epoch 00033: val_acc did not improve\n",
      "979/979 [==============================] - 20s - loss: 0.3138 - acc: 0.9040 - val_loss: 0.8242 - val_acc: 0.6550\n",
      "Epoch 35/50\n",
      "976/979 [============================>.] - ETA: 0s - loss: 0.3017 - acc: 0.9150Epoch 00034: val_acc did not improve\n",
      "979/979 [==============================] - 20s - loss: 0.3021 - acc: 0.9152 - val_loss: 0.7779 - val_acc: 0.6257\n",
      "Epoch 36/50\n",
      "976/979 [============================>.] - ETA: 0s - loss: 0.2923 - acc: 0.9160Epoch 00035: val_acc did not improve\n",
      "979/979 [==============================] - 20s - loss: 0.2928 - acc: 0.9152 - val_loss: 0.7791 - val_acc: 0.6082\n",
      "Epoch 37/50\n",
      "976/979 [============================>.] - ETA: 0s - loss: 0.2896 - acc: 0.9139Epoch 00036: val_acc did not improve\n",
      "979/979 [==============================] - 20s - loss: 0.2895 - acc: 0.9142 - val_loss: 0.7731 - val_acc: 0.6140\n",
      "Epoch 38/50\n",
      "976/979 [============================>.] - ETA: 0s - loss: 0.2672 - acc: 0.9211Epoch 00037: val_acc did not improve\n",
      "979/979 [==============================] - 20s - loss: 0.2668 - acc: 0.9213 - val_loss: 0.7881 - val_acc: 0.6257\n",
      "Epoch 39/50\n",
      "976/979 [============================>.] - ETA: 0s - loss: 0.2502 - acc: 0.9324Epoch 00038: val_acc did not improve\n",
      "979/979 [==============================] - 20s - loss: 0.2496 - acc: 0.9326 - val_loss: 0.8086 - val_acc: 0.6433\n",
      "Epoch 40/50\n",
      "976/979 [============================>.] - ETA: 0s - loss: 0.2431 - acc: 0.9395Epoch 00039: val_acc did not improve\n",
      "979/979 [==============================] - 20s - loss: 0.2427 - acc: 0.9397 - val_loss: 0.7974 - val_acc: 0.6491\n",
      "Epoch 41/50\n",
      "976/979 [============================>.] - ETA: 0s - loss: 0.2308 - acc: 0.9447Epoch 00040: val_acc did not improve\n",
      "979/979 [==============================] - 20s - loss: 0.2322 - acc: 0.9438 - val_loss: 0.7862 - val_acc: 0.6433\n",
      "Epoch 42/50\n",
      "976/979 [============================>.] - ETA: 0s - loss: 0.2453 - acc: 0.9457Epoch 00041: val_acc did not improve\n",
      "979/979 [==============================] - 20s - loss: 0.2448 - acc: 0.9459 - val_loss: 0.8216 - val_acc: 0.6550\n",
      "Epoch 43/50\n",
      "976/979 [============================>.] - ETA: 0s - loss: 0.2182 - acc: 0.9539Epoch 00042: val_acc did not improve\n",
      "979/979 [==============================] - 20s - loss: 0.2188 - acc: 0.9530 - val_loss: 0.8190 - val_acc: 0.6316\n",
      "Epoch 44/50\n",
      "976/979 [============================>.] - ETA: 0s - loss: 0.2279 - acc: 0.9508Epoch 00043: val_acc did not improve\n",
      "979/979 [==============================] - 20s - loss: 0.2275 - acc: 0.9510 - val_loss: 0.7999 - val_acc: 0.6199\n",
      "Epoch 45/50\n",
      "976/979 [============================>.] - ETA: 0s - loss: 0.2131 - acc: 0.9600Epoch 00044: val_acc did not improve\n",
      "979/979 [==============================] - 20s - loss: 0.2129 - acc: 0.9602 - val_loss: 0.8054 - val_acc: 0.6257\n",
      "Epoch 46/50\n",
      "976/979 [============================>.] - ETA: 0s - loss: 0.1988 - acc: 0.9600Epoch 00045: val_acc did not improve\n",
      "979/979 [==============================] - 20s - loss: 0.1999 - acc: 0.9591 - val_loss: 0.7972 - val_acc: 0.6082\n",
      "Epoch 47/50\n",
      "976/979 [============================>.] - ETA: 0s - loss: 0.2019 - acc: 0.9518Epoch 00046: val_acc did not improve\n",
      "979/979 [==============================] - 20s - loss: 0.2019 - acc: 0.9520 - val_loss: 0.8370 - val_acc: 0.6316\n",
      "Epoch 48/50\n",
      "976/979 [============================>.] - ETA: 0s - loss: 0.2064 - acc: 0.9580Epoch 00047: val_acc did not improve\n",
      "979/979 [==============================] - 20s - loss: 0.2065 - acc: 0.9581 - val_loss: 0.7957 - val_acc: 0.6199\n",
      "Epoch 49/50\n",
      "976/979 [============================>.] - ETA: 0s - loss: 0.1878 - acc: 0.9641Epoch 00048: val_acc did not improve\n",
      "979/979 [==============================] - 20s - loss: 0.1875 - acc: 0.9642 - val_loss: 0.8134 - val_acc: 0.6082\n",
      "Epoch 50/50\n",
      "976/979 [============================>.] - ETA: 0s - loss: 0.1786 - acc: 0.9682Epoch 00049: val_acc did not improve\n",
      "979/979 [==============================] - 20s - loss: 0.1787 - acc: 0.9683 - val_loss: 0.8108 - val_acc: 0.6140\n"
     ]
    }
   ],
   "source": [
    "d3_model4, d3_hist4 = train_categorical_model() # double dense and dropout layers"
   ]
  },
  {
   "cell_type": "code",
   "execution_count": 17,
   "metadata": {
    "scrolled": true
   },
   "outputs": [
    {
     "name": "stdout",
     "output_type": "stream",
     "text": [
      "Train on 979 samples, validate on 171 samples\n",
      "Epoch 1/50\n",
      "976/979 [============================>.] - ETA: 0s - loss: 1.1296 - acc: 0.4303Epoch 00000: val_acc improved from -inf to 0.38012, saving model to data3_1/top_model_weights.h5\n",
      "979/979 [==============================] - 14s - loss: 1.1282 - acc: 0.4321 - val_loss: 1.0238 - val_acc: 0.3801\n",
      "Epoch 2/50\n",
      "976/979 [============================>.] - ETA: 0s - loss: 0.9516 - acc: 0.5451Epoch 00001: val_acc improved from 0.38012 to 0.55556, saving model to data3_1/top_model_weights.h5\n",
      "979/979 [==============================] - 14s - loss: 0.9505 - acc: 0.5465 - val_loss: 0.8970 - val_acc: 0.5556\n",
      "Epoch 3/50\n",
      "976/979 [============================>.] - ETA: 0s - loss: 0.9066 - acc: 0.5615Epoch 00002: val_acc improved from 0.55556 to 0.60234, saving model to data3_1/top_model_weights.h5\n",
      "979/979 [==============================] - 14s - loss: 0.9060 - acc: 0.5618 - val_loss: 0.8847 - val_acc: 0.6023\n",
      "Epoch 4/50\n",
      "976/979 [============================>.] - ETA: 0s - loss: 0.8665 - acc: 0.6096Epoch 00003: val_acc did not improve\n",
      "979/979 [==============================] - 14s - loss: 0.8667 - acc: 0.6088 - val_loss: 0.8512 - val_acc: 0.5906\n",
      "Epoch 5/50\n",
      "976/979 [============================>.] - ETA: 0s - loss: 0.8284 - acc: 0.6281Epoch 00004: val_acc did not improve\n",
      "979/979 [==============================] - 14s - loss: 0.8284 - acc: 0.6272 - val_loss: 0.8790 - val_acc: 0.5614\n",
      "Epoch 6/50\n",
      "976/979 [============================>.] - ETA: 0s - loss: 0.7961 - acc: 0.6301Epoch 00005: val_acc did not improve\n",
      "979/979 [==============================] - 14s - loss: 0.7967 - acc: 0.6292 - val_loss: 0.8625 - val_acc: 0.5614\n",
      "Epoch 7/50\n",
      "976/979 [============================>.] - ETA: 0s - loss: 0.7683 - acc: 0.6609Epoch 00006: val_acc improved from 0.60234 to 0.62573, saving model to data3_1/top_model_weights.h5\n",
      "979/979 [==============================] - 14s - loss: 0.7702 - acc: 0.6588 - val_loss: 0.8045 - val_acc: 0.6257\n",
      "Epoch 8/50\n",
      "976/979 [============================>.] - ETA: 0s - loss: 0.7312 - acc: 0.6619Epoch 00007: val_acc did not improve\n",
      "979/979 [==============================] - 14s - loss: 0.7336 - acc: 0.6609 - val_loss: 0.8044 - val_acc: 0.6082\n",
      "Epoch 9/50\n",
      "976/979 [============================>.] - ETA: 0s - loss: 0.7082 - acc: 0.6742Epoch 00008: val_acc did not improve\n",
      "979/979 [==============================] - 14s - loss: 0.7070 - acc: 0.6752 - val_loss: 0.7890 - val_acc: 0.6199\n",
      "Epoch 10/50\n",
      "976/979 [============================>.] - ETA: 0s - loss: 0.7131 - acc: 0.6701Epoch 00009: val_acc improved from 0.62573 to 0.64912, saving model to data3_1/top_model_weights.h5\n",
      "979/979 [==============================] - 14s - loss: 0.7118 - acc: 0.6711 - val_loss: 0.7983 - val_acc: 0.6491\n",
      "Epoch 11/50\n",
      "976/979 [============================>.] - ETA: 0s - loss: 0.6678 - acc: 0.7131Epoch 00010: val_acc did not improve\n",
      "979/979 [==============================] - 14s - loss: 0.6684 - acc: 0.7120 - val_loss: 0.7702 - val_acc: 0.6140\n",
      "Epoch 12/50\n",
      "976/979 [============================>.] - ETA: 0s - loss: 0.6390 - acc: 0.7326Epoch 00011: val_acc did not improve\n",
      "979/979 [==============================] - 16s - loss: 0.6394 - acc: 0.7314 - val_loss: 0.7874 - val_acc: 0.6491\n",
      "Epoch 13/50\n",
      "976/979 [============================>.] - ETA: 0s - loss: 0.6674 - acc: 0.7141Epoch 00012: val_acc did not improve\n",
      "979/979 [==============================] - 18s - loss: 0.6668 - acc: 0.7140 - val_loss: 0.8054 - val_acc: 0.5965\n",
      "Epoch 14/50\n",
      "976/979 [============================>.] - ETA: 0s - loss: 0.6002 - acc: 0.7541Epoch 00013: val_acc did not improve\n",
      "979/979 [==============================] - 18s - loss: 0.5998 - acc: 0.7538 - val_loss: 0.7624 - val_acc: 0.6433\n",
      "Epoch 15/50\n",
      "976/979 [============================>.] - ETA: 0s - loss: 0.5950 - acc: 0.7572Epoch 00014: val_acc did not improve\n",
      "979/979 [==============================] - 19s - loss: 0.5945 - acc: 0.7579 - val_loss: 0.7529 - val_acc: 0.6316\n",
      "Epoch 16/50\n",
      "976/979 [============================>.] - ETA: 0s - loss: 0.5989 - acc: 0.7633Epoch 00015: val_acc did not improve\n",
      "979/979 [==============================] - 19s - loss: 0.5977 - acc: 0.7640 - val_loss: 0.7643 - val_acc: 0.6082\n",
      "Epoch 17/50\n",
      "976/979 [============================>.] - ETA: 0s - loss: 0.5702 - acc: 0.7643Epoch 00016: val_acc did not improve\n",
      "979/979 [==============================] - 19s - loss: 0.5690 - acc: 0.7651 - val_loss: 0.7826 - val_acc: 0.6140\n",
      "Epoch 18/50\n",
      "976/979 [============================>.] - ETA: 0s - loss: 0.5438 - acc: 0.7828Epoch 00017: val_acc did not improve\n",
      "979/979 [==============================] - 19s - loss: 0.5429 - acc: 0.7835 - val_loss: 0.7797 - val_acc: 0.6316\n",
      "Epoch 19/50\n",
      "976/979 [============================>.] - ETA: 0s - loss: 0.5333 - acc: 0.7930Epoch 00018: val_acc did not improve\n",
      "979/979 [==============================] - 19s - loss: 0.5355 - acc: 0.7916 - val_loss: 0.7566 - val_acc: 0.6082\n",
      "Epoch 20/50\n",
      "976/979 [============================>.] - ETA: 0s - loss: 0.5251 - acc: 0.7982Epoch 00019: val_acc improved from 0.64912 to 0.65497, saving model to data3_1/top_model_weights.h5\n",
      "979/979 [==============================] - 20s - loss: 0.5244 - acc: 0.7988 - val_loss: 0.7492 - val_acc: 0.6550\n",
      "Epoch 21/50\n",
      "976/979 [============================>.] - ETA: 0s - loss: 0.4988 - acc: 0.8156Epoch 00020: val_acc did not improve\n",
      "979/979 [==============================] - 20s - loss: 0.4978 - acc: 0.8161 - val_loss: 0.7436 - val_acc: 0.6374\n",
      "Epoch 22/50\n",
      "976/979 [============================>.] - ETA: 0s - loss: 0.4880 - acc: 0.8207Epoch 00021: val_acc did not improve\n",
      "979/979 [==============================] - 20s - loss: 0.4880 - acc: 0.8212 - val_loss: 0.7620 - val_acc: 0.6257\n",
      "Epoch 23/50\n",
      "976/979 [============================>.] - ETA: 0s - loss: 0.4827 - acc: 0.8166Epoch 00022: val_acc did not improve\n",
      "979/979 [==============================] - 20s - loss: 0.4828 - acc: 0.8161 - val_loss: 0.7541 - val_acc: 0.6374\n",
      "Epoch 24/50\n",
      "976/979 [============================>.] - ETA: 0s - loss: 0.4449 - acc: 0.8432Epoch 00023: val_acc improved from 0.65497 to 0.66082, saving model to data3_1/top_model_weights.h5\n",
      "979/979 [==============================] - 19s - loss: 0.4448 - acc: 0.8437 - val_loss: 0.7477 - val_acc: 0.6608\n",
      "Epoch 25/50\n",
      "976/979 [============================>.] - ETA: 0s - loss: 0.4394 - acc: 0.8381Epoch 00024: val_acc did not improve\n",
      "979/979 [==============================] - 19s - loss: 0.4387 - acc: 0.8386 - val_loss: 0.7845 - val_acc: 0.6316\n",
      "Epoch 26/50\n",
      "976/979 [============================>.] - ETA: 0s - loss: 0.4212 - acc: 0.8422Epoch 00025: val_acc did not improve\n",
      "979/979 [==============================] - 19s - loss: 0.4205 - acc: 0.8427 - val_loss: 0.7666 - val_acc: 0.6433\n",
      "Epoch 27/50\n",
      "976/979 [============================>.] - ETA: 0s - loss: 0.4328 - acc: 0.8473Epoch 00026: val_acc improved from 0.66082 to 0.66082, saving model to data3_1/top_model_weights.h5\n",
      "979/979 [==============================] - 19s - loss: 0.4324 - acc: 0.8478 - val_loss: 0.7625 - val_acc: 0.6608\n",
      "Epoch 28/50\n",
      "976/979 [============================>.] - ETA: 0s - loss: 0.4209 - acc: 0.8576Epoch 00027: val_acc did not improve\n",
      "979/979 [==============================] - 19s - loss: 0.4202 - acc: 0.8580 - val_loss: 0.7590 - val_acc: 0.6433\n",
      "Epoch 29/50\n",
      "976/979 [============================>.] - ETA: 0s - loss: 0.3995 - acc: 0.8658Epoch 00028: val_acc did not improve\n",
      "979/979 [==============================] - 19s - loss: 0.3988 - acc: 0.8662 - val_loss: 0.7725 - val_acc: 0.6374\n",
      "Epoch 30/50\n",
      "976/979 [============================>.] - ETA: 0s - loss: 0.3892 - acc: 0.8648Epoch 00029: val_acc did not improve\n",
      "979/979 [==============================] - 19s - loss: 0.3891 - acc: 0.8652 - val_loss: 0.7764 - val_acc: 0.6491\n",
      "Epoch 31/50\n",
      "976/979 [============================>.] - ETA: 0s - loss: 0.3731 - acc: 0.8822Epoch 00030: val_acc did not improve\n",
      "979/979 [==============================] - 19s - loss: 0.3721 - acc: 0.8825 - val_loss: 0.7894 - val_acc: 0.6491\n",
      "Epoch 32/50\n",
      "976/979 [============================>.] - ETA: 0s - loss: 0.3717 - acc: 0.8637Epoch 00031: val_acc did not improve\n"
     ]
    },
    {
     "name": "stdout",
     "output_type": "stream",
     "text": [
      "979/979 [==============================] - 19s - loss: 0.3725 - acc: 0.8631 - val_loss: 0.7644 - val_acc: 0.6608\n",
      "Epoch 33/50\n",
      "976/979 [============================>.] - ETA: 0s - loss: 0.3552 - acc: 0.8873Epoch 00032: val_acc improved from 0.66082 to 0.66667, saving model to data3_1/top_model_weights.h5\n",
      "979/979 [==============================] - 19s - loss: 0.3550 - acc: 0.8876 - val_loss: 0.7689 - val_acc: 0.6667\n",
      "Epoch 34/50\n",
      "976/979 [============================>.] - ETA: 0s - loss: 0.3365 - acc: 0.8965Epoch 00033: val_acc did not improve\n",
      "979/979 [==============================] - 19s - loss: 0.3358 - acc: 0.8968 - val_loss: 0.7683 - val_acc: 0.6550\n",
      "Epoch 35/50\n",
      "976/979 [============================>.] - ETA: 0s - loss: 0.3289 - acc: 0.8842Epoch 00034: val_acc did not improve\n",
      "979/979 [==============================] - 19s - loss: 0.3288 - acc: 0.8846 - val_loss: 0.7891 - val_acc: 0.6433\n",
      "Epoch 36/50\n",
      "976/979 [============================>.] - ETA: 0s - loss: 0.3247 - acc: 0.9027Epoch 00035: val_acc did not improve\n",
      "979/979 [==============================] - 19s - loss: 0.3244 - acc: 0.9030 - val_loss: 0.7793 - val_acc: 0.6667\n",
      "Epoch 37/50\n",
      "976/979 [============================>.] - ETA: 0s - loss: 0.2989 - acc: 0.9180Epoch 00036: val_acc did not improve\n",
      "979/979 [==============================] - 19s - loss: 0.2981 - acc: 0.9183 - val_loss: 0.7769 - val_acc: 0.6491\n",
      "Epoch 38/50\n",
      "976/979 [============================>.] - ETA: 0s - loss: 0.3086 - acc: 0.9047Epoch 00037: val_acc did not improve\n",
      "979/979 [==============================] - 19s - loss: 0.3082 - acc: 0.9050 - val_loss: 0.7974 - val_acc: 0.6433\n",
      "Epoch 39/50\n",
      "976/979 [============================>.] - ETA: 0s - loss: 0.2860 - acc: 0.9098Epoch 00038: val_acc did not improve\n",
      "979/979 [==============================] - 19s - loss: 0.2860 - acc: 0.9101 - val_loss: 0.7720 - val_acc: 0.6374\n",
      "Epoch 40/50\n",
      "976/979 [============================>.] - ETA: 0s - loss: 0.2702 - acc: 0.9273Epoch 00039: val_acc did not improve\n",
      "979/979 [==============================] - 19s - loss: 0.2701 - acc: 0.9275 - val_loss: 0.7820 - val_acc: 0.6433\n",
      "Epoch 41/50\n",
      "976/979 [============================>.] - ETA: 0s - loss: 0.2733 - acc: 0.9273Epoch 00040: val_acc did not improve\n",
      "979/979 [==============================] - 19s - loss: 0.2755 - acc: 0.9254 - val_loss: 0.7756 - val_acc: 0.6667\n",
      "Epoch 42/50\n",
      "976/979 [============================>.] - ETA: 0s - loss: 0.2717 - acc: 0.9283Epoch 00041: val_acc did not improve\n",
      "979/979 [==============================] - 19s - loss: 0.2724 - acc: 0.9285 - val_loss: 0.7872 - val_acc: 0.6374\n",
      "Epoch 43/50\n",
      "976/979 [============================>.] - ETA: 0s - loss: 0.2577 - acc: 0.9406Epoch 00042: val_acc did not improve\n",
      "979/979 [==============================] - 19s - loss: 0.2573 - acc: 0.9408 - val_loss: 0.8153 - val_acc: 0.6082\n",
      "Epoch 44/50\n",
      "976/979 [============================>.] - ETA: 0s - loss: 0.2484 - acc: 0.9385Epoch 00043: val_acc did not improve\n",
      "979/979 [==============================] - 19s - loss: 0.2480 - acc: 0.9387 - val_loss: 0.8034 - val_acc: 0.6316\n",
      "Epoch 45/50\n",
      "976/979 [============================>.] - ETA: 0s - loss: 0.2348 - acc: 0.9488Epoch 00044: val_acc did not improve\n",
      "979/979 [==============================] - 19s - loss: 0.2353 - acc: 0.9479 - val_loss: 0.7912 - val_acc: 0.6491\n",
      "Epoch 46/50\n",
      "976/979 [============================>.] - ETA: 0s - loss: 0.2366 - acc: 0.9365Epoch 00045: val_acc did not improve\n",
      "979/979 [==============================] - 19s - loss: 0.2362 - acc: 0.9367 - val_loss: 0.8021 - val_acc: 0.6374\n",
      "Epoch 47/50\n",
      "976/979 [============================>.] - ETA: 0s - loss: 0.2209 - acc: 0.9488Epoch 00046: val_acc did not improve\n",
      "979/979 [==============================] - 19s - loss: 0.2209 - acc: 0.9489 - val_loss: 0.8192 - val_acc: 0.6374\n",
      "Epoch 48/50\n",
      "976/979 [============================>.] - ETA: 0s - loss: 0.2151 - acc: 0.9498Epoch 00047: val_acc did not improve\n",
      "979/979 [==============================] - 19s - loss: 0.2157 - acc: 0.9499 - val_loss: 0.8256 - val_acc: 0.6433\n",
      "Epoch 49/50\n",
      "976/979 [============================>.] - ETA: 0s - loss: 0.2119 - acc: 0.9549Epoch 00048: val_acc did not improve\n",
      "979/979 [==============================] - 19s - loss: 0.2117 - acc: 0.9551 - val_loss: 0.8192 - val_acc: 0.6257\n",
      "Epoch 50/50\n",
      "976/979 [============================>.] - ETA: 0s - loss: 0.2081 - acc: 0.9477Epoch 00049: val_acc did not improve\n",
      "979/979 [==============================] - 19s - loss: 0.2088 - acc: 0.9469 - val_loss: 0.8356 - val_acc: 0.6257\n"
     ]
    }
   ],
   "source": [
    "d3_model5, d3_hist5 = train_categorical_model() # double dense and dropout layers with regularization"
   ]
  },
  {
   "cell_type": "code",
   "execution_count": 18,
   "metadata": {
    "scrolled": true
   },
   "outputs": [
    {
     "name": "stdout",
     "output_type": "stream",
     "text": [
      "Train on 979 samples, validate on 171 samples\n",
      "Epoch 1/50\n",
      "976/979 [============================>.] - ETA: 0s - loss: 1.1683 - acc: 0.3986Epoch 00000: val_acc improved from -inf to 0.53216, saving model to data3_1/top_model_weights.h5\n",
      "979/979 [==============================] - 14s - loss: 1.1689 - acc: 0.3994 - val_loss: 0.9730 - val_acc: 0.5322\n",
      "Epoch 2/50\n",
      "976/979 [============================>.] - ETA: 0s - loss: 0.9765 - acc: 0.5164Epoch 00001: val_acc did not improve\n",
      "979/979 [==============================] - 14s - loss: 0.9784 - acc: 0.5158 - val_loss: 1.0687 - val_acc: 0.4327\n",
      "Epoch 3/50\n",
      "976/979 [============================>.] - ETA: 0s - loss: 0.9112 - acc: 0.5605Epoch 00002: val_acc improved from 0.53216 to 0.56725, saving model to data3_1/top_model_weights.h5\n",
      "979/979 [==============================] - 14s - loss: 0.9102 - acc: 0.5618 - val_loss: 0.8829 - val_acc: 0.5673\n",
      "Epoch 4/50\n",
      "976/979 [============================>.] - ETA: 0s - loss: 0.8306 - acc: 0.6127Epoch 00003: val_acc improved from 0.56725 to 0.66082, saving model to data3_1/top_model_weights.h5\n",
      "979/979 [==============================] - 14s - loss: 0.8325 - acc: 0.6108 - val_loss: 0.8310 - val_acc: 0.6608\n",
      "Epoch 5/50\n",
      "976/979 [============================>.] - ETA: 0s - loss: 0.8144 - acc: 0.6270Epoch 00004: val_acc did not improve\n",
      "979/979 [==============================] - 14s - loss: 0.8160 - acc: 0.6261 - val_loss: 0.8580 - val_acc: 0.5789\n",
      "Epoch 6/50\n",
      "976/979 [============================>.] - ETA: 0s - loss: 0.7851 - acc: 0.6434Epoch 00005: val_acc did not improve\n",
      "979/979 [==============================] - 14s - loss: 0.7858 - acc: 0.6435 - val_loss: 0.8565 - val_acc: 0.6257\n",
      "Epoch 7/50\n",
      "976/979 [============================>.] - ETA: 0s - loss: 0.7600 - acc: 0.6670Epoch 00006: val_acc improved from 0.66082 to 0.69591, saving model to data3_1/top_model_weights.h5\n",
      "979/979 [==============================] - 14s - loss: 0.7599 - acc: 0.6670 - val_loss: 0.7817 - val_acc: 0.6959\n",
      "Epoch 8/50\n",
      "976/979 [============================>.] - ETA: 0s - loss: 0.7034 - acc: 0.7049Epoch 00007: val_acc did not improve\n",
      "979/979 [==============================] - 14s - loss: 0.7047 - acc: 0.7028 - val_loss: 0.7648 - val_acc: 0.6725\n",
      "Epoch 9/50\n",
      "976/979 [============================>.] - ETA: 0s - loss: 0.6863 - acc: 0.7049Epoch 00008: val_acc did not improve\n",
      "979/979 [==============================] - 14s - loss: 0.6845 - acc: 0.7058 - val_loss: 0.7678 - val_acc: 0.6257\n",
      "Epoch 10/50\n",
      "976/979 [============================>.] - ETA: 0s - loss: 0.6580 - acc: 0.7111Epoch 00009: val_acc did not improve\n",
      "979/979 [==============================] - 14s - loss: 0.6592 - acc: 0.7109 - val_loss: 0.7819 - val_acc: 0.6257\n",
      "Epoch 11/50\n",
      "976/979 [============================>.] - ETA: 0s - loss: 0.6617 - acc: 0.7193Epoch 00010: val_acc did not improve\n",
      "979/979 [==============================] - 14s - loss: 0.6611 - acc: 0.7201 - val_loss: 0.7778 - val_acc: 0.5965\n",
      "Epoch 12/50\n",
      "976/979 [============================>.] - ETA: 0s - loss: 0.6285 - acc: 0.7387Epoch 00011: val_acc did not improve\n",
      "979/979 [==============================] - 16s - loss: 0.6279 - acc: 0.7395 - val_loss: 0.7531 - val_acc: 0.6608\n",
      "Epoch 13/50\n",
      "976/979 [============================>.] - ETA: 0s - loss: 0.6103 - acc: 0.7367Epoch 00012: val_acc did not improve\n",
      "979/979 [==============================] - 18s - loss: 0.6100 - acc: 0.7375 - val_loss: 0.7471 - val_acc: 0.6374\n",
      "Epoch 14/50\n",
      "976/979 [============================>.] - ETA: 0s - loss: 0.5964 - acc: 0.7439Epoch 00013: val_acc did not improve\n",
      "979/979 [==============================] - 19s - loss: 0.5968 - acc: 0.7426 - val_loss: 0.7526 - val_acc: 0.6667\n",
      "Epoch 15/50\n",
      "976/979 [============================>.] - ETA: 0s - loss: 0.5674 - acc: 0.7623Epoch 00014: val_acc did not improve\n",
      "979/979 [==============================] - 20s - loss: 0.5674 - acc: 0.7620 - val_loss: 0.7639 - val_acc: 0.6433\n",
      "Epoch 16/50\n",
      "976/979 [============================>.] - ETA: 0s - loss: 0.5638 - acc: 0.7664Epoch 00015: val_acc did not improve\n",
      "979/979 [==============================] - 20s - loss: 0.5654 - acc: 0.7651 - val_loss: 0.7529 - val_acc: 0.6491\n",
      "Epoch 17/50\n",
      "976/979 [============================>.] - ETA: 0s - loss: 0.5442 - acc: 0.7900Epoch 00016: val_acc did not improve\n",
      "979/979 [==============================] - 20s - loss: 0.5447 - acc: 0.7896 - val_loss: 0.7458 - val_acc: 0.6433\n",
      "Epoch 18/50\n",
      "976/979 [============================>.] - ETA: 0s - loss: 0.5162 - acc: 0.8156Epoch 00017: val_acc did not improve\n",
      "979/979 [==============================] - 20s - loss: 0.5161 - acc: 0.8151 - val_loss: 0.7401 - val_acc: 0.6550\n",
      "Epoch 19/50\n",
      "976/979 [============================>.] - ETA: 0s - loss: 0.5191 - acc: 0.7725Epoch 00018: val_acc did not improve\n",
      "979/979 [==============================] - 20s - loss: 0.5194 - acc: 0.7722 - val_loss: 0.7296 - val_acc: 0.6257\n",
      "Epoch 20/50\n",
      "976/979 [============================>.] - ETA: 0s - loss: 0.4875 - acc: 0.8279Epoch 00019: val_acc did not improve\n",
      "979/979 [==============================] - 20s - loss: 0.4871 - acc: 0.8284 - val_loss: 0.7558 - val_acc: 0.6550\n",
      "Epoch 21/50\n",
      "976/979 [============================>.] - ETA: 0s - loss: 0.4655 - acc: 0.8289Epoch 00020: val_acc did not improve\n",
      "979/979 [==============================] - 20s - loss: 0.4654 - acc: 0.8284 - val_loss: 0.7505 - val_acc: 0.6491\n",
      "Epoch 22/50\n",
      "976/979 [============================>.] - ETA: 0s - loss: 0.4770 - acc: 0.8289Epoch 00021: val_acc did not improve\n",
      "979/979 [==============================] - 20s - loss: 0.4771 - acc: 0.8294 - val_loss: 0.7538 - val_acc: 0.6725\n",
      "Epoch 23/50\n",
      "976/979 [============================>.] - ETA: 0s - loss: 0.4387 - acc: 0.8473Epoch 00022: val_acc did not improve\n",
      "979/979 [==============================] - 20s - loss: 0.4394 - acc: 0.8468 - val_loss: 0.7593 - val_acc: 0.6433\n",
      "Epoch 24/50\n",
      "976/979 [============================>.] - ETA: 0s - loss: 0.4310 - acc: 0.8484Epoch 00023: val_acc did not improve\n",
      "979/979 [==============================] - 20s - loss: 0.4336 - acc: 0.8478 - val_loss: 0.7741 - val_acc: 0.6433\n",
      "Epoch 25/50\n",
      "976/979 [============================>.] - ETA: 0s - loss: 0.4181 - acc: 0.8422Epoch 00024: val_acc did not improve\n",
      "979/979 [==============================] - 21s - loss: 0.4184 - acc: 0.8417 - val_loss: 0.7712 - val_acc: 0.6316\n",
      "Epoch 26/50\n",
      "976/979 [============================>.] - ETA: 0s - loss: 0.4315 - acc: 0.8299Epoch 00025: val_acc did not improve\n",
      "979/979 [==============================] - 22s - loss: 0.4306 - acc: 0.8304 - val_loss: 0.7433 - val_acc: 0.6257\n",
      "Epoch 27/50\n",
      "976/979 [============================>.] - ETA: 0s - loss: 0.3995 - acc: 0.8555Epoch 00026: val_acc did not improve\n",
      "979/979 [==============================] - 20s - loss: 0.4002 - acc: 0.8550 - val_loss: 0.7480 - val_acc: 0.6257\n",
      "Epoch 28/50\n",
      "976/979 [============================>.] - ETA: 0s - loss: 0.4073 - acc: 0.8535Epoch 00027: val_acc did not improve\n",
      "979/979 [==============================] - 20s - loss: 0.4071 - acc: 0.8529 - val_loss: 0.7515 - val_acc: 0.6433\n",
      "Epoch 29/50\n",
      "976/979 [============================>.] - ETA: 0s - loss: 0.3625 - acc: 0.8945Epoch 00028: val_acc did not improve\n",
      "979/979 [==============================] - 20s - loss: 0.3622 - acc: 0.8948 - val_loss: 0.7952 - val_acc: 0.6374\n",
      "Epoch 30/50\n",
      "976/979 [============================>.] - ETA: 0s - loss: 0.3653 - acc: 0.8740Epoch 00029: val_acc did not improve\n",
      "979/979 [==============================] - 20s - loss: 0.3658 - acc: 0.8733 - val_loss: 0.7620 - val_acc: 0.6550\n",
      "Epoch 31/50\n",
      "976/979 [============================>.] - ETA: 0s - loss: 0.3534 - acc: 0.8852Epoch 00030: val_acc did not improve\n",
      "979/979 [==============================] - 20s - loss: 0.3529 - acc: 0.8856 - val_loss: 0.7935 - val_acc: 0.6374\n",
      "Epoch 32/50\n",
      "976/979 [============================>.] - ETA: 0s - loss: 0.3452 - acc: 0.8883Epoch 00031: val_acc did not improve\n",
      "979/979 [==============================] - 20s - loss: 0.3445 - acc: 0.8887 - val_loss: 0.7879 - val_acc: 0.6433\n",
      "Epoch 33/50\n",
      "976/979 [============================>.] - ETA: 0s - loss: 0.3412 - acc: 0.8904Epoch 00032: val_acc did not improve\n"
     ]
    },
    {
     "name": "stdout",
     "output_type": "stream",
     "text": [
      "979/979 [==============================] - 20s - loss: 0.3410 - acc: 0.8907 - val_loss: 0.7737 - val_acc: 0.6491\n",
      "Epoch 34/50\n",
      "976/979 [============================>.] - ETA: 0s - loss: 0.3190 - acc: 0.8924Epoch 00033: val_acc did not improve\n",
      "979/979 [==============================] - 20s - loss: 0.3198 - acc: 0.8917 - val_loss: 0.7709 - val_acc: 0.6374\n",
      "Epoch 35/50\n",
      "976/979 [============================>.] - ETA: 0s - loss: 0.3124 - acc: 0.9006Epoch 00034: val_acc did not improve\n",
      "979/979 [==============================] - 20s - loss: 0.3128 - acc: 0.8999 - val_loss: 0.7764 - val_acc: 0.6199\n",
      "Epoch 36/50\n",
      "976/979 [============================>.] - ETA: 0s - loss: 0.3125 - acc: 0.9109Epoch 00035: val_acc did not improve\n",
      "979/979 [==============================] - 20s - loss: 0.3130 - acc: 0.9101 - val_loss: 0.7637 - val_acc: 0.6491\n",
      "Epoch 37/50\n",
      "976/979 [============================>.] - ETA: 0s - loss: 0.2651 - acc: 0.9344Epoch 00036: val_acc did not improve\n",
      "979/979 [==============================] - 20s - loss: 0.2644 - acc: 0.9346 - val_loss: 0.7751 - val_acc: 0.6316\n",
      "Epoch 38/50\n",
      "976/979 [============================>.] - ETA: 0s - loss: 0.2728 - acc: 0.9221Epoch 00037: val_acc did not improve\n",
      "979/979 [==============================] - 20s - loss: 0.2727 - acc: 0.9224 - val_loss: 0.7917 - val_acc: 0.6257\n",
      "Epoch 39/50\n",
      "976/979 [============================>.] - ETA: 0s - loss: 0.2878 - acc: 0.9201Epoch 00038: val_acc did not improve\n",
      "979/979 [==============================] - 20s - loss: 0.2893 - acc: 0.9193 - val_loss: 0.7909 - val_acc: 0.6433\n",
      "Epoch 40/50\n",
      "976/979 [============================>.] - ETA: 0s - loss: 0.2774 - acc: 0.9242Epoch 00039: val_acc did not improve\n",
      "979/979 [==============================] - 20s - loss: 0.2769 - acc: 0.9244 - val_loss: 0.8141 - val_acc: 0.6433\n",
      "Epoch 41/50\n",
      "976/979 [============================>.] - ETA: 0s - loss: 0.2527 - acc: 0.9314Epoch 00040: val_acc did not improve\n",
      "979/979 [==============================] - 20s - loss: 0.2533 - acc: 0.9305 - val_loss: 0.7881 - val_acc: 0.6257\n",
      "Epoch 42/50\n",
      "976/979 [============================>.] - ETA: 0s - loss: 0.2674 - acc: 0.9242Epoch 00041: val_acc did not improve\n",
      "979/979 [==============================] - 20s - loss: 0.2679 - acc: 0.9244 - val_loss: 0.8291 - val_acc: 0.6491\n",
      "Epoch 43/50\n",
      "976/979 [============================>.] - ETA: 0s - loss: 0.2401 - acc: 0.9385Epoch 00042: val_acc did not improve\n",
      "979/979 [==============================] - 20s - loss: 0.2396 - acc: 0.9387 - val_loss: 0.8069 - val_acc: 0.6550\n",
      "Epoch 44/50\n",
      "976/979 [============================>.] - ETA: 0s - loss: 0.2205 - acc: 0.9395Epoch 00043: val_acc did not improve\n",
      "979/979 [==============================] - 20s - loss: 0.2216 - acc: 0.9387 - val_loss: 0.8090 - val_acc: 0.6199\n",
      "Epoch 45/50\n",
      "976/979 [============================>.] - ETA: 0s - loss: 0.2281 - acc: 0.9498Epoch 00044: val_acc did not improve\n",
      "979/979 [==============================] - 21s - loss: 0.2290 - acc: 0.9499 - val_loss: 0.8091 - val_acc: 0.6316\n",
      "Epoch 46/50\n",
      "976/979 [============================>.] - ETA: 0s - loss: 0.2250 - acc: 0.9518Epoch 00045: val_acc did not improve\n",
      "979/979 [==============================] - 20s - loss: 0.2271 - acc: 0.9510 - val_loss: 0.8240 - val_acc: 0.6199\n",
      "Epoch 47/50\n",
      "976/979 [============================>.] - ETA: 0s - loss: 0.2102 - acc: 0.9508Epoch 00046: val_acc did not improve\n",
      "979/979 [==============================] - 21s - loss: 0.2110 - acc: 0.9510 - val_loss: 0.8071 - val_acc: 0.6316\n",
      "Epoch 48/50\n",
      "976/979 [============================>.] - ETA: 0s - loss: 0.2016 - acc: 0.9611Epoch 00047: val_acc did not improve\n",
      "979/979 [==============================] - 20s - loss: 0.2013 - acc: 0.9612 - val_loss: 0.8537 - val_acc: 0.6082\n",
      "Epoch 49/50\n",
      "976/979 [============================>.] - ETA: 0s - loss: 0.1954 - acc: 0.9549Epoch 00048: val_acc did not improve\n",
      "979/979 [==============================] - 20s - loss: 0.1949 - acc: 0.9551 - val_loss: 0.8099 - val_acc: 0.6257\n",
      "Epoch 50/50\n",
      "976/979 [============================>.] - ETA: 0s - loss: 0.1892 - acc: 0.9631Epoch 00049: val_acc did not improve\n",
      "979/979 [==============================] - 20s - loss: 0.1897 - acc: 0.9632 - val_loss: 0.8225 - val_acc: 0.6433\n"
     ]
    }
   ],
   "source": [
    "d3_model6, d3_hist6 = train_categorical_model() # double dense with aggressive dropout"
   ]
  },
  {
   "cell_type": "code",
   "execution_count": 19,
   "metadata": {
    "scrolled": true
   },
   "outputs": [
    {
     "name": "stdout",
     "output_type": "stream",
     "text": [
      "Train on 979 samples, validate on 171 samples\n",
      "Epoch 1/50\n",
      "976/979 [============================>.] - ETA: 0s - loss: 1.1892 - acc: 0.4129Epoch 00000: val_acc improved from -inf to 0.49123, saving model to data3_1/top_model_weights.h5\n",
      "979/979 [==============================] - 14s - loss: 1.1909 - acc: 0.4116 - val_loss: 1.0195 - val_acc: 0.4912\n",
      "Epoch 2/50\n",
      "976/979 [============================>.] - ETA: 0s - loss: 0.9870 - acc: 0.5195Epoch 00001: val_acc improved from 0.49123 to 0.54386, saving model to data3_1/top_model_weights.h5\n",
      "979/979 [==============================] - 14s - loss: 0.9866 - acc: 0.5189 - val_loss: 0.9553 - val_acc: 0.5439\n",
      "Epoch 3/50\n",
      "976/979 [============================>.] - ETA: 0s - loss: 0.9384 - acc: 0.5564Epoch 00002: val_acc did not improve\n",
      "979/979 [==============================] - 14s - loss: 0.9377 - acc: 0.5567 - val_loss: 0.9723 - val_acc: 0.5380\n",
      "Epoch 4/50\n",
      "976/979 [============================>.] - ETA: 0s - loss: 0.8686 - acc: 0.5922Epoch 00003: val_acc improved from 0.54386 to 0.54971, saving model to data3_1/top_model_weights.h5\n",
      "979/979 [==============================] - 14s - loss: 0.8689 - acc: 0.5914 - val_loss: 0.9265 - val_acc: 0.5497\n",
      "Epoch 5/50\n",
      "976/979 [============================>.] - ETA: 0s - loss: 0.8436 - acc: 0.6209Epoch 00004: val_acc improved from 0.54971 to 0.57310, saving model to data3_1/top_model_weights.h5\n",
      "979/979 [==============================] - 14s - loss: 0.8428 - acc: 0.6221 - val_loss: 0.8638 - val_acc: 0.5731\n",
      "Epoch 6/50\n",
      "976/979 [============================>.] - ETA: 0s - loss: 0.7876 - acc: 0.6445Epoch 00005: val_acc improved from 0.57310 to 0.65497, saving model to data3_1/top_model_weights.h5\n",
      "979/979 [==============================] - 14s - loss: 0.7896 - acc: 0.6435 - val_loss: 0.8494 - val_acc: 0.6550\n",
      "Epoch 7/50\n",
      "976/979 [============================>.] - ETA: 0s - loss: 0.7955 - acc: 0.6301Epoch 00006: val_acc did not improve\n",
      "979/979 [==============================] - 14s - loss: 0.7959 - acc: 0.6302 - val_loss: 0.9125 - val_acc: 0.5673\n",
      "Epoch 8/50\n",
      "976/979 [============================>.] - ETA: 0s - loss: 0.7609 - acc: 0.6629Epoch 00007: val_acc did not improve\n",
      "979/979 [==============================] - 14s - loss: 0.7598 - acc: 0.6629 - val_loss: 0.8042 - val_acc: 0.5789\n",
      "Epoch 9/50\n",
      "976/979 [============================>.] - ETA: 0s - loss: 0.7221 - acc: 0.6906Epoch 00008: val_acc did not improve\n",
      "979/979 [==============================] - 14s - loss: 0.7228 - acc: 0.6905 - val_loss: 0.7920 - val_acc: 0.6140\n",
      "Epoch 10/50\n",
      "976/979 [============================>.] - ETA: 0s - loss: 0.6997 - acc: 0.6844Epoch 00009: val_acc did not improve\n",
      "979/979 [==============================] - 14s - loss: 0.7002 - acc: 0.6834 - val_loss: 0.8253 - val_acc: 0.6023\n",
      "Epoch 11/50\n",
      "976/979 [============================>.] - ETA: 0s - loss: 0.6891 - acc: 0.7090Epoch 00010: val_acc did not improve\n",
      "979/979 [==============================] - 14s - loss: 0.6893 - acc: 0.7099 - val_loss: 0.9027 - val_acc: 0.5497\n",
      "Epoch 12/50\n",
      "976/979 [============================>.] - ETA: 0s - loss: 0.6491 - acc: 0.7285Epoch 00011: val_acc did not improve\n",
      "979/979 [==============================] - 16s - loss: 0.6488 - acc: 0.7283 - val_loss: 0.7963 - val_acc: 0.6257\n",
      "Epoch 13/50\n",
      "976/979 [============================>.] - ETA: 0s - loss: 0.6465 - acc: 0.7377Epoch 00012: val_acc did not improve\n",
      "979/979 [==============================] - 19s - loss: 0.6453 - acc: 0.7385 - val_loss: 0.7736 - val_acc: 0.6491\n",
      "Epoch 14/50\n",
      "976/979 [============================>.] - ETA: 0s - loss: 0.6008 - acc: 0.7500Epoch 00013: val_acc improved from 0.65497 to 0.65497, saving model to data3_1/top_model_weights.h5\n",
      "979/979 [==============================] - 20s - loss: 0.6006 - acc: 0.7508 - val_loss: 0.7764 - val_acc: 0.6550\n",
      "Epoch 15/50\n",
      "976/979 [============================>.] - ETA: 0s - loss: 0.5873 - acc: 0.7377Epoch 00014: val_acc did not improve\n",
      "979/979 [==============================] - 20s - loss: 0.5876 - acc: 0.7375 - val_loss: 0.7704 - val_acc: 0.6316\n",
      "Epoch 16/50\n",
      "976/979 [============================>.] - ETA: 0s - loss: 0.5680 - acc: 0.7602Epoch 00015: val_acc did not improve\n",
      "979/979 [==============================] - 20s - loss: 0.5694 - acc: 0.7589 - val_loss: 0.8165 - val_acc: 0.6199\n",
      "Epoch 17/50\n",
      "976/979 [============================>.] - ETA: 0s - loss: 0.5535 - acc: 0.7797Epoch 00016: val_acc did not improve\n",
      "979/979 [==============================] - 20s - loss: 0.5537 - acc: 0.7804 - val_loss: 0.7811 - val_acc: 0.6316\n",
      "Epoch 18/50\n",
      "976/979 [============================>.] - ETA: 0s - loss: 0.5622 - acc: 0.7541Epoch 00017: val_acc did not improve\n",
      "979/979 [==============================] - 21s - loss: 0.5613 - acc: 0.7549 - val_loss: 0.8712 - val_acc: 0.5906\n",
      "Epoch 19/50\n",
      "976/979 [============================>.] - ETA: 0s - loss: 0.5272 - acc: 0.7879Epoch 00018: val_acc did not improve\n",
      "979/979 [==============================] - 21s - loss: 0.5276 - acc: 0.7875 - val_loss: 0.7770 - val_acc: 0.6491\n",
      "Epoch 20/50\n",
      "976/979 [============================>.] - ETA: 0s - loss: 0.4954 - acc: 0.8156Epoch 00019: val_acc did not improve\n",
      "979/979 [==============================] - 21s - loss: 0.4950 - acc: 0.8161 - val_loss: 0.7835 - val_acc: 0.6433\n",
      "Epoch 21/50\n",
      "976/979 [============================>.] - ETA: 0s - loss: 0.4668 - acc: 0.8289Epoch 00020: val_acc did not improve\n",
      "979/979 [==============================] - 21s - loss: 0.4664 - acc: 0.8294 - val_loss: 0.8455 - val_acc: 0.6257\n",
      "Epoch 22/50\n",
      "976/979 [============================>.] - ETA: 0s - loss: 0.4643 - acc: 0.8176Epoch 00021: val_acc did not improve\n",
      "979/979 [==============================] - 21s - loss: 0.4638 - acc: 0.8182 - val_loss: 0.7769 - val_acc: 0.6140\n",
      "Epoch 23/50\n",
      "976/979 [============================>.] - ETA: 0s - loss: 0.4498 - acc: 0.8299Epoch 00022: val_acc did not improve\n",
      "979/979 [==============================] - 21s - loss: 0.4501 - acc: 0.8294 - val_loss: 0.7789 - val_acc: 0.6199\n",
      "Epoch 24/50\n",
      "976/979 [============================>.] - ETA: 0s - loss: 0.4371 - acc: 0.8309Epoch 00023: val_acc improved from 0.65497 to 0.66082, saving model to data3_1/top_model_weights.h5\n",
      "979/979 [==============================] - 21s - loss: 0.4367 - acc: 0.8315 - val_loss: 0.7669 - val_acc: 0.6608\n",
      "Epoch 25/50\n",
      "976/979 [============================>.] - ETA: 0s - loss: 0.4383 - acc: 0.8258Epoch 00024: val_acc did not improve\n",
      "979/979 [==============================] - 21s - loss: 0.4413 - acc: 0.8253 - val_loss: 0.7970 - val_acc: 0.6316\n",
      "Epoch 26/50\n",
      "976/979 [============================>.] - ETA: 0s - loss: 0.4328 - acc: 0.8391Epoch 00025: val_acc did not improve\n",
      "979/979 [==============================] - 21s - loss: 0.4328 - acc: 0.8396 - val_loss: 0.7768 - val_acc: 0.6257\n",
      "Epoch 27/50\n",
      "976/979 [============================>.] - ETA: 0s - loss: 0.4055 - acc: 0.8494Epoch 00026: val_acc did not improve\n",
      "979/979 [==============================] - 21s - loss: 0.4054 - acc: 0.8498 - val_loss: 0.7823 - val_acc: 0.6199\n",
      "Epoch 28/50\n",
      "976/979 [============================>.] - ETA: 0s - loss: 0.3814 - acc: 0.8689Epoch 00027: val_acc did not improve\n",
      "979/979 [==============================] - 21s - loss: 0.3804 - acc: 0.8693 - val_loss: 0.8069 - val_acc: 0.6257\n",
      "Epoch 29/50\n",
      "976/979 [============================>.] - ETA: 0s - loss: 0.3635 - acc: 0.8709Epoch 00028: val_acc did not improve\n",
      "979/979 [==============================] - 21s - loss: 0.3629 - acc: 0.8713 - val_loss: 0.7850 - val_acc: 0.6199\n",
      "Epoch 30/50\n",
      "976/979 [============================>.] - ETA: 0s - loss: 0.3783 - acc: 0.8648Epoch 00029: val_acc did not improve\n",
      "979/979 [==============================] - 21s - loss: 0.3792 - acc: 0.8641 - val_loss: 0.8699 - val_acc: 0.6316\n",
      "Epoch 31/50\n",
      "976/979 [============================>.] - ETA: 0s - loss: 0.3565 - acc: 0.8945Epoch 00030: val_acc did not improve\n",
      "979/979 [==============================] - 21s - loss: 0.3575 - acc: 0.8938 - val_loss: 0.8082 - val_acc: 0.6550\n",
      "Epoch 32/50\n",
      "976/979 [============================>.] - ETA: 0s - loss: 0.3449 - acc: 0.8852Epoch 00031: val_acc did not improve\n",
      "979/979 [==============================] - 21s - loss: 0.3440 - acc: 0.8856 - val_loss: 0.8016 - val_acc: 0.6374\n",
      "Epoch 33/50\n"
     ]
    },
    {
     "name": "stdout",
     "output_type": "stream",
     "text": [
      "976/979 [============================>.] - ETA: 0s - loss: 0.3295 - acc: 0.8975Epoch 00032: val_acc did not improve\n",
      "979/979 [==============================] - 21s - loss: 0.3297 - acc: 0.8979 - val_loss: 0.8099 - val_acc: 0.6140\n",
      "Epoch 34/50\n",
      "976/979 [============================>.] - ETA: 0s - loss: 0.3277 - acc: 0.8986Epoch 00033: val_acc did not improve\n",
      "979/979 [==============================] - 21s - loss: 0.3272 - acc: 0.8989 - val_loss: 0.8162 - val_acc: 0.6082\n",
      "Epoch 35/50\n",
      "976/979 [============================>.] - ETA: 0s - loss: 0.3179 - acc: 0.9047Epoch 00034: val_acc did not improve\n",
      "979/979 [==============================] - 21s - loss: 0.3175 - acc: 0.9050 - val_loss: 0.8363 - val_acc: 0.6257\n",
      "Epoch 36/50\n",
      "976/979 [============================>.] - ETA: 0s - loss: 0.2842 - acc: 0.9191Epoch 00035: val_acc did not improve\n",
      "979/979 [==============================] - 21s - loss: 0.2840 - acc: 0.9193 - val_loss: 0.8276 - val_acc: 0.6199\n",
      "Epoch 37/50\n",
      "976/979 [============================>.] - ETA: 0s - loss: 0.2787 - acc: 0.9262Epoch 00036: val_acc did not improve\n",
      "979/979 [==============================] - 21s - loss: 0.2789 - acc: 0.9265 - val_loss: 0.8089 - val_acc: 0.6140\n",
      "Epoch 38/50\n",
      "976/979 [============================>.] - ETA: 0s - loss: 0.2887 - acc: 0.9150Epoch 00037: val_acc did not improve\n",
      "979/979 [==============================] - 21s - loss: 0.2896 - acc: 0.9142 - val_loss: 0.8211 - val_acc: 0.6023\n",
      "Epoch 39/50\n",
      "976/979 [============================>.] - ETA: 0s - loss: 0.2656 - acc: 0.9232Epoch 00038: val_acc did not improve\n",
      "979/979 [==============================] - 21s - loss: 0.2656 - acc: 0.9234 - val_loss: 0.8166 - val_acc: 0.6140\n",
      "Epoch 40/50\n",
      "976/979 [============================>.] - ETA: 0s - loss: 0.2603 - acc: 0.9201Epoch 00039: val_acc did not improve\n",
      "979/979 [==============================] - 21s - loss: 0.2600 - acc: 0.9203 - val_loss: 0.8317 - val_acc: 0.6023\n",
      "Epoch 41/50\n",
      "976/979 [============================>.] - ETA: 0s - loss: 0.2638 - acc: 0.9262Epoch 00040: val_acc did not improve\n",
      "979/979 [==============================] - 21s - loss: 0.2650 - acc: 0.9254 - val_loss: 0.8539 - val_acc: 0.6257\n",
      "Epoch 42/50\n",
      "976/979 [============================>.] - ETA: 0s - loss: 0.2412 - acc: 0.9375Epoch 00041: val_acc did not improve\n",
      "979/979 [==============================] - 21s - loss: 0.2423 - acc: 0.9367 - val_loss: 0.8252 - val_acc: 0.6257\n",
      "Epoch 43/50\n",
      "976/979 [============================>.] - ETA: 0s - loss: 0.2399 - acc: 0.9385Epoch 00042: val_acc did not improve\n",
      "979/979 [==============================] - 21s - loss: 0.2404 - acc: 0.9387 - val_loss: 0.8271 - val_acc: 0.6199\n",
      "Epoch 44/50\n",
      "976/979 [============================>.] - ETA: 0s - loss: 0.2232 - acc: 0.9529Epoch 00043: val_acc did not improve\n",
      "979/979 [==============================] - 21s - loss: 0.2233 - acc: 0.9530 - val_loss: 0.8156 - val_acc: 0.6140\n",
      "Epoch 45/50\n",
      "976/979 [============================>.] - ETA: 0s - loss: 0.2191 - acc: 0.9559Epoch 00044: val_acc did not improve\n",
      "979/979 [==============================] - 21s - loss: 0.2192 - acc: 0.9561 - val_loss: 0.8382 - val_acc: 0.5965\n",
      "Epoch 46/50\n",
      "976/979 [============================>.] - ETA: 0s - loss: 0.2194 - acc: 0.9488Epoch 00045: val_acc did not improve\n",
      "979/979 [==============================] - 21s - loss: 0.2190 - acc: 0.9489 - val_loss: 0.8577 - val_acc: 0.6023\n",
      "Epoch 47/50\n",
      "976/979 [============================>.] - ETA: 0s - loss: 0.2020 - acc: 0.9600Epoch 00046: val_acc did not improve\n",
      "979/979 [==============================] - 21s - loss: 0.2024 - acc: 0.9591 - val_loss: 0.8516 - val_acc: 0.6433\n",
      "Epoch 48/50\n",
      "976/979 [============================>.] - ETA: 0s - loss: 0.2037 - acc: 0.9570Epoch 00047: val_acc did not improve\n",
      "979/979 [==============================] - 21s - loss: 0.2031 - acc: 0.9571 - val_loss: 0.8397 - val_acc: 0.6140\n",
      "Epoch 49/50\n",
      "976/979 [============================>.] - ETA: 0s - loss: 0.1884 - acc: 0.9662Epoch 00048: val_acc did not improve\n",
      "979/979 [==============================] - 21s - loss: 0.1885 - acc: 0.9663 - val_loss: 0.8375 - val_acc: 0.6199\n",
      "Epoch 50/50\n",
      "976/979 [============================>.] - ETA: 0s - loss: 0.1914 - acc: 0.9703Epoch 00049: val_acc did not improve\n",
      "979/979 [==============================] - 21s - loss: 0.1911 - acc: 0.9704 - val_loss: 0.8428 - val_acc: 0.6199\n"
     ]
    }
   ],
   "source": [
    "d3_model7, d3_hist7 = train_categorical_model() # l2 regularization and aggresive dropout"
   ]
  },
  {
   "cell_type": "code",
   "execution_count": 20,
   "metadata": {
    "scrolled": true
   },
   "outputs": [
    {
     "name": "stdout",
     "output_type": "stream",
     "text": [
      "Train on 979 samples, validate on 171 samples\n",
      "Epoch 1/50\n",
      "976/979 [============================>.] - ETA: 0s - loss: 1.1868 - acc: 0.4006Epoch 00000: val_acc improved from -inf to 0.54971, saving model to data3_1/top_model_weights.h5\n",
      "979/979 [==============================] - 14s - loss: 1.1850 - acc: 0.4014 - val_loss: 0.9811 - val_acc: 0.5497\n",
      "Epoch 2/50\n",
      "976/979 [============================>.] - ETA: 0s - loss: 0.9798 - acc: 0.5154Epoch 00001: val_acc improved from 0.54971 to 0.59064, saving model to data3_1/top_model_weights.h5\n",
      "979/979 [==============================] - 14s - loss: 0.9802 - acc: 0.5148 - val_loss: 0.9272 - val_acc: 0.5906\n",
      "Epoch 3/50\n",
      "976/979 [============================>.] - ETA: 0s - loss: 0.9069 - acc: 0.5625Epoch 00002: val_acc did not improve\n",
      "979/979 [==============================] - 14s - loss: 0.9065 - acc: 0.5628 - val_loss: 0.9093 - val_acc: 0.5497\n",
      "Epoch 4/50\n",
      "976/979 [============================>.] - ETA: 0s - loss: 0.8641 - acc: 0.6035Epoch 00003: val_acc did not improve\n",
      "979/979 [==============================] - 14s - loss: 0.8635 - acc: 0.6037 - val_loss: 0.8771 - val_acc: 0.5848\n",
      "Epoch 5/50\n",
      "976/979 [============================>.] - ETA: 0s - loss: 0.8141 - acc: 0.6301Epoch 00004: val_acc improved from 0.59064 to 0.60819, saving model to data3_1/top_model_weights.h5\n",
      "979/979 [==============================] - 14s - loss: 0.8127 - acc: 0.6313 - val_loss: 0.8486 - val_acc: 0.6082\n",
      "Epoch 6/50\n",
      "976/979 [============================>.] - ETA: 0s - loss: 0.7821 - acc: 0.6537Epoch 00005: val_acc did not improve\n",
      "979/979 [==============================] - 14s - loss: 0.7823 - acc: 0.6527 - val_loss: 0.8107 - val_acc: 0.6023\n",
      "Epoch 7/50\n",
      "976/979 [============================>.] - ETA: 0s - loss: 0.7405 - acc: 0.6814Epoch 00006: val_acc improved from 0.60819 to 0.62573, saving model to data3_1/top_model_weights.h5\n",
      "979/979 [==============================] - 14s - loss: 0.7395 - acc: 0.6823 - val_loss: 0.8052 - val_acc: 0.6257\n",
      "Epoch 8/50\n",
      "976/979 [============================>.] - ETA: 0s - loss: 0.7274 - acc: 0.6803Epoch 00007: val_acc improved from 0.62573 to 0.63158, saving model to data3_1/top_model_weights.h5\n",
      "979/979 [==============================] - 14s - loss: 0.7295 - acc: 0.6793 - val_loss: 0.8068 - val_acc: 0.6316\n",
      "Epoch 9/50\n",
      "976/979 [============================>.] - ETA: 0s - loss: 0.7171 - acc: 0.6803Epoch 00008: val_acc did not improve\n",
      "979/979 [==============================] - 14s - loss: 0.7160 - acc: 0.6813 - val_loss: 0.7674 - val_acc: 0.6199\n",
      "Epoch 10/50\n",
      "976/979 [============================>.] - ETA: 0s - loss: 0.6788 - acc: 0.7070Epoch 00009: val_acc improved from 0.63158 to 0.63743, saving model to data3_1/top_model_weights.h5\n",
      "979/979 [==============================] - 14s - loss: 0.6781 - acc: 0.7079 - val_loss: 0.7712 - val_acc: 0.6374\n",
      "Epoch 11/50\n",
      "976/979 [============================>.] - ETA: 0s - loss: 0.6461 - acc: 0.7336Epoch 00010: val_acc did not improve\n",
      "979/979 [==============================] - 14s - loss: 0.6456 - acc: 0.7344 - val_loss: 0.7711 - val_acc: 0.6082\n",
      "Epoch 12/50\n",
      "976/979 [============================>.] - ETA: 0s - loss: 0.6443 - acc: 0.7295Epoch 00011: val_acc improved from 0.63743 to 0.65497, saving model to data3_1/top_model_weights.h5\n",
      "979/979 [==============================] - 16s - loss: 0.6438 - acc: 0.7293 - val_loss: 0.8010 - val_acc: 0.6550\n",
      "Epoch 13/50\n",
      "976/979 [============================>.] - ETA: 0s - loss: 0.6465 - acc: 0.7316Epoch 00012: val_acc did not improve\n",
      "979/979 [==============================] - 18s - loss: 0.6473 - acc: 0.7303 - val_loss: 0.8151 - val_acc: 0.6199\n",
      "Epoch 14/50\n",
      "976/979 [============================>.] - ETA: 0s - loss: 0.5941 - acc: 0.7531Epoch 00013: val_acc did not improve\n",
      "979/979 [==============================] - 18s - loss: 0.5933 - acc: 0.7538 - val_loss: 0.7661 - val_acc: 0.6433\n",
      "Epoch 15/50\n",
      "976/979 [============================>.] - ETA: 0s - loss: 0.5733 - acc: 0.7756Epoch 00014: val_acc did not improve\n",
      "979/979 [==============================] - 19s - loss: 0.5717 - acc: 0.7763 - val_loss: 0.7666 - val_acc: 0.6257\n",
      "Epoch 16/50\n",
      "976/979 [============================>.] - ETA: 0s - loss: 0.5659 - acc: 0.7695Epoch 00015: val_acc did not improve\n",
      "979/979 [==============================] - 19s - loss: 0.5663 - acc: 0.7681 - val_loss: 0.7483 - val_acc: 0.6316\n",
      "Epoch 17/50\n",
      "976/979 [============================>.] - ETA: 0s - loss: 0.5419 - acc: 0.7797Epoch 00016: val_acc did not improve\n",
      "979/979 [==============================] - 19s - loss: 0.5422 - acc: 0.7794 - val_loss: 0.7589 - val_acc: 0.6374\n",
      "Epoch 18/50\n",
      "976/979 [============================>.] - ETA: 0s - loss: 0.5268 - acc: 0.7920Epoch 00017: val_acc did not improve\n",
      "979/979 [==============================] - 19s - loss: 0.5270 - acc: 0.7916 - val_loss: 0.7493 - val_acc: 0.6257\n",
      "Epoch 19/50\n",
      "976/979 [============================>.] - ETA: 0s - loss: 0.5239 - acc: 0.7869Epoch 00018: val_acc improved from 0.65497 to 0.66667, saving model to data3_1/top_model_weights.h5\n",
      "979/979 [==============================] - 19s - loss: 0.5233 - acc: 0.7875 - val_loss: 0.7687 - val_acc: 0.6667\n",
      "Epoch 20/50\n",
      "976/979 [============================>.] - ETA: 0s - loss: 0.4862 - acc: 0.8115Epoch 00019: val_acc did not improve\n",
      "979/979 [==============================] - 19s - loss: 0.4881 - acc: 0.8110 - val_loss: 0.7599 - val_acc: 0.6550\n",
      "Epoch 21/50\n",
      "976/979 [============================>.] - ETA: 0s - loss: 0.4853 - acc: 0.8166Epoch 00020: val_acc did not improve\n",
      "979/979 [==============================] - 20s - loss: 0.4844 - acc: 0.8172 - val_loss: 0.7505 - val_acc: 0.6374\n",
      "Epoch 22/50\n",
      "976/979 [============================>.] - ETA: 0s - loss: 0.4590 - acc: 0.8299Epoch 00021: val_acc improved from 0.66667 to 0.67251, saving model to data3_1/top_model_weights.h5\n",
      "979/979 [==============================] - 20s - loss: 0.4581 - acc: 0.8304 - val_loss: 0.7522 - val_acc: 0.6725\n",
      "Epoch 23/50\n",
      "976/979 [============================>.] - ETA: 0s - loss: 0.4366 - acc: 0.8473Epoch 00022: val_acc did not improve\n",
      "979/979 [==============================] - 20s - loss: 0.4357 - acc: 0.8478 - val_loss: 0.8103 - val_acc: 0.6316\n",
      "Epoch 24/50\n",
      "976/979 [============================>.] - ETA: 0s - loss: 0.4318 - acc: 0.8453Epoch 00023: val_acc did not improve\n",
      "979/979 [==============================] - 20s - loss: 0.4323 - acc: 0.8447 - val_loss: 0.7554 - val_acc: 0.6433\n",
      "Epoch 25/50\n",
      "976/979 [============================>.] - ETA: 0s - loss: 0.4359 - acc: 0.8340Epoch 00024: val_acc did not improve\n",
      "979/979 [==============================] - 20s - loss: 0.4356 - acc: 0.8345 - val_loss: 0.7491 - val_acc: 0.6199\n",
      "Epoch 26/50\n",
      "976/979 [============================>.] - ETA: 0s - loss: 0.3991 - acc: 0.8494Epoch 00025: val_acc did not improve\n",
      "979/979 [==============================] - 20s - loss: 0.3992 - acc: 0.8498 - val_loss: 0.7922 - val_acc: 0.6374\n",
      "Epoch 27/50\n",
      "976/979 [============================>.] - ETA: 0s - loss: 0.4053 - acc: 0.8607Epoch 00026: val_acc did not improve\n",
      "979/979 [==============================] - 20s - loss: 0.4055 - acc: 0.8601 - val_loss: 0.7725 - val_acc: 0.6199\n",
      "Epoch 28/50\n",
      "976/979 [============================>.] - ETA: 0s - loss: 0.3746 - acc: 0.8750Epoch 00027: val_acc did not improve\n",
      "979/979 [==============================] - 20s - loss: 0.3739 - acc: 0.8754 - val_loss: 0.7722 - val_acc: 0.6316\n",
      "Epoch 29/50\n",
      "976/979 [============================>.] - ETA: 0s - loss: 0.3614 - acc: 0.8883Epoch 00028: val_acc did not improve\n",
      "979/979 [==============================] - 20s - loss: 0.3608 - acc: 0.8887 - val_loss: 0.7666 - val_acc: 0.6082\n",
      "Epoch 30/50\n",
      "976/979 [============================>.] - ETA: 0s - loss: 0.3493 - acc: 0.8852Epoch 00029: val_acc did not improve\n",
      "979/979 [==============================] - 20s - loss: 0.3495 - acc: 0.8856 - val_loss: 0.7701 - val_acc: 0.6608\n",
      "Epoch 31/50\n",
      "976/979 [============================>.] - ETA: 0s - loss: 0.3328 - acc: 0.8955Epoch 00030: val_acc did not improve\n",
      "979/979 [==============================] - 20s - loss: 0.3320 - acc: 0.8958 - val_loss: 0.7766 - val_acc: 0.6199\n",
      "Epoch 32/50\n",
      "976/979 [============================>.] - ETA: 0s - loss: 0.3462 - acc: 0.8904Epoch 00031: val_acc did not improve\n"
     ]
    },
    {
     "name": "stdout",
     "output_type": "stream",
     "text": [
      "979/979 [==============================] - 20s - loss: 0.3483 - acc: 0.8876 - val_loss: 0.7760 - val_acc: 0.6257\n",
      "Epoch 33/50\n",
      "976/979 [============================>.] - ETA: 0s - loss: 0.3565 - acc: 0.8791Epoch 00032: val_acc did not improve\n",
      "979/979 [==============================] - 19s - loss: 0.3563 - acc: 0.8795 - val_loss: 0.8201 - val_acc: 0.6316\n",
      "Epoch 34/50\n",
      "976/979 [============================>.] - ETA: 0s - loss: 0.3106 - acc: 0.9057Epoch 00033: val_acc did not improve\n",
      "979/979 [==============================] - 20s - loss: 0.3106 - acc: 0.9060 - val_loss: 0.7895 - val_acc: 0.6550\n",
      "Epoch 35/50\n",
      "976/979 [============================>.] - ETA: 0s - loss: 0.3025 - acc: 0.9160Epoch 00034: val_acc did not improve\n",
      "979/979 [==============================] - 19s - loss: 0.3035 - acc: 0.9152 - val_loss: 0.7663 - val_acc: 0.6316\n",
      "Epoch 36/50\n",
      "976/979 [============================>.] - ETA: 0s - loss: 0.2974 - acc: 0.9098Epoch 00035: val_acc did not improve\n",
      "979/979 [==============================] - 20s - loss: 0.2976 - acc: 0.9101 - val_loss: 0.7764 - val_acc: 0.6199\n",
      "Epoch 37/50\n",
      "976/979 [============================>.] - ETA: 0s - loss: 0.2817 - acc: 0.9201Epoch 00036: val_acc did not improve\n",
      "979/979 [==============================] - 20s - loss: 0.2816 - acc: 0.9203 - val_loss: 0.8005 - val_acc: 0.6257\n",
      "Epoch 38/50\n",
      "976/979 [============================>.] - ETA: 0s - loss: 0.2823 - acc: 0.9139Epoch 00037: val_acc did not improve\n",
      "979/979 [==============================] - 20s - loss: 0.2823 - acc: 0.9142 - val_loss: 0.7835 - val_acc: 0.5906\n",
      "Epoch 39/50\n",
      "976/979 [============================>.] - ETA: 0s - loss: 0.2554 - acc: 0.9283Epoch 00038: val_acc did not improve\n",
      "979/979 [==============================] - 20s - loss: 0.2551 - acc: 0.9285 - val_loss: 0.8043 - val_acc: 0.6082\n",
      "Epoch 40/50\n",
      "976/979 [============================>.] - ETA: 0s - loss: 0.2563 - acc: 0.9365Epoch 00039: val_acc did not improve\n",
      "979/979 [==============================] - 20s - loss: 0.2563 - acc: 0.9367 - val_loss: 0.7991 - val_acc: 0.6023\n",
      "Epoch 41/50\n",
      "976/979 [============================>.] - ETA: 0s - loss: 0.2517 - acc: 0.9283Epoch 00040: val_acc did not improve\n",
      "979/979 [==============================] - 20s - loss: 0.2517 - acc: 0.9285 - val_loss: 0.8185 - val_acc: 0.6316\n",
      "Epoch 42/50\n",
      "976/979 [============================>.] - ETA: 0s - loss: 0.2360 - acc: 0.9467Epoch 00041: val_acc did not improve\n",
      "979/979 [==============================] - 19s - loss: 0.2355 - acc: 0.9469 - val_loss: 0.8416 - val_acc: 0.6433\n",
      "Epoch 43/50\n",
      "976/979 [============================>.] - ETA: 0s - loss: 0.2338 - acc: 0.9395Epoch 00042: val_acc did not improve\n",
      "979/979 [==============================] - 20s - loss: 0.2335 - acc: 0.9397 - val_loss: 0.7980 - val_acc: 0.6374\n",
      "Epoch 44/50\n",
      "976/979 [============================>.] - ETA: 0s - loss: 0.2195 - acc: 0.9559Epoch 00043: val_acc did not improve\n",
      "979/979 [==============================] - 19s - loss: 0.2201 - acc: 0.9551 - val_loss: 0.8130 - val_acc: 0.6257\n",
      "Epoch 45/50\n",
      "976/979 [============================>.] - ETA: 0s - loss: 0.2153 - acc: 0.9488Epoch 00044: val_acc did not improve\n",
      "979/979 [==============================] - 20s - loss: 0.2153 - acc: 0.9489 - val_loss: 0.8325 - val_acc: 0.6316\n",
      "Epoch 46/50\n",
      "976/979 [============================>.] - ETA: 0s - loss: 0.2058 - acc: 0.9539Epoch 00045: val_acc did not improve\n",
      "979/979 [==============================] - 19s - loss: 0.2057 - acc: 0.9540 - val_loss: 0.8078 - val_acc: 0.6140\n",
      "Epoch 47/50\n",
      "976/979 [============================>.] - ETA: 0s - loss: 0.2169 - acc: 0.9518Epoch 00046: val_acc did not improve\n",
      "979/979 [==============================] - 20s - loss: 0.2164 - acc: 0.9520 - val_loss: 0.8108 - val_acc: 0.6316\n",
      "Epoch 48/50\n",
      "976/979 [============================>.] - ETA: 0s - loss: 0.1980 - acc: 0.9580Epoch 00047: val_acc did not improve\n",
      "979/979 [==============================] - 20s - loss: 0.1977 - acc: 0.9581 - val_loss: 0.8116 - val_acc: 0.6374\n",
      "Epoch 49/50\n",
      "976/979 [============================>.] - ETA: 0s - loss: 0.1988 - acc: 0.9641Epoch 00048: val_acc did not improve\n",
      "979/979 [==============================] - 20s - loss: 0.1986 - acc: 0.9642 - val_loss: 0.8030 - val_acc: 0.6140\n",
      "Epoch 50/50\n",
      "976/979 [============================>.] - ETA: 0s - loss: 0.1974 - acc: 0.9580Epoch 00049: val_acc did not improve\n",
      "979/979 [==============================] - 20s - loss: 0.1975 - acc: 0.9581 - val_loss: 0.8110 - val_acc: 0.6023\n"
     ]
    }
   ],
   "source": [
    "d3_model8, d3_hist8 = train_categorical_model() # l2 regularization, rmsprop"
   ]
  },
  {
   "cell_type": "code",
   "execution_count": 21,
   "metadata": {
    "scrolled": false
   },
   "outputs": [
    {
     "name": "stdout",
     "output_type": "stream",
     "text": [
      "Best Model:\n",
      "epoch: 9 , val_acc: 0.6666666677123622 , val_loss: 0.794651426767048\n"
     ]
    },
    {
     "data": {
      "image/png": "[encoded data removed]",
      "text/plain": [
       "<Figure size 720x288 with 2 Axes>"
      ]
     },
     "metadata": {},
     "output_type": "display_data"
    }
   ],
   "source": [
    "# WINNER\n",
    "plot_metrics(d3_hist2)"
   ]
  },
  {
   "cell_type": "code",
   "execution_count": 22,
   "metadata": {
    "scrolled": false
   },
   "outputs": [
    {
     "name": "stdout",
     "output_type": "stream",
     "text": [
      "Best Model:\n",
      "epoch: 15 , val_acc: 0.6725146209287365 , val_loss: 0.7627478653227376\n"
     ]
    },
    {
     "data": {
      "image/png": "[encoded data removed]",
      "text/plain": [
       "<Figure size 720x288 with 2 Axes>"
      ]
     },
     "metadata": {},
     "output_type": "display_data"
    }
   ],
   "source": [
    "plot_metrics(d3_hist)"
   ]
  },
  {
   "cell_type": "code",
   "execution_count": 23,
   "metadata": {
    "scrolled": false
   },
   "outputs": [
    {
     "name": "stdout",
     "output_type": "stream",
     "text": [
      "Best Model:\n",
      "epoch: 16 , val_acc: 0.6725146212773017 , val_loss: 0.7381334702173868\n"
     ]
    },
    {
     "data": {
      "image/png": "[encoded data removed]",
      "text/plain": [
       "<Figure size 720x288 with 2 Axes>"
      ]
     },
     "metadata": {},
     "output_type": "display_data"
    }
   ],
   "source": [
    "plot_metrics(d3_hist3)"
   ]
  },
  {
   "cell_type": "code",
   "execution_count": 24,
   "metadata": {
    "scrolled": false
   },
   "outputs": [
    {
     "name": "stdout",
     "output_type": "stream",
     "text": [
      "Best Model:\n",
      "epoch: 16 , val_acc: 0.660818714495988 , val_loss: 0.7425705685950162\n"
     ]
    },
    {
     "data": {
      "image/png": "[encoded data removed]",
      "text/plain": [
       "<Figure size 720x288 with 2 Axes>"
      ]
     },
     "metadata": {},
     "output_type": "display_data"
    }
   ],
   "source": [
    "plot_metrics(d3_hist4)"
   ]
  },
  {
   "cell_type": "code",
   "execution_count": 25,
   "metadata": {
    "scrolled": false
   },
   "outputs": [
    {
     "name": "stdout",
     "output_type": "stream",
     "text": [
      "Best Model:\n",
      "epoch: 33 , val_acc: 0.6666666659695363 , val_loss: 0.7689289109051576\n"
     ]
    },
    {
     "data": {
      "image/png": "[encoded data removed]",
      "text/plain": [
       "<Figure size 720x288 with 2 Axes>"
      ]
     },
     "metadata": {},
     "output_type": "display_data"
    }
   ],
   "source": [
    "plot_metrics(d3_hist5)"
   ]
  },
  {
   "cell_type": "code",
   "execution_count": 26,
   "metadata": {
    "scrolled": false
   },
   "outputs": [
    {
     "name": "stdout",
     "output_type": "stream",
     "text": [
      "Best Model:\n",
      "epoch: 7 , val_acc: 0.6959064337942336 , val_loss: 0.7816899969563846\n"
     ]
    },
    {
     "data": {
      "image/png": "[encoded data removed]",
      "text/plain": [
       "<Figure size 720x288 with 2 Axes>"
      ]
     },
     "metadata": {},
     "output_type": "display_data"
    }
   ],
   "source": [
    "plot_metrics(d3_hist6)"
   ]
  },
  {
   "cell_type": "code",
   "execution_count": 27,
   "metadata": {
    "scrolled": false
   },
   "outputs": [
    {
     "name": "stdout",
     "output_type": "stream",
     "text": [
      "Best Model:\n",
      "epoch: 24 , val_acc: 0.6608187148445531 , val_loss: 0.7668635360678734\n"
     ]
    },
    {
     "data": {
      "image/png": "[encoded data removed]",
      "text/plain": [
       "<Figure size 720x288 with 2 Axes>"
      ]
     },
     "metadata": {},
     "output_type": "display_data"
    }
   ],
   "source": [
    "plot_metrics(d3_hist7)"
   ]
  },
  {
   "cell_type": "code",
   "execution_count": 28,
   "metadata": {
    "scrolled": false
   },
   "outputs": [
    {
     "name": "stdout",
     "output_type": "stream",
     "text": [
      "Best Model:\n",
      "epoch: 22 , val_acc: 0.6725146191859106 , val_loss: 0.7522323365099945\n"
     ]
    },
    {
     "data": {
      "image/png": "[encoded data removed]",
      "text/plain": [
       "<Figure size 720x288 with 2 Axes>"
      ]
     },
     "metadata": {},
     "output_type": "display_data"
    }
   ],
   "source": [
    "plot_metrics(d3_hist8)"
   ]
  },
  {
   "cell_type": "markdown",
   "metadata": {},
   "source": [
    "## Finetuning Model"
   ]
  },
  {
   "cell_type": "markdown",
   "metadata": {},
   "source": [
    "### Run 1 - With Regularization"
   ]
  },
  {
   "cell_type": "code",
   "execution_count": 29,
   "metadata": {
    "scrolled": false
   },
   "outputs": [
    {
     "ename": "NameError",
     "evalue": "name 'ft_d3_hist' is not defined",
     "output_type": "error",
     "traceback": [
      "\u001b[0;31m---------------------------------------------------------------------------\u001b[0m",
      "\u001b[0;31mNameError\u001b[0m                                 Traceback (most recent call last)",
      "\u001b[0;32m<ipython-input-29-c01ae8df83cb>\u001b[0m in \u001b[0;36m<module>\u001b[0;34m()\u001b[0m\n\u001b[0;32m----> 1\u001b[0;31m \u001b[0mplot_metrics\u001b[0m\u001b[0;34m(\u001b[0m\u001b[0mft_d3_hist\u001b[0m\u001b[0;34m)\u001b[0m\u001b[0;34m\u001b[0m\u001b[0m\n\u001b[0m",
      "\u001b[0;31mNameError\u001b[0m: name 'ft_d3_hist' is not defined"
     ]
    }
   ],
   "source": [
    "plot_metrics(ft_d3_hist)"
   ]
  },
  {
   "cell_type": "markdown",
   "metadata": {},
   "source": [
    "### Run 2 - Without Regularization"
   ]
  },
  {
   "cell_type": "code",
   "execution_count": null,
   "metadata": {
    "scrolled": true
   },
   "outputs": [],
   "source": [
    "ft_d3_model, ft_d3_hist = finetune_categorical_model()"
   ]
  },
  {
   "cell_type": "code",
   "execution_count": null,
   "metadata": {
    "scrolled": false
   },
   "outputs": [],
   "source": [
    "plot_metrics(ft_d3_hist)"
   ]
  },
  {
   "cell_type": "markdown",
   "metadata": {},
   "source": [
    "## Model Evaluation"
   ]
  },
  {
   "cell_type": "code",
   "execution_count": null,
   "metadata": {
    "scrolled": false
   },
   "outputs": [],
   "source": [
    "ft_d3_model = load_model('data3_1/120116_1223/ft_d3_model.h5') # without regularization, first run"
   ]
  },
  {
   "cell_type": "code",
   "execution_count": null,
   "metadata": {
    "collapsed": true,
    "scrolled": false
   },
   "outputs": [],
   "source": [
    "validation_labels = np.array([0] * validation_samples[0] + \n",
    "                             [1] * validation_samples[1] +\n",
    "                             [2] * validation_samples[2])"
   ]
  },
  {
   "cell_type": "code",
   "execution_count": null,
   "metadata": {
    "scrolled": false
   },
   "outputs": [],
   "source": [
    "evaluate_categorical_model(ft_d3_model, validation_data_dir, validation_labels) "
   ]
  },
  {
   "cell_type": "code",
   "execution_count": null,
   "metadata": {
    "collapsed": true,
    "scrolled": false
   },
   "outputs": [],
   "source": [
    "ft_d3_model2 = load_model('data3_1/120316_0000/ft_model.h5') # with regularization, first run"
   ]
  },
  {
   "cell_type": "code",
   "execution_count": null,
   "metadata": {
    "scrolled": false
   },
   "outputs": [],
   "source": [
    "evaluate_categorical_model(ft_d3_model2, validation_data_dir, validation_labels)"
   ]
  },
  {
   "cell_type": "code",
   "execution_count": null,
   "metadata": {
    "scrolled": false
   },
   "outputs": [],
   "source": [
    "evaluate_categorical_model(ft_d3_model3, validation_data_dir, validation_labels)"
   ]
  },
  {
   "cell_type": "markdown",
   "metadata": {},
   "source": [
    "## Load Model Point"
   ]
  },
  {
   "cell_type": "code",
   "execution_count": null,
   "metadata": {
    "collapsed": true
   },
   "outputs": [],
   "source": [
    "def plot_metrics(hist, stop=50):\n",
    "    fig, axes = plt.subplots(nrows=2, ncols=1, figsize=(4,6))\n",
    "                            \n",
    "    axes = axes.flatten()\n",
    "\n",
    "    axes[0].plot(range(stop), hist['acc'], label='Training', color='#FF533D')\n",
    "    axes[0].plot(range(stop), hist['val_acc'], label='Validation', color='#03507E')\n",
    "    axes[0].set_title('Accuracy')\n",
    "    axes[0].set_ylabel('Accuracy')\n",
    "    \n",
    "    axes[0].set_xlabel('Epoch')\n",
    "    axes[0].legend(loc='lower right')\n",
    "                             \n",
    "    axes[1].plot(range(stop), hist['loss'], label='Training', color='#FF533D')\n",
    "    axes[1].plot(range(stop), hist['val_loss'], label='Validation', color='#03507E')\n",
    "    axes[1].set_title('Loss')\n",
    "    axes[1].set_ylabel('Loss')\n",
    "    axes[1].set_xlabel('Epoch')\n",
    "    axes[1].legend(loc='upper right')\n",
    "                             \n",
    "    plt.tight_layout();\n",
    "           \n",
    "    print \"Best Model:\" \n",
    "    print_best_model_results(hist)"
   ]
  },
  {
   "cell_type": "code",
   "execution_count": null,
   "metadata": {
    "collapsed": true
   },
   "outputs": [],
   "source": [
    "def evaluate_categorical_model(model, directory, labels):\n",
    "    datagen = ImageDataGenerator(rescale=1./255)  \n",
    "\n",
    "    generator = datagen.flow_from_directory(directory,\n",
    "                                target_size=(img_height, img_width),\n",
    "                                batch_size=8,\n",
    "                                class_mode='categorical',\n",
    "                                shuffle=False)\n",
    "    \n",
    "    predictions = model.predict_generator(generator, len(labels))\n",
    "    pred_labels = np.argmax(predictions, axis=1)\n",
    "    \n",
    "    print ''\n",
    "    print classification_report(validation_labels, pred_labels)\n",
    "    print ''\n",
    "    cm = confusion_matrix(validation_labels, pred_labels)\n",
    "    return cm"
   ]
  },
  {
   "cell_type": "code",
   "execution_count": null,
   "metadata": {
    "scrolled": false
   },
   "outputs": [],
   "source": [
    "# WINNER\n",
    "ft_model = load_model('data3_1/ft_model.h5')  # without regularization, second run"
   ]
  },
  {
   "cell_type": "code",
   "execution_count": null,
   "metadata": {
    "collapsed": true
   },
   "outputs": [],
   "source": [
    "with open('data3_1/ft_history.txt') as f:    \n",
    "    ft_history = json.load(f)"
   ]
  },
  {
   "cell_type": "code",
   "execution_count": null,
   "metadata": {
    "collapsed": true
   },
   "outputs": [],
   "source": [
    "validation_labels = np.array([0] * validation_samples[0] + \n",
    "                             [1] * validation_samples[1] +\n",
    "                             [2] * validation_samples[2])"
   ]
  },
  {
   "cell_type": "code",
   "execution_count": null,
   "metadata": {},
   "outputs": [],
   "source": [
    "cm = evaluate_categorical_model(ft_model, validation_data_dir, validation_labels)"
   ]
  },
  {
   "cell_type": "code",
   "execution_count": null,
   "metadata": {
    "collapsed": true
   },
   "outputs": [],
   "source": [
    "with open('data3_1/top_history.txt') as f:    \n",
    "    top_history = json.load(f)\n",
    "\n",
    "def plot_acc_metrics(hist1, hist2, stop=50):\n",
    "    fig, axes = plt.subplots(nrows=2, ncols=1, figsize=(4.25,7))\n",
    "                            \n",
    "    axes = axes.flatten()\n",
    "\n",
    "    axes[0].plot(range(stop), hist1['acc'], label='Training', color='#FF533D')\n",
    "    axes[0].plot(range(stop), hist1['val_acc'], label='Validation', color='#03507E')\n",
    "    axes[0].set_title('Training')\n",
    "    axes[0].set_ylabel('Accuracy')\n",
    "    axes[0].set_xlabel('Epoch')\n",
    "    axes[0].legend(loc='lower right')\n",
    "                             \n",
    "    axes[1].plot(range(stop), hist2['acc'], label='Training', color='#FF533D')\n",
    "    axes[1].plot(range(stop), hist2['val_acc'], label='Validation', color='#03507E')\n",
    "    axes[1].set_title('Fine-tuning')\n",
    "    axes[1].set_ylabel('Accuracy')\n",
    "    axes[1].set_xlabel('Epoch')\n",
    "    axes[1].legend(loc='lower right')\n",
    "                             \n",
    "    plt.tight_layout();"
   ]
  },
  {
   "cell_type": "code",
   "execution_count": null,
   "metadata": {},
   "outputs": [],
   "source": [
    "plot_acc_metrics(top_history, ft_history)"
   ]
  },
  {
   "cell_type": "code",
   "execution_count": null,
   "metadata": {
    "collapsed": true
   },
   "outputs": [],
   "source": [
    "heatmap_labels = ['Minor', 'Moderate', 'Severe']"
   ]
  },
  {
   "cell_type": "code",
   "execution_count": null,
   "metadata": {},
   "outputs": [],
   "source": [
    "sns.heatmap(cm, annot=True, annot_kws={\"size\": 14}, \n",
    "            fmt='g', cmap='OrRd', xticklabels=heatmap_labels, yticklabels=heatmap_labels);"
   ]
  },
  {
   "cell_type": "code",
   "execution_count": null,
   "metadata": {},
   "outputs": [],
   "source": [
    "sns.heatmap(cm, annot=True, annot_kws={\"size\": 16}, \n",
    "            fmt='g', cmap='OrRd', xticklabels=heatmap_labels, yticklabels=heatmap_labels);"
   ]
  },
  {
   "cell_type": "code",
   "execution_count": null,
   "metadata": {},
   "outputs": [],
   "source": [
    "sns.heatmap(cm, annot=True, annot_kws={\"size\": 18}, \n",
    "            fmt='g', cmap='OrRd', xticklabels=heatmap_labels, yticklabels=heatmap_labels);"
   ]
  },
  {
   "cell_type": "code",
   "execution_count": null,
   "metadata": {},
   "outputs": [],
   "source": [
    "sns.heatmap(cm, annot=True, annot_kws={\"size\": 14}, \n",
    "            fmt='g', cmap='Blues', xticklabels=heatmap_labels, yticklabels=heatmap_labels);"
   ]
  },
  {
   "cell_type": "code",
   "execution_count": null,
   "metadata": {},
   "outputs": [],
   "source": [
    "sns.heatmap(cm, annot=True, annot_kws={\"size\": 16}, \n",
    "            fmt='g', cmap='Blues', xticklabels=heatmap_labels, yticklabels=heatmap_labels);"
   ]
  },
  {
   "cell_type": "code",
   "execution_count": null,
   "metadata": {},
   "outputs": [],
   "source": [
    "sns.heatmap(cm, annot=True, annot_kws={\"size\": 18}, \n",
    "            fmt='g', cmap='Blues', xticklabels=heatmap_labels, yticklabels=heatmap_labels);"
   ]
  },
  {
   "cell_type": "markdown",
   "metadata": {},
   "source": [
    "## Making Live Predictions"
   ]
  },
  {
   "cell_type": "code",
   "execution_count": null,
   "metadata": {
    "collapsed": true,
    "scrolled": false
   },
   "outputs": [],
   "source": [
    "def severity_estimator(image_path, model):\n",
    "    print \"Determining severity of damage...\"\n",
    "    urllib.urlretrieve(image_path, 'save.jpg') # or other way to upload image\n",
    "    img = load_img('save.jpg', target_size=(256, 256)) # this is a PIL image \n",
    "    x = img_to_array(img) # this is a Numpy array with shape (3, 256, 256)\n",
    "    x = x.reshape((1,) + x.shape)/255 # this is a Numpy array with shape (1, 3, 256, 256)\n",
    "    pred = model.predict(x)\n",
    "    pred_label = np.argmax(pred, axis=1)\n",
    "    \n",
    "    d = {0: 'Minor', 1: 'Moderate', 2: 'Severe'}\n",
    "    for key in d.iterkeys():\n",
    "        if pred_label[0] == key:\n",
    "            print \"Assessment: {} damage to vehicle\".format(d[key])\n",
    "    print \"Severity assessment complete.\""
   ]
  },
  {
   "cell_type": "code",
   "execution_count": null,
   "metadata": {
    "scrolled": false
   },
   "outputs": [],
   "source": [
    "car_severity_estimator('https://www.nerdwallet.com/blog/wp-content/uploads/2015/12/exterior-car-damage-384x233.jpg', ft_d3_model3)"
   ]
  },
  {
   "cell_type": "code",
   "execution_count": null,
   "metadata": {
    "scrolled": false
   },
   "outputs": [],
   "source": [
    "car_severity_estimator('http://1.bp.blogspot.com/-ToQS-qIxYbo/UDNuV5OcVQI/AAAAAAAABdo/tjeQywWiOo0/s200/Key+scratch.jpg', ft_d3_model3)"
   ]
  },
  {
   "cell_type": "code",
   "execution_count": null,
   "metadata": {
    "scrolled": false
   },
   "outputs": [],
   "source": [
    "car_severity_estimator('http://1.bp.blogspot.com/-hzoFer11Gcw/Uw_b0Z8HGAI/AAAAAAAAA4M/XjV-NrRl0iM/s1600/20140227_140935.jpg', ft_d3_model3)"
   ]
  },
  {
   "cell_type": "code",
   "execution_count": null,
   "metadata": {
    "scrolled": false
   },
   "outputs": [],
   "source": [
    "severity_estimator('http://cdn.xl.thumbs.canstockphoto.com/canstock23892567.jpg', ft_d3_model3)"
   ]
  },
  {
   "cell_type": "code",
   "execution_count": null,
   "metadata": {
    "scrolled": false
   },
   "outputs": [],
   "source": [
    "severity_estimator('https://encrypted-tbn3.gstatic.com/images?q=tbn:ANd9GcQsEqgcb4vdQlWgsE7EaxfMed5n-v3MzE5nzxdayWgreSTBt2z5', ft_d3_model3)"
   ]
  },
  {
   "cell_type": "markdown",
   "metadata": {},
   "source": [
    "## Looking at Edge Cases"
   ]
  },
  {
   "cell_type": "code",
   "execution_count": null,
   "metadata": {
    "scrolled": false
   },
   "outputs": [],
   "source": [
    "evaluate_categorical_model(ft_d3_model3, validation_data_dir, validation_labels)"
   ]
  },
  {
   "cell_type": "code",
   "execution_count": null,
   "metadata": {
    "collapsed": true,
    "scrolled": false
   },
   "outputs": [],
   "source": [
    "def get_edge_cases(model, directory, exp_result, false_result):\n",
    "    img_list = os.listdir(directory)\n",
    "    edge_list = []\n",
    "    for name in img_list:\n",
    "        img = load_img(directory+name, target_size=(256, 256)) # this is a PIL image \n",
    "        x = img_to_array(img) # this is a Numpy array with shape (3, 256, 256)\n",
    "        x = x.reshape((1,) + x.shape)/255 # this is a Numpy array with shape (1, 3, 256, 256)\n",
    "        pred = model.predict(x)\n",
    "        pred_label = np.argmax(pred, axis=1)\n",
    "        if pred_label[0] == false_result:\n",
    "            edge_list.append(name)\n",
    "    return edge_list"
   ]
  },
  {
   "cell_type": "code",
   "execution_count": null,
   "metadata": {
    "scrolled": false
   },
   "outputs": [],
   "source": [
    "minor1 = get_edge_cases(ft_d3_model3, 'data3_1/validation/01-minor/', 0, 1) # true minor, predicted moderate - 12\n",
    "minor2 = get_edge_cases(ft_d3_model3, 'data3_1/validation/01-minor/', 0, 2) # true minor, predicted severe - 2"
   ]
  },
  {
   "cell_type": "code",
   "execution_count": null,
   "metadata": {
    "collapsed": true,
    "scrolled": false
   },
   "outputs": [],
   "source": [
    "moderate1 = get_edge_cases(ft_d3_model3, 'data3_1/validation/02-moderate/', 1, 0) # true moderate, predicted minor - 9\n",
    "moderate2 = get_edge_cases(ft_d3_model3, 'data3_1/validation/02-moderate/', 1, 2) # true moderate, predicted severe - 10"
   ]
  },
  {
   "cell_type": "code",
   "execution_count": null,
   "metadata": {
    "collapsed": true,
    "scrolled": false
   },
   "outputs": [],
   "source": [
    "severe1 = get_edge_cases(ft_d3_model3, 'data3_1/validation/03-severe/', 2, 0) # true severe, predicted minor - 0\n",
    "severe2 = get_edge_cases(ft_d3_model3, 'data3_1/validation/03-severe/', 2, 1) # true severe, predicted moderate - 20"
   ]
  },
  {
   "cell_type": "code",
   "execution_count": null,
   "metadata": {
    "scrolled": false
   },
   "outputs": [],
   "source": [
    "len(minor1) == 12, len(minor2) == 2, len(moderate1) == 9, len(moderate2) == 10, len(severe1) == 0, len(severe2) == 20"
   ]
  },
  {
   "cell_type": "code",
   "execution_count": null,
   "metadata": {
    "scrolled": false
   },
   "outputs": [],
   "source": [
    "view_images('data3_1/validation/01-minor/', minor1) # moderate"
   ]
  },
  {
   "cell_type": "code",
   "execution_count": null,
   "metadata": {
    "scrolled": false
   },
   "outputs": [],
   "source": [
    "view_images('data3_1/validation/01-minor/', minor2) # severe"
   ]
  },
  {
   "cell_type": "code",
   "execution_count": null,
   "metadata": {
    "scrolled": false
   },
   "outputs": [],
   "source": [
    "view_images('data3_1/validation/02-moderate/', moderate1) # minor"
   ]
  },
  {
   "cell_type": "code",
   "execution_count": null,
   "metadata": {
    "scrolled": false
   },
   "outputs": [],
   "source": [
    "view_images('data3_1/validation/02-moderate/', moderate2) # severe"
   ]
  },
  {
   "cell_type": "code",
   "execution_count": null,
   "metadata": {
    "scrolled": false
   },
   "outputs": [],
   "source": [
    "view_images('data3_1/validation/03-severe/', severe2) # moderate"
   ]
  }
 ],
 "metadata": {
  "kernelspec": {
   "display_name": "car-damage-detective-2",
   "language": "python",
   "name": "car-damage-detective-2"
  },
  "language_info": {
   "codemirror_mode": {
    "name": "ipython",
    "version": 2
   },
   "file_extension": ".py",
   "mimetype": "text/x-python",
   "name": "python",
   "nbconvert_exporter": "python",
   "pygments_lexer": "ipython2",
   "version": "2.7.12"
  }
 },
 "nbformat": 4,
 "nbformat_minor": 1
}
